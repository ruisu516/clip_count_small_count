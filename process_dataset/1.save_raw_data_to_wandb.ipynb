{
 "cells": [
  {
   "cell_type": "code",
   "execution_count": 1,
   "metadata": {},
   "outputs": [
    {
     "name": "stderr",
     "output_type": "stream",
     "text": [
      "[nltk_data] Downloading package averaged_perceptron_tagger to\n",
      "[nltk_data]     /Users/susu/nltk_data...\n",
      "[nltk_data]   Package averaged_perceptron_tagger is already up-to-\n",
      "[nltk_data]       date!\n",
      "[nltk_data] Downloading package punkt to /Users/susu/nltk_data...\n",
      "[nltk_data]   Package punkt is already up-to-date!\n",
      "Failed to detect the name of this notebook, you can set it manually with the WANDB_NOTEBOOK_NAME environment variable to enable code saving.\n",
      "\u001b[34m\u001b[1mwandb\u001b[0m: Currently logged in as: \u001b[33mruisu\u001b[0m (\u001b[33mllm_efficiency\u001b[0m). Use \u001b[1m`wandb login --relogin`\u001b[0m to force relogin\n",
      "\u001b[34m\u001b[1mwandb\u001b[0m: \u001b[33mWARNING\u001b[0m If you're specifying your api key in code, ensure this code is not shared publicly.\n",
      "\u001b[34m\u001b[1mwandb\u001b[0m: \u001b[33mWARNING\u001b[0m Consider setting the WANDB_API_KEY environment variable, or running `wandb login` from the command line.\n",
      "\u001b[34m\u001b[1mwandb\u001b[0m: Appending key for api.wandb.ai to your netrc file: /Users/susu/.netrc\n"
     ]
    }
   ],
   "source": [
    "import nltk\n",
    "from nltk import pos_tag\n",
    "from nltk.tokenize import word_tokenize\n",
    "from nltk.chunk import RegexpParser\n",
    "import wandb\n",
    "import requests\n",
    "import json\n",
    "from io import BytesIO\n",
    "import svgling\n",
    "# from transformers import CLIPProcessor, CLIPModel\n",
    "from PIL import Image\n",
    "import tqdm\n",
    "# Initialize NLTK\n",
    "\n",
    "\n",
    "nltk.download('averaged_perceptron_tagger')\n",
    "nltk.download('punkt')\n",
    "\n",
    "\n",
    "wandb.login(key = \"f120e5e4c8c84329e87f496f85e6f7ded7732680\")\n",
    "\n",
    "grammar = r\"\"\"\n",
    "  NP: {<DT>?<JJ>*<NNS|NNPS>+}\n",
    "\"\"\""
   ]
  },
  {
   "cell_type": "code",
   "execution_count": 2,
   "metadata": {},
   "outputs": [],
   "source": [
    "def wandb_log(url,obj, caption):\n",
    "    try:\n",
    "        img_response = requests.get(url, timeout=10)\n",
    "    except requests.exceptions.Timeout:\n",
    "        print(\"The request timed out. Skipping this image.\")\n",
    "        return\n",
    "    img = Image.open(BytesIO(img_response.content))\n",
    "        \n",
    "    wandb.init(project=\"flicker_raw_images\", entity=\"ruisu\")\n",
    "    wandb.log({\n",
    "        \"url\": url,\n",
    "        'caption': caption,\n",
    "        'number': \"ten\",\n",
    "        \"image\":wandb.Image(img, caption=caption),\n",
    "        \"object\":obj,\n",
    "        \"dataset_name\":None,\n",
    "        \"org_id\":None\n",
    "    })\n",
    "    wandb.finish()"
   ]
  },
  {
   "cell_type": "code",
   "execution_count": 3,
   "metadata": {},
   "outputs": [],
   "source": [
    "current_json_list = [\n",
    "    {\n",
    "        \"number\": 10,\n",
    "        \"target\": \"apples\",\n",
    "        \"target_context\": \"ten apples\",\n",
    "        \"image_url\": \"https://media.baamboozle.com/uploads/images/189889/1636331500_50014_url.png\",\n",
    "        \"dataset_name\": \"\",\n",
    "        \"org_id\": \"\"\n",
    "    },\n",
    "    {\n",
    "        \"number\": 10,\n",
    "        \"target\": \"stars\",\n",
    "        \"target_context\": \"ten stars\",\n",
    "        \"image_url\": \"https://vt-vtwa-assets.varsitytutors.com/vt-vtwa/uploads/problem_question_image/image/28099/10.png\",\n",
    "        \"dataset_name\": \"\",\n",
    "        \"org_id\": \"\"\n",
    "    },\n",
    "    {\n",
    "        \"number\": 10,\n",
    "        \"target\": \"animals\",\n",
    "        \"target_context\": \"ten cartoon animals\",\n",
    "        \"image_url\": \"https://cdn.vectorstock.com/i/1000x1000/89/10/ten-cute-animals-vector-37188910.webp\",\n",
    "        \"dataset_name\": \"\",\n",
    "        \"org_id\": \"\"\n",
    "    },\n",
    "    {\n",
    "        \"number\": 10,\n",
    "        \"target\": \"animals\",\n",
    "        \"target_context\": \"ten cute animals\",\n",
    "        \"image_url\": \"https://img.freepik.com/premium-vector/set-10-cute-wild-animals_41303-28.jpg\",\n",
    "        \"dataset_name\": \"\",\n",
    "        \"org_id\": \"\"\n",
    "    }\n",
    "]"
   ]
  },
  {
   "cell_type": "code",
   "execution_count": 52,
   "metadata": {},
   "outputs": [
    {
     "data": {
      "text/html": [
       "Tracking run with wandb version 0.16.6"
      ],
      "text/plain": [
       "<IPython.core.display.HTML object>"
      ]
     },
     "metadata": {},
     "output_type": "display_data"
    },
    {
     "data": {
      "text/html": [
       "Run data is saved locally in <code>/Users/susu/Library/CloudStorage/OneDrive-Personal/Wisc/clip_count_continued/CLIP_Counting/wandb/run-20240505_083159-1yeo7a43</code>"
      ],
      "text/plain": [
       "<IPython.core.display.HTML object>"
      ]
     },
     "metadata": {},
     "output_type": "display_data"
    },
    {
     "data": {
      "text/html": [
       "Syncing run <strong><a href='https://wandb.ai/ruisu/flicker_raw_images/runs/1yeo7a43' target=\"_blank\">holographic-emperor-7591</a></strong> to <a href='https://wandb.ai/ruisu/flicker_raw_images' target=\"_blank\">Weights & Biases</a> (<a href='https://wandb.me/run' target=\"_blank\">docs</a>)<br/>"
      ],
      "text/plain": [
       "<IPython.core.display.HTML object>"
      ]
     },
     "metadata": {},
     "output_type": "display_data"
    },
    {
     "data": {
      "text/html": [
       " View project at <a href='https://wandb.ai/ruisu/flicker_raw_images' target=\"_blank\">https://wandb.ai/ruisu/flicker_raw_images</a>"
      ],
      "text/plain": [
       "<IPython.core.display.HTML object>"
      ]
     },
     "metadata": {},
     "output_type": "display_data"
    },
    {
     "data": {
      "text/html": [
       " View run at <a href='https://wandb.ai/ruisu/flicker_raw_images/runs/1yeo7a43' target=\"_blank\">https://wandb.ai/ruisu/flicker_raw_images/runs/1yeo7a43</a>"
      ],
      "text/plain": [
       "<IPython.core.display.HTML object>"
      ]
     },
     "metadata": {},
     "output_type": "display_data"
    },
    {
     "data": {
      "text/html": [
       "<style>\n",
       "    table.wandb td:nth-child(1) { padding: 0 10px; text-align: left ; width: auto;} td:nth-child(2) {text-align: left ; width: 100%}\n",
       "    .wandb-row { display: flex; flex-direction: row; flex-wrap: wrap; justify-content: flex-start; width: 100% }\n",
       "    .wandb-col { display: flex; flex-direction: column; flex-basis: 100%; flex: 1; padding: 10px; }\n",
       "    </style>\n",
       "<div class=\"wandb-row\"><div class=\"wandb-col\"><h3>Run summary:</h3><br/><table class=\"wandb\"><tr><td>caption</td><td>ten items esential f...</td></tr><tr><td>number</td><td>ten</td></tr><tr><td>object</td><td>items</td></tr><tr><td>url</td><td>https://stick13.word...</td></tr></table><br/></div></div>"
      ],
      "text/plain": [
       "<IPython.core.display.HTML object>"
      ]
     },
     "metadata": {},
     "output_type": "display_data"
    },
    {
     "data": {
      "text/html": [
       " View run <strong style=\"color:#cdcd00\">holographic-emperor-7591</strong> at: <a href='https://wandb.ai/ruisu/flicker_raw_images/runs/1yeo7a43' target=\"_blank\">https://wandb.ai/ruisu/flicker_raw_images/runs/1yeo7a43</a><br/> View project at: <a href='https://wandb.ai/ruisu/flicker_raw_images' target=\"_blank\">https://wandb.ai/ruisu/flicker_raw_images</a><br/>Synced 5 W&B file(s), 1 media file(s), 0 artifact file(s) and 0 other file(s)"
      ],
      "text/plain": [
       "<IPython.core.display.HTML object>"
      ]
     },
     "metadata": {},
     "output_type": "display_data"
    },
    {
     "data": {
      "text/html": [
       "Find logs at: <code>./wandb/run-20240505_083159-1yeo7a43/logs</code>"
      ],
      "text/plain": [
       "<IPython.core.display.HTML object>"
      ]
     },
     "metadata": {},
     "output_type": "display_data"
    }
   ],
   "source": [
    "# for ele in current_json_list:\n",
    "wandb_log(\n",
    "    url=\"https://stick13.wordpress.com/wp-content/uploads/2011/06/10_ess_art.png\",\n",
    "    obj=\"items\", \n",
    "    caption=\"ten items esential for safe travel in the back country\" \n",
    ")"
   ]
  },
  {
   "cell_type": "code",
   "execution_count": 4,
   "metadata": {},
   "outputs": [],
   "source": [
    "# @title define functions\n",
    "# numbers = [\"two\",\"three\", \"four\", \"five\",]\n",
    "grammar = r\"\"\"\n",
    "  NP: {<DT>?<JJ>*<NNS|NNPS>+}\n",
    "\"\"\"\n",
    "def find_plural_noun_phrases(text,num_word):\n",
    "    tokens = word_tokenize(text)\n",
    "    tagged = pos_tag(tokens)\n",
    "\n",
    "    # Create a parser with our grammar\n",
    "    cp = RegexpParser(grammar)\n",
    "    tree = cp.parse(tagged)\n",
    "\n",
    "    results = []\n",
    "    current_position = 0\n",
    "    previous_word = None\n",
    "    previous_tag = None\n",
    "    # print(tree)\n",
    "\n",
    "    # Iterate through the tree to find number words followed by NP chunks\n",
    "    for node in tree:\n",
    "        if isinstance(node, nltk.Tree):\n",
    "            if node.label() == 'NP':\n",
    "                np_text = ' '.join(token for token, pos in node.leaves())\n",
    "                if previous_word and previous_word == num_word:\n",
    "                    results.append((previous_word, np_text))\n",
    "            current_position += len(node.leaves())\n",
    "        else:\n",
    "            token, tag = node\n",
    "            previous_word = token\n",
    "            previous_tag = tag\n",
    "            current_position += 1\n",
    "\n",
    "    return results\n",
    "\n",
    "\n",
    "def process_sample(photo,dataset_name):\n",
    "    caption = photo[\"caption\"]\n",
    "\n",
    "    num_candidates = []\n",
    "    for number in numbers:\n",
    "        if number in caption.split(\" \"):\n",
    "            num_candidates.append(number)\n",
    "    # print(\"len(num_candidates)\",)\n",
    "    if len(num_candidates) == 0:\n",
    "        return \"no number\"\n",
    "\n",
    "    # api = wandb.Api()\n",
    "    # runs = api.runs(path=\"ruisu/flicker_raw_images\")\n",
    "    # exist = False\n",
    "    # for run in runs:\n",
    "    #     if run.config.get(\"url\") == photo[\"url\"]:\n",
    "    #         exist = True\n",
    "    #         print(f\"Already exists: {photo['url']}\")\n",
    "    #         break\n",
    "\n",
    "    # if exist:\n",
    "    #     return \"exist\"\n",
    "\n",
    "    for number in num_candidates:\n",
    "\n",
    "        found_phrases = find_plural_noun_phrases(caption,number)\n",
    "        print(\"found_phrases\",found_phrases)\n",
    "        print(\"caption\",caption)\n",
    "        if len(found_phrases)<= 0:\n",
    "            continue\n",
    "        try:\n",
    "        \n",
    "            try:\n",
    "                # Set a timeout of 10 seconds\n",
    "                img_response = requests.get(photo[\"url\"], timeout=10)\n",
    "            except requests.exceptions.Timeout:\n",
    "                # Handle the timeout exception\n",
    "                print(\"The request timed out. Skipping this image.\")\n",
    "                continue\n",
    "            img = Image.open(BytesIO(img_response.content))\n",
    "            # inputs = processor(text=[caption], images=[img], return_tensors=\"pt\", padding=True)\n",
    "            # outputs = model(**inputs)\n",
    "            # if outputs.logits_per_image.item() < 30:  # threshold can be adjusted\n",
    "            #     continue\n",
    "\n",
    "            wandb.init(project=\"flicker_raw_images\", entity=\"ruisu\")\n",
    "            wandb.log({\n",
    "                \"url\": photo[\"url\"],\n",
    "                'caption': caption,\n",
    "                'number': number,\n",
    "                \"image\":wandb.Image(img, caption=caption),\n",
    "                \"object\":found_phrases[0][1],\n",
    "                \"dataset_name\":dataset_name,\n",
    "                \"org_id\":photo[\"org_id\"]\n",
    "            })\n",
    "            wandb.finish()\n",
    "            return \"sucess\"\n",
    "\n",
    "        except Exception as e:\n",
    "            print(f\"Failed to process image {photo['url']}: {e}\")\n",
    "            continue\n",
    "    return \"wrong grammar\"\n"
   ]
  },
  {
   "cell_type": "code",
   "execution_count": 5,
   "metadata": {},
   "outputs": [
    {
     "name": "stderr",
     "output_type": "stream",
     "text": [
      "/Users/susu/miniconda3/envs/clipcount/lib/python3.8/site-packages/tqdm/auto.py:21: TqdmWarning: IProgress not found. Please update jupyter and ipywidgets. See https://ipywidgets.readthedocs.io/en/stable/user_install.html\n",
      "  from .autonotebook import tqdm as notebook_tqdm\n",
      "Code: no number: : 315117it [00:27, 11564.00it/s]"
     ]
    },
    {
     "name": "stdout",
     "output_type": "stream",
     "text": [
      "found_phrases [('five', 'bells')]\n",
      "caption the five bells at cople: red velvet cake\n",
      "\n"
     ]
    },
    {
     "name": "stderr",
     "output_type": "stream",
     "text": [
      "\u001b[34m\u001b[1mwandb\u001b[0m: Currently logged in as: \u001b[33mruisu\u001b[0m. Use \u001b[1m`wandb login --relogin`\u001b[0m to force relogin\n"
     ]
    },
    {
     "data": {
      "text/html": [
       "wandb version 0.17.0 is available!  To upgrade, please run:\n",
       " $ pip install wandb --upgrade"
      ],
      "text/plain": [
       "<IPython.core.display.HTML object>"
      ]
     },
     "metadata": {},
     "output_type": "display_data"
    },
    {
     "data": {
      "text/html": [
       "Tracking run with wandb version 0.16.6"
      ],
      "text/plain": [
       "<IPython.core.display.HTML object>"
      ]
     },
     "metadata": {},
     "output_type": "display_data"
    },
    {
     "data": {
      "text/html": [
       "Run data is saved locally in <code>/Users/susu/Library/CloudStorage/OneDrive-Personal/Wisc/clip_count_continued/CLIP_Counting/wandb/run-20240512_210710-n8jto8br</code>"
      ],
      "text/plain": [
       "<IPython.core.display.HTML object>"
      ]
     },
     "metadata": {},
     "output_type": "display_data"
    },
    {
     "data": {
      "text/html": [
       "Syncing run <strong><a href='https://wandb.ai/ruisu/flicker_raw_images/runs/n8jto8br' target=\"_blank\">stellar-darkness-7635</a></strong> to <a href='https://wandb.ai/ruisu/flicker_raw_images' target=\"_blank\">Weights & Biases</a> (<a href='https://wandb.me/run' target=\"_blank\">docs</a>)<br/>"
      ],
      "text/plain": [
       "<IPython.core.display.HTML object>"
      ]
     },
     "metadata": {},
     "output_type": "display_data"
    },
    {
     "data": {
      "text/html": [
       " View project at <a href='https://wandb.ai/ruisu/flicker_raw_images' target=\"_blank\">https://wandb.ai/ruisu/flicker_raw_images</a>"
      ],
      "text/plain": [
       "<IPython.core.display.HTML object>"
      ]
     },
     "metadata": {},
     "output_type": "display_data"
    },
    {
     "data": {
      "text/html": [
       " View run at <a href='https://wandb.ai/ruisu/flicker_raw_images/runs/n8jto8br' target=\"_blank\">https://wandb.ai/ruisu/flicker_raw_images/runs/n8jto8br</a>"
      ],
      "text/plain": [
       "<IPython.core.display.HTML object>"
      ]
     },
     "metadata": {},
     "output_type": "display_data"
    },
    {
     "data": {
      "text/html": [
       "<style>\n",
       "    table.wandb td:nth-child(1) { padding: 0 10px; text-align: left ; width: auto;} td:nth-child(2) {text-align: left ; width: 100%}\n",
       "    .wandb-row { display: flex; flex-direction: row; flex-wrap: wrap; justify-content: flex-start; width: 100% }\n",
       "    .wandb-col { display: flex; flex-direction: column; flex-basis: 100%; flex: 1; padding: 10px; }\n",
       "    </style>\n",
       "<div class=\"wandb-row\"><div class=\"wandb-col\"><h3>Run history:</h3><br/><table class=\"wandb\"><tr><td>org_id</td><td>▁</td></tr></table><br/></div><div class=\"wandb-col\"><h3>Run summary:</h3><br/><table class=\"wandb\"><tr><td>caption</td><td>the five bells at co...</td></tr><tr><td>dataset_name</td><td>conceptual_12m-train...</td></tr><tr><td>number</td><td>five</td></tr><tr><td>object</td><td>bells</td></tr><tr><td>org_id</td><td>315745</td></tr><tr><td>url</td><td>https://media-cdn.tr...</td></tr></table><br/></div></div>"
      ],
      "text/plain": [
       "<IPython.core.display.HTML object>"
      ]
     },
     "metadata": {},
     "output_type": "display_data"
    },
    {
     "data": {
      "text/html": [
       " View run <strong style=\"color:#cdcd00\">stellar-darkness-7635</strong> at: <a href='https://wandb.ai/ruisu/flicker_raw_images/runs/n8jto8br' target=\"_blank\">https://wandb.ai/ruisu/flicker_raw_images/runs/n8jto8br</a><br/> View project at: <a href='https://wandb.ai/ruisu/flicker_raw_images' target=\"_blank\">https://wandb.ai/ruisu/flicker_raw_images</a><br/>Synced 5 W&B file(s), 1 media file(s), 0 artifact file(s) and 0 other file(s)"
      ],
      "text/plain": [
       "<IPython.core.display.HTML object>"
      ]
     },
     "metadata": {},
     "output_type": "display_data"
    },
    {
     "data": {
      "text/html": [
       "Find logs at: <code>./wandb/run-20240512_210710-n8jto8br/logs</code>"
      ],
      "text/plain": [
       "<IPython.core.display.HTML object>"
      ]
     },
     "metadata": {},
     "output_type": "display_data"
    },
    {
     "name": "stderr",
     "output_type": "stream",
     "text": [
      "Code: no number: : 315117it [00:33, 11564.00it/s]    "
     ]
    },
    {
     "name": "stdout",
     "output_type": "stream",
     "text": [
      "found_phrases []\n",
      "caption pesto pasta salad with green beans and corn - a five ingredient side dish recipe\n",
      "\n",
      "found_phrases []\n",
      "caption a u.s. air force forklift driver moves pallets of sacks of wheat flour in preparation for loading onto a u.s. air force c-130 hercules aircraft which will fly into sarajevo, bosnia-herzegovina on a relief mission. the three-year-old relief effort has been able to resume their relief mission after a five month hold due to aircraft receiving ground fire over sarajevo. the c-130 crews fly two missions a day into the sarajevo airport dropping off approximately 30 metric tons of wheat flour to the besieged residents. the personnel are attached to the 37th airlift squadron, ramstein air base, germany\n",
      "\n"
     ]
    },
    {
     "name": "stderr",
     "output_type": "stream",
     "text": [
      "Code: no number: : 315117it [00:34, 11564.00it/s]    "
     ]
    },
    {
     "name": "stdout",
     "output_type": "stream",
     "text": [
      "found_phrases []\n",
      "caption evolution of the five dollar bill is similar to passport changes.\n",
      "\n",
      "found_phrases [('five', 'salmon flies')]\n",
      "caption 5 fishing prints a fisherman's map of the salmon pools on the river spey mounted with five salmon flies, ((5))\n",
      "\n"
     ]
    },
    {
     "name": "stderr",
     "output_type": "stream",
     "text": [
      "Code: no number: : 315117it [00:39, 11564.00it/s]"
     ]
    },
    {
     "data": {
      "text/html": [
       "wandb version 0.17.0 is available!  To upgrade, please run:\n",
       " $ pip install wandb --upgrade"
      ],
      "text/plain": [
       "<IPython.core.display.HTML object>"
      ]
     },
     "metadata": {},
     "output_type": "display_data"
    },
    {
     "data": {
      "text/html": [
       "Tracking run with wandb version 0.16.6"
      ],
      "text/plain": [
       "<IPython.core.display.HTML object>"
      ]
     },
     "metadata": {},
     "output_type": "display_data"
    },
    {
     "data": {
      "text/html": [
       "Run data is saved locally in <code>/Users/susu/Library/CloudStorage/OneDrive-Personal/Wisc/clip_count_continued/CLIP_Counting/wandb/run-20240512_210727-ld71svbu</code>"
      ],
      "text/plain": [
       "<IPython.core.display.HTML object>"
      ]
     },
     "metadata": {},
     "output_type": "display_data"
    },
    {
     "data": {
      "text/html": [
       "Syncing run <strong><a href='https://wandb.ai/ruisu/flicker_raw_images/runs/ld71svbu' target=\"_blank\">wild-sponge-7636</a></strong> to <a href='https://wandb.ai/ruisu/flicker_raw_images' target=\"_blank\">Weights & Biases</a> (<a href='https://wandb.me/run' target=\"_blank\">docs</a>)<br/>"
      ],
      "text/plain": [
       "<IPython.core.display.HTML object>"
      ]
     },
     "metadata": {},
     "output_type": "display_data"
    },
    {
     "data": {
      "text/html": [
       " View project at <a href='https://wandb.ai/ruisu/flicker_raw_images' target=\"_blank\">https://wandb.ai/ruisu/flicker_raw_images</a>"
      ],
      "text/plain": [
       "<IPython.core.display.HTML object>"
      ]
     },
     "metadata": {},
     "output_type": "display_data"
    },
    {
     "data": {
      "text/html": [
       " View run at <a href='https://wandb.ai/ruisu/flicker_raw_images/runs/ld71svbu' target=\"_blank\">https://wandb.ai/ruisu/flicker_raw_images/runs/ld71svbu</a>"
      ],
      "text/plain": [
       "<IPython.core.display.HTML object>"
      ]
     },
     "metadata": {},
     "output_type": "display_data"
    },
    {
     "data": {
      "text/html": [
       "<style>\n",
       "    table.wandb td:nth-child(1) { padding: 0 10px; text-align: left ; width: auto;} td:nth-child(2) {text-align: left ; width: 100%}\n",
       "    .wandb-row { display: flex; flex-direction: row; flex-wrap: wrap; justify-content: flex-start; width: 100% }\n",
       "    .wandb-col { display: flex; flex-direction: column; flex-basis: 100%; flex: 1; padding: 10px; }\n",
       "    </style>\n",
       "<div class=\"wandb-row\"><div class=\"wandb-col\"><h3>Run history:</h3><br/><table class=\"wandb\"><tr><td>org_id</td><td>▁</td></tr></table><br/></div><div class=\"wandb-col\"><h3>Run summary:</h3><br/><table class=\"wandb\"><tr><td>caption</td><td>5 fishing prints a f...</td></tr><tr><td>dataset_name</td><td>conceptual_12m-train...</td></tr><tr><td>number</td><td>five</td></tr><tr><td>object</td><td>salmon flies</td></tr><tr><td>org_id</td><td>316484</td></tr><tr><td>url</td><td>https://images1.bonh...</td></tr></table><br/></div></div>"
      ],
      "text/plain": [
       "<IPython.core.display.HTML object>"
      ]
     },
     "metadata": {},
     "output_type": "display_data"
    },
    {
     "data": {
      "text/html": [
       " View run <strong style=\"color:#cdcd00\">wild-sponge-7636</strong> at: <a href='https://wandb.ai/ruisu/flicker_raw_images/runs/ld71svbu' target=\"_blank\">https://wandb.ai/ruisu/flicker_raw_images/runs/ld71svbu</a><br/> View project at: <a href='https://wandb.ai/ruisu/flicker_raw_images' target=\"_blank\">https://wandb.ai/ruisu/flicker_raw_images</a><br/>Synced 5 W&B file(s), 1 media file(s), 0 artifact file(s) and 0 other file(s)"
      ],
      "text/plain": [
       "<IPython.core.display.HTML object>"
      ]
     },
     "metadata": {},
     "output_type": "display_data"
    },
    {
     "data": {
      "text/html": [
       "Find logs at: <code>./wandb/run-20240512_210727-ld71svbu/logs</code>"
      ],
      "text/plain": [
       "<IPython.core.display.HTML object>"
      ]
     },
     "metadata": {},
     "output_type": "display_data"
    },
    {
     "name": "stderr",
     "output_type": "stream",
     "text": [
      "Code: no number: : 316485it [00:50, 214.95it/s]  "
     ]
    },
    {
     "name": "stdout",
     "output_type": "stream",
     "text": [
      "found_phrases [('five', 'designs')]\n",
      "caption five designs for the memorial to honour the republic's pioneer leaders have been shortlisted by a jury - out of 193 submissions.\n",
      "\n"
     ]
    },
    {
     "name": "stderr",
     "output_type": "stream",
     "text": [
      "Code: no number: : 316504it [00:50, 210.50it/s]    "
     ]
    },
    {
     "name": "stdout",
     "output_type": "stream",
     "text": [
      "Failed to process image https://www.straitstimes.com/sites/default/files/styles/article_pictrure_780x520_/public/articles/2019/11/01/nz_g1_011127.jpg?itok=rDpdKwms&timestamp=1572559859: cannot identify image file <_io.BytesIO object at 0x7fa378b4c130>\n",
      "found_phrases []\n",
      "caption five flesh-eating series to fill the walking dead-shaped hole in your life walking dead comic book, walking dead tv series, fear the walking dead, <person>, comic books, walking dead returns, flesh eating, survivor series, zombie movies\n",
      "\n"
     ]
    },
    {
     "name": "stderr",
     "output_type": "stream",
     "text": [
      "Code: no number: : 316504it [00:50, 210.50it/s]"
     ]
    },
    {
     "name": "stdout",
     "output_type": "stream",
     "text": [
      "found_phrases [('five', 'clusters')]\n",
      "caption a thin twig reaches across the photo from right to left. there are five clusters of unripe mulberries in shades of pale green and pale red along the twig. the leaves are small and a new-green colour, not yet fully formed.\n",
      "\n"
     ]
    },
    {
     "data": {
      "text/html": [
       "wandb version 0.17.0 is available!  To upgrade, please run:\n",
       " $ pip install wandb --upgrade"
      ],
      "text/plain": [
       "<IPython.core.display.HTML object>"
      ]
     },
     "metadata": {},
     "output_type": "display_data"
    },
    {
     "data": {
      "text/html": [
       "Tracking run with wandb version 0.16.6"
      ],
      "text/plain": [
       "<IPython.core.display.HTML object>"
      ]
     },
     "metadata": {},
     "output_type": "display_data"
    },
    {
     "data": {
      "text/html": [
       "Run data is saved locally in <code>/Users/susu/Library/CloudStorage/OneDrive-Personal/Wisc/clip_count_continued/CLIP_Counting/wandb/run-20240512_210734-nngkzlpx</code>"
      ],
      "text/plain": [
       "<IPython.core.display.HTML object>"
      ]
     },
     "metadata": {},
     "output_type": "display_data"
    },
    {
     "data": {
      "text/html": [
       "Syncing run <strong><a href='https://wandb.ai/ruisu/flicker_raw_images/runs/nngkzlpx' target=\"_blank\">azure-butterfly-7637</a></strong> to <a href='https://wandb.ai/ruisu/flicker_raw_images' target=\"_blank\">Weights & Biases</a> (<a href='https://wandb.me/run' target=\"_blank\">docs</a>)<br/>"
      ],
      "text/plain": [
       "<IPython.core.display.HTML object>"
      ]
     },
     "metadata": {},
     "output_type": "display_data"
    },
    {
     "data": {
      "text/html": [
       " View project at <a href='https://wandb.ai/ruisu/flicker_raw_images' target=\"_blank\">https://wandb.ai/ruisu/flicker_raw_images</a>"
      ],
      "text/plain": [
       "<IPython.core.display.HTML object>"
      ]
     },
     "metadata": {},
     "output_type": "display_data"
    },
    {
     "data": {
      "text/html": [
       " View run at <a href='https://wandb.ai/ruisu/flicker_raw_images/runs/nngkzlpx' target=\"_blank\">https://wandb.ai/ruisu/flicker_raw_images/runs/nngkzlpx</a>"
      ],
      "text/plain": [
       "<IPython.core.display.HTML object>"
      ]
     },
     "metadata": {},
     "output_type": "display_data"
    },
    {
     "data": {
      "text/html": [
       "<style>\n",
       "    table.wandb td:nth-child(1) { padding: 0 10px; text-align: left ; width: auto;} td:nth-child(2) {text-align: left ; width: 100%}\n",
       "    .wandb-row { display: flex; flex-direction: row; flex-wrap: wrap; justify-content: flex-start; width: 100% }\n",
       "    .wandb-col { display: flex; flex-direction: column; flex-basis: 100%; flex: 1; padding: 10px; }\n",
       "    </style>\n",
       "<div class=\"wandb-row\"><div class=\"wandb-col\"><h3>Run history:</h3><br/><table class=\"wandb\"><tr><td>org_id</td><td>▁</td></tr></table><br/></div><div class=\"wandb-col\"><h3>Run summary:</h3><br/><table class=\"wandb\"><tr><td>caption</td><td>a thin twig reaches ...</td></tr><tr><td>dataset_name</td><td>conceptual_12m-train...</td></tr><tr><td>number</td><td>five</td></tr><tr><td>object</td><td>clusters</td></tr><tr><td>org_id</td><td>316965</td></tr><tr><td>url</td><td>https://agritapestry...</td></tr></table><br/></div></div>"
      ],
      "text/plain": [
       "<IPython.core.display.HTML object>"
      ]
     },
     "metadata": {},
     "output_type": "display_data"
    },
    {
     "data": {
      "text/html": [
       " View run <strong style=\"color:#cdcd00\">azure-butterfly-7637</strong> at: <a href='https://wandb.ai/ruisu/flicker_raw_images/runs/nngkzlpx' target=\"_blank\">https://wandb.ai/ruisu/flicker_raw_images/runs/nngkzlpx</a><br/> View project at: <a href='https://wandb.ai/ruisu/flicker_raw_images' target=\"_blank\">https://wandb.ai/ruisu/flicker_raw_images</a><br/>Synced 5 W&B file(s), 1 media file(s), 0 artifact file(s) and 0 other file(s)"
      ],
      "text/plain": [
       "<IPython.core.display.HTML object>"
      ]
     },
     "metadata": {},
     "output_type": "display_data"
    },
    {
     "data": {
      "text/html": [
       "Find logs at: <code>./wandb/run-20240512_210734-nngkzlpx/logs</code>"
      ],
      "text/plain": [
       "<IPython.core.display.HTML object>"
      ]
     },
     "metadata": {},
     "output_type": "display_data"
    },
    {
     "name": "stderr",
     "output_type": "stream",
     "text": [
      "Code: no number: : 316504it [00:56, 210.50it/s]"
     ]
    },
    {
     "name": "stdout",
     "output_type": "stream",
     "text": [
      "found_phrases [('five', 'nights')]\n",
      "caption five nights at <person>'s - the marionette / the puppet buttons, great for cosplay! slim fit t-shirt\n",
      "\n"
     ]
    },
    {
     "data": {
      "text/html": [
       "wandb version 0.17.0 is available!  To upgrade, please run:\n",
       " $ pip install wandb --upgrade"
      ],
      "text/plain": [
       "<IPython.core.display.HTML object>"
      ]
     },
     "metadata": {},
     "output_type": "display_data"
    },
    {
     "data": {
      "text/html": [
       "Tracking run with wandb version 0.16.6"
      ],
      "text/plain": [
       "<IPython.core.display.HTML object>"
      ]
     },
     "metadata": {},
     "output_type": "display_data"
    },
    {
     "data": {
      "text/html": [
       "Run data is saved locally in <code>/Users/susu/Library/CloudStorage/OneDrive-Personal/Wisc/clip_count_continued/CLIP_Counting/wandb/run-20240512_210740-69zud417</code>"
      ],
      "text/plain": [
       "<IPython.core.display.HTML object>"
      ]
     },
     "metadata": {},
     "output_type": "display_data"
    },
    {
     "data": {
      "text/html": [
       "Syncing run <strong><a href='https://wandb.ai/ruisu/flicker_raw_images/runs/69zud417' target=\"_blank\">eternal-microwave-7638</a></strong> to <a href='https://wandb.ai/ruisu/flicker_raw_images' target=\"_blank\">Weights & Biases</a> (<a href='https://wandb.me/run' target=\"_blank\">docs</a>)<br/>"
      ],
      "text/plain": [
       "<IPython.core.display.HTML object>"
      ]
     },
     "metadata": {},
     "output_type": "display_data"
    },
    {
     "data": {
      "text/html": [
       " View project at <a href='https://wandb.ai/ruisu/flicker_raw_images' target=\"_blank\">https://wandb.ai/ruisu/flicker_raw_images</a>"
      ],
      "text/plain": [
       "<IPython.core.display.HTML object>"
      ]
     },
     "metadata": {},
     "output_type": "display_data"
    },
    {
     "data": {
      "text/html": [
       " View run at <a href='https://wandb.ai/ruisu/flicker_raw_images/runs/69zud417' target=\"_blank\">https://wandb.ai/ruisu/flicker_raw_images/runs/69zud417</a>"
      ],
      "text/plain": [
       "<IPython.core.display.HTML object>"
      ]
     },
     "metadata": {},
     "output_type": "display_data"
    },
    {
     "data": {
      "text/html": [
       "<style>\n",
       "    table.wandb td:nth-child(1) { padding: 0 10px; text-align: left ; width: auto;} td:nth-child(2) {text-align: left ; width: 100%}\n",
       "    .wandb-row { display: flex; flex-direction: row; flex-wrap: wrap; justify-content: flex-start; width: 100% }\n",
       "    .wandb-col { display: flex; flex-direction: column; flex-basis: 100%; flex: 1; padding: 10px; }\n",
       "    </style>\n",
       "<div class=\"wandb-row\"><div class=\"wandb-col\"><h3>Run history:</h3><br/><table class=\"wandb\"><tr><td>org_id</td><td>▁</td></tr></table><br/></div><div class=\"wandb-col\"><h3>Run summary:</h3><br/><table class=\"wandb\"><tr><td>caption</td><td>five nights at <pers...</td></tr><tr><td>dataset_name</td><td>conceptual_12m-train...</td></tr><tr><td>number</td><td>five</td></tr><tr><td>object</td><td>nights</td></tr><tr><td>org_id</td><td>317191</td></tr><tr><td>url</td><td>https://ih1.redbubbl...</td></tr></table><br/></div></div>"
      ],
      "text/plain": [
       "<IPython.core.display.HTML object>"
      ]
     },
     "metadata": {},
     "output_type": "display_data"
    },
    {
     "data": {
      "text/html": [
       " View run <strong style=\"color:#cdcd00\">eternal-microwave-7638</strong> at: <a href='https://wandb.ai/ruisu/flicker_raw_images/runs/69zud417' target=\"_blank\">https://wandb.ai/ruisu/flicker_raw_images/runs/69zud417</a><br/> View project at: <a href='https://wandb.ai/ruisu/flicker_raw_images' target=\"_blank\">https://wandb.ai/ruisu/flicker_raw_images</a><br/>Synced 5 W&B file(s), 1 media file(s), 0 artifact file(s) and 0 other file(s)"
      ],
      "text/plain": [
       "<IPython.core.display.HTML object>"
      ]
     },
     "metadata": {},
     "output_type": "display_data"
    },
    {
     "data": {
      "text/html": [
       "Find logs at: <code>./wandb/run-20240512_210740-69zud417/logs</code>"
      ],
      "text/plain": [
       "<IPython.core.display.HTML object>"
      ]
     },
     "metadata": {},
     "output_type": "display_data"
    },
    {
     "name": "stderr",
     "output_type": "stream",
     "text": [
      "Code: no number: : 317799it [01:03, 157.16it/s]"
     ]
    },
    {
     "name": "stdout",
     "output_type": "stream",
     "text": [
      "found_phrases [('five', 'disciples')]\n",
      "caption lord <person>'s first sermon surrounded by the first five disciples of the <person> vector illustration. isolated on white background.\n",
      "\n"
     ]
    },
    {
     "data": {
      "text/html": [
       "wandb version 0.17.0 is available!  To upgrade, please run:\n",
       " $ pip install wandb --upgrade"
      ],
      "text/plain": [
       "<IPython.core.display.HTML object>"
      ]
     },
     "metadata": {},
     "output_type": "display_data"
    },
    {
     "data": {
      "text/html": [
       "Tracking run with wandb version 0.16.6"
      ],
      "text/plain": [
       "<IPython.core.display.HTML object>"
      ]
     },
     "metadata": {},
     "output_type": "display_data"
    },
    {
     "data": {
      "text/html": [
       "Run data is saved locally in <code>/Users/susu/Library/CloudStorage/OneDrive-Personal/Wisc/clip_count_continued/CLIP_Counting/wandb/run-20240512_210747-1dbx10t2</code>"
      ],
      "text/plain": [
       "<IPython.core.display.HTML object>"
      ]
     },
     "metadata": {},
     "output_type": "display_data"
    },
    {
     "data": {
      "text/html": [
       "Syncing run <strong><a href='https://wandb.ai/ruisu/flicker_raw_images/runs/1dbx10t2' target=\"_blank\">divine-cosmos-7639</a></strong> to <a href='https://wandb.ai/ruisu/flicker_raw_images' target=\"_blank\">Weights & Biases</a> (<a href='https://wandb.me/run' target=\"_blank\">docs</a>)<br/>"
      ],
      "text/plain": [
       "<IPython.core.display.HTML object>"
      ]
     },
     "metadata": {},
     "output_type": "display_data"
    },
    {
     "data": {
      "text/html": [
       " View project at <a href='https://wandb.ai/ruisu/flicker_raw_images' target=\"_blank\">https://wandb.ai/ruisu/flicker_raw_images</a>"
      ],
      "text/plain": [
       "<IPython.core.display.HTML object>"
      ]
     },
     "metadata": {},
     "output_type": "display_data"
    },
    {
     "data": {
      "text/html": [
       " View run at <a href='https://wandb.ai/ruisu/flicker_raw_images/runs/1dbx10t2' target=\"_blank\">https://wandb.ai/ruisu/flicker_raw_images/runs/1dbx10t2</a>"
      ],
      "text/plain": [
       "<IPython.core.display.HTML object>"
      ]
     },
     "metadata": {},
     "output_type": "display_data"
    },
    {
     "data": {
      "text/html": [
       "<style>\n",
       "    table.wandb td:nth-child(1) { padding: 0 10px; text-align: left ; width: auto;} td:nth-child(2) {text-align: left ; width: 100%}\n",
       "    .wandb-row { display: flex; flex-direction: row; flex-wrap: wrap; justify-content: flex-start; width: 100% }\n",
       "    .wandb-col { display: flex; flex-direction: column; flex-basis: 100%; flex: 1; padding: 10px; }\n",
       "    </style>\n",
       "<div class=\"wandb-row\"><div class=\"wandb-col\"><h3>Run history:</h3><br/><table class=\"wandb\"><tr><td>org_id</td><td>▁</td></tr></table><br/></div><div class=\"wandb-col\"><h3>Run summary:</h3><br/><table class=\"wandb\"><tr><td>caption</td><td>lord <person>'s firs...</td></tr><tr><td>dataset_name</td><td>conceptual_12m-train...</td></tr><tr><td>number</td><td>five</td></tr><tr><td>object</td><td>disciples</td></tr><tr><td>org_id</td><td>317948</td></tr><tr><td>url</td><td>https://images.asset...</td></tr></table><br/></div></div>"
      ],
      "text/plain": [
       "<IPython.core.display.HTML object>"
      ]
     },
     "metadata": {},
     "output_type": "display_data"
    },
    {
     "data": {
      "text/html": [
       " View run <strong style=\"color:#cdcd00\">divine-cosmos-7639</strong> at: <a href='https://wandb.ai/ruisu/flicker_raw_images/runs/1dbx10t2' target=\"_blank\">https://wandb.ai/ruisu/flicker_raw_images/runs/1dbx10t2</a><br/> View project at: <a href='https://wandb.ai/ruisu/flicker_raw_images' target=\"_blank\">https://wandb.ai/ruisu/flicker_raw_images</a><br/>Synced 5 W&B file(s), 1 media file(s), 0 artifact file(s) and 0 other file(s)"
      ],
      "text/plain": [
       "<IPython.core.display.HTML object>"
      ]
     },
     "metadata": {},
     "output_type": "display_data"
    },
    {
     "data": {
      "text/html": [
       "Find logs at: <code>./wandb/run-20240512_210747-1dbx10t2/logs</code>"
      ],
      "text/plain": [
       "<IPython.core.display.HTML object>"
      ]
     },
     "metadata": {},
     "output_type": "display_data"
    },
    {
     "name": "stderr",
     "output_type": "stream",
     "text": [
      "Code: no number: : 317799it [01:09, 157.16it/s]"
     ]
    },
    {
     "name": "stdout",
     "output_type": "stream",
     "text": [
      "found_phrases [('five', 'words')]\n",
      "caption by: <person> <person> read more at: those five words -- ``the courage to be patient'' -- give a picture of the great potential of youth basketball and at the same time highlight the problems that exist ... basketball photography, precious children, single parenting, girl swag, <person>, baby fever, <person>, youth, creative\n",
      "\n"
     ]
    },
    {
     "data": {
      "text/html": [
       "wandb version 0.17.0 is available!  To upgrade, please run:\n",
       " $ pip install wandb --upgrade"
      ],
      "text/plain": [
       "<IPython.core.display.HTML object>"
      ]
     },
     "metadata": {},
     "output_type": "display_data"
    },
    {
     "data": {
      "text/html": [
       "Tracking run with wandb version 0.16.6"
      ],
      "text/plain": [
       "<IPython.core.display.HTML object>"
      ]
     },
     "metadata": {},
     "output_type": "display_data"
    },
    {
     "data": {
      "text/html": [
       "Run data is saved locally in <code>/Users/susu/Library/CloudStorage/OneDrive-Personal/Wisc/clip_count_continued/CLIP_Counting/wandb/run-20240512_210753-xwpgk7wt</code>"
      ],
      "text/plain": [
       "<IPython.core.display.HTML object>"
      ]
     },
     "metadata": {},
     "output_type": "display_data"
    },
    {
     "data": {
      "text/html": [
       "Syncing run <strong><a href='https://wandb.ai/ruisu/flicker_raw_images/runs/xwpgk7wt' target=\"_blank\">upbeat-bee-7640</a></strong> to <a href='https://wandb.ai/ruisu/flicker_raw_images' target=\"_blank\">Weights & Biases</a> (<a href='https://wandb.me/run' target=\"_blank\">docs</a>)<br/>"
      ],
      "text/plain": [
       "<IPython.core.display.HTML object>"
      ]
     },
     "metadata": {},
     "output_type": "display_data"
    },
    {
     "data": {
      "text/html": [
       " View project at <a href='https://wandb.ai/ruisu/flicker_raw_images' target=\"_blank\">https://wandb.ai/ruisu/flicker_raw_images</a>"
      ],
      "text/plain": [
       "<IPython.core.display.HTML object>"
      ]
     },
     "metadata": {},
     "output_type": "display_data"
    },
    {
     "data": {
      "text/html": [
       " View run at <a href='https://wandb.ai/ruisu/flicker_raw_images/runs/xwpgk7wt' target=\"_blank\">https://wandb.ai/ruisu/flicker_raw_images/runs/xwpgk7wt</a>"
      ],
      "text/plain": [
       "<IPython.core.display.HTML object>"
      ]
     },
     "metadata": {},
     "output_type": "display_data"
    },
    {
     "data": {
      "text/html": [
       "<style>\n",
       "    table.wandb td:nth-child(1) { padding: 0 10px; text-align: left ; width: auto;} td:nth-child(2) {text-align: left ; width: 100%}\n",
       "    .wandb-row { display: flex; flex-direction: row; flex-wrap: wrap; justify-content: flex-start; width: 100% }\n",
       "    .wandb-col { display: flex; flex-direction: column; flex-basis: 100%; flex: 1; padding: 10px; }\n",
       "    </style>\n",
       "<div class=\"wandb-row\"><div class=\"wandb-col\"><h3>Run history:</h3><br/><table class=\"wandb\"><tr><td>org_id</td><td>▁</td></tr></table><br/></div><div class=\"wandb-col\"><h3>Run summary:</h3><br/><table class=\"wandb\"><tr><td>caption</td><td>by: <person> <person...</td></tr><tr><td>dataset_name</td><td>conceptual_12m-train...</td></tr><tr><td>number</td><td>five</td></tr><tr><td>object</td><td>words</td></tr><tr><td>org_id</td><td>318043</td></tr><tr><td>url</td><td>https://i.pinimg.com...</td></tr></table><br/></div></div>"
      ],
      "text/plain": [
       "<IPython.core.display.HTML object>"
      ]
     },
     "metadata": {},
     "output_type": "display_data"
    },
    {
     "data": {
      "text/html": [
       " View run <strong style=\"color:#cdcd00\">upbeat-bee-7640</strong> at: <a href='https://wandb.ai/ruisu/flicker_raw_images/runs/xwpgk7wt' target=\"_blank\">https://wandb.ai/ruisu/flicker_raw_images/runs/xwpgk7wt</a><br/> View project at: <a href='https://wandb.ai/ruisu/flicker_raw_images' target=\"_blank\">https://wandb.ai/ruisu/flicker_raw_images</a><br/>Synced 5 W&B file(s), 1 media file(s), 0 artifact file(s) and 0 other file(s)"
      ],
      "text/plain": [
       "<IPython.core.display.HTML object>"
      ]
     },
     "metadata": {},
     "output_type": "display_data"
    },
    {
     "data": {
      "text/html": [
       "Find logs at: <code>./wandb/run-20240512_210753-xwpgk7wt/logs</code>"
      ],
      "text/plain": [
       "<IPython.core.display.HTML object>"
      ]
     },
     "metadata": {},
     "output_type": "display_data"
    },
    {
     "name": "stderr",
     "output_type": "stream",
     "text": [
      "Code: no number: : 317799it [01:16, 157.16it/s]    "
     ]
    },
    {
     "name": "stdout",
     "output_type": "stream",
     "text": [
      "found_phrases []\n",
      "caption a map of british columbia's five health regions.\n",
      "\n",
      "found_phrases []\n",
      "caption a mexican flag flutters at the zocalo square in mexico city, on april 29, 2009. the world health organisation raised its flu alert to phase five out of six, who chief <person> said, signalling that a pandemic was imminent following the swine flu outbreak.\n",
      "\n",
      "found_phrases [('five', 'qualities'), ('five', 'qualities')]\n",
      "caption top small kitchen remodel ideas five qualities of a good kitchen design we need to know. before we start getting things done for our new kitchen, here are five qualities of a good kitchen design that are worthy of our attention: modern farmhouse kitchens, farmhouse kitchen decor, home kitchens, rustic farmhouse, farmhouse style, farmhouse ideas, new kitchen, kitchen dining, kitchen wood\n",
      "\n"
     ]
    },
    {
     "data": {
      "text/html": [
       "wandb version 0.17.0 is available!  To upgrade, please run:\n",
       " $ pip install wandb --upgrade"
      ],
      "text/plain": [
       "<IPython.core.display.HTML object>"
      ]
     },
     "metadata": {},
     "output_type": "display_data"
    },
    {
     "data": {
      "text/html": [
       "Tracking run with wandb version 0.16.6"
      ],
      "text/plain": [
       "<IPython.core.display.HTML object>"
      ]
     },
     "metadata": {},
     "output_type": "display_data"
    },
    {
     "data": {
      "text/html": [
       "Run data is saved locally in <code>/Users/susu/Library/CloudStorage/OneDrive-Personal/Wisc/clip_count_continued/CLIP_Counting/wandb/run-20240512_210800-sgsqti38</code>"
      ],
      "text/plain": [
       "<IPython.core.display.HTML object>"
      ]
     },
     "metadata": {},
     "output_type": "display_data"
    },
    {
     "data": {
      "text/html": [
       "Syncing run <strong><a href='https://wandb.ai/ruisu/flicker_raw_images/runs/sgsqti38' target=\"_blank\">quiet-morning-7641</a></strong> to <a href='https://wandb.ai/ruisu/flicker_raw_images' target=\"_blank\">Weights & Biases</a> (<a href='https://wandb.me/run' target=\"_blank\">docs</a>)<br/>"
      ],
      "text/plain": [
       "<IPython.core.display.HTML object>"
      ]
     },
     "metadata": {},
     "output_type": "display_data"
    },
    {
     "data": {
      "text/html": [
       " View project at <a href='https://wandb.ai/ruisu/flicker_raw_images' target=\"_blank\">https://wandb.ai/ruisu/flicker_raw_images</a>"
      ],
      "text/plain": [
       "<IPython.core.display.HTML object>"
      ]
     },
     "metadata": {},
     "output_type": "display_data"
    },
    {
     "data": {
      "text/html": [
       " View run at <a href='https://wandb.ai/ruisu/flicker_raw_images/runs/sgsqti38' target=\"_blank\">https://wandb.ai/ruisu/flicker_raw_images/runs/sgsqti38</a>"
      ],
      "text/plain": [
       "<IPython.core.display.HTML object>"
      ]
     },
     "metadata": {},
     "output_type": "display_data"
    },
    {
     "name": "stderr",
     "output_type": "stream",
     "text": [
      "Code: no number: : 317799it [01:19, 157.16it/s]"
     ]
    },
    {
     "data": {
      "text/html": [
       "<style>\n",
       "    table.wandb td:nth-child(1) { padding: 0 10px; text-align: left ; width: auto;} td:nth-child(2) {text-align: left ; width: 100%}\n",
       "    .wandb-row { display: flex; flex-direction: row; flex-wrap: wrap; justify-content: flex-start; width: 100% }\n",
       "    .wandb-col { display: flex; flex-direction: column; flex-basis: 100%; flex: 1; padding: 10px; }\n",
       "    </style>\n",
       "<div class=\"wandb-row\"><div class=\"wandb-col\"><h3>Run history:</h3><br/><table class=\"wandb\"><tr><td>org_id</td><td>▁</td></tr></table><br/></div><div class=\"wandb-col\"><h3>Run summary:</h3><br/><table class=\"wandb\"><tr><td>caption</td><td>top small kitchen re...</td></tr><tr><td>dataset_name</td><td>conceptual_12m-train...</td></tr><tr><td>number</td><td>five</td></tr><tr><td>object</td><td>qualities</td></tr><tr><td>org_id</td><td>318609</td></tr><tr><td>url</td><td>https://i.pinimg.com...</td></tr></table><br/></div></div>"
      ],
      "text/plain": [
       "<IPython.core.display.HTML object>"
      ]
     },
     "metadata": {},
     "output_type": "display_data"
    },
    {
     "data": {
      "text/html": [
       " View run <strong style=\"color:#cdcd00\">quiet-morning-7641</strong> at: <a href='https://wandb.ai/ruisu/flicker_raw_images/runs/sgsqti38' target=\"_blank\">https://wandb.ai/ruisu/flicker_raw_images/runs/sgsqti38</a><br/> View project at: <a href='https://wandb.ai/ruisu/flicker_raw_images' target=\"_blank\">https://wandb.ai/ruisu/flicker_raw_images</a><br/>Synced 5 W&B file(s), 1 media file(s), 0 artifact file(s) and 0 other file(s)"
      ],
      "text/plain": [
       "<IPython.core.display.HTML object>"
      ]
     },
     "metadata": {},
     "output_type": "display_data"
    },
    {
     "data": {
      "text/html": [
       "Find logs at: <code>./wandb/run-20240512_210800-sgsqti38/logs</code>"
      ],
      "text/plain": [
       "<IPython.core.display.HTML object>"
      ]
     },
     "metadata": {},
     "output_type": "display_data"
    },
    {
     "name": "stderr",
     "output_type": "stream",
     "text": [
      "Code: no number: : 319466it [01:23, 132.63it/s]"
     ]
    },
    {
     "name": "stdout",
     "output_type": "stream",
     "text": [
      "found_phrases [('five', 'friends')]\n",
      "caption five friends enjoy their own company and the setting sun, on a beach in mauritius\n",
      "\n"
     ]
    },
    {
     "data": {
      "text/html": [
       "wandb version 0.17.0 is available!  To upgrade, please run:\n",
       " $ pip install wandb --upgrade"
      ],
      "text/plain": [
       "<IPython.core.display.HTML object>"
      ]
     },
     "metadata": {},
     "output_type": "display_data"
    },
    {
     "data": {
      "text/html": [
       "Tracking run with wandb version 0.16.6"
      ],
      "text/plain": [
       "<IPython.core.display.HTML object>"
      ]
     },
     "metadata": {},
     "output_type": "display_data"
    },
    {
     "data": {
      "text/html": [
       "Run data is saved locally in <code>/Users/susu/Library/CloudStorage/OneDrive-Personal/Wisc/clip_count_continued/CLIP_Counting/wandb/run-20240512_210807-njbbus4g</code>"
      ],
      "text/plain": [
       "<IPython.core.display.HTML object>"
      ]
     },
     "metadata": {},
     "output_type": "display_data"
    },
    {
     "data": {
      "text/html": [
       "Syncing run <strong><a href='https://wandb.ai/ruisu/flicker_raw_images/runs/njbbus4g' target=\"_blank\">denim-galaxy-7642</a></strong> to <a href='https://wandb.ai/ruisu/flicker_raw_images' target=\"_blank\">Weights & Biases</a> (<a href='https://wandb.me/run' target=\"_blank\">docs</a>)<br/>"
      ],
      "text/plain": [
       "<IPython.core.display.HTML object>"
      ]
     },
     "metadata": {},
     "output_type": "display_data"
    },
    {
     "data": {
      "text/html": [
       " View project at <a href='https://wandb.ai/ruisu/flicker_raw_images' target=\"_blank\">https://wandb.ai/ruisu/flicker_raw_images</a>"
      ],
      "text/plain": [
       "<IPython.core.display.HTML object>"
      ]
     },
     "metadata": {},
     "output_type": "display_data"
    },
    {
     "data": {
      "text/html": [
       " View run at <a href='https://wandb.ai/ruisu/flicker_raw_images/runs/njbbus4g' target=\"_blank\">https://wandb.ai/ruisu/flicker_raw_images/runs/njbbus4g</a>"
      ],
      "text/plain": [
       "<IPython.core.display.HTML object>"
      ]
     },
     "metadata": {},
     "output_type": "display_data"
    },
    {
     "data": {
      "text/html": [
       "<style>\n",
       "    table.wandb td:nth-child(1) { padding: 0 10px; text-align: left ; width: auto;} td:nth-child(2) {text-align: left ; width: 100%}\n",
       "    .wandb-row { display: flex; flex-direction: row; flex-wrap: wrap; justify-content: flex-start; width: 100% }\n",
       "    .wandb-col { display: flex; flex-direction: column; flex-basis: 100%; flex: 1; padding: 10px; }\n",
       "    </style>\n",
       "<div class=\"wandb-row\"><div class=\"wandb-col\"><h3>Run history:</h3><br/><table class=\"wandb\"><tr><td>org_id</td><td>▁</td></tr></table><br/></div><div class=\"wandb-col\"><h3>Run summary:</h3><br/><table class=\"wandb\"><tr><td>caption</td><td>five friends enjoy t...</td></tr><tr><td>dataset_name</td><td>conceptual_12m-train...</td></tr><tr><td>number</td><td>five</td></tr><tr><td>object</td><td>friends</td></tr><tr><td>org_id</td><td>319854</td></tr><tr><td>url</td><td>https://pro2-bar-s3-...</td></tr></table><br/></div></div>"
      ],
      "text/plain": [
       "<IPython.core.display.HTML object>"
      ]
     },
     "metadata": {},
     "output_type": "display_data"
    },
    {
     "data": {
      "text/html": [
       " View run <strong style=\"color:#cdcd00\">denim-galaxy-7642</strong> at: <a href='https://wandb.ai/ruisu/flicker_raw_images/runs/njbbus4g' target=\"_blank\">https://wandb.ai/ruisu/flicker_raw_images/runs/njbbus4g</a><br/> View project at: <a href='https://wandb.ai/ruisu/flicker_raw_images' target=\"_blank\">https://wandb.ai/ruisu/flicker_raw_images</a><br/>Synced 5 W&B file(s), 1 media file(s), 0 artifact file(s) and 0 other file(s)"
      ],
      "text/plain": [
       "<IPython.core.display.HTML object>"
      ]
     },
     "metadata": {},
     "output_type": "display_data"
    },
    {
     "data": {
      "text/html": [
       "Find logs at: <code>./wandb/run-20240512_210807-njbbus4g/logs</code>"
      ],
      "text/plain": [
       "<IPython.core.display.HTML object>"
      ]
     },
     "metadata": {},
     "output_type": "display_data"
    },
    {
     "name": "stderr",
     "output_type": "stream",
     "text": [
      "Code: no number: : 321343it [01:31, 294.48it/s]"
     ]
    },
    {
     "name": "stdout",
     "output_type": "stream",
     "text": [
      "found_phrases [('five', 'years')]\n",
      "caption january 2018: still here, brick lane: ``this is <person>, known as 'teapot', ' <person>' and more nick names'' says photographer <person>. ``lots of people know him as he's been round a bit. people had thought he was dead so i took a photo of him in front of this mural on brick lane!'' <person> grew up in clapton, hackney but has lived near spitalfields for years. <person> says he's one of the last proper cockneys. his upbringing was hard and they were very poor, says <person>. ``at the same time, he had a lot of fun and there was a lot of love.'' <person>, 72, met <person> five years ago. ``she's a great help. she comes around and takes me for walks.'' <person> enjoys going down to the nomadic gardens, ``a really nice piece of waste land next to the railway tracks near brick lane where everyone sits around doing artwork and being really nice. it's a place where people can go and broaden their horizons.''\n",
      "\n"
     ]
    },
    {
     "data": {
      "text/html": [
       "wandb version 0.17.0 is available!  To upgrade, please run:\n",
       " $ pip install wandb --upgrade"
      ],
      "text/plain": [
       "<IPython.core.display.HTML object>"
      ]
     },
     "metadata": {},
     "output_type": "display_data"
    },
    {
     "data": {
      "text/html": [
       "Tracking run with wandb version 0.16.6"
      ],
      "text/plain": [
       "<IPython.core.display.HTML object>"
      ]
     },
     "metadata": {},
     "output_type": "display_data"
    },
    {
     "data": {
      "text/html": [
       "Run data is saved locally in <code>/Users/susu/Library/CloudStorage/OneDrive-Personal/Wisc/clip_count_continued/CLIP_Counting/wandb/run-20240512_210815-7nc4zwm6</code>"
      ],
      "text/plain": [
       "<IPython.core.display.HTML object>"
      ]
     },
     "metadata": {},
     "output_type": "display_data"
    },
    {
     "data": {
      "text/html": [
       "Syncing run <strong><a href='https://wandb.ai/ruisu/flicker_raw_images/runs/7nc4zwm6' target=\"_blank\">clean-serenity-7643</a></strong> to <a href='https://wandb.ai/ruisu/flicker_raw_images' target=\"_blank\">Weights & Biases</a> (<a href='https://wandb.me/run' target=\"_blank\">docs</a>)<br/>"
      ],
      "text/plain": [
       "<IPython.core.display.HTML object>"
      ]
     },
     "metadata": {},
     "output_type": "display_data"
    },
    {
     "data": {
      "text/html": [
       " View project at <a href='https://wandb.ai/ruisu/flicker_raw_images' target=\"_blank\">https://wandb.ai/ruisu/flicker_raw_images</a>"
      ],
      "text/plain": [
       "<IPython.core.display.HTML object>"
      ]
     },
     "metadata": {},
     "output_type": "display_data"
    },
    {
     "data": {
      "text/html": [
       " View run at <a href='https://wandb.ai/ruisu/flicker_raw_images/runs/7nc4zwm6' target=\"_blank\">https://wandb.ai/ruisu/flicker_raw_images/runs/7nc4zwm6</a>"
      ],
      "text/plain": [
       "<IPython.core.display.HTML object>"
      ]
     },
     "metadata": {},
     "output_type": "display_data"
    },
    {
     "data": {
      "text/html": [
       "<style>\n",
       "    table.wandb td:nth-child(1) { padding: 0 10px; text-align: left ; width: auto;} td:nth-child(2) {text-align: left ; width: 100%}\n",
       "    .wandb-row { display: flex; flex-direction: row; flex-wrap: wrap; justify-content: flex-start; width: 100% }\n",
       "    .wandb-col { display: flex; flex-direction: column; flex-basis: 100%; flex: 1; padding: 10px; }\n",
       "    </style>\n",
       "<div class=\"wandb-row\"><div class=\"wandb-col\"><h3>Run history:</h3><br/><table class=\"wandb\"><tr><td>org_id</td><td>▁</td></tr></table><br/></div><div class=\"wandb-col\"><h3>Run summary:</h3><br/><table class=\"wandb\"><tr><td>caption</td><td>january 2018: still ...</td></tr><tr><td>dataset_name</td><td>conceptual_12m-train...</td></tr><tr><td>number</td><td>five</td></tr><tr><td>object</td><td>years</td></tr><tr><td>org_id</td><td>321478</td></tr><tr><td>url</td><td>https://static.wixst...</td></tr></table><br/></div></div>"
      ],
      "text/plain": [
       "<IPython.core.display.HTML object>"
      ]
     },
     "metadata": {},
     "output_type": "display_data"
    },
    {
     "data": {
      "text/html": [
       " View run <strong style=\"color:#cdcd00\">clean-serenity-7643</strong> at: <a href='https://wandb.ai/ruisu/flicker_raw_images/runs/7nc4zwm6' target=\"_blank\">https://wandb.ai/ruisu/flicker_raw_images/runs/7nc4zwm6</a><br/> View project at: <a href='https://wandb.ai/ruisu/flicker_raw_images' target=\"_blank\">https://wandb.ai/ruisu/flicker_raw_images</a><br/>Synced 5 W&B file(s), 1 media file(s), 0 artifact file(s) and 0 other file(s)"
      ],
      "text/plain": [
       "<IPython.core.display.HTML object>"
      ]
     },
     "metadata": {},
     "output_type": "display_data"
    },
    {
     "data": {
      "text/html": [
       "Find logs at: <code>./wandb/run-20240512_210815-7nc4zwm6/logs</code>"
      ],
      "text/plain": [
       "<IPython.core.display.HTML object>"
      ]
     },
     "metadata": {},
     "output_type": "display_data"
    },
    {
     "name": "stderr",
     "output_type": "stream",
     "text": [
      "Code: no number: : 321915it [01:38, 166.53it/s]    "
     ]
    },
    {
     "name": "stdout",
     "output_type": "stream",
     "text": [
      "found_phrases []\n",
      "caption a sushi chef preps a dish at the fish & the knife restaurant on <person>, tuesday, march 18, 2014, in houston. the owner spent three years designing and building the asian restaurant that features five distinct dining areas including a sushi bar. ( <person> / houston chronicle )\n",
      "\n",
      "found_phrases []\n",
      "caption five women-pater sato-limited edition displayed on a wall\n",
      "\n"
     ]
    },
    {
     "name": "stderr",
     "output_type": "stream",
     "text": [
      "Code: no number: : 322240it [01:38, 263.35it/s]"
     ]
    },
    {
     "name": "stdout",
     "output_type": "stream",
     "text": [
      "found_phrases [('five', 'hundred')]\n",
      "caption slide 1 of 18: in 2011, <person> was supposed to drive his camaro pace car for the 100th anniversary of the indianapolis 500. unfortunately, his schedule didn't allow him to attend the event. only five hundred of these cars were ever made.\n",
      "\n"
     ]
    },
    {
     "name": "stderr",
     "output_type": "stream",
     "text": [
      "Code: no number: : 322240it [01:39, 263.35it/s]    "
     ]
    },
    {
     "name": "stdout",
     "output_type": "stream",
     "text": [
      "Failed to process image https://img-s-msn-com.akamaized.net/tenant/amp/entityid/AAm9nPe.img?h=552&w=750&m=6&q=60&u=t&o=f&l=f&x=853&y=603: cannot identify image file <_io.BytesIO object at 0x7fa3796e0680>\n",
      "found_phrases [('five', 'people')]\n",
      "caption when <person> arrives at the shop, she finds that there is a further discount of 20% if you spend over 1000. she has a budget of 1200. task 2a: choose furniture to seat at least five people.\n",
      "\n"
     ]
    },
    {
     "data": {
      "text/html": [
       "wandb version 0.17.0 is available!  To upgrade, please run:\n",
       " $ pip install wandb --upgrade"
      ],
      "text/plain": [
       "<IPython.core.display.HTML object>"
      ]
     },
     "metadata": {},
     "output_type": "display_data"
    },
    {
     "data": {
      "text/html": [
       "Tracking run with wandb version 0.16.6"
      ],
      "text/plain": [
       "<IPython.core.display.HTML object>"
      ]
     },
     "metadata": {},
     "output_type": "display_data"
    },
    {
     "data": {
      "text/html": [
       "Run data is saved locally in <code>/Users/susu/Library/CloudStorage/OneDrive-Personal/Wisc/clip_count_continued/CLIP_Counting/wandb/run-20240512_210823-jbnqkkms</code>"
      ],
      "text/plain": [
       "<IPython.core.display.HTML object>"
      ]
     },
     "metadata": {},
     "output_type": "display_data"
    },
    {
     "data": {
      "text/html": [
       "Syncing run <strong><a href='https://wandb.ai/ruisu/flicker_raw_images/runs/jbnqkkms' target=\"_blank\">trim-sky-7644</a></strong> to <a href='https://wandb.ai/ruisu/flicker_raw_images' target=\"_blank\">Weights & Biases</a> (<a href='https://wandb.me/run' target=\"_blank\">docs</a>)<br/>"
      ],
      "text/plain": [
       "<IPython.core.display.HTML object>"
      ]
     },
     "metadata": {},
     "output_type": "display_data"
    },
    {
     "data": {
      "text/html": [
       " View project at <a href='https://wandb.ai/ruisu/flicker_raw_images' target=\"_blank\">https://wandb.ai/ruisu/flicker_raw_images</a>"
      ],
      "text/plain": [
       "<IPython.core.display.HTML object>"
      ]
     },
     "metadata": {},
     "output_type": "display_data"
    },
    {
     "data": {
      "text/html": [
       " View run at <a href='https://wandb.ai/ruisu/flicker_raw_images/runs/jbnqkkms' target=\"_blank\">https://wandb.ai/ruisu/flicker_raw_images/runs/jbnqkkms</a>"
      ],
      "text/plain": [
       "<IPython.core.display.HTML object>"
      ]
     },
     "metadata": {},
     "output_type": "display_data"
    },
    {
     "data": {
      "text/html": [
       "<style>\n",
       "    table.wandb td:nth-child(1) { padding: 0 10px; text-align: left ; width: auto;} td:nth-child(2) {text-align: left ; width: 100%}\n",
       "    .wandb-row { display: flex; flex-direction: row; flex-wrap: wrap; justify-content: flex-start; width: 100% }\n",
       "    .wandb-col { display: flex; flex-direction: column; flex-basis: 100%; flex: 1; padding: 10px; }\n",
       "    </style>\n",
       "<div class=\"wandb-row\"><div class=\"wandb-col\"><h3>Run history:</h3><br/><table class=\"wandb\"><tr><td>org_id</td><td>▁</td></tr></table><br/></div><div class=\"wandb-col\"><h3>Run summary:</h3><br/><table class=\"wandb\"><tr><td>caption</td><td>when <person> arrive...</td></tr><tr><td>dataset_name</td><td>conceptual_12m-train...</td></tr><tr><td>number</td><td>five</td></tr><tr><td>object</td><td>people</td></tr><tr><td>org_id</td><td>322340</td></tr><tr><td>url</td><td>https://docplayer.ne...</td></tr></table><br/></div></div>"
      ],
      "text/plain": [
       "<IPython.core.display.HTML object>"
      ]
     },
     "metadata": {},
     "output_type": "display_data"
    },
    {
     "data": {
      "text/html": [
       " View run <strong style=\"color:#cdcd00\">trim-sky-7644</strong> at: <a href='https://wandb.ai/ruisu/flicker_raw_images/runs/jbnqkkms' target=\"_blank\">https://wandb.ai/ruisu/flicker_raw_images/runs/jbnqkkms</a><br/> View project at: <a href='https://wandb.ai/ruisu/flicker_raw_images' target=\"_blank\">https://wandb.ai/ruisu/flicker_raw_images</a><br/>Synced 5 W&B file(s), 1 media file(s), 0 artifact file(s) and 0 other file(s)"
      ],
      "text/plain": [
       "<IPython.core.display.HTML object>"
      ]
     },
     "metadata": {},
     "output_type": "display_data"
    },
    {
     "data": {
      "text/html": [
       "Find logs at: <code>./wandb/run-20240512_210823-jbnqkkms/logs</code>"
      ],
      "text/plain": [
       "<IPython.core.display.HTML object>"
      ]
     },
     "metadata": {},
     "output_type": "display_data"
    },
    {
     "name": "stderr",
     "output_type": "stream",
     "text": [
      "Code: no number: : 322794it [01:46, 135.26it/s]   "
     ]
    },
    {
     "name": "stdout",
     "output_type": "stream",
     "text": [
      "found_phrases []\n",
      "caption studio lighting set ups the five basic portrait lighting setups photography photography studio setup, photography lighting setup, portrait lighting, photo lighting, flash photography, photography equipment, photography tutorials, light photography, umbrella lights photography\n",
      "\n",
      "found_phrases [('five', 'academic colleges')]\n",
      "caption over 840 islanders representing the university's five academic colleges received their degrees during two commencement ceremonies held on december 16, 2017.\n",
      "\n"
     ]
    },
    {
     "data": {
      "text/html": [
       "wandb version 0.17.0 is available!  To upgrade, please run:\n",
       " $ pip install wandb --upgrade"
      ],
      "text/plain": [
       "<IPython.core.display.HTML object>"
      ]
     },
     "metadata": {},
     "output_type": "display_data"
    },
    {
     "data": {
      "text/html": [
       "Tracking run with wandb version 0.16.6"
      ],
      "text/plain": [
       "<IPython.core.display.HTML object>"
      ]
     },
     "metadata": {},
     "output_type": "display_data"
    },
    {
     "data": {
      "text/html": [
       "Run data is saved locally in <code>/Users/susu/Library/CloudStorage/OneDrive-Personal/Wisc/clip_count_continued/CLIP_Counting/wandb/run-20240512_210830-2cxk0vlo</code>"
      ],
      "text/plain": [
       "<IPython.core.display.HTML object>"
      ]
     },
     "metadata": {},
     "output_type": "display_data"
    },
    {
     "data": {
      "text/html": [
       "Syncing run <strong><a href='https://wandb.ai/ruisu/flicker_raw_images/runs/2cxk0vlo' target=\"_blank\">solar-star-7645</a></strong> to <a href='https://wandb.ai/ruisu/flicker_raw_images' target=\"_blank\">Weights & Biases</a> (<a href='https://wandb.me/run' target=\"_blank\">docs</a>)<br/>"
      ],
      "text/plain": [
       "<IPython.core.display.HTML object>"
      ]
     },
     "metadata": {},
     "output_type": "display_data"
    },
    {
     "data": {
      "text/html": [
       " View project at <a href='https://wandb.ai/ruisu/flicker_raw_images' target=\"_blank\">https://wandb.ai/ruisu/flicker_raw_images</a>"
      ],
      "text/plain": [
       "<IPython.core.display.HTML object>"
      ]
     },
     "metadata": {},
     "output_type": "display_data"
    },
    {
     "data": {
      "text/html": [
       " View run at <a href='https://wandb.ai/ruisu/flicker_raw_images/runs/2cxk0vlo' target=\"_blank\">https://wandb.ai/ruisu/flicker_raw_images/runs/2cxk0vlo</a>"
      ],
      "text/plain": [
       "<IPython.core.display.HTML object>"
      ]
     },
     "metadata": {},
     "output_type": "display_data"
    },
    {
     "data": {
      "text/html": [
       "<style>\n",
       "    table.wandb td:nth-child(1) { padding: 0 10px; text-align: left ; width: auto;} td:nth-child(2) {text-align: left ; width: 100%}\n",
       "    .wandb-row { display: flex; flex-direction: row; flex-wrap: wrap; justify-content: flex-start; width: 100% }\n",
       "    .wandb-col { display: flex; flex-direction: column; flex-basis: 100%; flex: 1; padding: 10px; }\n",
       "    </style>\n",
       "<div class=\"wandb-row\"><div class=\"wandb-col\"><h3>Run history:</h3><br/><table class=\"wandb\"><tr><td>org_id</td><td>▁</td></tr></table><br/></div><div class=\"wandb-col\"><h3>Run summary:</h3><br/><table class=\"wandb\"><tr><td>caption</td><td>over 840 islanders r...</td></tr><tr><td>dataset_name</td><td>conceptual_12m-train...</td></tr><tr><td>number</td><td>five</td></tr><tr><td>object</td><td>academic colleges</td></tr><tr><td>org_id</td><td>322811</td></tr><tr><td>url</td><td>https://photos.tamuc...</td></tr></table><br/></div></div>"
      ],
      "text/plain": [
       "<IPython.core.display.HTML object>"
      ]
     },
     "metadata": {},
     "output_type": "display_data"
    },
    {
     "data": {
      "text/html": [
       " View run <strong style=\"color:#cdcd00\">solar-star-7645</strong> at: <a href='https://wandb.ai/ruisu/flicker_raw_images/runs/2cxk0vlo' target=\"_blank\">https://wandb.ai/ruisu/flicker_raw_images/runs/2cxk0vlo</a><br/> View project at: <a href='https://wandb.ai/ruisu/flicker_raw_images' target=\"_blank\">https://wandb.ai/ruisu/flicker_raw_images</a><br/>Synced 5 W&B file(s), 1 media file(s), 0 artifact file(s) and 0 other file(s)"
      ],
      "text/plain": [
       "<IPython.core.display.HTML object>"
      ]
     },
     "metadata": {},
     "output_type": "display_data"
    },
    {
     "data": {
      "text/html": [
       "Find logs at: <code>./wandb/run-20240512_210830-2cxk0vlo/logs</code>"
      ],
      "text/plain": [
       "<IPython.core.display.HTML object>"
      ]
     },
     "metadata": {},
     "output_type": "display_data"
    },
    {
     "name": "stderr",
     "output_type": "stream",
     "text": [
      "Code: no number: : 323551it [01:53, 170.64it/s]"
     ]
    },
    {
     "name": "stdout",
     "output_type": "stream",
     "text": [
      "found_phrases [('five', 'essential questions')]\n",
      "caption phase 1 the entire implementation process through the understanding by design framework will be to answer the five essential questions.\n",
      "\n"
     ]
    },
    {
     "data": {
      "text/html": [
       "wandb version 0.17.0 is available!  To upgrade, please run:\n",
       " $ pip install wandb --upgrade"
      ],
      "text/plain": [
       "<IPython.core.display.HTML object>"
      ]
     },
     "metadata": {},
     "output_type": "display_data"
    },
    {
     "data": {
      "text/html": [
       "Tracking run with wandb version 0.16.6"
      ],
      "text/plain": [
       "<IPython.core.display.HTML object>"
      ]
     },
     "metadata": {},
     "output_type": "display_data"
    },
    {
     "data": {
      "text/html": [
       "Run data is saved locally in <code>/Users/susu/Library/CloudStorage/OneDrive-Personal/Wisc/clip_count_continued/CLIP_Counting/wandb/run-20240512_210837-n9v2q4xe</code>"
      ],
      "text/plain": [
       "<IPython.core.display.HTML object>"
      ]
     },
     "metadata": {},
     "output_type": "display_data"
    },
    {
     "data": {
      "text/html": [
       "Syncing run <strong><a href='https://wandb.ai/ruisu/flicker_raw_images/runs/n9v2q4xe' target=\"_blank\">lucky-butterfly-7646</a></strong> to <a href='https://wandb.ai/ruisu/flicker_raw_images' target=\"_blank\">Weights & Biases</a> (<a href='https://wandb.me/run' target=\"_blank\">docs</a>)<br/>"
      ],
      "text/plain": [
       "<IPython.core.display.HTML object>"
      ]
     },
     "metadata": {},
     "output_type": "display_data"
    },
    {
     "data": {
      "text/html": [
       " View project at <a href='https://wandb.ai/ruisu/flicker_raw_images' target=\"_blank\">https://wandb.ai/ruisu/flicker_raw_images</a>"
      ],
      "text/plain": [
       "<IPython.core.display.HTML object>"
      ]
     },
     "metadata": {},
     "output_type": "display_data"
    },
    {
     "data": {
      "text/html": [
       " View run at <a href='https://wandb.ai/ruisu/flicker_raw_images/runs/n9v2q4xe' target=\"_blank\">https://wandb.ai/ruisu/flicker_raw_images/runs/n9v2q4xe</a>"
      ],
      "text/plain": [
       "<IPython.core.display.HTML object>"
      ]
     },
     "metadata": {},
     "output_type": "display_data"
    },
    {
     "data": {
      "text/html": [
       "<style>\n",
       "    table.wandb td:nth-child(1) { padding: 0 10px; text-align: left ; width: auto;} td:nth-child(2) {text-align: left ; width: 100%}\n",
       "    .wandb-row { display: flex; flex-direction: row; flex-wrap: wrap; justify-content: flex-start; width: 100% }\n",
       "    .wandb-col { display: flex; flex-direction: column; flex-basis: 100%; flex: 1; padding: 10px; }\n",
       "    </style>\n",
       "<div class=\"wandb-row\"><div class=\"wandb-col\"><h3>Run history:</h3><br/><table class=\"wandb\"><tr><td>org_id</td><td>▁</td></tr></table><br/></div><div class=\"wandb-col\"><h3>Run summary:</h3><br/><table class=\"wandb\"><tr><td>caption</td><td>phase 1 the entire i...</td></tr><tr><td>dataset_name</td><td>conceptual_12m-train...</td></tr><tr><td>number</td><td>five</td></tr><tr><td>object</td><td>essential questions</td></tr><tr><td>org_id</td><td>323656</td></tr><tr><td>url</td><td>https://slideplayer....</td></tr></table><br/></div></div>"
      ],
      "text/plain": [
       "<IPython.core.display.HTML object>"
      ]
     },
     "metadata": {},
     "output_type": "display_data"
    },
    {
     "data": {
      "text/html": [
       " View run <strong style=\"color:#cdcd00\">lucky-butterfly-7646</strong> at: <a href='https://wandb.ai/ruisu/flicker_raw_images/runs/n9v2q4xe' target=\"_blank\">https://wandb.ai/ruisu/flicker_raw_images/runs/n9v2q4xe</a><br/> View project at: <a href='https://wandb.ai/ruisu/flicker_raw_images' target=\"_blank\">https://wandb.ai/ruisu/flicker_raw_images</a><br/>Synced 5 W&B file(s), 1 media file(s), 0 artifact file(s) and 0 other file(s)"
      ],
      "text/plain": [
       "<IPython.core.display.HTML object>"
      ]
     },
     "metadata": {},
     "output_type": "display_data"
    },
    {
     "data": {
      "text/html": [
       "Find logs at: <code>./wandb/run-20240512_210837-n9v2q4xe/logs</code>"
      ],
      "text/plain": [
       "<IPython.core.display.HTML object>"
      ]
     },
     "metadata": {},
     "output_type": "display_data"
    },
    {
     "name": "stderr",
     "output_type": "stream",
     "text": [
      "Code: no number: : 323987it [02:00, 115.31it/s]   "
     ]
    },
    {
     "name": "stdout",
     "output_type": "stream",
     "text": [
      "found_phrases []\n",
      "caption young caucasian man against a blue wall smiling cheerful showing number five with fingers.\n",
      "\n"
     ]
    },
    {
     "name": "stderr",
     "output_type": "stream",
     "text": [
      "Code: no number: : 324114it [02:00, 149.75it/s]"
     ]
    },
    {
     "name": "stdout",
     "output_type": "stream",
     "text": [
      "found_phrases [('five', 'players')]\n",
      "caption five players went to the fairfield police department, bridgeport fire department and <person> to say thank you for their community services and pass out team ball caps. they got a tour of each place, including the dispatch office and shooting range at the police station. the sound tigers' annual first responders night is saturday, dec. 28 at 7 p.m. players that went were: <person>, <person>, <person>, <person>, <person>.\n",
      "\n"
     ]
    },
    {
     "data": {
      "text/html": [
       "wandb version 0.17.0 is available!  To upgrade, please run:\n",
       " $ pip install wandb --upgrade"
      ],
      "text/plain": [
       "<IPython.core.display.HTML object>"
      ]
     },
     "metadata": {},
     "output_type": "display_data"
    },
    {
     "data": {
      "text/html": [
       "Tracking run with wandb version 0.16.6"
      ],
      "text/plain": [
       "<IPython.core.display.HTML object>"
      ]
     },
     "metadata": {},
     "output_type": "display_data"
    },
    {
     "data": {
      "text/html": [
       "Run data is saved locally in <code>/Users/susu/Library/CloudStorage/OneDrive-Personal/Wisc/clip_count_continued/CLIP_Counting/wandb/run-20240512_210843-15b8exy2</code>"
      ],
      "text/plain": [
       "<IPython.core.display.HTML object>"
      ]
     },
     "metadata": {},
     "output_type": "display_data"
    },
    {
     "data": {
      "text/html": [
       "Syncing run <strong><a href='https://wandb.ai/ruisu/flicker_raw_images/runs/15b8exy2' target=\"_blank\">sage-breeze-7647</a></strong> to <a href='https://wandb.ai/ruisu/flicker_raw_images' target=\"_blank\">Weights & Biases</a> (<a href='https://wandb.me/run' target=\"_blank\">docs</a>)<br/>"
      ],
      "text/plain": [
       "<IPython.core.display.HTML object>"
      ]
     },
     "metadata": {},
     "output_type": "display_data"
    },
    {
     "data": {
      "text/html": [
       " View project at <a href='https://wandb.ai/ruisu/flicker_raw_images' target=\"_blank\">https://wandb.ai/ruisu/flicker_raw_images</a>"
      ],
      "text/plain": [
       "<IPython.core.display.HTML object>"
      ]
     },
     "metadata": {},
     "output_type": "display_data"
    },
    {
     "data": {
      "text/html": [
       " View run at <a href='https://wandb.ai/ruisu/flicker_raw_images/runs/15b8exy2' target=\"_blank\">https://wandb.ai/ruisu/flicker_raw_images/runs/15b8exy2</a>"
      ],
      "text/plain": [
       "<IPython.core.display.HTML object>"
      ]
     },
     "metadata": {},
     "output_type": "display_data"
    },
    {
     "data": {
      "text/html": [
       "<style>\n",
       "    table.wandb td:nth-child(1) { padding: 0 10px; text-align: left ; width: auto;} td:nth-child(2) {text-align: left ; width: 100%}\n",
       "    .wandb-row { display: flex; flex-direction: row; flex-wrap: wrap; justify-content: flex-start; width: 100% }\n",
       "    .wandb-col { display: flex; flex-direction: column; flex-basis: 100%; flex: 1; padding: 10px; }\n",
       "    </style>\n",
       "<div class=\"wandb-row\"><div class=\"wandb-col\"><h3>Run history:</h3><br/><table class=\"wandb\"><tr><td>org_id</td><td>▁</td></tr></table><br/></div><div class=\"wandb-col\"><h3>Run summary:</h3><br/><table class=\"wandb\"><tr><td>caption</td><td>five players went to...</td></tr><tr><td>dataset_name</td><td>conceptual_12m-train...</td></tr><tr><td>number</td><td>five</td></tr><tr><td>object</td><td>players</td></tr><tr><td>org_id</td><td>324171</td></tr><tr><td>url</td><td>https://s.hdnux.com/...</td></tr></table><br/></div></div>"
      ],
      "text/plain": [
       "<IPython.core.display.HTML object>"
      ]
     },
     "metadata": {},
     "output_type": "display_data"
    },
    {
     "data": {
      "text/html": [
       " View run <strong style=\"color:#cdcd00\">sage-breeze-7647</strong> at: <a href='https://wandb.ai/ruisu/flicker_raw_images/runs/15b8exy2' target=\"_blank\">https://wandb.ai/ruisu/flicker_raw_images/runs/15b8exy2</a><br/> View project at: <a href='https://wandb.ai/ruisu/flicker_raw_images' target=\"_blank\">https://wandb.ai/ruisu/flicker_raw_images</a><br/>Synced 5 W&B file(s), 1 media file(s), 0 artifact file(s) and 0 other file(s)"
      ],
      "text/plain": [
       "<IPython.core.display.HTML object>"
      ]
     },
     "metadata": {},
     "output_type": "display_data"
    },
    {
     "data": {
      "text/html": [
       "Find logs at: <code>./wandb/run-20240512_210843-15b8exy2/logs</code>"
      ],
      "text/plain": [
       "<IPython.core.display.HTML object>"
      ]
     },
     "metadata": {},
     "output_type": "display_data"
    },
    {
     "name": "stderr",
     "output_type": "stream",
     "text": [
      "Code: no number: : 324805it [02:06, 174.53it/s]"
     ]
    },
    {
     "name": "stdout",
     "output_type": "stream",
     "text": [
      "found_phrases [('five', 'ideas')]\n",
      "caption five ideas for preserving meyer lemons recipe: meyer lemon finishing salt aimee simple bites meyer lemon recipes, recipes for <person>, citrus recipes, do it yourself food, preserved <person>, tasty, yummy food, meals in a jar, fermented foods\n",
      "\n"
     ]
    },
    {
     "data": {
      "text/html": [
       "wandb version 0.17.0 is available!  To upgrade, please run:\n",
       " $ pip install wandb --upgrade"
      ],
      "text/plain": [
       "<IPython.core.display.HTML object>"
      ]
     },
     "metadata": {},
     "output_type": "display_data"
    },
    {
     "data": {
      "text/html": [
       "Tracking run with wandb version 0.16.6"
      ],
      "text/plain": [
       "<IPython.core.display.HTML object>"
      ]
     },
     "metadata": {},
     "output_type": "display_data"
    },
    {
     "data": {
      "text/html": [
       "Run data is saved locally in <code>/Users/susu/Library/CloudStorage/OneDrive-Personal/Wisc/clip_count_continued/CLIP_Counting/wandb/run-20240512_210851-thxolnxh</code>"
      ],
      "text/plain": [
       "<IPython.core.display.HTML object>"
      ]
     },
     "metadata": {},
     "output_type": "display_data"
    },
    {
     "data": {
      "text/html": [
       "Syncing run <strong><a href='https://wandb.ai/ruisu/flicker_raw_images/runs/thxolnxh' target=\"_blank\">true-eon-7648</a></strong> to <a href='https://wandb.ai/ruisu/flicker_raw_images' target=\"_blank\">Weights & Biases</a> (<a href='https://wandb.me/run' target=\"_blank\">docs</a>)<br/>"
      ],
      "text/plain": [
       "<IPython.core.display.HTML object>"
      ]
     },
     "metadata": {},
     "output_type": "display_data"
    },
    {
     "data": {
      "text/html": [
       " View project at <a href='https://wandb.ai/ruisu/flicker_raw_images' target=\"_blank\">https://wandb.ai/ruisu/flicker_raw_images</a>"
      ],
      "text/plain": [
       "<IPython.core.display.HTML object>"
      ]
     },
     "metadata": {},
     "output_type": "display_data"
    },
    {
     "data": {
      "text/html": [
       " View run at <a href='https://wandb.ai/ruisu/flicker_raw_images/runs/thxolnxh' target=\"_blank\">https://wandb.ai/ruisu/flicker_raw_images/runs/thxolnxh</a>"
      ],
      "text/plain": [
       "<IPython.core.display.HTML object>"
      ]
     },
     "metadata": {},
     "output_type": "display_data"
    },
    {
     "data": {
      "text/html": [
       "<style>\n",
       "    table.wandb td:nth-child(1) { padding: 0 10px; text-align: left ; width: auto;} td:nth-child(2) {text-align: left ; width: 100%}\n",
       "    .wandb-row { display: flex; flex-direction: row; flex-wrap: wrap; justify-content: flex-start; width: 100% }\n",
       "    .wandb-col { display: flex; flex-direction: column; flex-basis: 100%; flex: 1; padding: 10px; }\n",
       "    </style>\n",
       "<div class=\"wandb-row\"><div class=\"wandb-col\"><h3>Run history:</h3><br/><table class=\"wandb\"><tr><td>org_id</td><td>▁</td></tr></table><br/></div><div class=\"wandb-col\"><h3>Run summary:</h3><br/><table class=\"wandb\"><tr><td>caption</td><td>five ideas for prese...</td></tr><tr><td>dataset_name</td><td>conceptual_12m-train...</td></tr><tr><td>number</td><td>five</td></tr><tr><td>object</td><td>ideas</td></tr><tr><td>org_id</td><td>324875</td></tr><tr><td>url</td><td>https://i.pinimg.com...</td></tr></table><br/></div></div>"
      ],
      "text/plain": [
       "<IPython.core.display.HTML object>"
      ]
     },
     "metadata": {},
     "output_type": "display_data"
    },
    {
     "data": {
      "text/html": [
       " View run <strong style=\"color:#cdcd00\">true-eon-7648</strong> at: <a href='https://wandb.ai/ruisu/flicker_raw_images/runs/thxolnxh' target=\"_blank\">https://wandb.ai/ruisu/flicker_raw_images/runs/thxolnxh</a><br/> View project at: <a href='https://wandb.ai/ruisu/flicker_raw_images' target=\"_blank\">https://wandb.ai/ruisu/flicker_raw_images</a><br/>Synced 5 W&B file(s), 1 media file(s), 0 artifact file(s) and 0 other file(s)"
      ],
      "text/plain": [
       "<IPython.core.display.HTML object>"
      ]
     },
     "metadata": {},
     "output_type": "display_data"
    },
    {
     "data": {
      "text/html": [
       "Find logs at: <code>./wandb/run-20240512_210851-thxolnxh/logs</code>"
      ],
      "text/plain": [
       "<IPython.core.display.HTML object>"
      ]
     },
     "metadata": {},
     "output_type": "display_data"
    },
    {
     "name": "stderr",
     "output_type": "stream",
     "text": [
      "Code: no number: : 325450it [02:14, 158.49it/s]    "
     ]
    },
    {
     "name": "stdout",
     "output_type": "stream",
     "text": [
      "found_phrases []\n",
      "caption the first 6 months the number of feedings decreases from six at 1 month of age to four to five at 6 months.\n",
      "\n",
      "found_phrases []\n",
      "caption who is ready to go to dreamy cinque terre? these five stunning coastal towns have killer views, scrumptious foods, and the friendliest folks on the mediterranean coast. click here to read our top ten tips of what to do and see in this beautiful italian region!\n",
      "\n"
     ]
    },
    {
     "name": "stderr",
     "output_type": "stream",
     "text": [
      "Code: no number: : 326073it [02:14, 495.67it/s]    "
     ]
    },
    {
     "name": "stdout",
     "output_type": "stream",
     "text": [
      "found_phrases []\n",
      "caption matching clothes & what are you eating, jesse bear bear coloring pages, preschool coloring pages, coloring sheets for kids, five in a row, creative curriculum, school themes, cut and paste, first page, toddler preschool\n",
      "\n",
      "found_phrases []\n",
      "caption greeting card featuring the painting five gold rings by <person>\n",
      "\n"
     ]
    },
    {
     "name": "stderr",
     "output_type": "stream",
     "text": [
      "Code: no number: : 327008it [02:15, 985.73it/s]"
     ]
    },
    {
     "name": "stdout",
     "output_type": "stream",
     "text": [
      "found_phrases [('five', 'bedrooms')]\n",
      "caption this home on deer grass court in the cliffs at walnut cove sold in march 2019 for $3.5 million, the second most expensive sale in the community's history. at 8,100 square feet, it has five bedrooms and 5.5 bathrooms.\n",
      "\n"
     ]
    },
    {
     "data": {
      "text/html": [
       "wandb version 0.17.0 is available!  To upgrade, please run:\n",
       " $ pip install wandb --upgrade"
      ],
      "text/plain": [
       "<IPython.core.display.HTML object>"
      ]
     },
     "metadata": {},
     "output_type": "display_data"
    },
    {
     "data": {
      "text/html": [
       "Tracking run with wandb version 0.16.6"
      ],
      "text/plain": [
       "<IPython.core.display.HTML object>"
      ]
     },
     "metadata": {},
     "output_type": "display_data"
    },
    {
     "data": {
      "text/html": [
       "Run data is saved locally in <code>/Users/susu/Library/CloudStorage/OneDrive-Personal/Wisc/clip_count_continued/CLIP_Counting/wandb/run-20240512_210858-p1jdnk5m</code>"
      ],
      "text/plain": [
       "<IPython.core.display.HTML object>"
      ]
     },
     "metadata": {},
     "output_type": "display_data"
    },
    {
     "data": {
      "text/html": [
       "Syncing run <strong><a href='https://wandb.ai/ruisu/flicker_raw_images/runs/p1jdnk5m' target=\"_blank\">eager-firefly-7649</a></strong> to <a href='https://wandb.ai/ruisu/flicker_raw_images' target=\"_blank\">Weights & Biases</a> (<a href='https://wandb.me/run' target=\"_blank\">docs</a>)<br/>"
      ],
      "text/plain": [
       "<IPython.core.display.HTML object>"
      ]
     },
     "metadata": {},
     "output_type": "display_data"
    },
    {
     "data": {
      "text/html": [
       " View project at <a href='https://wandb.ai/ruisu/flicker_raw_images' target=\"_blank\">https://wandb.ai/ruisu/flicker_raw_images</a>"
      ],
      "text/plain": [
       "<IPython.core.display.HTML object>"
      ]
     },
     "metadata": {},
     "output_type": "display_data"
    },
    {
     "data": {
      "text/html": [
       " View run at <a href='https://wandb.ai/ruisu/flicker_raw_images/runs/p1jdnk5m' target=\"_blank\">https://wandb.ai/ruisu/flicker_raw_images/runs/p1jdnk5m</a>"
      ],
      "text/plain": [
       "<IPython.core.display.HTML object>"
      ]
     },
     "metadata": {},
     "output_type": "display_data"
    },
    {
     "data": {
      "text/html": [
       "<style>\n",
       "    table.wandb td:nth-child(1) { padding: 0 10px; text-align: left ; width: auto;} td:nth-child(2) {text-align: left ; width: 100%}\n",
       "    .wandb-row { display: flex; flex-direction: row; flex-wrap: wrap; justify-content: flex-start; width: 100% }\n",
       "    .wandb-col { display: flex; flex-direction: column; flex-basis: 100%; flex: 1; padding: 10px; }\n",
       "    </style>\n",
       "<div class=\"wandb-row\"><div class=\"wandb-col\"><h3>Run history:</h3><br/><table class=\"wandb\"><tr><td>org_id</td><td>▁</td></tr></table><br/></div><div class=\"wandb-col\"><h3>Run summary:</h3><br/><table class=\"wandb\"><tr><td>caption</td><td>this home on deer gr...</td></tr><tr><td>dataset_name</td><td>conceptual_12m-train...</td></tr><tr><td>number</td><td>five</td></tr><tr><td>object</td><td>bedrooms</td></tr><tr><td>org_id</td><td>327173</td></tr><tr><td>url</td><td>https://www.gannett-...</td></tr></table><br/></div></div>"
      ],
      "text/plain": [
       "<IPython.core.display.HTML object>"
      ]
     },
     "metadata": {},
     "output_type": "display_data"
    },
    {
     "data": {
      "text/html": [
       " View run <strong style=\"color:#cdcd00\">eager-firefly-7649</strong> at: <a href='https://wandb.ai/ruisu/flicker_raw_images/runs/p1jdnk5m' target=\"_blank\">https://wandb.ai/ruisu/flicker_raw_images/runs/p1jdnk5m</a><br/> View project at: <a href='https://wandb.ai/ruisu/flicker_raw_images' target=\"_blank\">https://wandb.ai/ruisu/flicker_raw_images</a><br/>Synced 5 W&B file(s), 1 media file(s), 0 artifact file(s) and 0 other file(s)"
      ],
      "text/plain": [
       "<IPython.core.display.HTML object>"
      ]
     },
     "metadata": {},
     "output_type": "display_data"
    },
    {
     "data": {
      "text/html": [
       "Find logs at: <code>./wandb/run-20240512_210858-p1jdnk5m/logs</code>"
      ],
      "text/plain": [
       "<IPython.core.display.HTML object>"
      ]
     },
     "metadata": {},
     "output_type": "display_data"
    },
    {
     "name": "stderr",
     "output_type": "stream",
     "text": [
      "Code: no number: : 327721it [02:21, 245.40it/s]    "
     ]
    },
    {
     "name": "stdout",
     "output_type": "stream",
     "text": [
      "found_phrases []\n",
      "caption around the world in five signature drinks\n",
      "\n"
     ]
    },
    {
     "name": "stderr",
     "output_type": "stream",
     "text": [
      "Code: no number: : 327928it [02:21, 350.44it/s]"
     ]
    },
    {
     "name": "stdout",
     "output_type": "stream",
     "text": [
      "found_phrases [('five', 'new styles')]\n",
      "caption nike vision launches new men's training sunglass collection. new collection continues the evolution of performance eyewear with five new styles for training and baseball.\n",
      "\n"
     ]
    },
    {
     "data": {
      "text/html": [
       "wandb version 0.17.0 is available!  To upgrade, please run:\n",
       " $ pip install wandb --upgrade"
      ],
      "text/plain": [
       "<IPython.core.display.HTML object>"
      ]
     },
     "metadata": {},
     "output_type": "display_data"
    },
    {
     "data": {
      "text/html": [
       "Tracking run with wandb version 0.16.6"
      ],
      "text/plain": [
       "<IPython.core.display.HTML object>"
      ]
     },
     "metadata": {},
     "output_type": "display_data"
    },
    {
     "data": {
      "text/html": [
       "Run data is saved locally in <code>/Users/susu/Library/CloudStorage/OneDrive-Personal/Wisc/clip_count_continued/CLIP_Counting/wandb/run-20240512_210906-aluaprqk</code>"
      ],
      "text/plain": [
       "<IPython.core.display.HTML object>"
      ]
     },
     "metadata": {},
     "output_type": "display_data"
    },
    {
     "data": {
      "text/html": [
       "Syncing run <strong><a href='https://wandb.ai/ruisu/flicker_raw_images/runs/aluaprqk' target=\"_blank\">splendid-puddle-7650</a></strong> to <a href='https://wandb.ai/ruisu/flicker_raw_images' target=\"_blank\">Weights & Biases</a> (<a href='https://wandb.me/run' target=\"_blank\">docs</a>)<br/>"
      ],
      "text/plain": [
       "<IPython.core.display.HTML object>"
      ]
     },
     "metadata": {},
     "output_type": "display_data"
    },
    {
     "data": {
      "text/html": [
       " View project at <a href='https://wandb.ai/ruisu/flicker_raw_images' target=\"_blank\">https://wandb.ai/ruisu/flicker_raw_images</a>"
      ],
      "text/plain": [
       "<IPython.core.display.HTML object>"
      ]
     },
     "metadata": {},
     "output_type": "display_data"
    },
    {
     "data": {
      "text/html": [
       " View run at <a href='https://wandb.ai/ruisu/flicker_raw_images/runs/aluaprqk' target=\"_blank\">https://wandb.ai/ruisu/flicker_raw_images/runs/aluaprqk</a>"
      ],
      "text/plain": [
       "<IPython.core.display.HTML object>"
      ]
     },
     "metadata": {},
     "output_type": "display_data"
    },
    {
     "data": {
      "text/html": [
       "<style>\n",
       "    table.wandb td:nth-child(1) { padding: 0 10px; text-align: left ; width: auto;} td:nth-child(2) {text-align: left ; width: 100%}\n",
       "    .wandb-row { display: flex; flex-direction: row; flex-wrap: wrap; justify-content: flex-start; width: 100% }\n",
       "    .wandb-col { display: flex; flex-direction: column; flex-basis: 100%; flex: 1; padding: 10px; }\n",
       "    </style>\n",
       "<div class=\"wandb-row\"><div class=\"wandb-col\"><h3>Run history:</h3><br/><table class=\"wandb\"><tr><td>org_id</td><td>▁</td></tr></table><br/></div><div class=\"wandb-col\"><h3>Run summary:</h3><br/><table class=\"wandb\"><tr><td>caption</td><td>nike vision launches...</td></tr><tr><td>dataset_name</td><td>conceptual_12m-train...</td></tr><tr><td>number</td><td>five</td></tr><tr><td>object</td><td>new styles</td></tr><tr><td>org_id</td><td>328035</td></tr><tr><td>url</td><td>https://mma.prnewswi...</td></tr></table><br/></div></div>"
      ],
      "text/plain": [
       "<IPython.core.display.HTML object>"
      ]
     },
     "metadata": {},
     "output_type": "display_data"
    },
    {
     "data": {
      "text/html": [
       " View run <strong style=\"color:#cdcd00\">splendid-puddle-7650</strong> at: <a href='https://wandb.ai/ruisu/flicker_raw_images/runs/aluaprqk' target=\"_blank\">https://wandb.ai/ruisu/flicker_raw_images/runs/aluaprqk</a><br/> View project at: <a href='https://wandb.ai/ruisu/flicker_raw_images' target=\"_blank\">https://wandb.ai/ruisu/flicker_raw_images</a><br/>Synced 5 W&B file(s), 1 media file(s), 0 artifact file(s) and 0 other file(s)"
      ],
      "text/plain": [
       "<IPython.core.display.HTML object>"
      ]
     },
     "metadata": {},
     "output_type": "display_data"
    },
    {
     "data": {
      "text/html": [
       "Find logs at: <code>./wandb/run-20240512_210906-aluaprqk/logs</code>"
      ],
      "text/plain": [
       "<IPython.core.display.HTML object>"
      ]
     },
     "metadata": {},
     "output_type": "display_data"
    },
    {
     "name": "stderr",
     "output_type": "stream",
     "text": [
      "Code: no number: : 328700it [02:29, 194.58it/s]    "
     ]
    },
    {
     "name": "stdout",
     "output_type": "stream",
     "text": [
      "found_phrases []\n",
      "caption the fab five from that's dancing, who will compete this summer at nationals. clockwise: <person>, <person>, <person>, <person> and <person>.\n",
      "\n",
      "found_phrases [('five', 'people families')]\n",
      "caption coronavirus: austria bans all gatherings of more than five people families of 6: child product text shoulder joint toddler human\n",
      "\n"
     ]
    },
    {
     "data": {
      "text/html": [
       "wandb version 0.17.0 is available!  To upgrade, please run:\n",
       " $ pip install wandb --upgrade"
      ],
      "text/plain": [
       "<IPython.core.display.HTML object>"
      ]
     },
     "metadata": {},
     "output_type": "display_data"
    },
    {
     "data": {
      "text/html": [
       "Tracking run with wandb version 0.16.6"
      ],
      "text/plain": [
       "<IPython.core.display.HTML object>"
      ]
     },
     "metadata": {},
     "output_type": "display_data"
    },
    {
     "data": {
      "text/html": [
       "Run data is saved locally in <code>/Users/susu/Library/CloudStorage/OneDrive-Personal/Wisc/clip_count_continued/CLIP_Counting/wandb/run-20240512_210913-dogtt5aw</code>"
      ],
      "text/plain": [
       "<IPython.core.display.HTML object>"
      ]
     },
     "metadata": {},
     "output_type": "display_data"
    },
    {
     "data": {
      "text/html": [
       "Syncing run <strong><a href='https://wandb.ai/ruisu/flicker_raw_images/runs/dogtt5aw' target=\"_blank\">peach-sunset-7651</a></strong> to <a href='https://wandb.ai/ruisu/flicker_raw_images' target=\"_blank\">Weights & Biases</a> (<a href='https://wandb.me/run' target=\"_blank\">docs</a>)<br/>"
      ],
      "text/plain": [
       "<IPython.core.display.HTML object>"
      ]
     },
     "metadata": {},
     "output_type": "display_data"
    },
    {
     "data": {
      "text/html": [
       " View project at <a href='https://wandb.ai/ruisu/flicker_raw_images' target=\"_blank\">https://wandb.ai/ruisu/flicker_raw_images</a>"
      ],
      "text/plain": [
       "<IPython.core.display.HTML object>"
      ]
     },
     "metadata": {},
     "output_type": "display_data"
    },
    {
     "data": {
      "text/html": [
       " View run at <a href='https://wandb.ai/ruisu/flicker_raw_images/runs/dogtt5aw' target=\"_blank\">https://wandb.ai/ruisu/flicker_raw_images/runs/dogtt5aw</a>"
      ],
      "text/plain": [
       "<IPython.core.display.HTML object>"
      ]
     },
     "metadata": {},
     "output_type": "display_data"
    },
    {
     "data": {
      "text/html": [
       "<style>\n",
       "    table.wandb td:nth-child(1) { padding: 0 10px; text-align: left ; width: auto;} td:nth-child(2) {text-align: left ; width: 100%}\n",
       "    .wandb-row { display: flex; flex-direction: row; flex-wrap: wrap; justify-content: flex-start; width: 100% }\n",
       "    .wandb-col { display: flex; flex-direction: column; flex-basis: 100%; flex: 1; padding: 10px; }\n",
       "    </style>\n",
       "<div class=\"wandb-row\"><div class=\"wandb-col\"><h3>Run history:</h3><br/><table class=\"wandb\"><tr><td>org_id</td><td>▁</td></tr></table><br/></div><div class=\"wandb-col\"><h3>Run summary:</h3><br/><table class=\"wandb\"><tr><td>caption</td><td>coronavirus: austria...</td></tr><tr><td>dataset_name</td><td>conceptual_12m-train...</td></tr><tr><td>number</td><td>five</td></tr><tr><td>object</td><td>people families</td></tr><tr><td>org_id</td><td>328862</td></tr><tr><td>url</td><td>https://i.kym-cdn.co...</td></tr></table><br/></div></div>"
      ],
      "text/plain": [
       "<IPython.core.display.HTML object>"
      ]
     },
     "metadata": {},
     "output_type": "display_data"
    },
    {
     "data": {
      "text/html": [
       " View run <strong style=\"color:#cdcd00\">peach-sunset-7651</strong> at: <a href='https://wandb.ai/ruisu/flicker_raw_images/runs/dogtt5aw' target=\"_blank\">https://wandb.ai/ruisu/flicker_raw_images/runs/dogtt5aw</a><br/> View project at: <a href='https://wandb.ai/ruisu/flicker_raw_images' target=\"_blank\">https://wandb.ai/ruisu/flicker_raw_images</a><br/>Synced 5 W&B file(s), 1 media file(s), 0 artifact file(s) and 0 other file(s)"
      ],
      "text/plain": [
       "<IPython.core.display.HTML object>"
      ]
     },
     "metadata": {},
     "output_type": "display_data"
    },
    {
     "data": {
      "text/html": [
       "Find logs at: <code>./wandb/run-20240512_210913-dogtt5aw/logs</code>"
      ],
      "text/plain": [
       "<IPython.core.display.HTML object>"
      ]
     },
     "metadata": {},
     "output_type": "display_data"
    },
    {
     "name": "stderr",
     "output_type": "stream",
     "text": [
      "Code: no number: : 329013it [02:36, 90.34it/s] "
     ]
    },
    {
     "name": "stdout",
     "output_type": "stream",
     "text": [
      "found_phrases [('five', 'kitchens')]\n",
      "caption a tatami-matted hallway connects the main entrance of the <person> home to rooms deeper in the 30-room property. in its heyday, five of the home's 15 bedrooms were given over to brewery workers and their families, while five kitchens served family and workers. bows and other traditional weaponry hang above the sliding doorways.\n",
      "\n"
     ]
    },
    {
     "name": "stderr",
     "output_type": "stream",
     "text": [
      "Code: no number: : 329141it [02:36, 111.97it/s]    "
     ]
    },
    {
     "name": "stdout",
     "output_type": "stream",
     "text": [
      "Failed to process image https://si.wsj.net/public/resources/images/BN-VB162_0915Sa_M_20170911134432.jpg: cannot identify image file <_io.BytesIO object at 0x7fa36a127590>\n",
      "found_phrases [('five', 'roses')]\n",
      "caption five roses pub in rosemont has an old world feel.\n",
      "\n"
     ]
    },
    {
     "name": "stderr",
     "output_type": "stream",
     "text": [
      "Code: no number: : 329451it [02:37, 194.79it/s]    "
     ]
    },
    {
     "name": "stdout",
     "output_type": "stream",
     "text": [
      "Failed to process image https://www.dailyherald.com/storyimage/DA/20120601/entlife/706019989/AR/0/AR-706019989.jpg&updated=201205311552&MaxW=900&maxH=900&noborder&Q=80: cannot identify image file <_io.BytesIO object at 0x7fa36a127e00>\n",
      "found_phrases [('five', 'pillars')]\n",
      "caption the qatar faculty of islamic studies has opened its first mosque in education city. and it looks amazing! a beautiful structure with quranic verses on the ceilings, resting on five pillars (just like the five mosque architecture, religious architecture, sacred architecture, modern architecture, education city, islamic studies, islamic art, beautiful mosques, the beautiful country\n",
      "\n"
     ]
    },
    {
     "data": {
      "text/html": [
       "wandb version 0.17.0 is available!  To upgrade, please run:\n",
       " $ pip install wandb --upgrade"
      ],
      "text/plain": [
       "<IPython.core.display.HTML object>"
      ]
     },
     "metadata": {},
     "output_type": "display_data"
    },
    {
     "data": {
      "text/html": [
       "Tracking run with wandb version 0.16.6"
      ],
      "text/plain": [
       "<IPython.core.display.HTML object>"
      ]
     },
     "metadata": {},
     "output_type": "display_data"
    },
    {
     "data": {
      "text/html": [
       "Run data is saved locally in <code>/Users/susu/Library/CloudStorage/OneDrive-Personal/Wisc/clip_count_continued/CLIP_Counting/wandb/run-20240512_210921-fegf68gf</code>"
      ],
      "text/plain": [
       "<IPython.core.display.HTML object>"
      ]
     },
     "metadata": {},
     "output_type": "display_data"
    },
    {
     "data": {
      "text/html": [
       "Syncing run <strong><a href='https://wandb.ai/ruisu/flicker_raw_images/runs/fegf68gf' target=\"_blank\">curious-surf-7652</a></strong> to <a href='https://wandb.ai/ruisu/flicker_raw_images' target=\"_blank\">Weights & Biases</a> (<a href='https://wandb.me/run' target=\"_blank\">docs</a>)<br/>"
      ],
      "text/plain": [
       "<IPython.core.display.HTML object>"
      ]
     },
     "metadata": {},
     "output_type": "display_data"
    },
    {
     "data": {
      "text/html": [
       " View project at <a href='https://wandb.ai/ruisu/flicker_raw_images' target=\"_blank\">https://wandb.ai/ruisu/flicker_raw_images</a>"
      ],
      "text/plain": [
       "<IPython.core.display.HTML object>"
      ]
     },
     "metadata": {},
     "output_type": "display_data"
    },
    {
     "data": {
      "text/html": [
       " View run at <a href='https://wandb.ai/ruisu/flicker_raw_images/runs/fegf68gf' target=\"_blank\">https://wandb.ai/ruisu/flicker_raw_images/runs/fegf68gf</a>"
      ],
      "text/plain": [
       "<IPython.core.display.HTML object>"
      ]
     },
     "metadata": {},
     "output_type": "display_data"
    },
    {
     "data": {
      "text/html": [
       "<style>\n",
       "    table.wandb td:nth-child(1) { padding: 0 10px; text-align: left ; width: auto;} td:nth-child(2) {text-align: left ; width: 100%}\n",
       "    .wandb-row { display: flex; flex-direction: row; flex-wrap: wrap; justify-content: flex-start; width: 100% }\n",
       "    .wandb-col { display: flex; flex-direction: column; flex-basis: 100%; flex: 1; padding: 10px; }\n",
       "    </style>\n",
       "<div class=\"wandb-row\"><div class=\"wandb-col\"><h3>Run history:</h3><br/><table class=\"wandb\"><tr><td>org_id</td><td>▁</td></tr></table><br/></div><div class=\"wandb-col\"><h3>Run summary:</h3><br/><table class=\"wandb\"><tr><td>caption</td><td>the qatar faculty of...</td></tr><tr><td>dataset_name</td><td>conceptual_12m-train...</td></tr><tr><td>number</td><td>five</td></tr><tr><td>object</td><td>pillars</td></tr><tr><td>org_id</td><td>329493</td></tr><tr><td>url</td><td>https://i.pinimg.com...</td></tr></table><br/></div></div>"
      ],
      "text/plain": [
       "<IPython.core.display.HTML object>"
      ]
     },
     "metadata": {},
     "output_type": "display_data"
    },
    {
     "data": {
      "text/html": [
       " View run <strong style=\"color:#cdcd00\">curious-surf-7652</strong> at: <a href='https://wandb.ai/ruisu/flicker_raw_images/runs/fegf68gf' target=\"_blank\">https://wandb.ai/ruisu/flicker_raw_images/runs/fegf68gf</a><br/> View project at: <a href='https://wandb.ai/ruisu/flicker_raw_images' target=\"_blank\">https://wandb.ai/ruisu/flicker_raw_images</a><br/>Synced 5 W&B file(s), 1 media file(s), 0 artifact file(s) and 0 other file(s)"
      ],
      "text/plain": [
       "<IPython.core.display.HTML object>"
      ]
     },
     "metadata": {},
     "output_type": "display_data"
    },
    {
     "data": {
      "text/html": [
       "Find logs at: <code>./wandb/run-20240512_210921-fegf68gf/logs</code>"
      ],
      "text/plain": [
       "<IPython.core.display.HTML object>"
      ]
     },
     "metadata": {},
     "output_type": "display_data"
    },
    {
     "name": "stderr",
     "output_type": "stream",
     "text": [
      "Code: no number: : 329985it [02:44, 126.64it/s]"
     ]
    },
    {
     "name": "stdout",
     "output_type": "stream",
     "text": [
      "found_phrases [('five', 'rebounds')]\n",
      "caption <person> scored 21 points, grabbed five rebounds, and handed out three assists in the u.s. team's win over the world team in the <person> game over all-star weekend in chicago. ( <person>/ getty images)\n",
      "\n"
     ]
    },
    {
     "name": "stderr",
     "output_type": "stream",
     "text": [
      "Code: no number: : 330340it [02:54, 64.27it/s]     "
     ]
    },
    {
     "name": "stdout",
     "output_type": "stream",
     "text": [
      "Failed to process image https://www.nba.com/cavaliers/sites/cavaliers/files/5_769.jpg: cannot identify image file <_io.BytesIO object at 0x7fa36a1273b0>\n"
     ]
    },
    {
     "name": "stderr",
     "output_type": "stream",
     "text": [
      "Code: no number: : 330879it [02:55, 178.75it/s]"
     ]
    },
    {
     "name": "stdout",
     "output_type": "stream",
     "text": [
      "found_phrases [('five', 'key things')]\n",
      "caption 5 things done differently in healthy relationships. ~ <person> here's what people in healthy relationships do differently. these five key things can make or break a romantic relationship. vintage kiss, <person>, vintage romance, vintage love, vintage photos, <person>, old fashioned love, kiss photo, old love\n",
      "\n"
     ]
    },
    {
     "data": {
      "text/html": [
       "wandb version 0.17.0 is available!  To upgrade, please run:\n",
       " $ pip install wandb --upgrade"
      ],
      "text/plain": [
       "<IPython.core.display.HTML object>"
      ]
     },
     "metadata": {},
     "output_type": "display_data"
    },
    {
     "data": {
      "text/html": [
       "Tracking run with wandb version 0.16.6"
      ],
      "text/plain": [
       "<IPython.core.display.HTML object>"
      ]
     },
     "metadata": {},
     "output_type": "display_data"
    },
    {
     "data": {
      "text/html": [
       "Run data is saved locally in <code>/Users/susu/Library/CloudStorage/OneDrive-Personal/Wisc/clip_count_continued/CLIP_Counting/wandb/run-20240512_210938-xpru62w7</code>"
      ],
      "text/plain": [
       "<IPython.core.display.HTML object>"
      ]
     },
     "metadata": {},
     "output_type": "display_data"
    },
    {
     "data": {
      "text/html": [
       "Syncing run <strong><a href='https://wandb.ai/ruisu/flicker_raw_images/runs/xpru62w7' target=\"_blank\">honest-feather-7653</a></strong> to <a href='https://wandb.ai/ruisu/flicker_raw_images' target=\"_blank\">Weights & Biases</a> (<a href='https://wandb.me/run' target=\"_blank\">docs</a>)<br/>"
      ],
      "text/plain": [
       "<IPython.core.display.HTML object>"
      ]
     },
     "metadata": {},
     "output_type": "display_data"
    },
    {
     "data": {
      "text/html": [
       " View project at <a href='https://wandb.ai/ruisu/flicker_raw_images' target=\"_blank\">https://wandb.ai/ruisu/flicker_raw_images</a>"
      ],
      "text/plain": [
       "<IPython.core.display.HTML object>"
      ]
     },
     "metadata": {},
     "output_type": "display_data"
    },
    {
     "data": {
      "text/html": [
       " View run at <a href='https://wandb.ai/ruisu/flicker_raw_images/runs/xpru62w7' target=\"_blank\">https://wandb.ai/ruisu/flicker_raw_images/runs/xpru62w7</a>"
      ],
      "text/plain": [
       "<IPython.core.display.HTML object>"
      ]
     },
     "metadata": {},
     "output_type": "display_data"
    },
    {
     "data": {
      "text/html": [
       "<style>\n",
       "    table.wandb td:nth-child(1) { padding: 0 10px; text-align: left ; width: auto;} td:nth-child(2) {text-align: left ; width: 100%}\n",
       "    .wandb-row { display: flex; flex-direction: row; flex-wrap: wrap; justify-content: flex-start; width: 100% }\n",
       "    .wandb-col { display: flex; flex-direction: column; flex-basis: 100%; flex: 1; padding: 10px; }\n",
       "    </style>\n",
       "<div class=\"wandb-row\"><div class=\"wandb-col\"><h3>Run history:</h3><br/><table class=\"wandb\"><tr><td>org_id</td><td>▁</td></tr></table><br/></div><div class=\"wandb-col\"><h3>Run summary:</h3><br/><table class=\"wandb\"><tr><td>caption</td><td>5 things done differ...</td></tr><tr><td>dataset_name</td><td>conceptual_12m-train...</td></tr><tr><td>number</td><td>five</td></tr><tr><td>object</td><td>key things</td></tr><tr><td>org_id</td><td>330966</td></tr><tr><td>url</td><td>https://i.pinimg.com...</td></tr></table><br/></div></div>"
      ],
      "text/plain": [
       "<IPython.core.display.HTML object>"
      ]
     },
     "metadata": {},
     "output_type": "display_data"
    },
    {
     "data": {
      "text/html": [
       " View run <strong style=\"color:#cdcd00\">honest-feather-7653</strong> at: <a href='https://wandb.ai/ruisu/flicker_raw_images/runs/xpru62w7' target=\"_blank\">https://wandb.ai/ruisu/flicker_raw_images/runs/xpru62w7</a><br/> View project at: <a href='https://wandb.ai/ruisu/flicker_raw_images' target=\"_blank\">https://wandb.ai/ruisu/flicker_raw_images</a><br/>Synced 5 W&B file(s), 1 media file(s), 0 artifact file(s) and 0 other file(s)"
      ],
      "text/plain": [
       "<IPython.core.display.HTML object>"
      ]
     },
     "metadata": {},
     "output_type": "display_data"
    },
    {
     "data": {
      "text/html": [
       "Find logs at: <code>./wandb/run-20240512_210938-xpru62w7/logs</code>"
      ],
      "text/plain": [
       "<IPython.core.display.HTML object>"
      ]
     },
     "metadata": {},
     "output_type": "display_data"
    },
    {
     "name": "stderr",
     "output_type": "stream",
     "text": [
      "Code: no number: : 331464it [03:01, 140.20it/s]   "
     ]
    },
    {
     "name": "stdout",
     "output_type": "stream",
     "text": [
      "found_phrases []\n",
      "caption are you making these five food photography mistakes? - types of lighting\n",
      "\n",
      "found_phrases []\n",
      "caption this is a collection of vintage brass serving utensils. the five piece set includes a spatula, a skimmer spoon, a fork, a...\n",
      "\n",
      "found_phrases [('five', 'people')]\n",
      "caption unchained melody, band on stage, a view of five people playing, guitar, cajon, tambourine, and bass.\n",
      "\n"
     ]
    },
    {
     "data": {
      "text/html": [
       "wandb version 0.17.0 is available!  To upgrade, please run:\n",
       " $ pip install wandb --upgrade"
      ],
      "text/plain": [
       "<IPython.core.display.HTML object>"
      ]
     },
     "metadata": {},
     "output_type": "display_data"
    },
    {
     "data": {
      "text/html": [
       "Tracking run with wandb version 0.16.6"
      ],
      "text/plain": [
       "<IPython.core.display.HTML object>"
      ]
     },
     "metadata": {},
     "output_type": "display_data"
    },
    {
     "data": {
      "text/html": [
       "Run data is saved locally in <code>/Users/susu/Library/CloudStorage/OneDrive-Personal/Wisc/clip_count_continued/CLIP_Counting/wandb/run-20240512_210946-mcfm0xgr</code>"
      ],
      "text/plain": [
       "<IPython.core.display.HTML object>"
      ]
     },
     "metadata": {},
     "output_type": "display_data"
    },
    {
     "data": {
      "text/html": [
       "Syncing run <strong><a href='https://wandb.ai/ruisu/flicker_raw_images/runs/mcfm0xgr' target=\"_blank\">feasible-universe-7654</a></strong> to <a href='https://wandb.ai/ruisu/flicker_raw_images' target=\"_blank\">Weights & Biases</a> (<a href='https://wandb.me/run' target=\"_blank\">docs</a>)<br/>"
      ],
      "text/plain": [
       "<IPython.core.display.HTML object>"
      ]
     },
     "metadata": {},
     "output_type": "display_data"
    },
    {
     "data": {
      "text/html": [
       " View project at <a href='https://wandb.ai/ruisu/flicker_raw_images' target=\"_blank\">https://wandb.ai/ruisu/flicker_raw_images</a>"
      ],
      "text/plain": [
       "<IPython.core.display.HTML object>"
      ]
     },
     "metadata": {},
     "output_type": "display_data"
    },
    {
     "data": {
      "text/html": [
       " View run at <a href='https://wandb.ai/ruisu/flicker_raw_images/runs/mcfm0xgr' target=\"_blank\">https://wandb.ai/ruisu/flicker_raw_images/runs/mcfm0xgr</a>"
      ],
      "text/plain": [
       "<IPython.core.display.HTML object>"
      ]
     },
     "metadata": {},
     "output_type": "display_data"
    },
    {
     "data": {
      "text/html": [
       "<style>\n",
       "    table.wandb td:nth-child(1) { padding: 0 10px; text-align: left ; width: auto;} td:nth-child(2) {text-align: left ; width: 100%}\n",
       "    .wandb-row { display: flex; flex-direction: row; flex-wrap: wrap; justify-content: flex-start; width: 100% }\n",
       "    .wandb-col { display: flex; flex-direction: column; flex-basis: 100%; flex: 1; padding: 10px; }\n",
       "    </style>\n",
       "<div class=\"wandb-row\"><div class=\"wandb-col\"><h3>Run history:</h3><br/><table class=\"wandb\"><tr><td>org_id</td><td>▁</td></tr></table><br/></div><div class=\"wandb-col\"><h3>Run summary:</h3><br/><table class=\"wandb\"><tr><td>caption</td><td>unchained melody, ba...</td></tr><tr><td>dataset_name</td><td>conceptual_12m-train...</td></tr><tr><td>number</td><td>five</td></tr><tr><td>object</td><td>people</td></tr><tr><td>org_id</td><td>331584</td></tr><tr><td>url</td><td>https://www.look-uk....</td></tr></table><br/></div></div>"
      ],
      "text/plain": [
       "<IPython.core.display.HTML object>"
      ]
     },
     "metadata": {},
     "output_type": "display_data"
    },
    {
     "data": {
      "text/html": [
       " View run <strong style=\"color:#cdcd00\">feasible-universe-7654</strong> at: <a href='https://wandb.ai/ruisu/flicker_raw_images/runs/mcfm0xgr' target=\"_blank\">https://wandb.ai/ruisu/flicker_raw_images/runs/mcfm0xgr</a><br/> View project at: <a href='https://wandb.ai/ruisu/flicker_raw_images' target=\"_blank\">https://wandb.ai/ruisu/flicker_raw_images</a><br/>Synced 5 W&B file(s), 1 media file(s), 0 artifact file(s) and 0 other file(s)"
      ],
      "text/plain": [
       "<IPython.core.display.HTML object>"
      ]
     },
     "metadata": {},
     "output_type": "display_data"
    },
    {
     "data": {
      "text/html": [
       "Find logs at: <code>./wandb/run-20240512_210946-mcfm0xgr/logs</code>"
      ],
      "text/plain": [
       "<IPython.core.display.HTML object>"
      ]
     },
     "metadata": {},
     "output_type": "display_data"
    },
    {
     "name": "stderr",
     "output_type": "stream",
     "text": [
      "Code: no number: : 331626it [03:09, 56.65it/s] "
     ]
    },
    {
     "name": "stdout",
     "output_type": "stream",
     "text": [
      "found_phrases [('five', 'parts'), ('five', 'text-based sculptures')]\n",
      "caption <person>, an artwork in five parts text-based sculptures in four locations\n",
      "\n"
     ]
    },
    {
     "data": {
      "text/html": [
       "wandb version 0.17.0 is available!  To upgrade, please run:\n",
       " $ pip install wandb --upgrade"
      ],
      "text/plain": [
       "<IPython.core.display.HTML object>"
      ]
     },
     "metadata": {},
     "output_type": "display_data"
    },
    {
     "data": {
      "text/html": [
       "Tracking run with wandb version 0.16.6"
      ],
      "text/plain": [
       "<IPython.core.display.HTML object>"
      ]
     },
     "metadata": {},
     "output_type": "display_data"
    },
    {
     "data": {
      "text/html": [
       "Run data is saved locally in <code>/Users/susu/Library/CloudStorage/OneDrive-Personal/Wisc/clip_count_continued/CLIP_Counting/wandb/run-20240512_210953-buntgse8</code>"
      ],
      "text/plain": [
       "<IPython.core.display.HTML object>"
      ]
     },
     "metadata": {},
     "output_type": "display_data"
    },
    {
     "data": {
      "text/html": [
       "Syncing run <strong><a href='https://wandb.ai/ruisu/flicker_raw_images/runs/buntgse8' target=\"_blank\">tough-bird-7655</a></strong> to <a href='https://wandb.ai/ruisu/flicker_raw_images' target=\"_blank\">Weights & Biases</a> (<a href='https://wandb.me/run' target=\"_blank\">docs</a>)<br/>"
      ],
      "text/plain": [
       "<IPython.core.display.HTML object>"
      ]
     },
     "metadata": {},
     "output_type": "display_data"
    },
    {
     "data": {
      "text/html": [
       " View project at <a href='https://wandb.ai/ruisu/flicker_raw_images' target=\"_blank\">https://wandb.ai/ruisu/flicker_raw_images</a>"
      ],
      "text/plain": [
       "<IPython.core.display.HTML object>"
      ]
     },
     "metadata": {},
     "output_type": "display_data"
    },
    {
     "data": {
      "text/html": [
       " View run at <a href='https://wandb.ai/ruisu/flicker_raw_images/runs/buntgse8' target=\"_blank\">https://wandb.ai/ruisu/flicker_raw_images/runs/buntgse8</a>"
      ],
      "text/plain": [
       "<IPython.core.display.HTML object>"
      ]
     },
     "metadata": {},
     "output_type": "display_data"
    },
    {
     "data": {
      "text/html": [
       "<style>\n",
       "    table.wandb td:nth-child(1) { padding: 0 10px; text-align: left ; width: auto;} td:nth-child(2) {text-align: left ; width: 100%}\n",
       "    .wandb-row { display: flex; flex-direction: row; flex-wrap: wrap; justify-content: flex-start; width: 100% }\n",
       "    .wandb-col { display: flex; flex-direction: column; flex-basis: 100%; flex: 1; padding: 10px; }\n",
       "    </style>\n",
       "<div class=\"wandb-row\"><div class=\"wandb-col\"><h3>Run history:</h3><br/><table class=\"wandb\"><tr><td>org_id</td><td>▁</td></tr></table><br/></div><div class=\"wandb-col\"><h3>Run summary:</h3><br/><table class=\"wandb\"><tr><td>caption</td><td><person>, an artwork...</td></tr><tr><td>dataset_name</td><td>conceptual_12m-train...</td></tr><tr><td>number</td><td>five</td></tr><tr><td>object</td><td>parts</td></tr><tr><td>org_id</td><td>331707</td></tr><tr><td>url</td><td>https://plugin.org/w...</td></tr></table><br/></div></div>"
      ],
      "text/plain": [
       "<IPython.core.display.HTML object>"
      ]
     },
     "metadata": {},
     "output_type": "display_data"
    },
    {
     "data": {
      "text/html": [
       " View run <strong style=\"color:#cdcd00\">tough-bird-7655</strong> at: <a href='https://wandb.ai/ruisu/flicker_raw_images/runs/buntgse8' target=\"_blank\">https://wandb.ai/ruisu/flicker_raw_images/runs/buntgse8</a><br/> View project at: <a href='https://wandb.ai/ruisu/flicker_raw_images' target=\"_blank\">https://wandb.ai/ruisu/flicker_raw_images</a><br/>Synced 5 W&B file(s), 1 media file(s), 0 artifact file(s) and 0 other file(s)"
      ],
      "text/plain": [
       "<IPython.core.display.HTML object>"
      ]
     },
     "metadata": {},
     "output_type": "display_data"
    },
    {
     "data": {
      "text/html": [
       "Find logs at: <code>./wandb/run-20240512_210953-buntgse8/logs</code>"
      ],
      "text/plain": [
       "<IPython.core.display.HTML object>"
      ]
     },
     "metadata": {},
     "output_type": "display_data"
    },
    {
     "name": "stderr",
     "output_type": "stream",
     "text": [
      "Code: no number: : 332184it [03:16, 89.54it/s]"
     ]
    },
    {
     "name": "stdout",
     "output_type": "stream",
     "text": [
      "found_phrases [('five', 'variants'), ('five', 'variants')]\n",
      "caption five variants of christmas tree on white background. five variants of lush and green pine trees on a white background royalty free illustration\n",
      "\n"
     ]
    },
    {
     "data": {
      "text/html": [
       "wandb version 0.17.0 is available!  To upgrade, please run:\n",
       " $ pip install wandb --upgrade"
      ],
      "text/plain": [
       "<IPython.core.display.HTML object>"
      ]
     },
     "metadata": {},
     "output_type": "display_data"
    },
    {
     "data": {
      "text/html": [
       "Tracking run with wandb version 0.16.6"
      ],
      "text/plain": [
       "<IPython.core.display.HTML object>"
      ]
     },
     "metadata": {},
     "output_type": "display_data"
    },
    {
     "data": {
      "text/html": [
       "Run data is saved locally in <code>/Users/susu/Library/CloudStorage/OneDrive-Personal/Wisc/clip_count_continued/CLIP_Counting/wandb/run-20240512_211000-5gljfvaw</code>"
      ],
      "text/plain": [
       "<IPython.core.display.HTML object>"
      ]
     },
     "metadata": {},
     "output_type": "display_data"
    },
    {
     "data": {
      "text/html": [
       "Syncing run <strong><a href='https://wandb.ai/ruisu/flicker_raw_images/runs/5gljfvaw' target=\"_blank\">laced-breeze-7656</a></strong> to <a href='https://wandb.ai/ruisu/flicker_raw_images' target=\"_blank\">Weights & Biases</a> (<a href='https://wandb.me/run' target=\"_blank\">docs</a>)<br/>"
      ],
      "text/plain": [
       "<IPython.core.display.HTML object>"
      ]
     },
     "metadata": {},
     "output_type": "display_data"
    },
    {
     "data": {
      "text/html": [
       " View project at <a href='https://wandb.ai/ruisu/flicker_raw_images' target=\"_blank\">https://wandb.ai/ruisu/flicker_raw_images</a>"
      ],
      "text/plain": [
       "<IPython.core.display.HTML object>"
      ]
     },
     "metadata": {},
     "output_type": "display_data"
    },
    {
     "data": {
      "text/html": [
       " View run at <a href='https://wandb.ai/ruisu/flicker_raw_images/runs/5gljfvaw' target=\"_blank\">https://wandb.ai/ruisu/flicker_raw_images/runs/5gljfvaw</a>"
      ],
      "text/plain": [
       "<IPython.core.display.HTML object>"
      ]
     },
     "metadata": {},
     "output_type": "display_data"
    },
    {
     "data": {
      "text/html": [
       "<style>\n",
       "    table.wandb td:nth-child(1) { padding: 0 10px; text-align: left ; width: auto;} td:nth-child(2) {text-align: left ; width: 100%}\n",
       "    .wandb-row { display: flex; flex-direction: row; flex-wrap: wrap; justify-content: flex-start; width: 100% }\n",
       "    .wandb-col { display: flex; flex-direction: column; flex-basis: 100%; flex: 1; padding: 10px; }\n",
       "    </style>\n",
       "<div class=\"wandb-row\"><div class=\"wandb-col\"><h3>Run history:</h3><br/><table class=\"wandb\"><tr><td>org_id</td><td>▁</td></tr></table><br/></div><div class=\"wandb-col\"><h3>Run summary:</h3><br/><table class=\"wandb\"><tr><td>caption</td><td>five variants of chr...</td></tr><tr><td>dataset_name</td><td>conceptual_12m-train...</td></tr><tr><td>number</td><td>five</td></tr><tr><td>object</td><td>variants</td></tr><tr><td>org_id</td><td>332334</td></tr><tr><td>url</td><td>https://thumbs.dream...</td></tr></table><br/></div></div>"
      ],
      "text/plain": [
       "<IPython.core.display.HTML object>"
      ]
     },
     "metadata": {},
     "output_type": "display_data"
    },
    {
     "data": {
      "text/html": [
       " View run <strong style=\"color:#cdcd00\">laced-breeze-7656</strong> at: <a href='https://wandb.ai/ruisu/flicker_raw_images/runs/5gljfvaw' target=\"_blank\">https://wandb.ai/ruisu/flicker_raw_images/runs/5gljfvaw</a><br/> View project at: <a href='https://wandb.ai/ruisu/flicker_raw_images' target=\"_blank\">https://wandb.ai/ruisu/flicker_raw_images</a><br/>Synced 5 W&B file(s), 1 media file(s), 0 artifact file(s) and 0 other file(s)"
      ],
      "text/plain": [
       "<IPython.core.display.HTML object>"
      ]
     },
     "metadata": {},
     "output_type": "display_data"
    },
    {
     "data": {
      "text/html": [
       "Find logs at: <code>./wandb/run-20240512_211000-5gljfvaw/logs</code>"
      ],
      "text/plain": [
       "<IPython.core.display.HTML object>"
      ]
     },
     "metadata": {},
     "output_type": "display_data"
    },
    {
     "name": "stderr",
     "output_type": "stream",
     "text": [
      "Code: no number: : 332696it [03:23, 100.58it/s]"
     ]
    },
    {
     "name": "stdout",
     "output_type": "stream",
     "text": [
      "found_phrases [('five', 'officials'), ('five', 'lords')]\n",
      "caption altar to the five officials worshipped inside the temple of the five lords in haikou, hainan.\n",
      "\n"
     ]
    },
    {
     "data": {
      "text/html": [
       "wandb version 0.17.0 is available!  To upgrade, please run:\n",
       " $ pip install wandb --upgrade"
      ],
      "text/plain": [
       "<IPython.core.display.HTML object>"
      ]
     },
     "metadata": {},
     "output_type": "display_data"
    },
    {
     "data": {
      "text/html": [
       "Tracking run with wandb version 0.16.6"
      ],
      "text/plain": [
       "<IPython.core.display.HTML object>"
      ]
     },
     "metadata": {},
     "output_type": "display_data"
    },
    {
     "data": {
      "text/html": [
       "Run data is saved locally in <code>/Users/susu/Library/CloudStorage/OneDrive-Personal/Wisc/clip_count_continued/CLIP_Counting/wandb/run-20240512_211006-x8c15znu</code>"
      ],
      "text/plain": [
       "<IPython.core.display.HTML object>"
      ]
     },
     "metadata": {},
     "output_type": "display_data"
    },
    {
     "data": {
      "text/html": [
       "Syncing run <strong><a href='https://wandb.ai/ruisu/flicker_raw_images/runs/x8c15znu' target=\"_blank\">stilted-jazz-7657</a></strong> to <a href='https://wandb.ai/ruisu/flicker_raw_images' target=\"_blank\">Weights & Biases</a> (<a href='https://wandb.me/run' target=\"_blank\">docs</a>)<br/>"
      ],
      "text/plain": [
       "<IPython.core.display.HTML object>"
      ]
     },
     "metadata": {},
     "output_type": "display_data"
    },
    {
     "data": {
      "text/html": [
       " View project at <a href='https://wandb.ai/ruisu/flicker_raw_images' target=\"_blank\">https://wandb.ai/ruisu/flicker_raw_images</a>"
      ],
      "text/plain": [
       "<IPython.core.display.HTML object>"
      ]
     },
     "metadata": {},
     "output_type": "display_data"
    },
    {
     "data": {
      "text/html": [
       " View run at <a href='https://wandb.ai/ruisu/flicker_raw_images/runs/x8c15znu' target=\"_blank\">https://wandb.ai/ruisu/flicker_raw_images/runs/x8c15znu</a>"
      ],
      "text/plain": [
       "<IPython.core.display.HTML object>"
      ]
     },
     "metadata": {},
     "output_type": "display_data"
    },
    {
     "data": {
      "text/html": [
       "<style>\n",
       "    table.wandb td:nth-child(1) { padding: 0 10px; text-align: left ; width: auto;} td:nth-child(2) {text-align: left ; width: 100%}\n",
       "    .wandb-row { display: flex; flex-direction: row; flex-wrap: wrap; justify-content: flex-start; width: 100% }\n",
       "    .wandb-col { display: flex; flex-direction: column; flex-basis: 100%; flex: 1; padding: 10px; }\n",
       "    </style>\n",
       "<div class=\"wandb-row\"><div class=\"wandb-col\"><h3>Run history:</h3><br/><table class=\"wandb\"><tr><td>org_id</td><td>▁</td></tr></table><br/></div><div class=\"wandb-col\"><h3>Run summary:</h3><br/><table class=\"wandb\"><tr><td>caption</td><td>altar to the five of...</td></tr><tr><td>dataset_name</td><td>conceptual_12m-train...</td></tr><tr><td>number</td><td>five</td></tr><tr><td>object</td><td>officials</td></tr><tr><td>org_id</td><td>332825</td></tr><tr><td>url</td><td>https://www.ancient-...</td></tr></table><br/></div></div>"
      ],
      "text/plain": [
       "<IPython.core.display.HTML object>"
      ]
     },
     "metadata": {},
     "output_type": "display_data"
    },
    {
     "data": {
      "text/html": [
       " View run <strong style=\"color:#cdcd00\">stilted-jazz-7657</strong> at: <a href='https://wandb.ai/ruisu/flicker_raw_images/runs/x8c15znu' target=\"_blank\">https://wandb.ai/ruisu/flicker_raw_images/runs/x8c15znu</a><br/> View project at: <a href='https://wandb.ai/ruisu/flicker_raw_images' target=\"_blank\">https://wandb.ai/ruisu/flicker_raw_images</a><br/>Synced 5 W&B file(s), 1 media file(s), 0 artifact file(s) and 0 other file(s)"
      ],
      "text/plain": [
       "<IPython.core.display.HTML object>"
      ]
     },
     "metadata": {},
     "output_type": "display_data"
    },
    {
     "data": {
      "text/html": [
       "Find logs at: <code>./wandb/run-20240512_211006-x8c15znu/logs</code>"
      ],
      "text/plain": [
       "<IPython.core.display.HTML object>"
      ]
     },
     "metadata": {},
     "output_type": "display_data"
    },
    {
     "name": "stderr",
     "output_type": "stream",
     "text": [
      "Code: no number: : 333171it [03:29, 103.41it/s]    "
     ]
    },
    {
     "name": "stdout",
     "output_type": "stream",
     "text": [
      "found_phrases [('five', 'towns')]\n",
      "caption <person>, <person>, italy - i think this is the most beautiful of the 5 towns of cinque terre. hiking the trail connecting the five towns was our favorite way of exploring this region.\n",
      "\n",
      "Failed to process image https://media2.trover.com/T/53dc91543230437cee002199/fixedw_large_4x.jpg: HTTPSConnectionPool(host='media2.trover.com', port=443): Max retries exceeded with url: /T/53dc91543230437cee002199/fixedw_large_4x.jpg (Caused by NameResolutionError(\"<urllib3.connection.HTTPSConnection object at 0x7fa3798215b0>: Failed to resolve 'media2.trover.com' ([Errno 8] nodename nor servname provided, or not known)\"))\n"
     ]
    },
    {
     "name": "stderr",
     "output_type": "stream",
     "text": [
      "Code: no number: : 333940it [03:30, 388.45it/s]    "
     ]
    },
    {
     "name": "stdout",
     "output_type": "stream",
     "text": [
      "found_phrases [('five', 'wickets')]\n",
      "caption off-spinner <person> took five wickets in a practice match to claim a place in the red force squad.\n",
      "\n",
      "Failed to process image http://ttcb.co.tt/redforce/wp-content/uploads/2015/10/IMG_7218-1024x683.jpg: HTTPConnectionPool(host='ttcb.co.tt', port=80): Max retries exceeded with url: /redforce/wp-content/uploads/2015/10/IMG_7218-1024x683.jpg (Caused by NameResolutionError(\"<urllib3.connection.HTTPConnection object at 0x7fa36a0cd610>: Failed to resolve 'ttcb.co.tt' ([Errno 8] nodename nor servname provided, or not known)\"))\n"
     ]
    },
    {
     "name": "stderr",
     "output_type": "stream",
     "text": [
      "Code: no number: : 334298it [03:30, 574.53it/s]"
     ]
    },
    {
     "name": "stdout",
     "output_type": "stream",
     "text": [
      "found_phrases [('five', 'original fireplaces')]\n",
      "caption a cosy spot at one of five original fireplaces moved with the heritage home that also includes six bedrooms.\n",
      "\n"
     ]
    },
    {
     "name": "stderr",
     "output_type": "stream",
     "text": [
      "Code: no number: : 334603it [03:31, 650.93it/s]    "
     ]
    },
    {
     "name": "stdout",
     "output_type": "stream",
     "text": [
      "Failed to process image https://images.thestar.com/NdSBMb2PVtYN0bejAzMbt2FVy5k=/1086x724/smart/filters:cb(2700061000)/https://www.thestar.com/content/dam/thestar/life/homes/2017/04/15/relocated-heritage-house-is-their-dream-home/gallery-fireplace.jpg: cannot identify image file <_io.BytesIO object at 0x7fa31803fea0>\n",
      "found_phrases []\n",
      "caption alternate view of some people just need a high five in the face with a chair canvas print\n",
      "\n"
     ]
    },
    {
     "name": "stderr",
     "output_type": "stream",
     "text": [
      "Code: no number: : 334845it [03:31, 904.96it/s]    "
     ]
    },
    {
     "name": "stdout",
     "output_type": "stream",
     "text": [
      "found_phrases []\n",
      "caption literally in the middle of this ``nowhere'' is the first, biggest and dearest project of the rafa nadal foundation -- the rdt-rafa nadal educational & sports school. in his wish to ``provide an opportunity for children and adolescents with disabilities and from underprivileged surroundings (in the words of the foundation's motto)'', <person> has pumped in millions of dollars to build five state-of-the-art and flood-lit clay courts, encased within the low platform of a school corridor, in anantapur. then three years ago, he personally arrived to inaugurate it. (ie photo: <person>)\n",
      "\n",
      "found_phrases [('five', 'cars')]\n",
      "caption maruti cars become the top five cars sold in india -- here are the top 5 maruti models\n",
      "\n"
     ]
    },
    {
     "data": {
      "text/html": [
       "wandb version 0.17.0 is available!  To upgrade, please run:\n",
       " $ pip install wandb --upgrade"
      ],
      "text/plain": [
       "<IPython.core.display.HTML object>"
      ]
     },
     "metadata": {},
     "output_type": "display_data"
    },
    {
     "data": {
      "text/html": [
       "Tracking run with wandb version 0.16.6"
      ],
      "text/plain": [
       "<IPython.core.display.HTML object>"
      ]
     },
     "metadata": {},
     "output_type": "display_data"
    },
    {
     "data": {
      "text/html": [
       "Run data is saved locally in <code>/Users/susu/Library/CloudStorage/OneDrive-Personal/Wisc/clip_count_continued/CLIP_Counting/wandb/run-20240512_211014-t9pe4tq8</code>"
      ],
      "text/plain": [
       "<IPython.core.display.HTML object>"
      ]
     },
     "metadata": {},
     "output_type": "display_data"
    },
    {
     "data": {
      "text/html": [
       "Syncing run <strong><a href='https://wandb.ai/ruisu/flicker_raw_images/runs/t9pe4tq8' target=\"_blank\">radiant-field-7658</a></strong> to <a href='https://wandb.ai/ruisu/flicker_raw_images' target=\"_blank\">Weights & Biases</a> (<a href='https://wandb.me/run' target=\"_blank\">docs</a>)<br/>"
      ],
      "text/plain": [
       "<IPython.core.display.HTML object>"
      ]
     },
     "metadata": {},
     "output_type": "display_data"
    },
    {
     "data": {
      "text/html": [
       " View project at <a href='https://wandb.ai/ruisu/flicker_raw_images' target=\"_blank\">https://wandb.ai/ruisu/flicker_raw_images</a>"
      ],
      "text/plain": [
       "<IPython.core.display.HTML object>"
      ]
     },
     "metadata": {},
     "output_type": "display_data"
    },
    {
     "data": {
      "text/html": [
       " View run at <a href='https://wandb.ai/ruisu/flicker_raw_images/runs/t9pe4tq8' target=\"_blank\">https://wandb.ai/ruisu/flicker_raw_images/runs/t9pe4tq8</a>"
      ],
      "text/plain": [
       "<IPython.core.display.HTML object>"
      ]
     },
     "metadata": {},
     "output_type": "display_data"
    },
    {
     "data": {
      "text/html": [
       "<style>\n",
       "    table.wandb td:nth-child(1) { padding: 0 10px; text-align: left ; width: auto;} td:nth-child(2) {text-align: left ; width: 100%}\n",
       "    .wandb-row { display: flex; flex-direction: row; flex-wrap: wrap; justify-content: flex-start; width: 100% }\n",
       "    .wandb-col { display: flex; flex-direction: column; flex-basis: 100%; flex: 1; padding: 10px; }\n",
       "    </style>\n",
       "<div class=\"wandb-row\"><div class=\"wandb-col\"><h3>Run history:</h3><br/><table class=\"wandb\"><tr><td>org_id</td><td>▁</td></tr></table><br/></div><div class=\"wandb-col\"><h3>Run summary:</h3><br/><table class=\"wandb\"><tr><td>caption</td><td>maruti cars become t...</td></tr><tr><td>dataset_name</td><td>conceptual_12m-train...</td></tr><tr><td>number</td><td>five</td></tr><tr><td>object</td><td>cars</td></tr><tr><td>org_id</td><td>334949</td></tr><tr><td>url</td><td>https://www.drivespa...</td></tr></table><br/></div></div>"
      ],
      "text/plain": [
       "<IPython.core.display.HTML object>"
      ]
     },
     "metadata": {},
     "output_type": "display_data"
    },
    {
     "data": {
      "text/html": [
       " View run <strong style=\"color:#cdcd00\">radiant-field-7658</strong> at: <a href='https://wandb.ai/ruisu/flicker_raw_images/runs/t9pe4tq8' target=\"_blank\">https://wandb.ai/ruisu/flicker_raw_images/runs/t9pe4tq8</a><br/> View project at: <a href='https://wandb.ai/ruisu/flicker_raw_images' target=\"_blank\">https://wandb.ai/ruisu/flicker_raw_images</a><br/>Synced 5 W&B file(s), 1 media file(s), 0 artifact file(s) and 0 other file(s)"
      ],
      "text/plain": [
       "<IPython.core.display.HTML object>"
      ]
     },
     "metadata": {},
     "output_type": "display_data"
    },
    {
     "data": {
      "text/html": [
       "Find logs at: <code>./wandb/run-20240512_211014-t9pe4tq8/logs</code>"
      ],
      "text/plain": [
       "<IPython.core.display.HTML object>"
      ]
     },
     "metadata": {},
     "output_type": "display_data"
    },
    {
     "name": "stderr",
     "output_type": "stream",
     "text": [
      "Code: no number: : 335005it [03:37, 93.52it/s] "
     ]
    },
    {
     "name": "stdout",
     "output_type": "stream",
     "text": [
      "found_phrases [('five', 'miles')]\n",
      "caption <person> and <person>, both 13, plan to paddle board five miles across straits of mackinac saturday, april 27, 2019, to raise awareness to great lakes preservation.\n",
      "\n"
     ]
    },
    {
     "data": {
      "text/html": [
       "wandb version 0.17.0 is available!  To upgrade, please run:\n",
       " $ pip install wandb --upgrade"
      ],
      "text/plain": [
       "<IPython.core.display.HTML object>"
      ]
     },
     "metadata": {},
     "output_type": "display_data"
    },
    {
     "data": {
      "text/html": [
       "Tracking run with wandb version 0.16.6"
      ],
      "text/plain": [
       "<IPython.core.display.HTML object>"
      ]
     },
     "metadata": {},
     "output_type": "display_data"
    },
    {
     "data": {
      "text/html": [
       "Run data is saved locally in <code>/Users/susu/Library/CloudStorage/OneDrive-Personal/Wisc/clip_count_continued/CLIP_Counting/wandb/run-20240512_211020-ipzwtkx1</code>"
      ],
      "text/plain": [
       "<IPython.core.display.HTML object>"
      ]
     },
     "metadata": {},
     "output_type": "display_data"
    },
    {
     "data": {
      "text/html": [
       "Syncing run <strong><a href='https://wandb.ai/ruisu/flicker_raw_images/runs/ipzwtkx1' target=\"_blank\">desert-sky-7659</a></strong> to <a href='https://wandb.ai/ruisu/flicker_raw_images' target=\"_blank\">Weights & Biases</a> (<a href='https://wandb.me/run' target=\"_blank\">docs</a>)<br/>"
      ],
      "text/plain": [
       "<IPython.core.display.HTML object>"
      ]
     },
     "metadata": {},
     "output_type": "display_data"
    },
    {
     "data": {
      "text/html": [
       " View project at <a href='https://wandb.ai/ruisu/flicker_raw_images' target=\"_blank\">https://wandb.ai/ruisu/flicker_raw_images</a>"
      ],
      "text/plain": [
       "<IPython.core.display.HTML object>"
      ]
     },
     "metadata": {},
     "output_type": "display_data"
    },
    {
     "data": {
      "text/html": [
       " View run at <a href='https://wandb.ai/ruisu/flicker_raw_images/runs/ipzwtkx1' target=\"_blank\">https://wandb.ai/ruisu/flicker_raw_images/runs/ipzwtkx1</a>"
      ],
      "text/plain": [
       "<IPython.core.display.HTML object>"
      ]
     },
     "metadata": {},
     "output_type": "display_data"
    },
    {
     "data": {
      "text/html": [
       "<style>\n",
       "    table.wandb td:nth-child(1) { padding: 0 10px; text-align: left ; width: auto;} td:nth-child(2) {text-align: left ; width: 100%}\n",
       "    .wandb-row { display: flex; flex-direction: row; flex-wrap: wrap; justify-content: flex-start; width: 100% }\n",
       "    .wandb-col { display: flex; flex-direction: column; flex-basis: 100%; flex: 1; padding: 10px; }\n",
       "    </style>\n",
       "<div class=\"wandb-row\"><div class=\"wandb-col\"><h3>Run history:</h3><br/><table class=\"wandb\"><tr><td>org_id</td><td>▁</td></tr></table><br/></div><div class=\"wandb-col\"><h3>Run summary:</h3><br/><table class=\"wandb\"><tr><td>caption</td><td><person> and <person...</td></tr><tr><td>dataset_name</td><td>conceptual_12m-train...</td></tr><tr><td>number</td><td>five</td></tr><tr><td>object</td><td>miles</td></tr><tr><td>org_id</td><td>335129</td></tr><tr><td>url</td><td>https://www.gannett-...</td></tr></table><br/></div></div>"
      ],
      "text/plain": [
       "<IPython.core.display.HTML object>"
      ]
     },
     "metadata": {},
     "output_type": "display_data"
    },
    {
     "data": {
      "text/html": [
       " View run <strong style=\"color:#cdcd00\">desert-sky-7659</strong> at: <a href='https://wandb.ai/ruisu/flicker_raw_images/runs/ipzwtkx1' target=\"_blank\">https://wandb.ai/ruisu/flicker_raw_images/runs/ipzwtkx1</a><br/> View project at: <a href='https://wandb.ai/ruisu/flicker_raw_images' target=\"_blank\">https://wandb.ai/ruisu/flicker_raw_images</a><br/>Synced 5 W&B file(s), 1 media file(s), 0 artifact file(s) and 0 other file(s)"
      ],
      "text/plain": [
       "<IPython.core.display.HTML object>"
      ]
     },
     "metadata": {},
     "output_type": "display_data"
    },
    {
     "data": {
      "text/html": [
       "Find logs at: <code>./wandb/run-20240512_211020-ipzwtkx1/logs</code>"
      ],
      "text/plain": [
       "<IPython.core.display.HTML object>"
      ]
     },
     "metadata": {},
     "output_type": "display_data"
    },
    {
     "name": "stderr",
     "output_type": "stream",
     "text": [
      "Code: no number: : 335500it [03:43, 105.79it/s]   "
     ]
    },
    {
     "name": "stdout",
     "output_type": "stream",
     "text": [
      "found_phrases []\n",
      "caption <person>, of <person>, enjoys her shopping experience at the newly opened five below store.\n",
      "\n"
     ]
    },
    {
     "name": "stderr",
     "output_type": "stream",
     "text": [
      "Code: no number: : 335708it [03:43, 154.97it/s]"
     ]
    },
    {
     "name": "stdout",
     "output_type": "stream",
     "text": [
      "found_phrases [('five', 'oat')]\n",
      "caption stack of five oat flour pancakes on a plate and napkin with orange juice\n",
      "\n"
     ]
    },
    {
     "data": {
      "text/html": [
       "wandb version 0.17.0 is available!  To upgrade, please run:\n",
       " $ pip install wandb --upgrade"
      ],
      "text/plain": [
       "<IPython.core.display.HTML object>"
      ]
     },
     "metadata": {},
     "output_type": "display_data"
    },
    {
     "data": {
      "text/html": [
       "Tracking run with wandb version 0.16.6"
      ],
      "text/plain": [
       "<IPython.core.display.HTML object>"
      ]
     },
     "metadata": {},
     "output_type": "display_data"
    },
    {
     "data": {
      "text/html": [
       "Run data is saved locally in <code>/Users/susu/Library/CloudStorage/OneDrive-Personal/Wisc/clip_count_continued/CLIP_Counting/wandb/run-20240512_211027-24jz0cce</code>"
      ],
      "text/plain": [
       "<IPython.core.display.HTML object>"
      ]
     },
     "metadata": {},
     "output_type": "display_data"
    },
    {
     "data": {
      "text/html": [
       "Syncing run <strong><a href='https://wandb.ai/ruisu/flicker_raw_images/runs/24jz0cce' target=\"_blank\">prime-glade-7660</a></strong> to <a href='https://wandb.ai/ruisu/flicker_raw_images' target=\"_blank\">Weights & Biases</a> (<a href='https://wandb.me/run' target=\"_blank\">docs</a>)<br/>"
      ],
      "text/plain": [
       "<IPython.core.display.HTML object>"
      ]
     },
     "metadata": {},
     "output_type": "display_data"
    },
    {
     "data": {
      "text/html": [
       " View project at <a href='https://wandb.ai/ruisu/flicker_raw_images' target=\"_blank\">https://wandb.ai/ruisu/flicker_raw_images</a>"
      ],
      "text/plain": [
       "<IPython.core.display.HTML object>"
      ]
     },
     "metadata": {},
     "output_type": "display_data"
    },
    {
     "data": {
      "text/html": [
       " View run at <a href='https://wandb.ai/ruisu/flicker_raw_images/runs/24jz0cce' target=\"_blank\">https://wandb.ai/ruisu/flicker_raw_images/runs/24jz0cce</a>"
      ],
      "text/plain": [
       "<IPython.core.display.HTML object>"
      ]
     },
     "metadata": {},
     "output_type": "display_data"
    },
    {
     "data": {
      "text/html": [
       "<style>\n",
       "    table.wandb td:nth-child(1) { padding: 0 10px; text-align: left ; width: auto;} td:nth-child(2) {text-align: left ; width: 100%}\n",
       "    .wandb-row { display: flex; flex-direction: row; flex-wrap: wrap; justify-content: flex-start; width: 100% }\n",
       "    .wandb-col { display: flex; flex-direction: column; flex-basis: 100%; flex: 1; padding: 10px; }\n",
       "    </style>\n",
       "<div class=\"wandb-row\"><div class=\"wandb-col\"><h3>Run history:</h3><br/><table class=\"wandb\"><tr><td>org_id</td><td>▁</td></tr></table><br/></div><div class=\"wandb-col\"><h3>Run summary:</h3><br/><table class=\"wandb\"><tr><td>caption</td><td>stack of five oat fl...</td></tr><tr><td>dataset_name</td><td>conceptual_12m-train...</td></tr><tr><td>number</td><td>five</td></tr><tr><td>object</td><td>oat</td></tr><tr><td>org_id</td><td>335725</td></tr><tr><td>url</td><td>https://recipeforper...</td></tr></table><br/></div></div>"
      ],
      "text/plain": [
       "<IPython.core.display.HTML object>"
      ]
     },
     "metadata": {},
     "output_type": "display_data"
    },
    {
     "data": {
      "text/html": [
       " View run <strong style=\"color:#cdcd00\">prime-glade-7660</strong> at: <a href='https://wandb.ai/ruisu/flicker_raw_images/runs/24jz0cce' target=\"_blank\">https://wandb.ai/ruisu/flicker_raw_images/runs/24jz0cce</a><br/> View project at: <a href='https://wandb.ai/ruisu/flicker_raw_images' target=\"_blank\">https://wandb.ai/ruisu/flicker_raw_images</a><br/>Synced 5 W&B file(s), 1 media file(s), 0 artifact file(s) and 0 other file(s)"
      ],
      "text/plain": [
       "<IPython.core.display.HTML object>"
      ]
     },
     "metadata": {},
     "output_type": "display_data"
    },
    {
     "data": {
      "text/html": [
       "Find logs at: <code>./wandb/run-20240512_211027-24jz0cce/logs</code>"
      ],
      "text/plain": [
       "<IPython.core.display.HTML object>"
      ]
     },
     "metadata": {},
     "output_type": "display_data"
    },
    {
     "name": "stderr",
     "output_type": "stream",
     "text": [
      "Code: no number: : 335708it [03:50, 154.97it/s]"
     ]
    },
    {
     "name": "stdout",
     "output_type": "stream",
     "text": [
      "found_phrases [('five', '<')]\n",
      "caption animal photograph - five <person> in the field by <person>\n",
      "\n"
     ]
    },
    {
     "data": {
      "text/html": [
       "wandb version 0.17.0 is available!  To upgrade, please run:\n",
       " $ pip install wandb --upgrade"
      ],
      "text/plain": [
       "<IPython.core.display.HTML object>"
      ]
     },
     "metadata": {},
     "output_type": "display_data"
    },
    {
     "data": {
      "text/html": [
       "Tracking run with wandb version 0.16.6"
      ],
      "text/plain": [
       "<IPython.core.display.HTML object>"
      ]
     },
     "metadata": {},
     "output_type": "display_data"
    },
    {
     "data": {
      "text/html": [
       "Run data is saved locally in <code>/Users/susu/Library/CloudStorage/OneDrive-Personal/Wisc/clip_count_continued/CLIP_Counting/wandb/run-20240512_211034-jhgptsvx</code>"
      ],
      "text/plain": [
       "<IPython.core.display.HTML object>"
      ]
     },
     "metadata": {},
     "output_type": "display_data"
    },
    {
     "data": {
      "text/html": [
       "Syncing run <strong><a href='https://wandb.ai/ruisu/flicker_raw_images/runs/jhgptsvx' target=\"_blank\">wandering-moon-7661</a></strong> to <a href='https://wandb.ai/ruisu/flicker_raw_images' target=\"_blank\">Weights & Biases</a> (<a href='https://wandb.me/run' target=\"_blank\">docs</a>)<br/>"
      ],
      "text/plain": [
       "<IPython.core.display.HTML object>"
      ]
     },
     "metadata": {},
     "output_type": "display_data"
    },
    {
     "data": {
      "text/html": [
       " View project at <a href='https://wandb.ai/ruisu/flicker_raw_images' target=\"_blank\">https://wandb.ai/ruisu/flicker_raw_images</a>"
      ],
      "text/plain": [
       "<IPython.core.display.HTML object>"
      ]
     },
     "metadata": {},
     "output_type": "display_data"
    },
    {
     "data": {
      "text/html": [
       " View run at <a href='https://wandb.ai/ruisu/flicker_raw_images/runs/jhgptsvx' target=\"_blank\">https://wandb.ai/ruisu/flicker_raw_images/runs/jhgptsvx</a>"
      ],
      "text/plain": [
       "<IPython.core.display.HTML object>"
      ]
     },
     "metadata": {},
     "output_type": "display_data"
    },
    {
     "data": {
      "text/html": [
       "<style>\n",
       "    table.wandb td:nth-child(1) { padding: 0 10px; text-align: left ; width: auto;} td:nth-child(2) {text-align: left ; width: 100%}\n",
       "    .wandb-row { display: flex; flex-direction: row; flex-wrap: wrap; justify-content: flex-start; width: 100% }\n",
       "    .wandb-col { display: flex; flex-direction: column; flex-basis: 100%; flex: 1; padding: 10px; }\n",
       "    </style>\n",
       "<div class=\"wandb-row\"><div class=\"wandb-col\"><h3>Run history:</h3><br/><table class=\"wandb\"><tr><td>org_id</td><td>▁</td></tr></table><br/></div><div class=\"wandb-col\"><h3>Run summary:</h3><br/><table class=\"wandb\"><tr><td>caption</td><td>animal photograph - ...</td></tr><tr><td>dataset_name</td><td>conceptual_12m-train...</td></tr><tr><td>number</td><td>five</td></tr><tr><td>object</td><td><</td></tr><tr><td>org_id</td><td>335737</td></tr><tr><td>url</td><td>https://images.finea...</td></tr></table><br/></div></div>"
      ],
      "text/plain": [
       "<IPython.core.display.HTML object>"
      ]
     },
     "metadata": {},
     "output_type": "display_data"
    },
    {
     "data": {
      "text/html": [
       " View run <strong style=\"color:#cdcd00\">wandering-moon-7661</strong> at: <a href='https://wandb.ai/ruisu/flicker_raw_images/runs/jhgptsvx' target=\"_blank\">https://wandb.ai/ruisu/flicker_raw_images/runs/jhgptsvx</a><br/> View project at: <a href='https://wandb.ai/ruisu/flicker_raw_images' target=\"_blank\">https://wandb.ai/ruisu/flicker_raw_images</a><br/>Synced 5 W&B file(s), 1 media file(s), 0 artifact file(s) and 0 other file(s)"
      ],
      "text/plain": [
       "<IPython.core.display.HTML object>"
      ]
     },
     "metadata": {},
     "output_type": "display_data"
    },
    {
     "data": {
      "text/html": [
       "Find logs at: <code>./wandb/run-20240512_211034-jhgptsvx/logs</code>"
      ],
      "text/plain": [
       "<IPython.core.display.HTML object>"
      ]
     },
     "metadata": {},
     "output_type": "display_data"
    },
    {
     "name": "stderr",
     "output_type": "stream",
     "text": [
      "Code: no number: : 336073it [03:58, 51.86it/s]     "
     ]
    },
    {
     "name": "stdout",
     "output_type": "stream",
     "text": [
      "found_phrases []\n",
      "caption front view of this steinway model m piano showing the five baluster legs, high piano cheeks, open work music desk and traditionally shaped piano lyre\n",
      "\n"
     ]
    },
    {
     "name": "stderr",
     "output_type": "stream",
     "text": [
      "Code: no number: : 336281it [03:58, 75.72it/s]"
     ]
    },
    {
     "name": "stdout",
     "output_type": "stream",
     "text": [
      "found_phrases [('five', 'coastal villages')]\n",
      "caption a view of the national park of the cinque terre with riomaggiore, one of the five coastal villages, directly below photo credit\n",
      "\n"
     ]
    },
    {
     "data": {
      "text/html": [
       "wandb version 0.17.0 is available!  To upgrade, please run:\n",
       " $ pip install wandb --upgrade"
      ],
      "text/plain": [
       "<IPython.core.display.HTML object>"
      ]
     },
     "metadata": {},
     "output_type": "display_data"
    },
    {
     "data": {
      "text/html": [
       "Tracking run with wandb version 0.16.6"
      ],
      "text/plain": [
       "<IPython.core.display.HTML object>"
      ]
     },
     "metadata": {},
     "output_type": "display_data"
    },
    {
     "data": {
      "text/html": [
       "Run data is saved locally in <code>/Users/susu/Library/CloudStorage/OneDrive-Personal/Wisc/clip_count_continued/CLIP_Counting/wandb/run-20240512_211042-riwpw9xk</code>"
      ],
      "text/plain": [
       "<IPython.core.display.HTML object>"
      ]
     },
     "metadata": {},
     "output_type": "display_data"
    },
    {
     "data": {
      "text/html": [
       "Syncing run <strong><a href='https://wandb.ai/ruisu/flicker_raw_images/runs/riwpw9xk' target=\"_blank\">azure-sponge-7662</a></strong> to <a href='https://wandb.ai/ruisu/flicker_raw_images' target=\"_blank\">Weights & Biases</a> (<a href='https://wandb.me/run' target=\"_blank\">docs</a>)<br/>"
      ],
      "text/plain": [
       "<IPython.core.display.HTML object>"
      ]
     },
     "metadata": {},
     "output_type": "display_data"
    },
    {
     "data": {
      "text/html": [
       " View project at <a href='https://wandb.ai/ruisu/flicker_raw_images' target=\"_blank\">https://wandb.ai/ruisu/flicker_raw_images</a>"
      ],
      "text/plain": [
       "<IPython.core.display.HTML object>"
      ]
     },
     "metadata": {},
     "output_type": "display_data"
    },
    {
     "data": {
      "text/html": [
       " View run at <a href='https://wandb.ai/ruisu/flicker_raw_images/runs/riwpw9xk' target=\"_blank\">https://wandb.ai/ruisu/flicker_raw_images/runs/riwpw9xk</a>"
      ],
      "text/plain": [
       "<IPython.core.display.HTML object>"
      ]
     },
     "metadata": {},
     "output_type": "display_data"
    },
    {
     "data": {
      "text/html": [
       "<style>\n",
       "    table.wandb td:nth-child(1) { padding: 0 10px; text-align: left ; width: auto;} td:nth-child(2) {text-align: left ; width: 100%}\n",
       "    .wandb-row { display: flex; flex-direction: row; flex-wrap: wrap; justify-content: flex-start; width: 100% }\n",
       "    .wandb-col { display: flex; flex-direction: column; flex-basis: 100%; flex: 1; padding: 10px; }\n",
       "    </style>\n",
       "<div class=\"wandb-row\"><div class=\"wandb-col\"><h3>Run history:</h3><br/><table class=\"wandb\"><tr><td>org_id</td><td>▁</td></tr></table><br/></div><div class=\"wandb-col\"><h3>Run summary:</h3><br/><table class=\"wandb\"><tr><td>caption</td><td>a view of the nation...</td></tr><tr><td>dataset_name</td><td>conceptual_12m-train...</td></tr><tr><td>number</td><td>five</td></tr><tr><td>object</td><td>coastal villages</td></tr><tr><td>org_id</td><td>336364</td></tr><tr><td>url</td><td>https://www.thevinta...</td></tr></table><br/></div></div>"
      ],
      "text/plain": [
       "<IPython.core.display.HTML object>"
      ]
     },
     "metadata": {},
     "output_type": "display_data"
    },
    {
     "data": {
      "text/html": [
       " View run <strong style=\"color:#cdcd00\">azure-sponge-7662</strong> at: <a href='https://wandb.ai/ruisu/flicker_raw_images/runs/riwpw9xk' target=\"_blank\">https://wandb.ai/ruisu/flicker_raw_images/runs/riwpw9xk</a><br/> View project at: <a href='https://wandb.ai/ruisu/flicker_raw_images' target=\"_blank\">https://wandb.ai/ruisu/flicker_raw_images</a><br/>Synced 5 W&B file(s), 1 media file(s), 0 artifact file(s) and 0 other file(s)"
      ],
      "text/plain": [
       "<IPython.core.display.HTML object>"
      ]
     },
     "metadata": {},
     "output_type": "display_data"
    },
    {
     "data": {
      "text/html": [
       "Find logs at: <code>./wandb/run-20240512_211042-riwpw9xk/logs</code>"
      ],
      "text/plain": [
       "<IPython.core.display.HTML object>"
      ]
     },
     "metadata": {},
     "output_type": "display_data"
    },
    {
     "name": "stderr",
     "output_type": "stream",
     "text": [
      "Code: no number: : 336464it [04:04, 52.58it/s]"
     ]
    },
    {
     "name": "stdout",
     "output_type": "stream",
     "text": [
      "found_phrases [('five', 'courts')]\n",
      "caption this two-story superior court addition houses five courts, seven <person>'s chambers, county law library, offices for the county clerk, county personnel and district court probation. art provided programming, design, security planning and construction administration services for the project.\n",
      "\n"
     ]
    },
    {
     "data": {
      "text/html": [
       "wandb version 0.17.0 is available!  To upgrade, please run:\n",
       " $ pip install wandb --upgrade"
      ],
      "text/plain": [
       "<IPython.core.display.HTML object>"
      ]
     },
     "metadata": {},
     "output_type": "display_data"
    },
    {
     "data": {
      "text/html": [
       "Tracking run with wandb version 0.16.6"
      ],
      "text/plain": [
       "<IPython.core.display.HTML object>"
      ]
     },
     "metadata": {},
     "output_type": "display_data"
    },
    {
     "data": {
      "text/html": [
       "Run data is saved locally in <code>/Users/susu/Library/CloudStorage/OneDrive-Personal/Wisc/clip_count_continued/CLIP_Counting/wandb/run-20240512_211048-ugosixrm</code>"
      ],
      "text/plain": [
       "<IPython.core.display.HTML object>"
      ]
     },
     "metadata": {},
     "output_type": "display_data"
    },
    {
     "data": {
      "text/html": [
       "Syncing run <strong><a href='https://wandb.ai/ruisu/flicker_raw_images/runs/ugosixrm' target=\"_blank\">helpful-glade-7663</a></strong> to <a href='https://wandb.ai/ruisu/flicker_raw_images' target=\"_blank\">Weights & Biases</a> (<a href='https://wandb.me/run' target=\"_blank\">docs</a>)<br/>"
      ],
      "text/plain": [
       "<IPython.core.display.HTML object>"
      ]
     },
     "metadata": {},
     "output_type": "display_data"
    },
    {
     "data": {
      "text/html": [
       " View project at <a href='https://wandb.ai/ruisu/flicker_raw_images' target=\"_blank\">https://wandb.ai/ruisu/flicker_raw_images</a>"
      ],
      "text/plain": [
       "<IPython.core.display.HTML object>"
      ]
     },
     "metadata": {},
     "output_type": "display_data"
    },
    {
     "data": {
      "text/html": [
       " View run at <a href='https://wandb.ai/ruisu/flicker_raw_images/runs/ugosixrm' target=\"_blank\">https://wandb.ai/ruisu/flicker_raw_images/runs/ugosixrm</a>"
      ],
      "text/plain": [
       "<IPython.core.display.HTML object>"
      ]
     },
     "metadata": {},
     "output_type": "display_data"
    },
    {
     "name": "stderr",
     "output_type": "stream",
     "text": [
      "Code: no number: : 336464it [04:19, 52.58it/s]"
     ]
    },
    {
     "data": {
      "text/html": [
       "<style>\n",
       "    table.wandb td:nth-child(1) { padding: 0 10px; text-align: left ; width: auto;} td:nth-child(2) {text-align: left ; width: 100%}\n",
       "    .wandb-row { display: flex; flex-direction: row; flex-wrap: wrap; justify-content: flex-start; width: 100% }\n",
       "    .wandb-col { display: flex; flex-direction: column; flex-basis: 100%; flex: 1; padding: 10px; }\n",
       "    </style>\n",
       "<div class=\"wandb-row\"><div class=\"wandb-col\"><h3>Run history:</h3><br/><table class=\"wandb\"><tr><td>org_id</td><td>▁</td></tr></table><br/></div><div class=\"wandb-col\"><h3>Run summary:</h3><br/><table class=\"wandb\"><tr><td>caption</td><td>this two-story super...</td></tr><tr><td>dataset_name</td><td>conceptual_12m-train...</td></tr><tr><td>number</td><td>five</td></tr><tr><td>object</td><td>courts</td></tr><tr><td>org_id</td><td>336480</td></tr><tr><td>url</td><td>https://images.squar...</td></tr></table><br/></div></div>"
      ],
      "text/plain": [
       "<IPython.core.display.HTML object>"
      ]
     },
     "metadata": {},
     "output_type": "display_data"
    },
    {
     "data": {
      "text/html": [
       " View run <strong style=\"color:#cdcd00\">helpful-glade-7663</strong> at: <a href='https://wandb.ai/ruisu/flicker_raw_images/runs/ugosixrm' target=\"_blank\">https://wandb.ai/ruisu/flicker_raw_images/runs/ugosixrm</a><br/> View project at: <a href='https://wandb.ai/ruisu/flicker_raw_images' target=\"_blank\">https://wandb.ai/ruisu/flicker_raw_images</a><br/>Synced 5 W&B file(s), 1 media file(s), 0 artifact file(s) and 0 other file(s)"
      ],
      "text/plain": [
       "<IPython.core.display.HTML object>"
      ]
     },
     "metadata": {},
     "output_type": "display_data"
    },
    {
     "data": {
      "text/html": [
       "Find logs at: <code>./wandb/run-20240512_211048-ugosixrm/logs</code>"
      ],
      "text/plain": [
       "<IPython.core.display.HTML object>"
      ]
     },
     "metadata": {},
     "output_type": "display_data"
    },
    {
     "name": "stderr",
     "output_type": "stream",
     "text": [
      "Code: no number: : 336481it [04:23, 16.81it/s]"
     ]
    },
    {
     "name": "stdout",
     "output_type": "stream",
     "text": [
      "found_phrases [('five', 'hands')]\n",
      "caption five hands doing a fist bump over a desk.\n",
      "\n"
     ]
    },
    {
     "data": {
      "text/html": [
       "wandb version 0.17.0 is available!  To upgrade, please run:\n",
       " $ pip install wandb --upgrade"
      ],
      "text/plain": [
       "<IPython.core.display.HTML object>"
      ]
     },
     "metadata": {},
     "output_type": "display_data"
    },
    {
     "data": {
      "text/html": [
       "Tracking run with wandb version 0.16.6"
      ],
      "text/plain": [
       "<IPython.core.display.HTML object>"
      ]
     },
     "metadata": {},
     "output_type": "display_data"
    },
    {
     "data": {
      "text/html": [
       "Run data is saved locally in <code>/Users/susu/Library/CloudStorage/OneDrive-Personal/Wisc/clip_count_continued/CLIP_Counting/wandb/run-20240512_211107-rzdp8mb6</code>"
      ],
      "text/plain": [
       "<IPython.core.display.HTML object>"
      ]
     },
     "metadata": {},
     "output_type": "display_data"
    },
    {
     "data": {
      "text/html": [
       "Syncing run <strong><a href='https://wandb.ai/ruisu/flicker_raw_images/runs/rzdp8mb6' target=\"_blank\">dandy-pine-7664</a></strong> to <a href='https://wandb.ai/ruisu/flicker_raw_images' target=\"_blank\">Weights & Biases</a> (<a href='https://wandb.me/run' target=\"_blank\">docs</a>)<br/>"
      ],
      "text/plain": [
       "<IPython.core.display.HTML object>"
      ]
     },
     "metadata": {},
     "output_type": "display_data"
    },
    {
     "data": {
      "text/html": [
       " View project at <a href='https://wandb.ai/ruisu/flicker_raw_images' target=\"_blank\">https://wandb.ai/ruisu/flicker_raw_images</a>"
      ],
      "text/plain": [
       "<IPython.core.display.HTML object>"
      ]
     },
     "metadata": {},
     "output_type": "display_data"
    },
    {
     "data": {
      "text/html": [
       " View run at <a href='https://wandb.ai/ruisu/flicker_raw_images/runs/rzdp8mb6' target=\"_blank\">https://wandb.ai/ruisu/flicker_raw_images/runs/rzdp8mb6</a>"
      ],
      "text/plain": [
       "<IPython.core.display.HTML object>"
      ]
     },
     "metadata": {},
     "output_type": "display_data"
    },
    {
     "data": {
      "text/html": [
       "<style>\n",
       "    table.wandb td:nth-child(1) { padding: 0 10px; text-align: left ; width: auto;} td:nth-child(2) {text-align: left ; width: 100%}\n",
       "    .wandb-row { display: flex; flex-direction: row; flex-wrap: wrap; justify-content: flex-start; width: 100% }\n",
       "    .wandb-col { display: flex; flex-direction: column; flex-basis: 100%; flex: 1; padding: 10px; }\n",
       "    </style>\n",
       "<div class=\"wandb-row\"><div class=\"wandb-col\"><h3>Run history:</h3><br/><table class=\"wandb\"><tr><td>org_id</td><td>▁</td></tr></table><br/></div><div class=\"wandb-col\"><h3>Run summary:</h3><br/><table class=\"wandb\"><tr><td>caption</td><td>five hands doing a f...</td></tr><tr><td>dataset_name</td><td>conceptual_12m-train...</td></tr><tr><td>number</td><td>five</td></tr><tr><td>object</td><td>hands</td></tr><tr><td>org_id</td><td>336559</td></tr><tr><td>url</td><td>https://civilservice...</td></tr></table><br/></div></div>"
      ],
      "text/plain": [
       "<IPython.core.display.HTML object>"
      ]
     },
     "metadata": {},
     "output_type": "display_data"
    },
    {
     "data": {
      "text/html": [
       " View run <strong style=\"color:#cdcd00\">dandy-pine-7664</strong> at: <a href='https://wandb.ai/ruisu/flicker_raw_images/runs/rzdp8mb6' target=\"_blank\">https://wandb.ai/ruisu/flicker_raw_images/runs/rzdp8mb6</a><br/> View project at: <a href='https://wandb.ai/ruisu/flicker_raw_images' target=\"_blank\">https://wandb.ai/ruisu/flicker_raw_images</a><br/>Synced 5 W&B file(s), 1 media file(s), 0 artifact file(s) and 0 other file(s)"
      ],
      "text/plain": [
       "<IPython.core.display.HTML object>"
      ]
     },
     "metadata": {},
     "output_type": "display_data"
    },
    {
     "data": {
      "text/html": [
       "Find logs at: <code>./wandb/run-20240512_211107-rzdp8mb6/logs</code>"
      ],
      "text/plain": [
       "<IPython.core.display.HTML object>"
      ]
     },
     "metadata": {},
     "output_type": "display_data"
    },
    {
     "name": "stderr",
     "output_type": "stream",
     "text": [
      "Code: no number: : 337562it [04:30, 186.18it/s]    "
     ]
    },
    {
     "name": "stdout",
     "output_type": "stream",
     "text": [
      "found_phrases []\n",
      "caption actor <person> and his father <person> attend the 2019 french tennis open day five at roland garros on may 30 2019 in paris france\n",
      "\n"
     ]
    },
    {
     "name": "stderr",
     "output_type": "stream",
     "text": [
      "Code: no number: : 338112it [04:31, 487.52it/s]"
     ]
    },
    {
     "name": "stdout",
     "output_type": "stream",
     "text": [
      "found_phrases [('five', 'months')]\n",
      "caption despite the coronavirus disease 2019 outbreak in the country, <person> mixed martial artist <person> (left) keeps himself on fight mode prior to his return in the one championship cage. it's been almost five months since <person> last saw court action. one championship\n",
      "\n"
     ]
    },
    {
     "data": {
      "text/html": [
       "wandb version 0.17.0 is available!  To upgrade, please run:\n",
       " $ pip install wandb --upgrade"
      ],
      "text/plain": [
       "<IPython.core.display.HTML object>"
      ]
     },
     "metadata": {},
     "output_type": "display_data"
    },
    {
     "data": {
      "text/html": [
       "Tracking run with wandb version 0.16.6"
      ],
      "text/plain": [
       "<IPython.core.display.HTML object>"
      ]
     },
     "metadata": {},
     "output_type": "display_data"
    },
    {
     "data": {
      "text/html": [
       "Run data is saved locally in <code>/Users/susu/Library/CloudStorage/OneDrive-Personal/Wisc/clip_count_continued/CLIP_Counting/wandb/run-20240512_211115-77h3vtib</code>"
      ],
      "text/plain": [
       "<IPython.core.display.HTML object>"
      ]
     },
     "metadata": {},
     "output_type": "display_data"
    },
    {
     "data": {
      "text/html": [
       "Syncing run <strong><a href='https://wandb.ai/ruisu/flicker_raw_images/runs/77h3vtib' target=\"_blank\">different-wave-7665</a></strong> to <a href='https://wandb.ai/ruisu/flicker_raw_images' target=\"_blank\">Weights & Biases</a> (<a href='https://wandb.me/run' target=\"_blank\">docs</a>)<br/>"
      ],
      "text/plain": [
       "<IPython.core.display.HTML object>"
      ]
     },
     "metadata": {},
     "output_type": "display_data"
    },
    {
     "data": {
      "text/html": [
       " View project at <a href='https://wandb.ai/ruisu/flicker_raw_images' target=\"_blank\">https://wandb.ai/ruisu/flicker_raw_images</a>"
      ],
      "text/plain": [
       "<IPython.core.display.HTML object>"
      ]
     },
     "metadata": {},
     "output_type": "display_data"
    },
    {
     "data": {
      "text/html": [
       " View run at <a href='https://wandb.ai/ruisu/flicker_raw_images/runs/77h3vtib' target=\"_blank\">https://wandb.ai/ruisu/flicker_raw_images/runs/77h3vtib</a>"
      ],
      "text/plain": [
       "<IPython.core.display.HTML object>"
      ]
     },
     "metadata": {},
     "output_type": "display_data"
    },
    {
     "data": {
      "text/html": [
       "<style>\n",
       "    table.wandb td:nth-child(1) { padding: 0 10px; text-align: left ; width: auto;} td:nth-child(2) {text-align: left ; width: 100%}\n",
       "    .wandb-row { display: flex; flex-direction: row; flex-wrap: wrap; justify-content: flex-start; width: 100% }\n",
       "    .wandb-col { display: flex; flex-direction: column; flex-basis: 100%; flex: 1; padding: 10px; }\n",
       "    </style>\n",
       "<div class=\"wandb-row\"><div class=\"wandb-col\"><h3>Run history:</h3><br/><table class=\"wandb\"><tr><td>org_id</td><td>▁</td></tr></table><br/></div><div class=\"wandb-col\"><h3>Run summary:</h3><br/><table class=\"wandb\"><tr><td>caption</td><td>despite the coronavi...</td></tr><tr><td>dataset_name</td><td>conceptual_12m-train...</td></tr><tr><td>number</td><td>five</td></tr><tr><td>object</td><td>months</td></tr><tr><td>org_id</td><td>338144</td></tr><tr><td>url</td><td>https://www.panaynew...</td></tr></table><br/></div></div>"
      ],
      "text/plain": [
       "<IPython.core.display.HTML object>"
      ]
     },
     "metadata": {},
     "output_type": "display_data"
    },
    {
     "data": {
      "text/html": [
       " View run <strong style=\"color:#cdcd00\">different-wave-7665</strong> at: <a href='https://wandb.ai/ruisu/flicker_raw_images/runs/77h3vtib' target=\"_blank\">https://wandb.ai/ruisu/flicker_raw_images/runs/77h3vtib</a><br/> View project at: <a href='https://wandb.ai/ruisu/flicker_raw_images' target=\"_blank\">https://wandb.ai/ruisu/flicker_raw_images</a><br/>Synced 5 W&B file(s), 1 media file(s), 0 artifact file(s) and 0 other file(s)"
      ],
      "text/plain": [
       "<IPython.core.display.HTML object>"
      ]
     },
     "metadata": {},
     "output_type": "display_data"
    },
    {
     "data": {
      "text/html": [
       "Find logs at: <code>./wandb/run-20240512_211115-77h3vtib/logs</code>"
      ],
      "text/plain": [
       "<IPython.core.display.HTML object>"
      ]
     },
     "metadata": {},
     "output_type": "display_data"
    },
    {
     "name": "stderr",
     "output_type": "stream",
     "text": [
      "Code: no number: : 338223it [04:38, 53.68it/s] "
     ]
    },
    {
     "name": "stdout",
     "output_type": "stream",
     "text": [
      "found_phrases [('five', 'guys')]\n",
      "caption after bendy 2013 and epic bendy the next mock up series i'm going for is the three <person> ) the three musketeers - bendy boris and <person> walt disney cartoons, best puns, disney christmas ornaments, <person>, the three musketeers, five guys, <person>, iconic characters, that one friend\n",
      "\n"
     ]
    },
    {
     "data": {
      "text/html": [
       "wandb version 0.17.0 is available!  To upgrade, please run:\n",
       " $ pip install wandb --upgrade"
      ],
      "text/plain": [
       "<IPython.core.display.HTML object>"
      ]
     },
     "metadata": {},
     "output_type": "display_data"
    },
    {
     "data": {
      "text/html": [
       "Tracking run with wandb version 0.16.6"
      ],
      "text/plain": [
       "<IPython.core.display.HTML object>"
      ]
     },
     "metadata": {},
     "output_type": "display_data"
    },
    {
     "data": {
      "text/html": [
       "Run data is saved locally in <code>/Users/susu/Library/CloudStorage/OneDrive-Personal/Wisc/clip_count_continued/CLIP_Counting/wandb/run-20240512_211121-5rns8xqc</code>"
      ],
      "text/plain": [
       "<IPython.core.display.HTML object>"
      ]
     },
     "metadata": {},
     "output_type": "display_data"
    },
    {
     "data": {
      "text/html": [
       "Syncing run <strong><a href='https://wandb.ai/ruisu/flicker_raw_images/runs/5rns8xqc' target=\"_blank\">pleasant-tree-7666</a></strong> to <a href='https://wandb.ai/ruisu/flicker_raw_images' target=\"_blank\">Weights & Biases</a> (<a href='https://wandb.me/run' target=\"_blank\">docs</a>)<br/>"
      ],
      "text/plain": [
       "<IPython.core.display.HTML object>"
      ]
     },
     "metadata": {},
     "output_type": "display_data"
    },
    {
     "data": {
      "text/html": [
       " View project at <a href='https://wandb.ai/ruisu/flicker_raw_images' target=\"_blank\">https://wandb.ai/ruisu/flicker_raw_images</a>"
      ],
      "text/plain": [
       "<IPython.core.display.HTML object>"
      ]
     },
     "metadata": {},
     "output_type": "display_data"
    },
    {
     "data": {
      "text/html": [
       " View run at <a href='https://wandb.ai/ruisu/flicker_raw_images/runs/5rns8xqc' target=\"_blank\">https://wandb.ai/ruisu/flicker_raw_images/runs/5rns8xqc</a>"
      ],
      "text/plain": [
       "<IPython.core.display.HTML object>"
      ]
     },
     "metadata": {},
     "output_type": "display_data"
    },
    {
     "data": {
      "text/html": [
       "<style>\n",
       "    table.wandb td:nth-child(1) { padding: 0 10px; text-align: left ; width: auto;} td:nth-child(2) {text-align: left ; width: 100%}\n",
       "    .wandb-row { display: flex; flex-direction: row; flex-wrap: wrap; justify-content: flex-start; width: 100% }\n",
       "    .wandb-col { display: flex; flex-direction: column; flex-basis: 100%; flex: 1; padding: 10px; }\n",
       "    </style>\n",
       "<div class=\"wandb-row\"><div class=\"wandb-col\"><h3>Run history:</h3><br/><table class=\"wandb\"><tr><td>org_id</td><td>▁</td></tr></table><br/></div><div class=\"wandb-col\"><h3>Run summary:</h3><br/><table class=\"wandb\"><tr><td>caption</td><td>after bendy 2013 and...</td></tr><tr><td>dataset_name</td><td>conceptual_12m-train...</td></tr><tr><td>number</td><td>five</td></tr><tr><td>object</td><td>guys</td></tr><tr><td>org_id</td><td>338351</td></tr><tr><td>url</td><td>https://i.pinimg.com...</td></tr></table><br/></div></div>"
      ],
      "text/plain": [
       "<IPython.core.display.HTML object>"
      ]
     },
     "metadata": {},
     "output_type": "display_data"
    },
    {
     "data": {
      "text/html": [
       " View run <strong style=\"color:#cdcd00\">pleasant-tree-7666</strong> at: <a href='https://wandb.ai/ruisu/flicker_raw_images/runs/5rns8xqc' target=\"_blank\">https://wandb.ai/ruisu/flicker_raw_images/runs/5rns8xqc</a><br/> View project at: <a href='https://wandb.ai/ruisu/flicker_raw_images' target=\"_blank\">https://wandb.ai/ruisu/flicker_raw_images</a><br/>Synced 5 W&B file(s), 1 media file(s), 0 artifact file(s) and 0 other file(s)"
      ],
      "text/plain": [
       "<IPython.core.display.HTML object>"
      ]
     },
     "metadata": {},
     "output_type": "display_data"
    },
    {
     "data": {
      "text/html": [
       "Find logs at: <code>./wandb/run-20240512_211121-5rns8xqc/logs</code>"
      ],
      "text/plain": [
       "<IPython.core.display.HTML object>"
      ]
     },
     "metadata": {},
     "output_type": "display_data"
    },
    {
     "name": "stderr",
     "output_type": "stream",
     "text": [
      "Code: no number: : 338424it [04:45, 42.56it/s]    "
     ]
    },
    {
     "name": "stdout",
     "output_type": "stream",
     "text": [
      "found_phrases [('five', 'runs')]\n",
      "caption icc's two new ball rule has affected <person> the most as he has struggled to find his usual form with the ball. in this series, he has picked up three wickets so far leaking over five runs per over on flat beds.\n",
      "\n",
      "Failed to process image http://img.khelnama.com/sites/default/files/styles/gallery_content_big/public/mediaimages/gallery/2013/Oct/Ravi%20Ashwin.jpg: HTTPConnectionPool(host='img.khelnama.com', port=80): Max retries exceeded with url: /sites/default/files/styles/gallery_content_big/public/mediaimages/gallery/2013/Oct/Ravi%20Ashwin.jpg (Caused by NameResolutionError(\"<urllib3.connection.HTTPConnection object at 0x7fa38a2df2b0>: Failed to resolve 'img.khelnama.com' ([Errno 8] nodename nor servname provided, or not known)\"))\n"
     ]
    },
    {
     "name": "stderr",
     "output_type": "stream",
     "text": [
      "Code: no number: : 339525it [04:45, 418.68it/s]"
     ]
    },
    {
     "name": "stdout",
     "output_type": "stream",
     "text": [
      "found_phrases [('five', 'sherpas')]\n",
      "caption five sherpas launched the alpine rescue service team to aid the standard route\n",
      "\n"
     ]
    },
    {
     "data": {
      "text/html": [
       "wandb version 0.17.0 is available!  To upgrade, please run:\n",
       " $ pip install wandb --upgrade"
      ],
      "text/plain": [
       "<IPython.core.display.HTML object>"
      ]
     },
     "metadata": {},
     "output_type": "display_data"
    },
    {
     "data": {
      "text/html": [
       "Tracking run with wandb version 0.16.6"
      ],
      "text/plain": [
       "<IPython.core.display.HTML object>"
      ]
     },
     "metadata": {},
     "output_type": "display_data"
    },
    {
     "data": {
      "text/html": [
       "Run data is saved locally in <code>/Users/susu/Library/CloudStorage/OneDrive-Personal/Wisc/clip_count_continued/CLIP_Counting/wandb/run-20240512_211129-de673ofp</code>"
      ],
      "text/plain": [
       "<IPython.core.display.HTML object>"
      ]
     },
     "metadata": {},
     "output_type": "display_data"
    },
    {
     "data": {
      "text/html": [
       "Syncing run <strong><a href='https://wandb.ai/ruisu/flicker_raw_images/runs/de673ofp' target=\"_blank\">colorful-sunset-7667</a></strong> to <a href='https://wandb.ai/ruisu/flicker_raw_images' target=\"_blank\">Weights & Biases</a> (<a href='https://wandb.me/run' target=\"_blank\">docs</a>)<br/>"
      ],
      "text/plain": [
       "<IPython.core.display.HTML object>"
      ]
     },
     "metadata": {},
     "output_type": "display_data"
    },
    {
     "data": {
      "text/html": [
       " View project at <a href='https://wandb.ai/ruisu/flicker_raw_images' target=\"_blank\">https://wandb.ai/ruisu/flicker_raw_images</a>"
      ],
      "text/plain": [
       "<IPython.core.display.HTML object>"
      ]
     },
     "metadata": {},
     "output_type": "display_data"
    },
    {
     "data": {
      "text/html": [
       " View run at <a href='https://wandb.ai/ruisu/flicker_raw_images/runs/de673ofp' target=\"_blank\">https://wandb.ai/ruisu/flicker_raw_images/runs/de673ofp</a>"
      ],
      "text/plain": [
       "<IPython.core.display.HTML object>"
      ]
     },
     "metadata": {},
     "output_type": "display_data"
    },
    {
     "data": {
      "text/html": [
       "<style>\n",
       "    table.wandb td:nth-child(1) { padding: 0 10px; text-align: left ; width: auto;} td:nth-child(2) {text-align: left ; width: 100%}\n",
       "    .wandb-row { display: flex; flex-direction: row; flex-wrap: wrap; justify-content: flex-start; width: 100% }\n",
       "    .wandb-col { display: flex; flex-direction: column; flex-basis: 100%; flex: 1; padding: 10px; }\n",
       "    </style>\n",
       "<div class=\"wandb-row\"><div class=\"wandb-col\"><h3>Run history:</h3><br/><table class=\"wandb\"><tr><td>org_id</td><td>▁</td></tr></table><br/></div><div class=\"wandb-col\"><h3>Run summary:</h3><br/><table class=\"wandb\"><tr><td>caption</td><td>five sherpas launche...</td></tr><tr><td>dataset_name</td><td>conceptual_12m-train...</td></tr><tr><td>number</td><td>five</td></tr><tr><td>object</td><td>sherpas</td></tr><tr><td>org_id</td><td>339631</td></tr><tr><td>url</td><td>https://s3.amazonaws...</td></tr></table><br/></div></div>"
      ],
      "text/plain": [
       "<IPython.core.display.HTML object>"
      ]
     },
     "metadata": {},
     "output_type": "display_data"
    },
    {
     "data": {
      "text/html": [
       " View run <strong style=\"color:#cdcd00\">colorful-sunset-7667</strong> at: <a href='https://wandb.ai/ruisu/flicker_raw_images/runs/de673ofp' target=\"_blank\">https://wandb.ai/ruisu/flicker_raw_images/runs/de673ofp</a><br/> View project at: <a href='https://wandb.ai/ruisu/flicker_raw_images' target=\"_blank\">https://wandb.ai/ruisu/flicker_raw_images</a><br/>Synced 5 W&B file(s), 1 media file(s), 0 artifact file(s) and 0 other file(s)"
      ],
      "text/plain": [
       "<IPython.core.display.HTML object>"
      ]
     },
     "metadata": {},
     "output_type": "display_data"
    },
    {
     "data": {
      "text/html": [
       "Find logs at: <code>./wandb/run-20240512_211129-de673ofp/logs</code>"
      ],
      "text/plain": [
       "<IPython.core.display.HTML object>"
      ]
     },
     "metadata": {},
     "output_type": "display_data"
    },
    {
     "name": "stderr",
     "output_type": "stream",
     "text": [
      "Code: no number: : 340745it [04:52, 467.44it/s]"
     ]
    },
    {
     "name": "stdout",
     "output_type": "stream",
     "text": [
      "found_phrases [('five', 'lines')]\n",
      "caption limerick a short, funny poem that is five lines long.\n",
      "\n"
     ]
    },
    {
     "data": {
      "text/html": [
       "wandb version 0.17.0 is available!  To upgrade, please run:\n",
       " $ pip install wandb --upgrade"
      ],
      "text/plain": [
       "<IPython.core.display.HTML object>"
      ]
     },
     "metadata": {},
     "output_type": "display_data"
    },
    {
     "data": {
      "text/html": [
       "Tracking run with wandb version 0.16.6"
      ],
      "text/plain": [
       "<IPython.core.display.HTML object>"
      ]
     },
     "metadata": {},
     "output_type": "display_data"
    },
    {
     "data": {
      "text/html": [
       "Run data is saved locally in <code>/Users/susu/Library/CloudStorage/OneDrive-Personal/Wisc/clip_count_continued/CLIP_Counting/wandb/run-20240512_211137-7oc3eebs</code>"
      ],
      "text/plain": [
       "<IPython.core.display.HTML object>"
      ]
     },
     "metadata": {},
     "output_type": "display_data"
    },
    {
     "data": {
      "text/html": [
       "Syncing run <strong><a href='https://wandb.ai/ruisu/flicker_raw_images/runs/7oc3eebs' target=\"_blank\">effortless-gorge-7668</a></strong> to <a href='https://wandb.ai/ruisu/flicker_raw_images' target=\"_blank\">Weights & Biases</a> (<a href='https://wandb.me/run' target=\"_blank\">docs</a>)<br/>"
      ],
      "text/plain": [
       "<IPython.core.display.HTML object>"
      ]
     },
     "metadata": {},
     "output_type": "display_data"
    },
    {
     "data": {
      "text/html": [
       " View project at <a href='https://wandb.ai/ruisu/flicker_raw_images' target=\"_blank\">https://wandb.ai/ruisu/flicker_raw_images</a>"
      ],
      "text/plain": [
       "<IPython.core.display.HTML object>"
      ]
     },
     "metadata": {},
     "output_type": "display_data"
    },
    {
     "data": {
      "text/html": [
       " View run at <a href='https://wandb.ai/ruisu/flicker_raw_images/runs/7oc3eebs' target=\"_blank\">https://wandb.ai/ruisu/flicker_raw_images/runs/7oc3eebs</a>"
      ],
      "text/plain": [
       "<IPython.core.display.HTML object>"
      ]
     },
     "metadata": {},
     "output_type": "display_data"
    },
    {
     "data": {
      "text/html": [
       "<style>\n",
       "    table.wandb td:nth-child(1) { padding: 0 10px; text-align: left ; width: auto;} td:nth-child(2) {text-align: left ; width: 100%}\n",
       "    .wandb-row { display: flex; flex-direction: row; flex-wrap: wrap; justify-content: flex-start; width: 100% }\n",
       "    .wandb-col { display: flex; flex-direction: column; flex-basis: 100%; flex: 1; padding: 10px; }\n",
       "    </style>\n",
       "<div class=\"wandb-row\"><div class=\"wandb-col\"><h3>Run history:</h3><br/><table class=\"wandb\"><tr><td>org_id</td><td>▁</td></tr></table><br/></div><div class=\"wandb-col\"><h3>Run summary:</h3><br/><table class=\"wandb\"><tr><td>caption</td><td>limerick a short, fu...</td></tr><tr><td>dataset_name</td><td>conceptual_12m-train...</td></tr><tr><td>number</td><td>five</td></tr><tr><td>object</td><td>lines</td></tr><tr><td>org_id</td><td>340791</td></tr><tr><td>url</td><td>https://slideplayer....</td></tr></table><br/></div></div>"
      ],
      "text/plain": [
       "<IPython.core.display.HTML object>"
      ]
     },
     "metadata": {},
     "output_type": "display_data"
    },
    {
     "data": {
      "text/html": [
       " View run <strong style=\"color:#cdcd00\">effortless-gorge-7668</strong> at: <a href='https://wandb.ai/ruisu/flicker_raw_images/runs/7oc3eebs' target=\"_blank\">https://wandb.ai/ruisu/flicker_raw_images/runs/7oc3eebs</a><br/> View project at: <a href='https://wandb.ai/ruisu/flicker_raw_images' target=\"_blank\">https://wandb.ai/ruisu/flicker_raw_images</a><br/>Synced 5 W&B file(s), 1 media file(s), 0 artifact file(s) and 0 other file(s)"
      ],
      "text/plain": [
       "<IPython.core.display.HTML object>"
      ]
     },
     "metadata": {},
     "output_type": "display_data"
    },
    {
     "data": {
      "text/html": [
       "Find logs at: <code>./wandb/run-20240512_211137-7oc3eebs/logs</code>"
      ],
      "text/plain": [
       "<IPython.core.display.HTML object>"
      ]
     },
     "metadata": {},
     "output_type": "display_data"
    },
    {
     "name": "stderr",
     "output_type": "stream",
     "text": [
      "Code: no number: : 341001it [05:00, 78.33it/s] "
     ]
    },
    {
     "name": "stdout",
     "output_type": "stream",
     "text": [
      "found_phrases [('five', 'years')]\n",
      "caption as my oldest grandson transitions from cub scouts to boys scouts, i thought i would make a display for his five years of pinewood derby cars. pinewood derby cars, cub scouts, cubbies, display case, woodworking, wood ideas, projects, <person>, memories\n",
      "\n"
     ]
    },
    {
     "data": {
      "text/html": [
       "wandb version 0.17.0 is available!  To upgrade, please run:\n",
       " $ pip install wandb --upgrade"
      ],
      "text/plain": [
       "<IPython.core.display.HTML object>"
      ]
     },
     "metadata": {},
     "output_type": "display_data"
    },
    {
     "data": {
      "text/html": [
       "Tracking run with wandb version 0.16.6"
      ],
      "text/plain": [
       "<IPython.core.display.HTML object>"
      ]
     },
     "metadata": {},
     "output_type": "display_data"
    },
    {
     "data": {
      "text/html": [
       "Run data is saved locally in <code>/Users/susu/Library/CloudStorage/OneDrive-Personal/Wisc/clip_count_continued/CLIP_Counting/wandb/run-20240512_211143-klui5av8</code>"
      ],
      "text/plain": [
       "<IPython.core.display.HTML object>"
      ]
     },
     "metadata": {},
     "output_type": "display_data"
    },
    {
     "data": {
      "text/html": [
       "Syncing run <strong><a href='https://wandb.ai/ruisu/flicker_raw_images/runs/klui5av8' target=\"_blank\">eternal-dust-7669</a></strong> to <a href='https://wandb.ai/ruisu/flicker_raw_images' target=\"_blank\">Weights & Biases</a> (<a href='https://wandb.me/run' target=\"_blank\">docs</a>)<br/>"
      ],
      "text/plain": [
       "<IPython.core.display.HTML object>"
      ]
     },
     "metadata": {},
     "output_type": "display_data"
    },
    {
     "data": {
      "text/html": [
       " View project at <a href='https://wandb.ai/ruisu/flicker_raw_images' target=\"_blank\">https://wandb.ai/ruisu/flicker_raw_images</a>"
      ],
      "text/plain": [
       "<IPython.core.display.HTML object>"
      ]
     },
     "metadata": {},
     "output_type": "display_data"
    },
    {
     "data": {
      "text/html": [
       " View run at <a href='https://wandb.ai/ruisu/flicker_raw_images/runs/klui5av8' target=\"_blank\">https://wandb.ai/ruisu/flicker_raw_images/runs/klui5av8</a>"
      ],
      "text/plain": [
       "<IPython.core.display.HTML object>"
      ]
     },
     "metadata": {},
     "output_type": "display_data"
    },
    {
     "data": {
      "text/html": [
       "<style>\n",
       "    table.wandb td:nth-child(1) { padding: 0 10px; text-align: left ; width: auto;} td:nth-child(2) {text-align: left ; width: 100%}\n",
       "    .wandb-row { display: flex; flex-direction: row; flex-wrap: wrap; justify-content: flex-start; width: 100% }\n",
       "    .wandb-col { display: flex; flex-direction: column; flex-basis: 100%; flex: 1; padding: 10px; }\n",
       "    </style>\n",
       "<div class=\"wandb-row\"><div class=\"wandb-col\"><h3>Run history:</h3><br/><table class=\"wandb\"><tr><td>org_id</td><td>▁</td></tr></table><br/></div><div class=\"wandb-col\"><h3>Run summary:</h3><br/><table class=\"wandb\"><tr><td>caption</td><td>as my oldest grandso...</td></tr><tr><td>dataset_name</td><td>conceptual_12m-train...</td></tr><tr><td>number</td><td>five</td></tr><tr><td>object</td><td>years</td></tr><tr><td>org_id</td><td>341118</td></tr><tr><td>url</td><td>https://i.pinimg.com...</td></tr></table><br/></div></div>"
      ],
      "text/plain": [
       "<IPython.core.display.HTML object>"
      ]
     },
     "metadata": {},
     "output_type": "display_data"
    },
    {
     "data": {
      "text/html": [
       " View run <strong style=\"color:#cdcd00\">eternal-dust-7669</strong> at: <a href='https://wandb.ai/ruisu/flicker_raw_images/runs/klui5av8' target=\"_blank\">https://wandb.ai/ruisu/flicker_raw_images/runs/klui5av8</a><br/> View project at: <a href='https://wandb.ai/ruisu/flicker_raw_images' target=\"_blank\">https://wandb.ai/ruisu/flicker_raw_images</a><br/>Synced 5 W&B file(s), 1 media file(s), 0 artifact file(s) and 0 other file(s)"
      ],
      "text/plain": [
       "<IPython.core.display.HTML object>"
      ]
     },
     "metadata": {},
     "output_type": "display_data"
    },
    {
     "data": {
      "text/html": [
       "Find logs at: <code>./wandb/run-20240512_211143-klui5av8/logs</code>"
      ],
      "text/plain": [
       "<IPython.core.display.HTML object>"
      ]
     },
     "metadata": {},
     "output_type": "display_data"
    },
    {
     "name": "stderr",
     "output_type": "stream",
     "text": [
      "Code: no number: : 341531it [05:07, 104.16it/s]   "
     ]
    },
    {
     "name": "stdout",
     "output_type": "stream",
     "text": [
      "found_phrases []\n",
      "caption fairbairn bakery won one gold, three silver and five bronze awards at the national aussie pie award competition.\n",
      "\n",
      "found_phrases [('five', 'feet')]\n",
      "caption 'this original 1935 movie poster for captain blood stood five feet tall and helped to introduce two exciting new stars to the world.'\n",
      "\n"
     ]
    },
    {
     "name": "stderr",
     "output_type": "stream",
     "text": [
      "Code: no number: : 341874it [05:07, 190.79it/s]    "
     ]
    },
    {
     "name": "stdout",
     "output_type": "stream",
     "text": [
      "Failed to process image https://lookaside.fbsbx.com/lookaside/crawler/media/?media_id=574993519178118: cannot identify image file <_io.BytesIO object at 0x7fa38a26a0e0>\n"
     ]
    },
    {
     "name": "stderr",
     "output_type": "stream",
     "text": [
      "Code: no number: : 342445it [05:08, 457.33it/s]    "
     ]
    },
    {
     "name": "stdout",
     "output_type": "stream",
     "text": [
      "found_phrases []\n",
      "caption food safety safer food promises healthier and longer lives and less costly health care, as well as a more resilient food industry reducing foodborne illness by 10% would keep five million <person> from getting sick each year\n",
      "\n",
      "found_phrases [('five', 'tips')]\n",
      "caption five tips for keeping your child's bedtime routine this summer\n",
      "\n"
     ]
    },
    {
     "data": {
      "text/html": [
       "wandb version 0.17.0 is available!  To upgrade, please run:\n",
       " $ pip install wandb --upgrade"
      ],
      "text/plain": [
       "<IPython.core.display.HTML object>"
      ]
     },
     "metadata": {},
     "output_type": "display_data"
    },
    {
     "data": {
      "text/html": [
       "Tracking run with wandb version 0.16.6"
      ],
      "text/plain": [
       "<IPython.core.display.HTML object>"
      ]
     },
     "metadata": {},
     "output_type": "display_data"
    },
    {
     "data": {
      "text/html": [
       "Run data is saved locally in <code>/Users/susu/Library/CloudStorage/OneDrive-Personal/Wisc/clip_count_continued/CLIP_Counting/wandb/run-20240512_211152-waeqgmph</code>"
      ],
      "text/plain": [
       "<IPython.core.display.HTML object>"
      ]
     },
     "metadata": {},
     "output_type": "display_data"
    },
    {
     "data": {
      "text/html": [
       "Syncing run <strong><a href='https://wandb.ai/ruisu/flicker_raw_images/runs/waeqgmph' target=\"_blank\">amber-dragon-7670</a></strong> to <a href='https://wandb.ai/ruisu/flicker_raw_images' target=\"_blank\">Weights & Biases</a> (<a href='https://wandb.me/run' target=\"_blank\">docs</a>)<br/>"
      ],
      "text/plain": [
       "<IPython.core.display.HTML object>"
      ]
     },
     "metadata": {},
     "output_type": "display_data"
    },
    {
     "data": {
      "text/html": [
       " View project at <a href='https://wandb.ai/ruisu/flicker_raw_images' target=\"_blank\">https://wandb.ai/ruisu/flicker_raw_images</a>"
      ],
      "text/plain": [
       "<IPython.core.display.HTML object>"
      ]
     },
     "metadata": {},
     "output_type": "display_data"
    },
    {
     "data": {
      "text/html": [
       " View run at <a href='https://wandb.ai/ruisu/flicker_raw_images/runs/waeqgmph' target=\"_blank\">https://wandb.ai/ruisu/flicker_raw_images/runs/waeqgmph</a>"
      ],
      "text/plain": [
       "<IPython.core.display.HTML object>"
      ]
     },
     "metadata": {},
     "output_type": "display_data"
    },
    {
     "data": {
      "text/html": [
       "<style>\n",
       "    table.wandb td:nth-child(1) { padding: 0 10px; text-align: left ; width: auto;} td:nth-child(2) {text-align: left ; width: 100%}\n",
       "    .wandb-row { display: flex; flex-direction: row; flex-wrap: wrap; justify-content: flex-start; width: 100% }\n",
       "    .wandb-col { display: flex; flex-direction: column; flex-basis: 100%; flex: 1; padding: 10px; }\n",
       "    </style>\n",
       "<div class=\"wandb-row\"><div class=\"wandb-col\"><h3>Run history:</h3><br/><table class=\"wandb\"><tr><td>org_id</td><td>▁</td></tr></table><br/></div><div class=\"wandb-col\"><h3>Run summary:</h3><br/><table class=\"wandb\"><tr><td>caption</td><td>five tips for keepin...</td></tr><tr><td>dataset_name</td><td>conceptual_12m-train...</td></tr><tr><td>number</td><td>five</td></tr><tr><td>object</td><td>tips</td></tr><tr><td>org_id</td><td>342591</td></tr><tr><td>url</td><td>https://static1.squa...</td></tr></table><br/></div></div>"
      ],
      "text/plain": [
       "<IPython.core.display.HTML object>"
      ]
     },
     "metadata": {},
     "output_type": "display_data"
    },
    {
     "data": {
      "text/html": [
       " View run <strong style=\"color:#cdcd00\">amber-dragon-7670</strong> at: <a href='https://wandb.ai/ruisu/flicker_raw_images/runs/waeqgmph' target=\"_blank\">https://wandb.ai/ruisu/flicker_raw_images/runs/waeqgmph</a><br/> View project at: <a href='https://wandb.ai/ruisu/flicker_raw_images' target=\"_blank\">https://wandb.ai/ruisu/flicker_raw_images</a><br/>Synced 5 W&B file(s), 1 media file(s), 0 artifact file(s) and 0 other file(s)"
      ],
      "text/plain": [
       "<IPython.core.display.HTML object>"
      ]
     },
     "metadata": {},
     "output_type": "display_data"
    },
    {
     "data": {
      "text/html": [
       "Find logs at: <code>./wandb/run-20240512_211152-waeqgmph/logs</code>"
      ],
      "text/plain": [
       "<IPython.core.display.HTML object>"
      ]
     },
     "metadata": {},
     "output_type": "display_data"
    },
    {
     "name": "stderr",
     "output_type": "stream",
     "text": [
      "Code: no number: : 342997it [05:17, 126.51it/s]"
     ]
    },
    {
     "name": "stdout",
     "output_type": "stream",
     "text": [
      "found_phrases [('five', 'floors')]\n",
      "caption pedestrians walk outside the three exchange square building (left), where hna group recently gave up five floors of office space it was renting. photo: afp\n",
      "\n"
     ]
    },
    {
     "data": {
      "text/html": [
       "wandb version 0.17.0 is available!  To upgrade, please run:\n",
       " $ pip install wandb --upgrade"
      ],
      "text/plain": [
       "<IPython.core.display.HTML object>"
      ]
     },
     "metadata": {},
     "output_type": "display_data"
    },
    {
     "data": {
      "text/html": [
       "Tracking run with wandb version 0.16.6"
      ],
      "text/plain": [
       "<IPython.core.display.HTML object>"
      ]
     },
     "metadata": {},
     "output_type": "display_data"
    },
    {
     "data": {
      "text/html": [
       "Run data is saved locally in <code>/Users/susu/Library/CloudStorage/OneDrive-Personal/Wisc/clip_count_continued/CLIP_Counting/wandb/run-20240512_211200-ri8b89b9</code>"
      ],
      "text/plain": [
       "<IPython.core.display.HTML object>"
      ]
     },
     "metadata": {},
     "output_type": "display_data"
    },
    {
     "data": {
      "text/html": [
       "Syncing run <strong><a href='https://wandb.ai/ruisu/flicker_raw_images/runs/ri8b89b9' target=\"_blank\">pretty-microwave-7671</a></strong> to <a href='https://wandb.ai/ruisu/flicker_raw_images' target=\"_blank\">Weights & Biases</a> (<a href='https://wandb.me/run' target=\"_blank\">docs</a>)<br/>"
      ],
      "text/plain": [
       "<IPython.core.display.HTML object>"
      ]
     },
     "metadata": {},
     "output_type": "display_data"
    },
    {
     "data": {
      "text/html": [
       " View project at <a href='https://wandb.ai/ruisu/flicker_raw_images' target=\"_blank\">https://wandb.ai/ruisu/flicker_raw_images</a>"
      ],
      "text/plain": [
       "<IPython.core.display.HTML object>"
      ]
     },
     "metadata": {},
     "output_type": "display_data"
    },
    {
     "data": {
      "text/html": [
       " View run at <a href='https://wandb.ai/ruisu/flicker_raw_images/runs/ri8b89b9' target=\"_blank\">https://wandb.ai/ruisu/flicker_raw_images/runs/ri8b89b9</a>"
      ],
      "text/plain": [
       "<IPython.core.display.HTML object>"
      ]
     },
     "metadata": {},
     "output_type": "display_data"
    },
    {
     "data": {
      "text/html": [
       "<style>\n",
       "    table.wandb td:nth-child(1) { padding: 0 10px; text-align: left ; width: auto;} td:nth-child(2) {text-align: left ; width: 100%}\n",
       "    .wandb-row { display: flex; flex-direction: row; flex-wrap: wrap; justify-content: flex-start; width: 100% }\n",
       "    .wandb-col { display: flex; flex-direction: column; flex-basis: 100%; flex: 1; padding: 10px; }\n",
       "    </style>\n",
       "<div class=\"wandb-row\"><div class=\"wandb-col\"><h3>Run history:</h3><br/><table class=\"wandb\"><tr><td>org_id</td><td>▁</td></tr></table><br/></div><div class=\"wandb-col\"><h3>Run summary:</h3><br/><table class=\"wandb\"><tr><td>caption</td><td>pedestrians walk out...</td></tr><tr><td>dataset_name</td><td>conceptual_12m-train...</td></tr><tr><td>number</td><td>five</td></tr><tr><td>object</td><td>floors</td></tr><tr><td>org_id</td><td>343107</td></tr><tr><td>url</td><td>https://cdn1.i-scmp....</td></tr></table><br/></div></div>"
      ],
      "text/plain": [
       "<IPython.core.display.HTML object>"
      ]
     },
     "metadata": {},
     "output_type": "display_data"
    },
    {
     "data": {
      "text/html": [
       " View run <strong style=\"color:#cdcd00\">pretty-microwave-7671</strong> at: <a href='https://wandb.ai/ruisu/flicker_raw_images/runs/ri8b89b9' target=\"_blank\">https://wandb.ai/ruisu/flicker_raw_images/runs/ri8b89b9</a><br/> View project at: <a href='https://wandb.ai/ruisu/flicker_raw_images' target=\"_blank\">https://wandb.ai/ruisu/flicker_raw_images</a><br/>Synced 5 W&B file(s), 1 media file(s), 0 artifact file(s) and 0 other file(s)"
      ],
      "text/plain": [
       "<IPython.core.display.HTML object>"
      ]
     },
     "metadata": {},
     "output_type": "display_data"
    },
    {
     "data": {
      "text/html": [
       "Find logs at: <code>./wandb/run-20240512_211200-ri8b89b9/logs</code>"
      ],
      "text/plain": [
       "<IPython.core.display.HTML object>"
      ]
     },
     "metadata": {},
     "output_type": "display_data"
    },
    {
     "name": "stderr",
     "output_type": "stream",
     "text": [
      "Code: no number: : 344571it [05:25, 665.76it/s]"
     ]
    },
    {
     "name": "stdout",
     "output_type": "stream",
     "text": [
      "found_phrases [('five', 'colours')]\n",
      "caption audi calls the substantial d-pillar a 'blade'. you can have it in any one of five colours. but silver on a white car?\n",
      "\n"
     ]
    },
    {
     "name": "stderr",
     "output_type": "stream",
     "text": [
      "Code: no number: : 344930it [05:25, 614.40it/s]    "
     ]
    },
    {
     "name": "stdout",
     "output_type": "stream",
     "text": [
      "Failed to process image https://resources.stuff.co.nz/content/dam/images/1/h/c/n/y/w/image.related.StuffLandscapeSixteenByNine.710x400.1hcni5.png/1487611076558.jpg: HTTPSConnectionPool(host='resources.stuff.co.nz', port=443): Max retries exceeded with url: /content/dam/images/1/h/c/n/y/w/image.related.StuffLandscapeSixteenByNine.710x400.1hcni5.png/1487611076558.jpg (Caused by NameResolutionError(\"<urllib3.connection.HTTPSConnection object at 0x7fa36a158520>: Failed to resolve 'resources.stuff.co.nz' ([Errno 8] nodename nor servname provided, or not known)\"))\n"
     ]
    },
    {
     "name": "stderr",
     "output_type": "stream",
     "text": [
      "Code: no number: : 346871it [05:27, 604.18it/s]     "
     ]
    },
    {
     "name": "stdout",
     "output_type": "stream",
     "text": [
      "found_phrases []\n",
      "caption will humble hotel receptionist <person> ( <person>) and lord <person>¿s eldest son <person> ( <person>) fare any better in the halcyon? drama series, tv series, confused love, o film, five star hotel, <person>, <person>, london life, me tv\n",
      "\n"
     ]
    },
    {
     "name": "stderr",
     "output_type": "stream",
     "text": [
      "Code: no number: : 347509it [05:28, 1266.24it/s]"
     ]
    },
    {
     "name": "stdout",
     "output_type": "stream",
     "text": [
      "found_phrases [('five', 'basic ingredients')]\n",
      "caption pressure cooker hollywood two-tone cheesecake is a simple, creamy cheesecake that uses just five basic ingredients.\n",
      "\n"
     ]
    },
    {
     "data": {
      "text/html": [
       "wandb version 0.17.0 is available!  To upgrade, please run:\n",
       " $ pip install wandb --upgrade"
      ],
      "text/plain": [
       "<IPython.core.display.HTML object>"
      ]
     },
     "metadata": {},
     "output_type": "display_data"
    },
    {
     "data": {
      "text/html": [
       "Tracking run with wandb version 0.16.6"
      ],
      "text/plain": [
       "<IPython.core.display.HTML object>"
      ]
     },
     "metadata": {},
     "output_type": "display_data"
    },
    {
     "data": {
      "text/html": [
       "Run data is saved locally in <code>/Users/susu/Library/CloudStorage/OneDrive-Personal/Wisc/clip_count_continued/CLIP_Counting/wandb/run-20240512_211211-nlyfcqop</code>"
      ],
      "text/plain": [
       "<IPython.core.display.HTML object>"
      ]
     },
     "metadata": {},
     "output_type": "display_data"
    },
    {
     "data": {
      "text/html": [
       "Syncing run <strong><a href='https://wandb.ai/ruisu/flicker_raw_images/runs/nlyfcqop' target=\"_blank\">radiant-snowflake-7672</a></strong> to <a href='https://wandb.ai/ruisu/flicker_raw_images' target=\"_blank\">Weights & Biases</a> (<a href='https://wandb.me/run' target=\"_blank\">docs</a>)<br/>"
      ],
      "text/plain": [
       "<IPython.core.display.HTML object>"
      ]
     },
     "metadata": {},
     "output_type": "display_data"
    },
    {
     "data": {
      "text/html": [
       " View project at <a href='https://wandb.ai/ruisu/flicker_raw_images' target=\"_blank\">https://wandb.ai/ruisu/flicker_raw_images</a>"
      ],
      "text/plain": [
       "<IPython.core.display.HTML object>"
      ]
     },
     "metadata": {},
     "output_type": "display_data"
    },
    {
     "data": {
      "text/html": [
       " View run at <a href='https://wandb.ai/ruisu/flicker_raw_images/runs/nlyfcqop' target=\"_blank\">https://wandb.ai/ruisu/flicker_raw_images/runs/nlyfcqop</a>"
      ],
      "text/plain": [
       "<IPython.core.display.HTML object>"
      ]
     },
     "metadata": {},
     "output_type": "display_data"
    },
    {
     "data": {
      "text/html": [
       "<style>\n",
       "    table.wandb td:nth-child(1) { padding: 0 10px; text-align: left ; width: auto;} td:nth-child(2) {text-align: left ; width: 100%}\n",
       "    .wandb-row { display: flex; flex-direction: row; flex-wrap: wrap; justify-content: flex-start; width: 100% }\n",
       "    .wandb-col { display: flex; flex-direction: column; flex-basis: 100%; flex: 1; padding: 10px; }\n",
       "    </style>\n",
       "<div class=\"wandb-row\"><div class=\"wandb-col\"><h3>Run history:</h3><br/><table class=\"wandb\"><tr><td>org_id</td><td>▁</td></tr></table><br/></div><div class=\"wandb-col\"><h3>Run summary:</h3><br/><table class=\"wandb\"><tr><td>caption</td><td>pressure cooker holl...</td></tr><tr><td>dataset_name</td><td>conceptual_12m-train...</td></tr><tr><td>number</td><td>five</td></tr><tr><td>object</td><td>basic ingredients</td></tr><tr><td>org_id</td><td>347545</td></tr><tr><td>url</td><td>https://www.pressure...</td></tr></table><br/></div></div>"
      ],
      "text/plain": [
       "<IPython.core.display.HTML object>"
      ]
     },
     "metadata": {},
     "output_type": "display_data"
    },
    {
     "data": {
      "text/html": [
       " View run <strong style=\"color:#cdcd00\">radiant-snowflake-7672</strong> at: <a href='https://wandb.ai/ruisu/flicker_raw_images/runs/nlyfcqop' target=\"_blank\">https://wandb.ai/ruisu/flicker_raw_images/runs/nlyfcqop</a><br/> View project at: <a href='https://wandb.ai/ruisu/flicker_raw_images' target=\"_blank\">https://wandb.ai/ruisu/flicker_raw_images</a><br/>Synced 5 W&B file(s), 1 media file(s), 0 artifact file(s) and 0 other file(s)"
      ],
      "text/plain": [
       "<IPython.core.display.HTML object>"
      ]
     },
     "metadata": {},
     "output_type": "display_data"
    },
    {
     "data": {
      "text/html": [
       "Find logs at: <code>./wandb/run-20240512_211211-nlyfcqop/logs</code>"
      ],
      "text/plain": [
       "<IPython.core.display.HTML object>"
      ]
     },
     "metadata": {},
     "output_type": "display_data"
    },
    {
     "name": "stderr",
     "output_type": "stream",
     "text": [
      "Code: no number: : 348078it [05:34, 180.67it/s]    "
     ]
    },
    {
     "name": "stdout",
     "output_type": "stream",
     "text": [
      "found_phrases []\n",
      "caption five professional team members sitting around a laptop\n",
      "\n",
      "found_phrases []\n",
      "caption campo verde charges onto the field at sunrise mountain hs with old glory before its 5a first round playoff game last season. the coyotes are starting their ninth year as an aia member. they have reached the postseason in five of those eight seasons.\n",
      "\n",
      "found_phrases []\n",
      "caption top five minecraft how to make a wither storm with command block\n",
      "\n"
     ]
    },
    {
     "name": "stderr",
     "output_type": "stream",
     "text": [
      "Code: no number: : 348446it [05:35, 328.61it/s]    "
     ]
    },
    {
     "name": "stdout",
     "output_type": "stream",
     "text": [
      "found_phrases []\n",
      "caption - the 21 club had four different alarm buttons in the lobby, which automatically sealed off the five secret booze stores and tipped the shelves in the bar, dropping all the bottles into the sewers. some of the alcohol was actually stored in the basement of the building next door, accessed through this brick door weighing two tons (still there today)\n",
      "\n"
     ]
    },
    {
     "name": "stderr",
     "output_type": "stream",
     "text": [
      "Code: no number: : 348606it [05:35, 399.43it/s]"
     ]
    },
    {
     "name": "stdout",
     "output_type": "stream",
     "text": [
      "found_phrases [('five', 'things')]\n",
      "caption five things to consider when hiring portable toilets in the winter\n",
      "\n"
     ]
    },
    {
     "name": "stderr",
     "output_type": "stream",
     "text": [
      "Code: no number: : 348962it [05:37, 288.03it/s]    "
     ]
    },
    {
     "name": "stdout",
     "output_type": "stream",
     "text": [
      "Failed to process image https://loosforhire.co.uk/images/easyblog_articles/8/b2ap3_large_portable-toilets-s_57706461.jpg: cannot identify image file <_io.BytesIO object at 0x7fa36a127860>\n"
     ]
    },
    {
     "name": "stderr",
     "output_type": "stream",
     "text": [
      "Code: no number: : 349139it [05:37, 382.22it/s]"
     ]
    },
    {
     "name": "stdout",
     "output_type": "stream",
     "text": [
      "found_phrases [('five', 'contests'), ('five', 'different sports')]\n",
      "caption led by <person> and the football team, harvard swept cornell out of cambridge saturday, winning five contests in five different sports.\n",
      "\n"
     ]
    },
    {
     "data": {
      "text/html": [
       "wandb version 0.17.0 is available!  To upgrade, please run:\n",
       " $ pip install wandb --upgrade"
      ],
      "text/plain": [
       "<IPython.core.display.HTML object>"
      ]
     },
     "metadata": {},
     "output_type": "display_data"
    },
    {
     "data": {
      "text/html": [
       "Tracking run with wandb version 0.16.6"
      ],
      "text/plain": [
       "<IPython.core.display.HTML object>"
      ]
     },
     "metadata": {},
     "output_type": "display_data"
    },
    {
     "data": {
      "text/html": [
       "Run data is saved locally in <code>/Users/susu/Library/CloudStorage/OneDrive-Personal/Wisc/clip_count_continued/CLIP_Counting/wandb/run-20240512_211220-jh2ig37g</code>"
      ],
      "text/plain": [
       "<IPython.core.display.HTML object>"
      ]
     },
     "metadata": {},
     "output_type": "display_data"
    },
    {
     "data": {
      "text/html": [
       "Syncing run <strong><a href='https://wandb.ai/ruisu/flicker_raw_images/runs/jh2ig37g' target=\"_blank\">fallen-water-7673</a></strong> to <a href='https://wandb.ai/ruisu/flicker_raw_images' target=\"_blank\">Weights & Biases</a> (<a href='https://wandb.me/run' target=\"_blank\">docs</a>)<br/>"
      ],
      "text/plain": [
       "<IPython.core.display.HTML object>"
      ]
     },
     "metadata": {},
     "output_type": "display_data"
    },
    {
     "data": {
      "text/html": [
       " View project at <a href='https://wandb.ai/ruisu/flicker_raw_images' target=\"_blank\">https://wandb.ai/ruisu/flicker_raw_images</a>"
      ],
      "text/plain": [
       "<IPython.core.display.HTML object>"
      ]
     },
     "metadata": {},
     "output_type": "display_data"
    },
    {
     "data": {
      "text/html": [
       " View run at <a href='https://wandb.ai/ruisu/flicker_raw_images/runs/jh2ig37g' target=\"_blank\">https://wandb.ai/ruisu/flicker_raw_images/runs/jh2ig37g</a>"
      ],
      "text/plain": [
       "<IPython.core.display.HTML object>"
      ]
     },
     "metadata": {},
     "output_type": "display_data"
    },
    {
     "data": {
      "text/html": [
       "<style>\n",
       "    table.wandb td:nth-child(1) { padding: 0 10px; text-align: left ; width: auto;} td:nth-child(2) {text-align: left ; width: 100%}\n",
       "    .wandb-row { display: flex; flex-direction: row; flex-wrap: wrap; justify-content: flex-start; width: 100% }\n",
       "    .wandb-col { display: flex; flex-direction: column; flex-basis: 100%; flex: 1; padding: 10px; }\n",
       "    </style>\n",
       "<div class=\"wandb-row\"><div class=\"wandb-col\"><h3>Run history:</h3><br/><table class=\"wandb\"><tr><td>org_id</td><td>▁</td></tr></table><br/></div><div class=\"wandb-col\"><h3>Run summary:</h3><br/><table class=\"wandb\"><tr><td>caption</td><td>led by <person> and ...</td></tr><tr><td>dataset_name</td><td>conceptual_12m-train...</td></tr><tr><td>number</td><td>five</td></tr><tr><td>object</td><td>contests</td></tr><tr><td>org_id</td><td>349278</td></tr><tr><td>url</td><td>https://s3.amazonaws...</td></tr></table><br/></div></div>"
      ],
      "text/plain": [
       "<IPython.core.display.HTML object>"
      ]
     },
     "metadata": {},
     "output_type": "display_data"
    },
    {
     "data": {
      "text/html": [
       " View run <strong style=\"color:#cdcd00\">fallen-water-7673</strong> at: <a href='https://wandb.ai/ruisu/flicker_raw_images/runs/jh2ig37g' target=\"_blank\">https://wandb.ai/ruisu/flicker_raw_images/runs/jh2ig37g</a><br/> View project at: <a href='https://wandb.ai/ruisu/flicker_raw_images' target=\"_blank\">https://wandb.ai/ruisu/flicker_raw_images</a><br/>Synced 5 W&B file(s), 1 media file(s), 0 artifact file(s) and 0 other file(s)"
      ],
      "text/plain": [
       "<IPython.core.display.HTML object>"
      ]
     },
     "metadata": {},
     "output_type": "display_data"
    },
    {
     "data": {
      "text/html": [
       "Find logs at: <code>./wandb/run-20240512_211220-jh2ig37g/logs</code>"
      ],
      "text/plain": [
       "<IPython.core.display.HTML object>"
      ]
     },
     "metadata": {},
     "output_type": "display_data"
    },
    {
     "name": "stderr",
     "output_type": "stream",
     "text": [
      "Code: no number: : 349843it [05:43, 216.78it/s]    "
     ]
    },
    {
     "name": "stdout",
     "output_type": "stream",
     "text": [
      "found_phrases []\n",
      "caption five of the most influential classic designs ever thumbnail\n",
      "\n"
     ]
    },
    {
     "name": "stderr",
     "output_type": "stream",
     "text": [
      "Code: no number: : 349843it [05:43, 216.78it/s]"
     ]
    },
    {
     "name": "stdout",
     "output_type": "stream",
     "text": [
      "found_phrases [('five', 'elves')]\n",
      "caption five elves at the wood cabin on christmas night\n",
      "\n"
     ]
    },
    {
     "name": "stderr",
     "output_type": "stream",
     "text": [
      "Code: no number: : 349843it [05:44, 216.78it/s]    "
     ]
    },
    {
     "name": "stdout",
     "output_type": "stream",
     "text": [
      "Failed to process image https://comps.gograph.com/five-elves-at-the-wood-cabin-on-christmas-night_gg91056783.jpg: cannot identify image file <_io.BytesIO object at 0x7fa35950b220>\n"
     ]
    },
    {
     "name": "stderr",
     "output_type": "stream",
     "text": [
      "Code: no number: : 349843it [05:44, 216.78it/s]"
     ]
    },
    {
     "name": "stdout",
     "output_type": "stream",
     "text": [
      "found_phrases [('five', 'senses'), ('five', 'senses')]\n",
      "caption preschool at home: exploring my 5 senses week. projects, hands on learning activities, and crafts for a full week theme of `` my 5 senses ``. my 5 senses sensory bin. 5 senses craft, five senses preschool, 5 senses activities, sensory activities for preschoolers, my five senses, body preschool, preschool at home, preschool lessons, kindergarten activities\n",
      "\n"
     ]
    },
    {
     "data": {
      "text/html": [
       "wandb version 0.17.0 is available!  To upgrade, please run:\n",
       " $ pip install wandb --upgrade"
      ],
      "text/plain": [
       "<IPython.core.display.HTML object>"
      ]
     },
     "metadata": {},
     "output_type": "display_data"
    },
    {
     "data": {
      "text/html": [
       "Tracking run with wandb version 0.16.6"
      ],
      "text/plain": [
       "<IPython.core.display.HTML object>"
      ]
     },
     "metadata": {},
     "output_type": "display_data"
    },
    {
     "data": {
      "text/html": [
       "Run data is saved locally in <code>/Users/susu/Library/CloudStorage/OneDrive-Personal/Wisc/clip_count_continued/CLIP_Counting/wandb/run-20240512_211227-f0p47v21</code>"
      ],
      "text/plain": [
       "<IPython.core.display.HTML object>"
      ]
     },
     "metadata": {},
     "output_type": "display_data"
    },
    {
     "data": {
      "text/html": [
       "Syncing run <strong><a href='https://wandb.ai/ruisu/flicker_raw_images/runs/f0p47v21' target=\"_blank\">eager-dragon-7674</a></strong> to <a href='https://wandb.ai/ruisu/flicker_raw_images' target=\"_blank\">Weights & Biases</a> (<a href='https://wandb.me/run' target=\"_blank\">docs</a>)<br/>"
      ],
      "text/plain": [
       "<IPython.core.display.HTML object>"
      ]
     },
     "metadata": {},
     "output_type": "display_data"
    },
    {
     "data": {
      "text/html": [
       " View project at <a href='https://wandb.ai/ruisu/flicker_raw_images' target=\"_blank\">https://wandb.ai/ruisu/flicker_raw_images</a>"
      ],
      "text/plain": [
       "<IPython.core.display.HTML object>"
      ]
     },
     "metadata": {},
     "output_type": "display_data"
    },
    {
     "data": {
      "text/html": [
       " View run at <a href='https://wandb.ai/ruisu/flicker_raw_images/runs/f0p47v21' target=\"_blank\">https://wandb.ai/ruisu/flicker_raw_images/runs/f0p47v21</a>"
      ],
      "text/plain": [
       "<IPython.core.display.HTML object>"
      ]
     },
     "metadata": {},
     "output_type": "display_data"
    },
    {
     "data": {
      "text/html": [
       "<style>\n",
       "    table.wandb td:nth-child(1) { padding: 0 10px; text-align: left ; width: auto;} td:nth-child(2) {text-align: left ; width: 100%}\n",
       "    .wandb-row { display: flex; flex-direction: row; flex-wrap: wrap; justify-content: flex-start; width: 100% }\n",
       "    .wandb-col { display: flex; flex-direction: column; flex-basis: 100%; flex: 1; padding: 10px; }\n",
       "    </style>\n",
       "<div class=\"wandb-row\"><div class=\"wandb-col\"><h3>Run history:</h3><br/><table class=\"wandb\"><tr><td>org_id</td><td>▁</td></tr></table><br/></div><div class=\"wandb-col\"><h3>Run summary:</h3><br/><table class=\"wandb\"><tr><td>caption</td><td>preschool at home: e...</td></tr><tr><td>dataset_name</td><td>conceptual_12m-train...</td></tr><tr><td>number</td><td>five</td></tr><tr><td>object</td><td>senses</td></tr><tr><td>org_id</td><td>349929</td></tr><tr><td>url</td><td>https://i.pinimg.com...</td></tr></table><br/></div></div>"
      ],
      "text/plain": [
       "<IPython.core.display.HTML object>"
      ]
     },
     "metadata": {},
     "output_type": "display_data"
    },
    {
     "data": {
      "text/html": [
       " View run <strong style=\"color:#cdcd00\">eager-dragon-7674</strong> at: <a href='https://wandb.ai/ruisu/flicker_raw_images/runs/f0p47v21' target=\"_blank\">https://wandb.ai/ruisu/flicker_raw_images/runs/f0p47v21</a><br/> View project at: <a href='https://wandb.ai/ruisu/flicker_raw_images' target=\"_blank\">https://wandb.ai/ruisu/flicker_raw_images</a><br/>Synced 5 W&B file(s), 1 media file(s), 0 artifact file(s) and 0 other file(s)"
      ],
      "text/plain": [
       "<IPython.core.display.HTML object>"
      ]
     },
     "metadata": {},
     "output_type": "display_data"
    },
    {
     "data": {
      "text/html": [
       "Find logs at: <code>./wandb/run-20240512_211227-f0p47v21/logs</code>"
      ],
      "text/plain": [
       "<IPython.core.display.HTML object>"
      ]
     },
     "metadata": {},
     "output_type": "display_data"
    },
    {
     "name": "stderr",
     "output_type": "stream",
     "text": [
      "Code: no number: : 350329it [05:58, 65.45it/s]    "
     ]
    },
    {
     "name": "stdout",
     "output_type": "stream",
     "text": [
      "found_phrases []\n",
      "caption healthy cookie dough crumbles for one recipe- the taste and texture of crumbly cookie dough, minus the guilt! no butter, flour, sugar or eggs and ready in just five minutes- a quick and easy treat or snack! (vegan, gluten free, paleo, high protein options)\n",
      "\n"
     ]
    },
    {
     "name": "stderr",
     "output_type": "stream",
     "text": [
      "Code: no number: : 350329it [05:58, 65.45it/s]"
     ]
    },
    {
     "name": "stdout",
     "output_type": "stream",
     "text": [
      "found_phrases [('five', 'islands')]\n",
      "caption the five islands beach house - image gallery 24\n",
      "\n"
     ]
    },
    {
     "data": {
      "text/html": [
       "wandb version 0.17.0 is available!  To upgrade, please run:\n",
       " $ pip install wandb --upgrade"
      ],
      "text/plain": [
       "<IPython.core.display.HTML object>"
      ]
     },
     "metadata": {},
     "output_type": "display_data"
    },
    {
     "data": {
      "text/html": [
       "Tracking run with wandb version 0.16.6"
      ],
      "text/plain": [
       "<IPython.core.display.HTML object>"
      ]
     },
     "metadata": {},
     "output_type": "display_data"
    },
    {
     "data": {
      "text/html": [
       "Run data is saved locally in <code>/Users/susu/Library/CloudStorage/OneDrive-Personal/Wisc/clip_count_continued/CLIP_Counting/wandb/run-20240512_211242-8y83et6r</code>"
      ],
      "text/plain": [
       "<IPython.core.display.HTML object>"
      ]
     },
     "metadata": {},
     "output_type": "display_data"
    },
    {
     "data": {
      "text/html": [
       "Syncing run <strong><a href='https://wandb.ai/ruisu/flicker_raw_images/runs/8y83et6r' target=\"_blank\">solar-sunset-7675</a></strong> to <a href='https://wandb.ai/ruisu/flicker_raw_images' target=\"_blank\">Weights & Biases</a> (<a href='https://wandb.me/run' target=\"_blank\">docs</a>)<br/>"
      ],
      "text/plain": [
       "<IPython.core.display.HTML object>"
      ]
     },
     "metadata": {},
     "output_type": "display_data"
    },
    {
     "data": {
      "text/html": [
       " View project at <a href='https://wandb.ai/ruisu/flicker_raw_images' target=\"_blank\">https://wandb.ai/ruisu/flicker_raw_images</a>"
      ],
      "text/plain": [
       "<IPython.core.display.HTML object>"
      ]
     },
     "metadata": {},
     "output_type": "display_data"
    },
    {
     "data": {
      "text/html": [
       " View run at <a href='https://wandb.ai/ruisu/flicker_raw_images/runs/8y83et6r' target=\"_blank\">https://wandb.ai/ruisu/flicker_raw_images/runs/8y83et6r</a>"
      ],
      "text/plain": [
       "<IPython.core.display.HTML object>"
      ]
     },
     "metadata": {},
     "output_type": "display_data"
    },
    {
     "data": {
      "text/html": [
       "<style>\n",
       "    table.wandb td:nth-child(1) { padding: 0 10px; text-align: left ; width: auto;} td:nth-child(2) {text-align: left ; width: 100%}\n",
       "    .wandb-row { display: flex; flex-direction: row; flex-wrap: wrap; justify-content: flex-start; width: 100% }\n",
       "    .wandb-col { display: flex; flex-direction: column; flex-basis: 100%; flex: 1; padding: 10px; }\n",
       "    </style>\n",
       "<div class=\"wandb-row\"><div class=\"wandb-col\"><h3>Run history:</h3><br/><table class=\"wandb\"><tr><td>org_id</td><td>▁</td></tr></table><br/></div><div class=\"wandb-col\"><h3>Run summary:</h3><br/><table class=\"wandb\"><tr><td>caption</td><td>the five islands bea...</td></tr><tr><td>dataset_name</td><td>conceptual_12m-train...</td></tr><tr><td>number</td><td>five</td></tr><tr><td>object</td><td>islands</td></tr><tr><td>org_id</td><td>350506</td></tr><tr><td>url</td><td>https://rentivo.imag...</td></tr></table><br/></div></div>"
      ],
      "text/plain": [
       "<IPython.core.display.HTML object>"
      ]
     },
     "metadata": {},
     "output_type": "display_data"
    },
    {
     "data": {
      "text/html": [
       " View run <strong style=\"color:#cdcd00\">solar-sunset-7675</strong> at: <a href='https://wandb.ai/ruisu/flicker_raw_images/runs/8y83et6r' target=\"_blank\">https://wandb.ai/ruisu/flicker_raw_images/runs/8y83et6r</a><br/> View project at: <a href='https://wandb.ai/ruisu/flicker_raw_images' target=\"_blank\">https://wandb.ai/ruisu/flicker_raw_images</a><br/>Synced 5 W&B file(s), 1 media file(s), 0 artifact file(s) and 0 other file(s)"
      ],
      "text/plain": [
       "<IPython.core.display.HTML object>"
      ]
     },
     "metadata": {},
     "output_type": "display_data"
    },
    {
     "data": {
      "text/html": [
       "Find logs at: <code>./wandb/run-20240512_211242-8y83et6r/logs</code>"
      ],
      "text/plain": [
       "<IPython.core.display.HTML object>"
      ]
     },
     "metadata": {},
     "output_type": "display_data"
    },
    {
     "name": "stderr",
     "output_type": "stream",
     "text": [
      "Code: no number: : 350507it [06:05, 45.93it/s]"
     ]
    },
    {
     "name": "stdout",
     "output_type": "stream",
     "text": [
      "found_phrases [('five', 'times')]\n",
      "caption bringing about five times the estimate, this philadelphia carved walnut dressing table sold for $51,600. the central drawer had elaborate shell and scroll carving, and there was acanthus carving on the cabriole legs. it was one of the highest priced items.\n",
      "\n"
     ]
    },
    {
     "data": {
      "text/html": [
       "wandb version 0.17.0 is available!  To upgrade, please run:\n",
       " $ pip install wandb --upgrade"
      ],
      "text/plain": [
       "<IPython.core.display.HTML object>"
      ]
     },
     "metadata": {},
     "output_type": "display_data"
    },
    {
     "data": {
      "text/html": [
       "Tracking run with wandb version 0.16.6"
      ],
      "text/plain": [
       "<IPython.core.display.HTML object>"
      ]
     },
     "metadata": {},
     "output_type": "display_data"
    },
    {
     "data": {
      "text/html": [
       "Run data is saved locally in <code>/Users/susu/Library/CloudStorage/OneDrive-Personal/Wisc/clip_count_continued/CLIP_Counting/wandb/run-20240512_211249-jxsmyev0</code>"
      ],
      "text/plain": [
       "<IPython.core.display.HTML object>"
      ]
     },
     "metadata": {},
     "output_type": "display_data"
    },
    {
     "data": {
      "text/html": [
       "Syncing run <strong><a href='https://wandb.ai/ruisu/flicker_raw_images/runs/jxsmyev0' target=\"_blank\">light-donkey-7676</a></strong> to <a href='https://wandb.ai/ruisu/flicker_raw_images' target=\"_blank\">Weights & Biases</a> (<a href='https://wandb.me/run' target=\"_blank\">docs</a>)<br/>"
      ],
      "text/plain": [
       "<IPython.core.display.HTML object>"
      ]
     },
     "metadata": {},
     "output_type": "display_data"
    },
    {
     "data": {
      "text/html": [
       " View project at <a href='https://wandb.ai/ruisu/flicker_raw_images' target=\"_blank\">https://wandb.ai/ruisu/flicker_raw_images</a>"
      ],
      "text/plain": [
       "<IPython.core.display.HTML object>"
      ]
     },
     "metadata": {},
     "output_type": "display_data"
    },
    {
     "data": {
      "text/html": [
       " View run at <a href='https://wandb.ai/ruisu/flicker_raw_images/runs/jxsmyev0' target=\"_blank\">https://wandb.ai/ruisu/flicker_raw_images/runs/jxsmyev0</a>"
      ],
      "text/plain": [
       "<IPython.core.display.HTML object>"
      ]
     },
     "metadata": {},
     "output_type": "display_data"
    },
    {
     "data": {
      "text/html": [
       "<style>\n",
       "    table.wandb td:nth-child(1) { padding: 0 10px; text-align: left ; width: auto;} td:nth-child(2) {text-align: left ; width: 100%}\n",
       "    .wandb-row { display: flex; flex-direction: row; flex-wrap: wrap; justify-content: flex-start; width: 100% }\n",
       "    .wandb-col { display: flex; flex-direction: column; flex-basis: 100%; flex: 1; padding: 10px; }\n",
       "    </style>\n",
       "<div class=\"wandb-row\"><div class=\"wandb-col\"><h3>Run history:</h3><br/><table class=\"wandb\"><tr><td>org_id</td><td>▁</td></tr></table><br/></div><div class=\"wandb-col\"><h3>Run summary:</h3><br/><table class=\"wandb\"><tr><td>caption</td><td>bringing about five ...</td></tr><tr><td>dataset_name</td><td>conceptual_12m-train...</td></tr><tr><td>number</td><td>five</td></tr><tr><td>object</td><td>times</td></tr><tr><td>org_id</td><td>350612</td></tr><tr><td>url</td><td>https://www.antiques...</td></tr></table><br/></div></div>"
      ],
      "text/plain": [
       "<IPython.core.display.HTML object>"
      ]
     },
     "metadata": {},
     "output_type": "display_data"
    },
    {
     "data": {
      "text/html": [
       " View run <strong style=\"color:#cdcd00\">light-donkey-7676</strong> at: <a href='https://wandb.ai/ruisu/flicker_raw_images/runs/jxsmyev0' target=\"_blank\">https://wandb.ai/ruisu/flicker_raw_images/runs/jxsmyev0</a><br/> View project at: <a href='https://wandb.ai/ruisu/flicker_raw_images' target=\"_blank\">https://wandb.ai/ruisu/flicker_raw_images</a><br/>Synced 5 W&B file(s), 1 media file(s), 0 artifact file(s) and 0 other file(s)"
      ],
      "text/plain": [
       "<IPython.core.display.HTML object>"
      ]
     },
     "metadata": {},
     "output_type": "display_data"
    },
    {
     "data": {
      "text/html": [
       "Find logs at: <code>./wandb/run-20240512_211249-jxsmyev0/logs</code>"
      ],
      "text/plain": [
       "<IPython.core.display.HTML object>"
      ]
     },
     "metadata": {},
     "output_type": "display_data"
    },
    {
     "name": "stderr",
     "output_type": "stream",
     "text": [
      "Code: no number: : 350901it [06:12, 61.06it/s]"
     ]
    },
    {
     "name": "stdout",
     "output_type": "stream",
     "text": [
      "found_phrases [('five', 'children')]\n",
      "caption five children laughing during the family photography session\n",
      "\n"
     ]
    },
    {
     "name": "stderr",
     "output_type": "stream",
     "text": [
      "Code: no number: : 350990it [06:13, 65.02it/s]    "
     ]
    },
    {
     "name": "stdout",
     "output_type": "stream",
     "text": [
      "Failed to process image http://terilynnh.com/wp-content/uploads/2020/01/dfsbw-2-1030x824.jpg: ('Connection aborted.', RemoteDisconnected('Remote end closed connection without response'))\n",
      "found_phrases [('five', 'syllables'), ('five', 'syllables')]\n",
      "caption even though i'm a murder mystery author, i love writing poetry, and i find it cathartic to write about my feelings. haiku are wonderful for this, as they are very short, so a manageable length, and they are traditionally expressive and contemplative. it's conventional to have a line containing five syllables, followed by one with seven, then a line of five syllables again so seventeen syllables in all. try it, you'll soon see how easy, rewarding and addictive it can be #inspiration #poems syllable, writing poetry, haiku, writing inspiration, in my feelings, trauma, seventeen, mystery, poems\n",
      "\n"
     ]
    },
    {
     "data": {
      "text/html": [
       "wandb version 0.17.0 is available!  To upgrade, please run:\n",
       " $ pip install wandb --upgrade"
      ],
      "text/plain": [
       "<IPython.core.display.HTML object>"
      ]
     },
     "metadata": {},
     "output_type": "display_data"
    },
    {
     "data": {
      "text/html": [
       "Tracking run with wandb version 0.16.6"
      ],
      "text/plain": [
       "<IPython.core.display.HTML object>"
      ]
     },
     "metadata": {},
     "output_type": "display_data"
    },
    {
     "data": {
      "text/html": [
       "Run data is saved locally in <code>/Users/susu/Library/CloudStorage/OneDrive-Personal/Wisc/clip_count_continued/CLIP_Counting/wandb/run-20240512_211256-rz5598po</code>"
      ],
      "text/plain": [
       "<IPython.core.display.HTML object>"
      ]
     },
     "metadata": {},
     "output_type": "display_data"
    },
    {
     "data": {
      "text/html": [
       "Syncing run <strong><a href='https://wandb.ai/ruisu/flicker_raw_images/runs/rz5598po' target=\"_blank\">soft-glitter-7677</a></strong> to <a href='https://wandb.ai/ruisu/flicker_raw_images' target=\"_blank\">Weights & Biases</a> (<a href='https://wandb.me/run' target=\"_blank\">docs</a>)<br/>"
      ],
      "text/plain": [
       "<IPython.core.display.HTML object>"
      ]
     },
     "metadata": {},
     "output_type": "display_data"
    },
    {
     "data": {
      "text/html": [
       " View project at <a href='https://wandb.ai/ruisu/flicker_raw_images' target=\"_blank\">https://wandb.ai/ruisu/flicker_raw_images</a>"
      ],
      "text/plain": [
       "<IPython.core.display.HTML object>"
      ]
     },
     "metadata": {},
     "output_type": "display_data"
    },
    {
     "data": {
      "text/html": [
       " View run at <a href='https://wandb.ai/ruisu/flicker_raw_images/runs/rz5598po' target=\"_blank\">https://wandb.ai/ruisu/flicker_raw_images/runs/rz5598po</a>"
      ],
      "text/plain": [
       "<IPython.core.display.HTML object>"
      ]
     },
     "metadata": {},
     "output_type": "display_data"
    },
    {
     "data": {
      "text/html": [
       "<style>\n",
       "    table.wandb td:nth-child(1) { padding: 0 10px; text-align: left ; width: auto;} td:nth-child(2) {text-align: left ; width: 100%}\n",
       "    .wandb-row { display: flex; flex-direction: row; flex-wrap: wrap; justify-content: flex-start; width: 100% }\n",
       "    .wandb-col { display: flex; flex-direction: column; flex-basis: 100%; flex: 1; padding: 10px; }\n",
       "    </style>\n",
       "<div class=\"wandb-row\"><div class=\"wandb-col\"><h3>Run history:</h3><br/><table class=\"wandb\"><tr><td>org_id</td><td>▁</td></tr></table><br/></div><div class=\"wandb-col\"><h3>Run summary:</h3><br/><table class=\"wandb\"><tr><td>caption</td><td>even though i'm a mu...</td></tr><tr><td>dataset_name</td><td>conceptual_12m-train...</td></tr><tr><td>number</td><td>five</td></tr><tr><td>object</td><td>syllables</td></tr><tr><td>org_id</td><td>351179</td></tr><tr><td>url</td><td>https://i.pinimg.com...</td></tr></table><br/></div></div>"
      ],
      "text/plain": [
       "<IPython.core.display.HTML object>"
      ]
     },
     "metadata": {},
     "output_type": "display_data"
    },
    {
     "data": {
      "text/html": [
       " View run <strong style=\"color:#cdcd00\">soft-glitter-7677</strong> at: <a href='https://wandb.ai/ruisu/flicker_raw_images/runs/rz5598po' target=\"_blank\">https://wandb.ai/ruisu/flicker_raw_images/runs/rz5598po</a><br/> View project at: <a href='https://wandb.ai/ruisu/flicker_raw_images' target=\"_blank\">https://wandb.ai/ruisu/flicker_raw_images</a><br/>Synced 5 W&B file(s), 1 media file(s), 0 artifact file(s) and 0 other file(s)"
      ],
      "text/plain": [
       "<IPython.core.display.HTML object>"
      ]
     },
     "metadata": {},
     "output_type": "display_data"
    },
    {
     "data": {
      "text/html": [
       "Find logs at: <code>./wandb/run-20240512_211256-rz5598po/logs</code>"
      ],
      "text/plain": [
       "<IPython.core.display.HTML object>"
      ]
     },
     "metadata": {},
     "output_type": "display_data"
    },
    {
     "name": "stderr",
     "output_type": "stream",
     "text": [
      "Code: no number: : 351439it [06:19, 85.87it/s]"
     ]
    },
    {
     "name": "stdout",
     "output_type": "stream",
     "text": [
      "found_phrases [('five', 'guys')]\n",
      "caption the vertical video is everything my true love, i love him, my love, the brave one, <person>, five guys, why dont <person>, man band, <person>\n",
      "\n"
     ]
    },
    {
     "data": {
      "text/html": [
       "wandb version 0.17.0 is available!  To upgrade, please run:\n",
       " $ pip install wandb --upgrade"
      ],
      "text/plain": [
       "<IPython.core.display.HTML object>"
      ]
     },
     "metadata": {},
     "output_type": "display_data"
    },
    {
     "data": {
      "text/html": [
       "Tracking run with wandb version 0.16.6"
      ],
      "text/plain": [
       "<IPython.core.display.HTML object>"
      ]
     },
     "metadata": {},
     "output_type": "display_data"
    },
    {
     "data": {
      "text/html": [
       "Run data is saved locally in <code>/Users/susu/Library/CloudStorage/OneDrive-Personal/Wisc/clip_count_continued/CLIP_Counting/wandb/run-20240512_211302-5l1mkmb1</code>"
      ],
      "text/plain": [
       "<IPython.core.display.HTML object>"
      ]
     },
     "metadata": {},
     "output_type": "display_data"
    },
    {
     "data": {
      "text/html": [
       "Syncing run <strong><a href='https://wandb.ai/ruisu/flicker_raw_images/runs/5l1mkmb1' target=\"_blank\">confused-wildflower-7678</a></strong> to <a href='https://wandb.ai/ruisu/flicker_raw_images' target=\"_blank\">Weights & Biases</a> (<a href='https://wandb.me/run' target=\"_blank\">docs</a>)<br/>"
      ],
      "text/plain": [
       "<IPython.core.display.HTML object>"
      ]
     },
     "metadata": {},
     "output_type": "display_data"
    },
    {
     "data": {
      "text/html": [
       " View project at <a href='https://wandb.ai/ruisu/flicker_raw_images' target=\"_blank\">https://wandb.ai/ruisu/flicker_raw_images</a>"
      ],
      "text/plain": [
       "<IPython.core.display.HTML object>"
      ]
     },
     "metadata": {},
     "output_type": "display_data"
    },
    {
     "data": {
      "text/html": [
       " View run at <a href='https://wandb.ai/ruisu/flicker_raw_images/runs/5l1mkmb1' target=\"_blank\">https://wandb.ai/ruisu/flicker_raw_images/runs/5l1mkmb1</a>"
      ],
      "text/plain": [
       "<IPython.core.display.HTML object>"
      ]
     },
     "metadata": {},
     "output_type": "display_data"
    },
    {
     "data": {
      "text/html": [
       "<style>\n",
       "    table.wandb td:nth-child(1) { padding: 0 10px; text-align: left ; width: auto;} td:nth-child(2) {text-align: left ; width: 100%}\n",
       "    .wandb-row { display: flex; flex-direction: row; flex-wrap: wrap; justify-content: flex-start; width: 100% }\n",
       "    .wandb-col { display: flex; flex-direction: column; flex-basis: 100%; flex: 1; padding: 10px; }\n",
       "    </style>\n",
       "<div class=\"wandb-row\"><div class=\"wandb-col\"><h3>Run history:</h3><br/><table class=\"wandb\"><tr><td>org_id</td><td>▁</td></tr></table><br/></div><div class=\"wandb-col\"><h3>Run summary:</h3><br/><table class=\"wandb\"><tr><td>caption</td><td>the vertical video i...</td></tr><tr><td>dataset_name</td><td>conceptual_12m-train...</td></tr><tr><td>number</td><td>five</td></tr><tr><td>object</td><td>guys</td></tr><tr><td>org_id</td><td>351538</td></tr><tr><td>url</td><td>https://i.pinimg.com...</td></tr></table><br/></div></div>"
      ],
      "text/plain": [
       "<IPython.core.display.HTML object>"
      ]
     },
     "metadata": {},
     "output_type": "display_data"
    },
    {
     "data": {
      "text/html": [
       " View run <strong style=\"color:#cdcd00\">confused-wildflower-7678</strong> at: <a href='https://wandb.ai/ruisu/flicker_raw_images/runs/5l1mkmb1' target=\"_blank\">https://wandb.ai/ruisu/flicker_raw_images/runs/5l1mkmb1</a><br/> View project at: <a href='https://wandb.ai/ruisu/flicker_raw_images' target=\"_blank\">https://wandb.ai/ruisu/flicker_raw_images</a><br/>Synced 5 W&B file(s), 1 media file(s), 0 artifact file(s) and 0 other file(s)"
      ],
      "text/plain": [
       "<IPython.core.display.HTML object>"
      ]
     },
     "metadata": {},
     "output_type": "display_data"
    },
    {
     "data": {
      "text/html": [
       "Find logs at: <code>./wandb/run-20240512_211302-5l1mkmb1/logs</code>"
      ],
      "text/plain": [
       "<IPython.core.display.HTML object>"
      ]
     },
     "metadata": {},
     "output_type": "display_data"
    },
    {
     "name": "stderr",
     "output_type": "stream",
     "text": [
      "Code: no number: : 352515it [06:25, 306.22it/s]    "
     ]
    },
    {
     "name": "stdout",
     "output_type": "stream",
     "text": [
      "found_phrases []\n",
      "caption copy of five a day fruits and veg\n",
      "\n"
     ]
    },
    {
     "name": "stderr",
     "output_type": "stream",
     "text": [
      "Code: no number: : 352749it [06:26, 444.94it/s]"
     ]
    },
    {
     "name": "stdout",
     "output_type": "stream",
     "text": [
      "found_phrases [('five', 'stars')]\n",
      "caption a bed or beds in a room at le royal res. negresco five stars holiday house\n",
      "\n"
     ]
    },
    {
     "name": "stderr",
     "output_type": "stream",
     "text": [
      "Code: no number: : 353120it [06:26, 481.90it/s]    "
     ]
    },
    {
     "name": "stdout",
     "output_type": "stream",
     "text": [
      "Failed to process image https://q-cf.bstatic.com/images/hotel/max1024x768/149/149662448.jpg: cannot identify image file <_io.BytesIO object at 0x7fa3786d9400>\n",
      "found_phrases []\n",
      "caption vintage hairstyles <person>: here's another take on this late bob. - <person> was one of the most popular stars of the and early -- and she appeared in an astonishing number of films, five of which are being screened at the glasgow film festiva... old hollywood glamour, golden age of hollywood, classic hollywood, vintage hollywood, hollywood divas, hollywood icons, hollywood actresses, <person>, 1940s hairstyles\n",
      "\n"
     ]
    },
    {
     "name": "stderr",
     "output_type": "stream",
     "text": [
      "Code: no number: : 355641it [06:28, 1765.46it/s]    "
     ]
    },
    {
     "name": "stdout",
     "output_type": "stream",
     "text": [
      "found_phrases []\n",
      "caption five incident management team vehicles offered the media ride-alongs to give them a better idea of what it's like to be an imt professional. photo by <person>.\n",
      "\n",
      "found_phrases [('five', 'earths')]\n",
      "caption table showing how many earths humanity would require if everybody in the world lived like the citizens of selected nations, according to global footprint network in 2019. for the u.s., five earths would be required. for india, 0.7 earths would be required. graphic: global footprint network\n",
      "\n"
     ]
    },
    {
     "name": "stderr",
     "output_type": "stream",
     "text": [
      "Code: no number: : 355836it [06:31, 190.44it/s]     "
     ]
    },
    {
     "name": "stdout",
     "output_type": "stream",
     "text": [
      "Failed to process image https://desdemonadespair.net/wp-content/uploads/2019/07/How-many-Earths-do-we-need-2019-Global-Footprint-Network-768x675.jpg: cannot identify image file <_io.BytesIO object at 0x7fa38852aa90>\n"
     ]
    },
    {
     "name": "stderr",
     "output_type": "stream",
     "text": [
      "Code: no number: : 356713it [06:32, 620.61it/s]"
     ]
    },
    {
     "name": "stdout",
     "output_type": "stream",
     "text": [
      "found_phrases [('five', 'anniversary celebrations')]\n",
      "caption a color full pink 35 th birthday celebration greeting card design, birthday party poster background with balloon, ribbon and gift box full color. thirty five anniversary celebrations\n",
      "\n"
     ]
    },
    {
     "data": {
      "text/html": [
       "wandb version 0.17.0 is available!  To upgrade, please run:\n",
       " $ pip install wandb --upgrade"
      ],
      "text/plain": [
       "<IPython.core.display.HTML object>"
      ]
     },
     "metadata": {},
     "output_type": "display_data"
    },
    {
     "data": {
      "text/html": [
       "Tracking run with wandb version 0.16.6"
      ],
      "text/plain": [
       "<IPython.core.display.HTML object>"
      ]
     },
     "metadata": {},
     "output_type": "display_data"
    },
    {
     "data": {
      "text/html": [
       "Run data is saved locally in <code>/Users/susu/Library/CloudStorage/OneDrive-Personal/Wisc/clip_count_continued/CLIP_Counting/wandb/run-20240512_211316-dqkjmpmz</code>"
      ],
      "text/plain": [
       "<IPython.core.display.HTML object>"
      ]
     },
     "metadata": {},
     "output_type": "display_data"
    },
    {
     "data": {
      "text/html": [
       "Syncing run <strong><a href='https://wandb.ai/ruisu/flicker_raw_images/runs/dqkjmpmz' target=\"_blank\">fanciful-fog-7679</a></strong> to <a href='https://wandb.ai/ruisu/flicker_raw_images' target=\"_blank\">Weights & Biases</a> (<a href='https://wandb.me/run' target=\"_blank\">docs</a>)<br/>"
      ],
      "text/plain": [
       "<IPython.core.display.HTML object>"
      ]
     },
     "metadata": {},
     "output_type": "display_data"
    },
    {
     "data": {
      "text/html": [
       " View project at <a href='https://wandb.ai/ruisu/flicker_raw_images' target=\"_blank\">https://wandb.ai/ruisu/flicker_raw_images</a>"
      ],
      "text/plain": [
       "<IPython.core.display.HTML object>"
      ]
     },
     "metadata": {},
     "output_type": "display_data"
    },
    {
     "data": {
      "text/html": [
       " View run at <a href='https://wandb.ai/ruisu/flicker_raw_images/runs/dqkjmpmz' target=\"_blank\">https://wandb.ai/ruisu/flicker_raw_images/runs/dqkjmpmz</a>"
      ],
      "text/plain": [
       "<IPython.core.display.HTML object>"
      ]
     },
     "metadata": {},
     "output_type": "display_data"
    },
    {
     "data": {
      "text/html": [
       "<style>\n",
       "    table.wandb td:nth-child(1) { padding: 0 10px; text-align: left ; width: auto;} td:nth-child(2) {text-align: left ; width: 100%}\n",
       "    .wandb-row { display: flex; flex-direction: row; flex-wrap: wrap; justify-content: flex-start; width: 100% }\n",
       "    .wandb-col { display: flex; flex-direction: column; flex-basis: 100%; flex: 1; padding: 10px; }\n",
       "    </style>\n",
       "<div class=\"wandb-row\"><div class=\"wandb-col\"><h3>Run history:</h3><br/><table class=\"wandb\"><tr><td>org_id</td><td>▁</td></tr></table><br/></div><div class=\"wandb-col\"><h3>Run summary:</h3><br/><table class=\"wandb\"><tr><td>caption</td><td>a color full pink 35...</td></tr><tr><td>dataset_name</td><td>conceptual_12m-train...</td></tr><tr><td>number</td><td>five</td></tr><tr><td>object</td><td>anniversary celebrat...</td></tr><tr><td>org_id</td><td>356826</td></tr><tr><td>url</td><td>https://us.123rf.com...</td></tr></table><br/></div></div>"
      ],
      "text/plain": [
       "<IPython.core.display.HTML object>"
      ]
     },
     "metadata": {},
     "output_type": "display_data"
    },
    {
     "data": {
      "text/html": [
       " View run <strong style=\"color:#cdcd00\">fanciful-fog-7679</strong> at: <a href='https://wandb.ai/ruisu/flicker_raw_images/runs/dqkjmpmz' target=\"_blank\">https://wandb.ai/ruisu/flicker_raw_images/runs/dqkjmpmz</a><br/> View project at: <a href='https://wandb.ai/ruisu/flicker_raw_images' target=\"_blank\">https://wandb.ai/ruisu/flicker_raw_images</a><br/>Synced 5 W&B file(s), 1 media file(s), 0 artifact file(s) and 0 other file(s)"
      ],
      "text/plain": [
       "<IPython.core.display.HTML object>"
      ]
     },
     "metadata": {},
     "output_type": "display_data"
    },
    {
     "data": {
      "text/html": [
       "Find logs at: <code>./wandb/run-20240512_211316-dqkjmpmz/logs</code>"
      ],
      "text/plain": [
       "<IPython.core.display.HTML object>"
      ]
     },
     "metadata": {},
     "output_type": "display_data"
    },
    {
     "name": "stderr",
     "output_type": "stream",
     "text": [
      "Code: no number: : 357637it [06:38, 334.62it/s]"
     ]
    },
    {
     "name": "stdout",
     "output_type": "stream",
     "text": [
      "found_phrases [('five', 'years')]\n",
      "caption these asian cities will grow the fastest in the next five years\n",
      "\n"
     ]
    },
    {
     "data": {
      "text/html": [
       "wandb version 0.17.0 is available!  To upgrade, please run:\n",
       " $ pip install wandb --upgrade"
      ],
      "text/plain": [
       "<IPython.core.display.HTML object>"
      ]
     },
     "metadata": {},
     "output_type": "display_data"
    },
    {
     "data": {
      "text/html": [
       "Tracking run with wandb version 0.16.6"
      ],
      "text/plain": [
       "<IPython.core.display.HTML object>"
      ]
     },
     "metadata": {},
     "output_type": "display_data"
    },
    {
     "data": {
      "text/html": [
       "Run data is saved locally in <code>/Users/susu/Library/CloudStorage/OneDrive-Personal/Wisc/clip_count_continued/CLIP_Counting/wandb/run-20240512_211322-j1nu8dxt</code>"
      ],
      "text/plain": [
       "<IPython.core.display.HTML object>"
      ]
     },
     "metadata": {},
     "output_type": "display_data"
    },
    {
     "data": {
      "text/html": [
       "Syncing run <strong><a href='https://wandb.ai/ruisu/flicker_raw_images/runs/j1nu8dxt' target=\"_blank\">brisk-firebrand-7680</a></strong> to <a href='https://wandb.ai/ruisu/flicker_raw_images' target=\"_blank\">Weights & Biases</a> (<a href='https://wandb.me/run' target=\"_blank\">docs</a>)<br/>"
      ],
      "text/plain": [
       "<IPython.core.display.HTML object>"
      ]
     },
     "metadata": {},
     "output_type": "display_data"
    },
    {
     "data": {
      "text/html": [
       " View project at <a href='https://wandb.ai/ruisu/flicker_raw_images' target=\"_blank\">https://wandb.ai/ruisu/flicker_raw_images</a>"
      ],
      "text/plain": [
       "<IPython.core.display.HTML object>"
      ]
     },
     "metadata": {},
     "output_type": "display_data"
    },
    {
     "data": {
      "text/html": [
       " View run at <a href='https://wandb.ai/ruisu/flicker_raw_images/runs/j1nu8dxt' target=\"_blank\">https://wandb.ai/ruisu/flicker_raw_images/runs/j1nu8dxt</a>"
      ],
      "text/plain": [
       "<IPython.core.display.HTML object>"
      ]
     },
     "metadata": {},
     "output_type": "display_data"
    },
    {
     "data": {
      "text/html": [
       "<style>\n",
       "    table.wandb td:nth-child(1) { padding: 0 10px; text-align: left ; width: auto;} td:nth-child(2) {text-align: left ; width: 100%}\n",
       "    .wandb-row { display: flex; flex-direction: row; flex-wrap: wrap; justify-content: flex-start; width: 100% }\n",
       "    .wandb-col { display: flex; flex-direction: column; flex-basis: 100%; flex: 1; padding: 10px; }\n",
       "    </style>\n",
       "<div class=\"wandb-row\"><div class=\"wandb-col\"><h3>Run history:</h3><br/><table class=\"wandb\"><tr><td>org_id</td><td>▁</td></tr></table><br/></div><div class=\"wandb-col\"><h3>Run summary:</h3><br/><table class=\"wandb\"><tr><td>caption</td><td>these asian cities w...</td></tr><tr><td>dataset_name</td><td>conceptual_12m-train...</td></tr><tr><td>number</td><td>five</td></tr><tr><td>object</td><td>years</td></tr><tr><td>org_id</td><td>357675</td></tr><tr><td>url</td><td>https://images.asset...</td></tr></table><br/></div></div>"
      ],
      "text/plain": [
       "<IPython.core.display.HTML object>"
      ]
     },
     "metadata": {},
     "output_type": "display_data"
    },
    {
     "data": {
      "text/html": [
       " View run <strong style=\"color:#cdcd00\">brisk-firebrand-7680</strong> at: <a href='https://wandb.ai/ruisu/flicker_raw_images/runs/j1nu8dxt' target=\"_blank\">https://wandb.ai/ruisu/flicker_raw_images/runs/j1nu8dxt</a><br/> View project at: <a href='https://wandb.ai/ruisu/flicker_raw_images' target=\"_blank\">https://wandb.ai/ruisu/flicker_raw_images</a><br/>Synced 5 W&B file(s), 1 media file(s), 0 artifact file(s) and 0 other file(s)"
      ],
      "text/plain": [
       "<IPython.core.display.HTML object>"
      ]
     },
     "metadata": {},
     "output_type": "display_data"
    },
    {
     "data": {
      "text/html": [
       "Find logs at: <code>./wandb/run-20240512_211322-j1nu8dxt/logs</code>"
      ],
      "text/plain": [
       "<IPython.core.display.HTML object>"
      ]
     },
     "metadata": {},
     "output_type": "display_data"
    },
    {
     "name": "stderr",
     "output_type": "stream",
     "text": [
      "Code: no number: : 358052it [06:46, 102.76it/s]    "
     ]
    },
    {
     "name": "stdout",
     "output_type": "stream",
     "text": [
      "found_phrases []\n",
      "caption figure 1: response curves describing the response in yield of five wheat varieties to crown rot at an experiment near <person> in 2015. coloured symbols and line types correspond to different varieties. variety resistance categories provided beneath variety names.\n",
      "\n"
     ]
    },
    {
     "name": "stderr",
     "output_type": "stream",
     "text": [
      "Code: no number: : 358638it [06:47, 246.81it/s]    "
     ]
    },
    {
     "name": "stdout",
     "output_type": "stream",
     "text": [
      "found_phrases []\n",
      "caption as a global superstar city as well as a nation state, singapore has harnessed the entire spectrum of land and housing policies to keep housing prices affordable. its house price to income ratio of five is the lowest among the global superstar cities.\n",
      "\n"
     ]
    },
    {
     "name": "stderr",
     "output_type": "stream",
     "text": [
      "Code: no number: : 358829it [06:47, 333.54it/s]"
     ]
    },
    {
     "name": "stdout",
     "output_type": "stream",
     "text": [
      "found_phrases [('five', 'start-ups')]\n",
      "caption india's push to go electric: meet five start-ups who are riding the electric vehicle wave\n",
      "\n"
     ]
    },
    {
     "data": {
      "text/html": [
       "wandb version 0.17.0 is available!  To upgrade, please run:\n",
       " $ pip install wandb --upgrade"
      ],
      "text/plain": [
       "<IPython.core.display.HTML object>"
      ]
     },
     "metadata": {},
     "output_type": "display_data"
    },
    {
     "data": {
      "text/html": [
       "Tracking run with wandb version 0.16.6"
      ],
      "text/plain": [
       "<IPython.core.display.HTML object>"
      ]
     },
     "metadata": {},
     "output_type": "display_data"
    },
    {
     "data": {
      "text/html": [
       "Run data is saved locally in <code>/Users/susu/Library/CloudStorage/OneDrive-Personal/Wisc/clip_count_continued/CLIP_Counting/wandb/run-20240512_211331-snz2cjru</code>"
      ],
      "text/plain": [
       "<IPython.core.display.HTML object>"
      ]
     },
     "metadata": {},
     "output_type": "display_data"
    },
    {
     "data": {
      "text/html": [
       "Syncing run <strong><a href='https://wandb.ai/ruisu/flicker_raw_images/runs/snz2cjru' target=\"_blank\">dutiful-tree-7681</a></strong> to <a href='https://wandb.ai/ruisu/flicker_raw_images' target=\"_blank\">Weights & Biases</a> (<a href='https://wandb.me/run' target=\"_blank\">docs</a>)<br/>"
      ],
      "text/plain": [
       "<IPython.core.display.HTML object>"
      ]
     },
     "metadata": {},
     "output_type": "display_data"
    },
    {
     "data": {
      "text/html": [
       " View project at <a href='https://wandb.ai/ruisu/flicker_raw_images' target=\"_blank\">https://wandb.ai/ruisu/flicker_raw_images</a>"
      ],
      "text/plain": [
       "<IPython.core.display.HTML object>"
      ]
     },
     "metadata": {},
     "output_type": "display_data"
    },
    {
     "data": {
      "text/html": [
       " View run at <a href='https://wandb.ai/ruisu/flicker_raw_images/runs/snz2cjru' target=\"_blank\">https://wandb.ai/ruisu/flicker_raw_images/runs/snz2cjru</a>"
      ],
      "text/plain": [
       "<IPython.core.display.HTML object>"
      ]
     },
     "metadata": {},
     "output_type": "display_data"
    },
    {
     "data": {
      "text/html": [
       "<style>\n",
       "    table.wandb td:nth-child(1) { padding: 0 10px; text-align: left ; width: auto;} td:nth-child(2) {text-align: left ; width: 100%}\n",
       "    .wandb-row { display: flex; flex-direction: row; flex-wrap: wrap; justify-content: flex-start; width: 100% }\n",
       "    .wandb-col { display: flex; flex-direction: column; flex-basis: 100%; flex: 1; padding: 10px; }\n",
       "    </style>\n",
       "<div class=\"wandb-row\"><div class=\"wandb-col\"><h3>Run history:</h3><br/><table class=\"wandb\"><tr><td>org_id</td><td>▁</td></tr></table><br/></div><div class=\"wandb-col\"><h3>Run summary:</h3><br/><table class=\"wandb\"><tr><td>caption</td><td>india's push to go e...</td></tr><tr><td>dataset_name</td><td>conceptual_12m-train...</td></tr><tr><td>number</td><td>five</td></tr><tr><td>object</td><td>start-ups</td></tr><tr><td>org_id</td><td>359046</td></tr><tr><td>url</td><td>https://w.ndtvimg.co...</td></tr></table><br/></div></div>"
      ],
      "text/plain": [
       "<IPython.core.display.HTML object>"
      ]
     },
     "metadata": {},
     "output_type": "display_data"
    },
    {
     "data": {
      "text/html": [
       " View run <strong style=\"color:#cdcd00\">dutiful-tree-7681</strong> at: <a href='https://wandb.ai/ruisu/flicker_raw_images/runs/snz2cjru' target=\"_blank\">https://wandb.ai/ruisu/flicker_raw_images/runs/snz2cjru</a><br/> View project at: <a href='https://wandb.ai/ruisu/flicker_raw_images' target=\"_blank\">https://wandb.ai/ruisu/flicker_raw_images</a><br/>Synced 5 W&B file(s), 1 media file(s), 0 artifact file(s) and 0 other file(s)"
      ],
      "text/plain": [
       "<IPython.core.display.HTML object>"
      ]
     },
     "metadata": {},
     "output_type": "display_data"
    },
    {
     "data": {
      "text/html": [
       "Find logs at: <code>./wandb/run-20240512_211331-snz2cjru/logs</code>"
      ],
      "text/plain": [
       "<IPython.core.display.HTML object>"
      ]
     },
     "metadata": {},
     "output_type": "display_data"
    },
    {
     "name": "stderr",
     "output_type": "stream",
     "text": [
      "Code: no number: : 359047it [06:56, 66.71it/s] "
     ]
    },
    {
     "name": "stdout",
     "output_type": "stream",
     "text": [
      "found_phrases [('five', 'friends')]\n",
      "caption <person> of lansing and five friends are staying in a 18 foot by 36 foot army tent in the infield at the faster horses festival on thursday, july 18, 2019. the self proclaimed ``hillbilly sleepover'' and country music festival runs until sunday.\n",
      "\n"
     ]
    },
    {
     "data": {
      "text/html": [
       "wandb version 0.17.0 is available!  To upgrade, please run:\n",
       " $ pip install wandb --upgrade"
      ],
      "text/plain": [
       "<IPython.core.display.HTML object>"
      ]
     },
     "metadata": {},
     "output_type": "display_data"
    },
    {
     "data": {
      "text/html": [
       "Tracking run with wandb version 0.16.6"
      ],
      "text/plain": [
       "<IPython.core.display.HTML object>"
      ]
     },
     "metadata": {},
     "output_type": "display_data"
    },
    {
     "data": {
      "text/html": [
       "Run data is saved locally in <code>/Users/susu/Library/CloudStorage/OneDrive-Personal/Wisc/clip_count_continued/CLIP_Counting/wandb/run-20240512_211339-nse4106a</code>"
      ],
      "text/plain": [
       "<IPython.core.display.HTML object>"
      ]
     },
     "metadata": {},
     "output_type": "display_data"
    },
    {
     "data": {
      "text/html": [
       "Syncing run <strong><a href='https://wandb.ai/ruisu/flicker_raw_images/runs/nse4106a' target=\"_blank\">expert-water-7682</a></strong> to <a href='https://wandb.ai/ruisu/flicker_raw_images' target=\"_blank\">Weights & Biases</a> (<a href='https://wandb.me/run' target=\"_blank\">docs</a>)<br/>"
      ],
      "text/plain": [
       "<IPython.core.display.HTML object>"
      ]
     },
     "metadata": {},
     "output_type": "display_data"
    },
    {
     "data": {
      "text/html": [
       " View project at <a href='https://wandb.ai/ruisu/flicker_raw_images' target=\"_blank\">https://wandb.ai/ruisu/flicker_raw_images</a>"
      ],
      "text/plain": [
       "<IPython.core.display.HTML object>"
      ]
     },
     "metadata": {},
     "output_type": "display_data"
    },
    {
     "data": {
      "text/html": [
       " View run at <a href='https://wandb.ai/ruisu/flicker_raw_images/runs/nse4106a' target=\"_blank\">https://wandb.ai/ruisu/flicker_raw_images/runs/nse4106a</a>"
      ],
      "text/plain": [
       "<IPython.core.display.HTML object>"
      ]
     },
     "metadata": {},
     "output_type": "display_data"
    },
    {
     "data": {
      "text/html": [
       "<style>\n",
       "    table.wandb td:nth-child(1) { padding: 0 10px; text-align: left ; width: auto;} td:nth-child(2) {text-align: left ; width: 100%}\n",
       "    .wandb-row { display: flex; flex-direction: row; flex-wrap: wrap; justify-content: flex-start; width: 100% }\n",
       "    .wandb-col { display: flex; flex-direction: column; flex-basis: 100%; flex: 1; padding: 10px; }\n",
       "    </style>\n",
       "<div class=\"wandb-row\"><div class=\"wandb-col\"><h3>Run history:</h3><br/><table class=\"wandb\"><tr><td>org_id</td><td>▁</td></tr></table><br/></div><div class=\"wandb-col\"><h3>Run summary:</h3><br/><table class=\"wandb\"><tr><td>caption</td><td><person> of lansing ...</td></tr><tr><td>dataset_name</td><td>conceptual_12m-train...</td></tr><tr><td>number</td><td>five</td></tr><tr><td>object</td><td>friends</td></tr><tr><td>org_id</td><td>359212</td></tr><tr><td>url</td><td>https://www.mlive.co...</td></tr></table><br/></div></div>"
      ],
      "text/plain": [
       "<IPython.core.display.HTML object>"
      ]
     },
     "metadata": {},
     "output_type": "display_data"
    },
    {
     "data": {
      "text/html": [
       " View run <strong style=\"color:#cdcd00\">expert-water-7682</strong> at: <a href='https://wandb.ai/ruisu/flicker_raw_images/runs/nse4106a' target=\"_blank\">https://wandb.ai/ruisu/flicker_raw_images/runs/nse4106a</a><br/> View project at: <a href='https://wandb.ai/ruisu/flicker_raw_images' target=\"_blank\">https://wandb.ai/ruisu/flicker_raw_images</a><br/>Synced 5 W&B file(s), 1 media file(s), 0 artifact file(s) and 0 other file(s)"
      ],
      "text/plain": [
       "<IPython.core.display.HTML object>"
      ]
     },
     "metadata": {},
     "output_type": "display_data"
    },
    {
     "data": {
      "text/html": [
       "Find logs at: <code>./wandb/run-20240512_211339-nse4106a/logs</code>"
      ],
      "text/plain": [
       "<IPython.core.display.HTML object>"
      ]
     },
     "metadata": {},
     "output_type": "display_data"
    },
    {
     "name": "stderr",
     "output_type": "stream",
     "text": [
      "Code: no number: : 359925it [07:02, 150.43it/s]"
     ]
    },
    {
     "name": "stdout",
     "output_type": "stream",
     "text": [
      "found_phrases [('five', 'voices')]\n",
      "caption four out of the five voices in my head think you're an idiot shirt ladies-shirt\n",
      "\n"
     ]
    },
    {
     "name": "stderr",
     "output_type": "stream",
     "text": [
      "Code: no number: : 360329it [07:04, 204.76it/s]    "
     ]
    },
    {
     "name": "stdout",
     "output_type": "stream",
     "text": [
      "Failed to process image https://2020huaweitee.com/wp-content/uploads/2020/04/four-out-of-the-five-voices-in-my-head-think-you-re-an-idiot-shirt-ladies-shirt-600x600.jpg: cannot identify image file <_io.BytesIO object at 0x7fa38a279a40>\n"
     ]
    },
    {
     "name": "stderr",
     "output_type": "stream",
     "text": [
      "Code: no number: : 360329it [07:04, 204.76it/s]"
     ]
    },
    {
     "name": "stdout",
     "output_type": "stream",
     "text": [
      "found_phrases [('five', 'thousand')]\n",
      "caption <person> signature edition doll . limited to five thousand worldwide .gorgeous doll vinyl and cloth has some issues. lost a thumb tiny split to back of knee and her mouth looks too open. all can be hidden though with clothing. she's worth far more than this even with these . she comes with-pink bunny tutu romper and nappy she has the cutest face and blue eyes and sweet little feel. very heavy lifelike doll super cute baby doll.\n",
      "\n"
     ]
    },
    {
     "data": {
      "text/html": [
       "wandb version 0.17.0 is available!  To upgrade, please run:\n",
       " $ pip install wandb --upgrade"
      ],
      "text/plain": [
       "<IPython.core.display.HTML object>"
      ]
     },
     "metadata": {},
     "output_type": "display_data"
    },
    {
     "data": {
      "text/html": [
       "Tracking run with wandb version 0.16.6"
      ],
      "text/plain": [
       "<IPython.core.display.HTML object>"
      ]
     },
     "metadata": {},
     "output_type": "display_data"
    },
    {
     "data": {
      "text/html": [
       "Run data is saved locally in <code>/Users/susu/Library/CloudStorage/OneDrive-Personal/Wisc/clip_count_continued/CLIP_Counting/wandb/run-20240512_211348-b3e3gaw2</code>"
      ],
      "text/plain": [
       "<IPython.core.display.HTML object>"
      ]
     },
     "metadata": {},
     "output_type": "display_data"
    },
    {
     "data": {
      "text/html": [
       "Syncing run <strong><a href='https://wandb.ai/ruisu/flicker_raw_images/runs/b3e3gaw2' target=\"_blank\">misunderstood-lake-7683</a></strong> to <a href='https://wandb.ai/ruisu/flicker_raw_images' target=\"_blank\">Weights & Biases</a> (<a href='https://wandb.me/run' target=\"_blank\">docs</a>)<br/>"
      ],
      "text/plain": [
       "<IPython.core.display.HTML object>"
      ]
     },
     "metadata": {},
     "output_type": "display_data"
    },
    {
     "data": {
      "text/html": [
       " View project at <a href='https://wandb.ai/ruisu/flicker_raw_images' target=\"_blank\">https://wandb.ai/ruisu/flicker_raw_images</a>"
      ],
      "text/plain": [
       "<IPython.core.display.HTML object>"
      ]
     },
     "metadata": {},
     "output_type": "display_data"
    },
    {
     "data": {
      "text/html": [
       " View run at <a href='https://wandb.ai/ruisu/flicker_raw_images/runs/b3e3gaw2' target=\"_blank\">https://wandb.ai/ruisu/flicker_raw_images/runs/b3e3gaw2</a>"
      ],
      "text/plain": [
       "<IPython.core.display.HTML object>"
      ]
     },
     "metadata": {},
     "output_type": "display_data"
    },
    {
     "data": {
      "text/html": [
       "<style>\n",
       "    table.wandb td:nth-child(1) { padding: 0 10px; text-align: left ; width: auto;} td:nth-child(2) {text-align: left ; width: 100%}\n",
       "    .wandb-row { display: flex; flex-direction: row; flex-wrap: wrap; justify-content: flex-start; width: 100% }\n",
       "    .wandb-col { display: flex; flex-direction: column; flex-basis: 100%; flex: 1; padding: 10px; }\n",
       "    </style>\n",
       "<div class=\"wandb-row\"><div class=\"wandb-col\"><h3>Run history:</h3><br/><table class=\"wandb\"><tr><td>org_id</td><td>▁</td></tr></table><br/></div><div class=\"wandb-col\"><h3>Run summary:</h3><br/><table class=\"wandb\"><tr><td>caption</td><td><person> signature e...</td></tr><tr><td>dataset_name</td><td>conceptual_12m-train...</td></tr><tr><td>number</td><td>five</td></tr><tr><td>object</td><td>thousand</td></tr><tr><td>org_id</td><td>360466</td></tr><tr><td>url</td><td>https://webimg.secon...</td></tr></table><br/></div></div>"
      ],
      "text/plain": [
       "<IPython.core.display.HTML object>"
      ]
     },
     "metadata": {},
     "output_type": "display_data"
    },
    {
     "data": {
      "text/html": [
       " View run <strong style=\"color:#cdcd00\">misunderstood-lake-7683</strong> at: <a href='https://wandb.ai/ruisu/flicker_raw_images/runs/b3e3gaw2' target=\"_blank\">https://wandb.ai/ruisu/flicker_raw_images/runs/b3e3gaw2</a><br/> View project at: <a href='https://wandb.ai/ruisu/flicker_raw_images' target=\"_blank\">https://wandb.ai/ruisu/flicker_raw_images</a><br/>Synced 5 W&B file(s), 1 media file(s), 0 artifact file(s) and 0 other file(s)"
      ],
      "text/plain": [
       "<IPython.core.display.HTML object>"
      ]
     },
     "metadata": {},
     "output_type": "display_data"
    },
    {
     "data": {
      "text/html": [
       "Find logs at: <code>./wandb/run-20240512_211348-b3e3gaw2/logs</code>"
      ],
      "text/plain": [
       "<IPython.core.display.HTML object>"
      ]
     },
     "metadata": {},
     "output_type": "display_data"
    },
    {
     "name": "stderr",
     "output_type": "stream",
     "text": [
      "Code: no number: : 361484it [07:16, 249.64it/s]    "
     ]
    },
    {
     "name": "stdout",
     "output_type": "stream",
     "text": [
      "found_phrases []\n",
      "caption the five-star luxury resort enclave of nusa dua is home to a select group of shopping locations offering fashion, art, spa products and souvenirs to take back home. bali shopping, tourism development, bali resort, five star hotel, art music, nice tops, formal dresses, fashion art, collection\n",
      "\n"
     ]
    },
    {
     "name": "stderr",
     "output_type": "stream",
     "text": [
      "Code: no number: : 361484it [07:16, 249.64it/s]"
     ]
    },
    {
     "name": "stdout",
     "output_type": "stream",
     "text": [
      "found_phrases [('five', 'nations')]\n",
      "caption five nations tournament france vs england with the ball france's lock <person>\n",
      "\n"
     ]
    },
    {
     "name": "stderr",
     "output_type": "stream",
     "text": [
      "Code: no number: : 361484it [07:17, 249.64it/s]    "
     ]
    },
    {
     "name": "stdout",
     "output_type": "stream",
     "text": [
      "Failed to process image https://media.gettyimages.com/photos/five-nations-tournament-france-vs-england-with-the-ball-frances-lock-picture-id639617443?s=612x612: cannot identify image file <_io.BytesIO object at 0x7fa38a27f7c0>\n",
      "found_phrases [('five', 'top men')]\n",
      "caption the bcci has ensured that the five top men of indian cricket - <person>, <person>, <person>, <person>, <person> - are back together to run the show. fab five, <person>, cricket, indian, running, twitter, sports, fashion, moda\n",
      "\n"
     ]
    },
    {
     "data": {
      "text/html": [
       "wandb version 0.17.0 is available!  To upgrade, please run:\n",
       " $ pip install wandb --upgrade"
      ],
      "text/plain": [
       "<IPython.core.display.HTML object>"
      ]
     },
     "metadata": {},
     "output_type": "display_data"
    },
    {
     "data": {
      "text/html": [
       "Tracking run with wandb version 0.16.6"
      ],
      "text/plain": [
       "<IPython.core.display.HTML object>"
      ]
     },
     "metadata": {},
     "output_type": "display_data"
    },
    {
     "data": {
      "text/html": [
       "Run data is saved locally in <code>/Users/susu/Library/CloudStorage/OneDrive-Personal/Wisc/clip_count_continued/CLIP_Counting/wandb/run-20240512_211400-reqh7rnd</code>"
      ],
      "text/plain": [
       "<IPython.core.display.HTML object>"
      ]
     },
     "metadata": {},
     "output_type": "display_data"
    },
    {
     "data": {
      "text/html": [
       "Syncing run <strong><a href='https://wandb.ai/ruisu/flicker_raw_images/runs/reqh7rnd' target=\"_blank\">revived-serenity-7684</a></strong> to <a href='https://wandb.ai/ruisu/flicker_raw_images' target=\"_blank\">Weights & Biases</a> (<a href='https://wandb.me/run' target=\"_blank\">docs</a>)<br/>"
      ],
      "text/plain": [
       "<IPython.core.display.HTML object>"
      ]
     },
     "metadata": {},
     "output_type": "display_data"
    },
    {
     "data": {
      "text/html": [
       " View project at <a href='https://wandb.ai/ruisu/flicker_raw_images' target=\"_blank\">https://wandb.ai/ruisu/flicker_raw_images</a>"
      ],
      "text/plain": [
       "<IPython.core.display.HTML object>"
      ]
     },
     "metadata": {},
     "output_type": "display_data"
    },
    {
     "data": {
      "text/html": [
       " View run at <a href='https://wandb.ai/ruisu/flicker_raw_images/runs/reqh7rnd' target=\"_blank\">https://wandb.ai/ruisu/flicker_raw_images/runs/reqh7rnd</a>"
      ],
      "text/plain": [
       "<IPython.core.display.HTML object>"
      ]
     },
     "metadata": {},
     "output_type": "display_data"
    },
    {
     "data": {
      "text/html": [
       "<style>\n",
       "    table.wandb td:nth-child(1) { padding: 0 10px; text-align: left ; width: auto;} td:nth-child(2) {text-align: left ; width: 100%}\n",
       "    .wandb-row { display: flex; flex-direction: row; flex-wrap: wrap; justify-content: flex-start; width: 100% }\n",
       "    .wandb-col { display: flex; flex-direction: column; flex-basis: 100%; flex: 1; padding: 10px; }\n",
       "    </style>\n",
       "<div class=\"wandb-row\"><div class=\"wandb-col\"><h3>Run history:</h3><br/><table class=\"wandb\"><tr><td>org_id</td><td>▁</td></tr></table><br/></div><div class=\"wandb-col\"><h3>Run summary:</h3><br/><table class=\"wandb\"><tr><td>caption</td><td>the bcci has ensured...</td></tr><tr><td>dataset_name</td><td>conceptual_12m-train...</td></tr><tr><td>number</td><td>five</td></tr><tr><td>object</td><td>top men</td></tr><tr><td>org_id</td><td>361575</td></tr><tr><td>url</td><td>https://i.pinimg.com...</td></tr></table><br/></div></div>"
      ],
      "text/plain": [
       "<IPython.core.display.HTML object>"
      ]
     },
     "metadata": {},
     "output_type": "display_data"
    },
    {
     "data": {
      "text/html": [
       " View run <strong style=\"color:#cdcd00\">revived-serenity-7684</strong> at: <a href='https://wandb.ai/ruisu/flicker_raw_images/runs/reqh7rnd' target=\"_blank\">https://wandb.ai/ruisu/flicker_raw_images/runs/reqh7rnd</a><br/> View project at: <a href='https://wandb.ai/ruisu/flicker_raw_images' target=\"_blank\">https://wandb.ai/ruisu/flicker_raw_images</a><br/>Synced 5 W&B file(s), 1 media file(s), 0 artifact file(s) and 0 other file(s)"
      ],
      "text/plain": [
       "<IPython.core.display.HTML object>"
      ]
     },
     "metadata": {},
     "output_type": "display_data"
    },
    {
     "data": {
      "text/html": [
       "Find logs at: <code>./wandb/run-20240512_211400-reqh7rnd/logs</code>"
      ],
      "text/plain": [
       "<IPython.core.display.HTML object>"
      ]
     },
     "metadata": {},
     "output_type": "display_data"
    },
    {
     "name": "stderr",
     "output_type": "stream",
     "text": [
      "Code: no number: : 362087it [07:23, 163.05it/s]"
     ]
    },
    {
     "name": "stdout",
     "output_type": "stream",
     "text": [
      "found_phrases [('five', 'things')]\n",
      "caption five things to know when you date a cricketer\n",
      "\n"
     ]
    },
    {
     "name": "stderr",
     "output_type": "stream",
     "text": [
      "Code: no number: : 362455it [07:24, 215.84it/s]    "
     ]
    },
    {
     "name": "stdout",
     "output_type": "stream",
     "text": [
      "Failed to process image http://www.maverickmatches.co.uk/blog/wp-content/uploads/2018/07/cricket-166932_1920-1024x683.jpg: cannot identify image file <_io.BytesIO object at 0x7fa359506590>\n",
      "found_phrases []\n",
      "caption feathered ponytail to a five strand dutch braid. feathered ponytail to a five strand dutch braid. softball hairstyles, lil girl hairstyles, dance hairstyles, unique hairstyles, everyday hairstyles, braided hairstyles, beautiful hairstyles, gymnastics meet hair, crazy braids\n",
      "\n"
     ]
    },
    {
     "name": "stderr",
     "output_type": "stream",
     "text": [
      "Code: no number: : 362699it [07:25, 319.31it/s]    "
     ]
    },
    {
     "name": "stdout",
     "output_type": "stream",
     "text": [
      "found_phrases [('five', 'years')]\n",
      "caption after five years of dating, fawcett and <person> tied the knot in a ceremony at hotel bel-air on july 28, 1973. here, the couple show off fawcett's new ring as <person>'s son from his previous marriage, <person>, looks on.\n",
      "\n",
      "Failed to process image https://s.yimg.com/ny/api/res/1.2/pYWlaPXZ2ctligu0VNqMfg--/YXBwaWQ9aGlnaGxhbmRlcjt3PTk2MDtoPTk2Ni43MTMyODY3MTMyODY3/https://s.yimg.com/uu/api/res/1.2/7wRyYceF.Rl8szgJaEL_Jw--~B/aD0xNDQwO3c9MTQzMDtzbT0xO2FwcGlkPXl0YWNoeW9u/https://media.zenfs.com/en/harper_s_bazaar_391/779abd9975ac0054e74a26033e07d1a1: cannot identify image file <_io.BytesIO object at 0x7fa38a55dc70>\n"
     ]
    },
    {
     "name": "stderr",
     "output_type": "stream",
     "text": [
      "Code: no number: : 363299it [07:25, 645.30it/s]    "
     ]
    },
    {
     "name": "stdout",
     "output_type": "stream",
     "text": [
      "found_phrases []\n",
      "caption with <person> considering comeback, here are five more players we'd like to take another swing at baseball\n",
      "\n",
      "found_phrases []\n",
      "caption yellow five star symbol on blue background. the best excellent business services rating customer experience concept. stock photography\n",
      "\n"
     ]
    },
    {
     "name": "stderr",
     "output_type": "stream",
     "text": [
      "Code: no number: : 364254it [07:25, 1186.99it/s]"
     ]
    },
    {
     "name": "stdout",
     "output_type": "stream",
     "text": [
      "found_phrases [('five', 'stages')]\n",
      "caption through the east in five stages - the berlin leipzig cycle path\n",
      "\n"
     ]
    },
    {
     "data": {
      "text/html": [
       "wandb version 0.17.0 is available!  To upgrade, please run:\n",
       " $ pip install wandb --upgrade"
      ],
      "text/plain": [
       "<IPython.core.display.HTML object>"
      ]
     },
     "metadata": {},
     "output_type": "display_data"
    },
    {
     "data": {
      "text/html": [
       "Tracking run with wandb version 0.16.6"
      ],
      "text/plain": [
       "<IPython.core.display.HTML object>"
      ]
     },
     "metadata": {},
     "output_type": "display_data"
    },
    {
     "data": {
      "text/html": [
       "Run data is saved locally in <code>/Users/susu/Library/CloudStorage/OneDrive-Personal/Wisc/clip_count_continued/CLIP_Counting/wandb/run-20240512_211410-y0twf94o</code>"
      ],
      "text/plain": [
       "<IPython.core.display.HTML object>"
      ]
     },
     "metadata": {},
     "output_type": "display_data"
    },
    {
     "data": {
      "text/html": [
       "Syncing run <strong><a href='https://wandb.ai/ruisu/flicker_raw_images/runs/y0twf94o' target=\"_blank\">glorious-river-7685</a></strong> to <a href='https://wandb.ai/ruisu/flicker_raw_images' target=\"_blank\">Weights & Biases</a> (<a href='https://wandb.me/run' target=\"_blank\">docs</a>)<br/>"
      ],
      "text/plain": [
       "<IPython.core.display.HTML object>"
      ]
     },
     "metadata": {},
     "output_type": "display_data"
    },
    {
     "data": {
      "text/html": [
       " View project at <a href='https://wandb.ai/ruisu/flicker_raw_images' target=\"_blank\">https://wandb.ai/ruisu/flicker_raw_images</a>"
      ],
      "text/plain": [
       "<IPython.core.display.HTML object>"
      ]
     },
     "metadata": {},
     "output_type": "display_data"
    },
    {
     "data": {
      "text/html": [
       " View run at <a href='https://wandb.ai/ruisu/flicker_raw_images/runs/y0twf94o' target=\"_blank\">https://wandb.ai/ruisu/flicker_raw_images/runs/y0twf94o</a>"
      ],
      "text/plain": [
       "<IPython.core.display.HTML object>"
      ]
     },
     "metadata": {},
     "output_type": "display_data"
    },
    {
     "data": {
      "text/html": [
       "<style>\n",
       "    table.wandb td:nth-child(1) { padding: 0 10px; text-align: left ; width: auto;} td:nth-child(2) {text-align: left ; width: 100%}\n",
       "    .wandb-row { display: flex; flex-direction: row; flex-wrap: wrap; justify-content: flex-start; width: 100% }\n",
       "    .wandb-col { display: flex; flex-direction: column; flex-basis: 100%; flex: 1; padding: 10px; }\n",
       "    </style>\n",
       "<div class=\"wandb-row\"><div class=\"wandb-col\"><h3>Run history:</h3><br/><table class=\"wandb\"><tr><td>org_id</td><td>▁</td></tr></table><br/></div><div class=\"wandb-col\"><h3>Run summary:</h3><br/><table class=\"wandb\"><tr><td>caption</td><td>through the east in ...</td></tr><tr><td>dataset_name</td><td>conceptual_12m-train...</td></tr><tr><td>number</td><td>five</td></tr><tr><td>object</td><td>stages</td></tr><tr><td>org_id</td><td>364316</td></tr><tr><td>url</td><td>https://d2exd72xrrp1...</td></tr></table><br/></div></div>"
      ],
      "text/plain": [
       "<IPython.core.display.HTML object>"
      ]
     },
     "metadata": {},
     "output_type": "display_data"
    },
    {
     "data": {
      "text/html": [
       " View run <strong style=\"color:#cdcd00\">glorious-river-7685</strong> at: <a href='https://wandb.ai/ruisu/flicker_raw_images/runs/y0twf94o' target=\"_blank\">https://wandb.ai/ruisu/flicker_raw_images/runs/y0twf94o</a><br/> View project at: <a href='https://wandb.ai/ruisu/flicker_raw_images' target=\"_blank\">https://wandb.ai/ruisu/flicker_raw_images</a><br/>Synced 5 W&B file(s), 1 media file(s), 0 artifact file(s) and 0 other file(s)"
      ],
      "text/plain": [
       "<IPython.core.display.HTML object>"
      ]
     },
     "metadata": {},
     "output_type": "display_data"
    },
    {
     "data": {
      "text/html": [
       "Find logs at: <code>./wandb/run-20240512_211410-y0twf94o/logs</code>"
      ],
      "text/plain": [
       "<IPython.core.display.HTML object>"
      ]
     },
     "metadata": {},
     "output_type": "display_data"
    },
    {
     "name": "stderr",
     "output_type": "stream",
     "text": [
      "Code: no number: : 365062it [07:33, 242.23it/s]    "
     ]
    },
    {
     "name": "stdout",
     "output_type": "stream",
     "text": [
      "found_phrases []\n",
      "caption colorful money from the cayman islands with money from europe. a european, blue and green five euro note close up in macro with colorful money from the cayman stock images\n",
      "\n"
     ]
    },
    {
     "name": "stderr",
     "output_type": "stream",
     "text": [
      "Code: no number: : 366251it [07:33, 1066.87it/s]"
     ]
    },
    {
     "name": "stdout",
     "output_type": "stream",
     "text": [
      "found_phrases [('five', 'years')]\n",
      "caption <person> is set to test free agency after five years with the baltimore ravens. ( <person> - usa today sports)\n",
      "\n"
     ]
    },
    {
     "name": "stderr",
     "output_type": "stream",
     "text": [
      "Code: no number: : 366632it [07:34, 857.48it/s]     "
     ]
    },
    {
     "name": "stdout",
     "output_type": "stream",
     "text": [
      "Failed to process image https://usatq.files.wordpress.com/2014/02/usatsi_7372752_221200_lowres.jpg?w=1000&h=682: cannot identify image file <_io.BytesIO object at 0x7fa38a50ba40>\n",
      "found_phrases [('five', 'rubles')]\n",
      "caption russian money laid out in a stack, one ruble, two rubles, five rubles, a thousand rubles stock photos\n",
      "\n"
     ]
    },
    {
     "data": {
      "text/html": [
       "wandb version 0.17.0 is available!  To upgrade, please run:\n",
       " $ pip install wandb --upgrade"
      ],
      "text/plain": [
       "<IPython.core.display.HTML object>"
      ]
     },
     "metadata": {},
     "output_type": "display_data"
    },
    {
     "data": {
      "text/html": [
       "Tracking run with wandb version 0.16.6"
      ],
      "text/plain": [
       "<IPython.core.display.HTML object>"
      ]
     },
     "metadata": {},
     "output_type": "display_data"
    },
    {
     "data": {
      "text/html": [
       "Run data is saved locally in <code>/Users/susu/Library/CloudStorage/OneDrive-Personal/Wisc/clip_count_continued/CLIP_Counting/wandb/run-20240512_211417-sz38ck45</code>"
      ],
      "text/plain": [
       "<IPython.core.display.HTML object>"
      ]
     },
     "metadata": {},
     "output_type": "display_data"
    },
    {
     "data": {
      "text/html": [
       "Syncing run <strong><a href='https://wandb.ai/ruisu/flicker_raw_images/runs/sz38ck45' target=\"_blank\">glorious-gorge-7686</a></strong> to <a href='https://wandb.ai/ruisu/flicker_raw_images' target=\"_blank\">Weights & Biases</a> (<a href='https://wandb.me/run' target=\"_blank\">docs</a>)<br/>"
      ],
      "text/plain": [
       "<IPython.core.display.HTML object>"
      ]
     },
     "metadata": {},
     "output_type": "display_data"
    },
    {
     "data": {
      "text/html": [
       " View project at <a href='https://wandb.ai/ruisu/flicker_raw_images' target=\"_blank\">https://wandb.ai/ruisu/flicker_raw_images</a>"
      ],
      "text/plain": [
       "<IPython.core.display.HTML object>"
      ]
     },
     "metadata": {},
     "output_type": "display_data"
    },
    {
     "data": {
      "text/html": [
       " View run at <a href='https://wandb.ai/ruisu/flicker_raw_images/runs/sz38ck45' target=\"_blank\">https://wandb.ai/ruisu/flicker_raw_images/runs/sz38ck45</a>"
      ],
      "text/plain": [
       "<IPython.core.display.HTML object>"
      ]
     },
     "metadata": {},
     "output_type": "display_data"
    },
    {
     "data": {
      "text/html": [
       "<style>\n",
       "    table.wandb td:nth-child(1) { padding: 0 10px; text-align: left ; width: auto;} td:nth-child(2) {text-align: left ; width: 100%}\n",
       "    .wandb-row { display: flex; flex-direction: row; flex-wrap: wrap; justify-content: flex-start; width: 100% }\n",
       "    .wandb-col { display: flex; flex-direction: column; flex-basis: 100%; flex: 1; padding: 10px; }\n",
       "    </style>\n",
       "<div class=\"wandb-row\"><div class=\"wandb-col\"><h3>Run history:</h3><br/><table class=\"wandb\"><tr><td>org_id</td><td>▁</td></tr></table><br/></div><div class=\"wandb-col\"><h3>Run summary:</h3><br/><table class=\"wandb\"><tr><td>caption</td><td>russian money laid o...</td></tr><tr><td>dataset_name</td><td>conceptual_12m-train...</td></tr><tr><td>number</td><td>five</td></tr><tr><td>object</td><td>rubles</td></tr><tr><td>org_id</td><td>366673</td></tr><tr><td>url</td><td>https://thumbs.dream...</td></tr></table><br/></div></div>"
      ],
      "text/plain": [
       "<IPython.core.display.HTML object>"
      ]
     },
     "metadata": {},
     "output_type": "display_data"
    },
    {
     "data": {
      "text/html": [
       " View run <strong style=\"color:#cdcd00\">glorious-gorge-7686</strong> at: <a href='https://wandb.ai/ruisu/flicker_raw_images/runs/sz38ck45' target=\"_blank\">https://wandb.ai/ruisu/flicker_raw_images/runs/sz38ck45</a><br/> View project at: <a href='https://wandb.ai/ruisu/flicker_raw_images' target=\"_blank\">https://wandb.ai/ruisu/flicker_raw_images</a><br/>Synced 5 W&B file(s), 1 media file(s), 0 artifact file(s) and 0 other file(s)"
      ],
      "text/plain": [
       "<IPython.core.display.HTML object>"
      ]
     },
     "metadata": {},
     "output_type": "display_data"
    },
    {
     "data": {
      "text/html": [
       "Find logs at: <code>./wandb/run-20240512_211417-sz38ck45/logs</code>"
      ],
      "text/plain": [
       "<IPython.core.display.HTML object>"
      ]
     },
     "metadata": {},
     "output_type": "display_data"
    },
    {
     "name": "stderr",
     "output_type": "stream",
     "text": [
      "Code: no number: : 366791it [07:40, 99.39it/s] "
     ]
    },
    {
     "name": "stdout",
     "output_type": "stream",
     "text": [
      "found_phrases [('five', 'picks')]\n",
      "caption looking for the best cat litter boxes for odor control? check out our top five picks for all budgets! we'll even tell you the best one for an apartment!\n",
      "\n"
     ]
    },
    {
     "name": "stderr",
     "output_type": "stream",
     "text": [
      "Code: no number: : 367144it [07:40, 181.28it/s]    "
     ]
    },
    {
     "name": "stdout",
     "output_type": "stream",
     "text": [
      "Failed to process image https://catvills.com/wp-content/uploads/2019/06/best-cat-litter-boxes-for-odor-control.x16966.jpg: cannot identify image file <_io.BytesIO object at 0x7fa38a2e1180>\n",
      "found_phrases []\n",
      "caption april <person> with king <person> riding in the <person>, in a five carriage procession accompanied by the sovereign's escort,returning to windsor castle. prince and princess, princess of wales, princess <person>, <person>, queen <person> <person>, queen of england, prince <person>, windsor castle, queen <person>\n",
      "\n"
     ]
    },
    {
     "name": "stderr",
     "output_type": "stream",
     "text": [
      "Code: no number: : 368058it [07:41, 602.87it/s]"
     ]
    },
    {
     "name": "stdout",
     "output_type": "stream",
     "text": [
      "found_phrases [('five', 'recipes')]\n",
      "caption five recipes that make it look like you can really cook -- wit & delight\n",
      "\n"
     ]
    },
    {
     "name": "stderr",
     "output_type": "stream",
     "text": [
      "Code: no number: : 368191it [07:41, 482.31it/s]    "
     ]
    },
    {
     "name": "stdout",
     "output_type": "stream",
     "text": [
      "Failed to process image https://witanddelight.com/content/uploads//2017/12/19COOKING-TUSCANFARROSOUP1-articleLarge.jpg: cannot identify image file <_io.BytesIO object at 0x7fa36a0aae50>\n",
      "found_phrases [('five', 'halloween')]\n",
      "caption all five halloween monster cereals to be released by general mills general mills, <person>, cereal, fruit, halloween, <person>, image, design, design comics\n",
      "\n"
     ]
    },
    {
     "data": {
      "text/html": [
       "wandb version 0.17.0 is available!  To upgrade, please run:\n",
       " $ pip install wandb --upgrade"
      ],
      "text/plain": [
       "<IPython.core.display.HTML object>"
      ]
     },
     "metadata": {},
     "output_type": "display_data"
    },
    {
     "data": {
      "text/html": [
       "Tracking run with wandb version 0.16.6"
      ],
      "text/plain": [
       "<IPython.core.display.HTML object>"
      ]
     },
     "metadata": {},
     "output_type": "display_data"
    },
    {
     "data": {
      "text/html": [
       "Run data is saved locally in <code>/Users/susu/Library/CloudStorage/OneDrive-Personal/Wisc/clip_count_continued/CLIP_Counting/wandb/run-20240512_211425-l3898kos</code>"
      ],
      "text/plain": [
       "<IPython.core.display.HTML object>"
      ]
     },
     "metadata": {},
     "output_type": "display_data"
    },
    {
     "data": {
      "text/html": [
       "Syncing run <strong><a href='https://wandb.ai/ruisu/flicker_raw_images/runs/l3898kos' target=\"_blank\">rich-paper-7687</a></strong> to <a href='https://wandb.ai/ruisu/flicker_raw_images' target=\"_blank\">Weights & Biases</a> (<a href='https://wandb.me/run' target=\"_blank\">docs</a>)<br/>"
      ],
      "text/plain": [
       "<IPython.core.display.HTML object>"
      ]
     },
     "metadata": {},
     "output_type": "display_data"
    },
    {
     "data": {
      "text/html": [
       " View project at <a href='https://wandb.ai/ruisu/flicker_raw_images' target=\"_blank\">https://wandb.ai/ruisu/flicker_raw_images</a>"
      ],
      "text/plain": [
       "<IPython.core.display.HTML object>"
      ]
     },
     "metadata": {},
     "output_type": "display_data"
    },
    {
     "data": {
      "text/html": [
       " View run at <a href='https://wandb.ai/ruisu/flicker_raw_images/runs/l3898kos' target=\"_blank\">https://wandb.ai/ruisu/flicker_raw_images/runs/l3898kos</a>"
      ],
      "text/plain": [
       "<IPython.core.display.HTML object>"
      ]
     },
     "metadata": {},
     "output_type": "display_data"
    },
    {
     "data": {
      "text/html": [
       "<style>\n",
       "    table.wandb td:nth-child(1) { padding: 0 10px; text-align: left ; width: auto;} td:nth-child(2) {text-align: left ; width: 100%}\n",
       "    .wandb-row { display: flex; flex-direction: row; flex-wrap: wrap; justify-content: flex-start; width: 100% }\n",
       "    .wandb-col { display: flex; flex-direction: column; flex-basis: 100%; flex: 1; padding: 10px; }\n",
       "    </style>\n",
       "<div class=\"wandb-row\"><div class=\"wandb-col\"><h3>Run history:</h3><br/><table class=\"wandb\"><tr><td>org_id</td><td>▁</td></tr></table><br/></div><div class=\"wandb-col\"><h3>Run summary:</h3><br/><table class=\"wandb\"><tr><td>caption</td><td>all five halloween m...</td></tr><tr><td>dataset_name</td><td>conceptual_12m-train...</td></tr><tr><td>number</td><td>five</td></tr><tr><td>object</td><td>halloween</td></tr><tr><td>org_id</td><td>368383</td></tr><tr><td>url</td><td>https://i.pinimg.com...</td></tr></table><br/></div></div>"
      ],
      "text/plain": [
       "<IPython.core.display.HTML object>"
      ]
     },
     "metadata": {},
     "output_type": "display_data"
    },
    {
     "data": {
      "text/html": [
       " View run <strong style=\"color:#cdcd00\">rich-paper-7687</strong> at: <a href='https://wandb.ai/ruisu/flicker_raw_images/runs/l3898kos' target=\"_blank\">https://wandb.ai/ruisu/flicker_raw_images/runs/l3898kos</a><br/> View project at: <a href='https://wandb.ai/ruisu/flicker_raw_images' target=\"_blank\">https://wandb.ai/ruisu/flicker_raw_images</a><br/>Synced 5 W&B file(s), 1 media file(s), 0 artifact file(s) and 0 other file(s)"
      ],
      "text/plain": [
       "<IPython.core.display.HTML object>"
      ]
     },
     "metadata": {},
     "output_type": "display_data"
    },
    {
     "data": {
      "text/html": [
       "Find logs at: <code>./wandb/run-20240512_211425-l3898kos/logs</code>"
      ],
      "text/plain": [
       "<IPython.core.display.HTML object>"
      ]
     },
     "metadata": {},
     "output_type": "display_data"
    },
    {
     "name": "stderr",
     "output_type": "stream",
     "text": [
      "Code: no number: : 369121it [07:47, 353.50it/s]    "
     ]
    },
    {
     "name": "stdout",
     "output_type": "stream",
     "text": [
      "found_phrases []\n",
      "caption don't come between an <person> and his bacon batty! big steak, five a day, fabulous foods, banquet, hot dog buns, fries, roast, bread, food and drink\n",
      "\n",
      "found_phrases []\n",
      "caption list of five wicket takers in a cricket world cup 2019 match till australia vs england tie\n",
      "\n"
     ]
    },
    {
     "name": "stderr",
     "output_type": "stream",
     "text": [
      "Code: no number: : 369841it [07:48, 828.34it/s]"
     ]
    },
    {
     "name": "stdout",
     "output_type": "stream",
     "text": [
      "found_phrases [('five', 'pieces')]\n",
      "caption this <person> house has windows with nice shatters and faced with brick. a complex roof with large front-facing gables completes the look of this house. house plan is 55 feet wide by 48 feet deep and provides 2010 square feet of living space in addition to a three-car garage space includes foyer, with a staircase to the upper level, great room, overlooking both floors, with cathedral ceilings, with a cozy fireplace, an entry to the deck, a dining room, a kitchen, with a peninsula eating, with a breakfast nook, the master bedroom, with a five pieces bathroom, with a spacious walk-in closet. the upper floor has 519 square feet of living space and features secondary bedrooms, with a hall bathroom. outdoor living space includes a deck.\n",
      "\n"
     ]
    },
    {
     "data": {
      "text/html": [
       "wandb version 0.17.0 is available!  To upgrade, please run:\n",
       " $ pip install wandb --upgrade"
      ],
      "text/plain": [
       "<IPython.core.display.HTML object>"
      ]
     },
     "metadata": {},
     "output_type": "display_data"
    },
    {
     "data": {
      "text/html": [
       "Tracking run with wandb version 0.16.6"
      ],
      "text/plain": [
       "<IPython.core.display.HTML object>"
      ]
     },
     "metadata": {},
     "output_type": "display_data"
    },
    {
     "data": {
      "text/html": [
       "Run data is saved locally in <code>/Users/susu/Library/CloudStorage/OneDrive-Personal/Wisc/clip_count_continued/CLIP_Counting/wandb/run-20240512_211433-26tqhmoc</code>"
      ],
      "text/plain": [
       "<IPython.core.display.HTML object>"
      ]
     },
     "metadata": {},
     "output_type": "display_data"
    },
    {
     "data": {
      "text/html": [
       "Syncing run <strong><a href='https://wandb.ai/ruisu/flicker_raw_images/runs/26tqhmoc' target=\"_blank\">swept-shadow-7688</a></strong> to <a href='https://wandb.ai/ruisu/flicker_raw_images' target=\"_blank\">Weights & Biases</a> (<a href='https://wandb.me/run' target=\"_blank\">docs</a>)<br/>"
      ],
      "text/plain": [
       "<IPython.core.display.HTML object>"
      ]
     },
     "metadata": {},
     "output_type": "display_data"
    },
    {
     "data": {
      "text/html": [
       " View project at <a href='https://wandb.ai/ruisu/flicker_raw_images' target=\"_blank\">https://wandb.ai/ruisu/flicker_raw_images</a>"
      ],
      "text/plain": [
       "<IPython.core.display.HTML object>"
      ]
     },
     "metadata": {},
     "output_type": "display_data"
    },
    {
     "data": {
      "text/html": [
       " View run at <a href='https://wandb.ai/ruisu/flicker_raw_images/runs/26tqhmoc' target=\"_blank\">https://wandb.ai/ruisu/flicker_raw_images/runs/26tqhmoc</a>"
      ],
      "text/plain": [
       "<IPython.core.display.HTML object>"
      ]
     },
     "metadata": {},
     "output_type": "display_data"
    },
    {
     "data": {
      "text/html": [
       "<style>\n",
       "    table.wandb td:nth-child(1) { padding: 0 10px; text-align: left ; width: auto;} td:nth-child(2) {text-align: left ; width: 100%}\n",
       "    .wandb-row { display: flex; flex-direction: row; flex-wrap: wrap; justify-content: flex-start; width: 100% }\n",
       "    .wandb-col { display: flex; flex-direction: column; flex-basis: 100%; flex: 1; padding: 10px; }\n",
       "    </style>\n",
       "<div class=\"wandb-row\"><div class=\"wandb-col\"><h3>Run history:</h3><br/><table class=\"wandb\"><tr><td>org_id</td><td>▁</td></tr></table><br/></div><div class=\"wandb-col\"><h3>Run summary:</h3><br/><table class=\"wandb\"><tr><td>caption</td><td>this <person> house ...</td></tr><tr><td>dataset_name</td><td>conceptual_12m-train...</td></tr><tr><td>number</td><td>five</td></tr><tr><td>object</td><td>pieces</td></tr><tr><td>org_id</td><td>369886</td></tr><tr><td>url</td><td>https://eplan.house/...</td></tr></table><br/></div></div>"
      ],
      "text/plain": [
       "<IPython.core.display.HTML object>"
      ]
     },
     "metadata": {},
     "output_type": "display_data"
    },
    {
     "data": {
      "text/html": [
       " View run <strong style=\"color:#cdcd00\">swept-shadow-7688</strong> at: <a href='https://wandb.ai/ruisu/flicker_raw_images/runs/26tqhmoc' target=\"_blank\">https://wandb.ai/ruisu/flicker_raw_images/runs/26tqhmoc</a><br/> View project at: <a href='https://wandb.ai/ruisu/flicker_raw_images' target=\"_blank\">https://wandb.ai/ruisu/flicker_raw_images</a><br/>Synced 5 W&B file(s), 1 media file(s), 0 artifact file(s) and 0 other file(s)"
      ],
      "text/plain": [
       "<IPython.core.display.HTML object>"
      ]
     },
     "metadata": {},
     "output_type": "display_data"
    },
    {
     "data": {
      "text/html": [
       "Find logs at: <code>./wandb/run-20240512_211433-26tqhmoc/logs</code>"
      ],
      "text/plain": [
       "<IPython.core.display.HTML object>"
      ]
     },
     "metadata": {},
     "output_type": "display_data"
    },
    {
     "name": "stderr",
     "output_type": "stream",
     "text": [
      "Code: no number: : 371091it [07:56, 424.50it/s]"
     ]
    },
    {
     "name": "stdout",
     "output_type": "stream",
     "text": [
      "found_phrases [('five', 'years')]\n",
      "caption tech talk: how audi plans to bring 20 all-electric models to market in the next five years\n",
      "\n"
     ]
    },
    {
     "data": {
      "text/html": [
       "wandb version 0.17.0 is available!  To upgrade, please run:\n",
       " $ pip install wandb --upgrade"
      ],
      "text/plain": [
       "<IPython.core.display.HTML object>"
      ]
     },
     "metadata": {},
     "output_type": "display_data"
    },
    {
     "data": {
      "text/html": [
       "Tracking run with wandb version 0.16.6"
      ],
      "text/plain": [
       "<IPython.core.display.HTML object>"
      ]
     },
     "metadata": {},
     "output_type": "display_data"
    },
    {
     "data": {
      "text/html": [
       "Run data is saved locally in <code>/Users/susu/Library/CloudStorage/OneDrive-Personal/Wisc/clip_count_continued/CLIP_Counting/wandb/run-20240512_211439-vy2j4ke3</code>"
      ],
      "text/plain": [
       "<IPython.core.display.HTML object>"
      ]
     },
     "metadata": {},
     "output_type": "display_data"
    },
    {
     "data": {
      "text/html": [
       "Syncing run <strong><a href='https://wandb.ai/ruisu/flicker_raw_images/runs/vy2j4ke3' target=\"_blank\">bright-tree-7689</a></strong> to <a href='https://wandb.ai/ruisu/flicker_raw_images' target=\"_blank\">Weights & Biases</a> (<a href='https://wandb.me/run' target=\"_blank\">docs</a>)<br/>"
      ],
      "text/plain": [
       "<IPython.core.display.HTML object>"
      ]
     },
     "metadata": {},
     "output_type": "display_data"
    },
    {
     "data": {
      "text/html": [
       " View project at <a href='https://wandb.ai/ruisu/flicker_raw_images' target=\"_blank\">https://wandb.ai/ruisu/flicker_raw_images</a>"
      ],
      "text/plain": [
       "<IPython.core.display.HTML object>"
      ]
     },
     "metadata": {},
     "output_type": "display_data"
    },
    {
     "data": {
      "text/html": [
       " View run at <a href='https://wandb.ai/ruisu/flicker_raw_images/runs/vy2j4ke3' target=\"_blank\">https://wandb.ai/ruisu/flicker_raw_images/runs/vy2j4ke3</a>"
      ],
      "text/plain": [
       "<IPython.core.display.HTML object>"
      ]
     },
     "metadata": {},
     "output_type": "display_data"
    },
    {
     "data": {
      "text/html": [
       "<style>\n",
       "    table.wandb td:nth-child(1) { padding: 0 10px; text-align: left ; width: auto;} td:nth-child(2) {text-align: left ; width: 100%}\n",
       "    .wandb-row { display: flex; flex-direction: row; flex-wrap: wrap; justify-content: flex-start; width: 100% }\n",
       "    .wandb-col { display: flex; flex-direction: column; flex-basis: 100%; flex: 1; padding: 10px; }\n",
       "    </style>\n",
       "<div class=\"wandb-row\"><div class=\"wandb-col\"><h3>Run history:</h3><br/><table class=\"wandb\"><tr><td>org_id</td><td>▁</td></tr></table><br/></div><div class=\"wandb-col\"><h3>Run summary:</h3><br/><table class=\"wandb\"><tr><td>caption</td><td>tech talk: how audi ...</td></tr><tr><td>dataset_name</td><td>conceptual_12m-train...</td></tr><tr><td>number</td><td>five</td></tr><tr><td>object</td><td>years</td></tr><tr><td>org_id</td><td>371169</td></tr><tr><td>url</td><td>https://i1.wp.com/us...</td></tr></table><br/></div></div>"
      ],
      "text/plain": [
       "<IPython.core.display.HTML object>"
      ]
     },
     "metadata": {},
     "output_type": "display_data"
    },
    {
     "data": {
      "text/html": [
       " View run <strong style=\"color:#cdcd00\">bright-tree-7689</strong> at: <a href='https://wandb.ai/ruisu/flicker_raw_images/runs/vy2j4ke3' target=\"_blank\">https://wandb.ai/ruisu/flicker_raw_images/runs/vy2j4ke3</a><br/> View project at: <a href='https://wandb.ai/ruisu/flicker_raw_images' target=\"_blank\">https://wandb.ai/ruisu/flicker_raw_images</a><br/>Synced 5 W&B file(s), 1 media file(s), 0 artifact file(s) and 0 other file(s)"
      ],
      "text/plain": [
       "<IPython.core.display.HTML object>"
      ]
     },
     "metadata": {},
     "output_type": "display_data"
    },
    {
     "data": {
      "text/html": [
       "Find logs at: <code>./wandb/run-20240512_211439-vy2j4ke3/logs</code>"
      ],
      "text/plain": [
       "<IPython.core.display.HTML object>"
      ]
     },
     "metadata": {},
     "output_type": "display_data"
    },
    {
     "name": "stderr",
     "output_type": "stream",
     "text": [
      "Code: no number: : 371685it [08:02, 187.59it/s]    "
     ]
    },
    {
     "name": "stdout",
     "output_type": "stream",
     "text": [
      "found_phrases []\n",
      "caption hunter fan company hunter 53059 the astoria 52-inch ceiling fan with five white oak blades and light kit\n",
      "\n",
      "found_phrases []\n",
      "caption the high five -- pirate games\n",
      "\n",
      "found_phrases [('five', 'days')]\n",
      "caption the hearings on the <person> bypass have been going for five days with one more day scheduled.\n",
      "\n"
     ]
    },
    {
     "name": "stderr",
     "output_type": "stream",
     "text": [
      "Code: no number: : 372095it [08:02, 318.40it/s]    "
     ]
    },
    {
     "name": "stdout",
     "output_type": "stream",
     "text": [
      "Failed to process image https://resources.stuff.co.nz/content/dam/images/1/r/7/1/a/w/image.related.StuffLandscapeSixteenByNine.710x400.1r6f3d.png/1533788917162.jpg: HTTPSConnectionPool(host='resources.stuff.co.nz', port=443): Max retries exceeded with url: /content/dam/images/1/r/7/1/a/w/image.related.StuffLandscapeSixteenByNine.710x400.1r6f3d.png/1533788917162.jpg (Caused by NameResolutionError(\"<urllib3.connection.HTTPSConnection object at 0x7fa37a0bc6a0>: Failed to resolve 'resources.stuff.co.nz' ([Errno 8] nodename nor servname provided, or not known)\"))\n"
     ]
    },
    {
     "name": "stderr",
     "output_type": "stream",
     "text": [
      "Code: no number: : 372330it [08:02, 442.24it/s]"
     ]
    },
    {
     "name": "stdout",
     "output_type": "stream",
     "text": [
      "found_phrases [('five', 'days')]\n",
      "caption <person>, 31st fighter wing broadcast journalist, participates in the olympic lifting portion of a competition. between competitions, <person> prepares and trains by following a very strict and rigorous program. on an average week, she trains at the gym a minimum of five days for approximately three hours each, working primarily on strength through olympic lifting. (courtesy photo)\n",
      "\n"
     ]
    },
    {
     "data": {
      "text/html": [
       "wandb version 0.17.0 is available!  To upgrade, please run:\n",
       " $ pip install wandb --upgrade"
      ],
      "text/plain": [
       "<IPython.core.display.HTML object>"
      ]
     },
     "metadata": {},
     "output_type": "display_data"
    },
    {
     "data": {
      "text/html": [
       "Tracking run with wandb version 0.16.6"
      ],
      "text/plain": [
       "<IPython.core.display.HTML object>"
      ]
     },
     "metadata": {},
     "output_type": "display_data"
    },
    {
     "data": {
      "text/html": [
       "Run data is saved locally in <code>/Users/susu/Library/CloudStorage/OneDrive-Personal/Wisc/clip_count_continued/CLIP_Counting/wandb/run-20240512_211446-dfx9lqzh</code>"
      ],
      "text/plain": [
       "<IPython.core.display.HTML object>"
      ]
     },
     "metadata": {},
     "output_type": "display_data"
    },
    {
     "data": {
      "text/html": [
       "Syncing run <strong><a href='https://wandb.ai/ruisu/flicker_raw_images/runs/dfx9lqzh' target=\"_blank\">hearty-fog-7690</a></strong> to <a href='https://wandb.ai/ruisu/flicker_raw_images' target=\"_blank\">Weights & Biases</a> (<a href='https://wandb.me/run' target=\"_blank\">docs</a>)<br/>"
      ],
      "text/plain": [
       "<IPython.core.display.HTML object>"
      ]
     },
     "metadata": {},
     "output_type": "display_data"
    },
    {
     "data": {
      "text/html": [
       " View project at <a href='https://wandb.ai/ruisu/flicker_raw_images' target=\"_blank\">https://wandb.ai/ruisu/flicker_raw_images</a>"
      ],
      "text/plain": [
       "<IPython.core.display.HTML object>"
      ]
     },
     "metadata": {},
     "output_type": "display_data"
    },
    {
     "data": {
      "text/html": [
       " View run at <a href='https://wandb.ai/ruisu/flicker_raw_images/runs/dfx9lqzh' target=\"_blank\">https://wandb.ai/ruisu/flicker_raw_images/runs/dfx9lqzh</a>"
      ],
      "text/plain": [
       "<IPython.core.display.HTML object>"
      ]
     },
     "metadata": {},
     "output_type": "display_data"
    },
    {
     "data": {
      "text/html": [
       "<style>\n",
       "    table.wandb td:nth-child(1) { padding: 0 10px; text-align: left ; width: auto;} td:nth-child(2) {text-align: left ; width: 100%}\n",
       "    .wandb-row { display: flex; flex-direction: row; flex-wrap: wrap; justify-content: flex-start; width: 100% }\n",
       "    .wandb-col { display: flex; flex-direction: column; flex-basis: 100%; flex: 1; padding: 10px; }\n",
       "    </style>\n",
       "<div class=\"wandb-row\"><div class=\"wandb-col\"><h3>Run history:</h3><br/><table class=\"wandb\"><tr><td>org_id</td><td>▁</td></tr></table><br/></div><div class=\"wandb-col\"><h3>Run summary:</h3><br/><table class=\"wandb\"><tr><td>caption</td><td><person>, 31st fight...</td></tr><tr><td>dataset_name</td><td>conceptual_12m-train...</td></tr><tr><td>number</td><td>five</td></tr><tr><td>object</td><td>days</td></tr><tr><td>org_id</td><td>372403</td></tr><tr><td>url</td><td>https://media.defens...</td></tr></table><br/></div></div>"
      ],
      "text/plain": [
       "<IPython.core.display.HTML object>"
      ]
     },
     "metadata": {},
     "output_type": "display_data"
    },
    {
     "data": {
      "text/html": [
       " View run <strong style=\"color:#cdcd00\">hearty-fog-7690</strong> at: <a href='https://wandb.ai/ruisu/flicker_raw_images/runs/dfx9lqzh' target=\"_blank\">https://wandb.ai/ruisu/flicker_raw_images/runs/dfx9lqzh</a><br/> View project at: <a href='https://wandb.ai/ruisu/flicker_raw_images' target=\"_blank\">https://wandb.ai/ruisu/flicker_raw_images</a><br/>Synced 5 W&B file(s), 1 media file(s), 0 artifact file(s) and 0 other file(s)"
      ],
      "text/plain": [
       "<IPython.core.display.HTML object>"
      ]
     },
     "metadata": {},
     "output_type": "display_data"
    },
    {
     "data": {
      "text/html": [
       "Find logs at: <code>./wandb/run-20240512_211446-dfx9lqzh/logs</code>"
      ],
      "text/plain": [
       "<IPython.core.display.HTML object>"
      ]
     },
     "metadata": {},
     "output_type": "display_data"
    },
    {
     "name": "stderr",
     "output_type": "stream",
     "text": [
      "Code: no number: : 373188it [08:09, 248.50it/s]    "
     ]
    },
    {
     "name": "stdout",
     "output_type": "stream",
     "text": [
      "found_phrases []\n",
      "caption cuba, beyond the beaches: five must-see cities\n",
      "\n"
     ]
    },
    {
     "name": "stderr",
     "output_type": "stream",
     "text": [
      "Code: no number: : 373188it [08:09, 248.50it/s]"
     ]
    },
    {
     "name": "stdout",
     "output_type": "stream",
     "text": [
      "found_phrases [('five', 'countries')]\n",
      "caption the harlem globetrotters performed for military members and their families during their ninth military holiday tour, ramstein air base, germany, dec. 8, 2010. this tour was made possible by navy entertainment and armed forces entertainment; this year's tour will feature 11 games on u.s. military bases in five countries: germany, italy, greece, the netherlands and the united kingdom. the globetrotters are celebrating their 85th year entertaining audiences around the world. (u.s. air force photo by <person> <person>)\n",
      "\n"
     ]
    },
    {
     "data": {
      "text/html": [
       "wandb version 0.17.0 is available!  To upgrade, please run:\n",
       " $ pip install wandb --upgrade"
      ],
      "text/plain": [
       "<IPython.core.display.HTML object>"
      ]
     },
     "metadata": {},
     "output_type": "display_data"
    },
    {
     "data": {
      "text/html": [
       "Tracking run with wandb version 0.16.6"
      ],
      "text/plain": [
       "<IPython.core.display.HTML object>"
      ]
     },
     "metadata": {},
     "output_type": "display_data"
    },
    {
     "data": {
      "text/html": [
       "Run data is saved locally in <code>/Users/susu/Library/CloudStorage/OneDrive-Personal/Wisc/clip_count_continued/CLIP_Counting/wandb/run-20240512_211454-d6vy0rnf</code>"
      ],
      "text/plain": [
       "<IPython.core.display.HTML object>"
      ]
     },
     "metadata": {},
     "output_type": "display_data"
    },
    {
     "data": {
      "text/html": [
       "Syncing run <strong><a href='https://wandb.ai/ruisu/flicker_raw_images/runs/d6vy0rnf' target=\"_blank\">hopeful-water-7691</a></strong> to <a href='https://wandb.ai/ruisu/flicker_raw_images' target=\"_blank\">Weights & Biases</a> (<a href='https://wandb.me/run' target=\"_blank\">docs</a>)<br/>"
      ],
      "text/plain": [
       "<IPython.core.display.HTML object>"
      ]
     },
     "metadata": {},
     "output_type": "display_data"
    },
    {
     "data": {
      "text/html": [
       " View project at <a href='https://wandb.ai/ruisu/flicker_raw_images' target=\"_blank\">https://wandb.ai/ruisu/flicker_raw_images</a>"
      ],
      "text/plain": [
       "<IPython.core.display.HTML object>"
      ]
     },
     "metadata": {},
     "output_type": "display_data"
    },
    {
     "data": {
      "text/html": [
       " View run at <a href='https://wandb.ai/ruisu/flicker_raw_images/runs/d6vy0rnf' target=\"_blank\">https://wandb.ai/ruisu/flicker_raw_images/runs/d6vy0rnf</a>"
      ],
      "text/plain": [
       "<IPython.core.display.HTML object>"
      ]
     },
     "metadata": {},
     "output_type": "display_data"
    },
    {
     "data": {
      "text/html": [
       "<style>\n",
       "    table.wandb td:nth-child(1) { padding: 0 10px; text-align: left ; width: auto;} td:nth-child(2) {text-align: left ; width: 100%}\n",
       "    .wandb-row { display: flex; flex-direction: row; flex-wrap: wrap; justify-content: flex-start; width: 100% }\n",
       "    .wandb-col { display: flex; flex-direction: column; flex-basis: 100%; flex: 1; padding: 10px; }\n",
       "    </style>\n",
       "<div class=\"wandb-row\"><div class=\"wandb-col\"><h3>Run history:</h3><br/><table class=\"wandb\"><tr><td>org_id</td><td>▁</td></tr></table><br/></div><div class=\"wandb-col\"><h3>Run summary:</h3><br/><table class=\"wandb\"><tr><td>caption</td><td>the harlem globetrot...</td></tr><tr><td>dataset_name</td><td>conceptual_12m-train...</td></tr><tr><td>number</td><td>five</td></tr><tr><td>object</td><td>countries</td></tr><tr><td>org_id</td><td>373360</td></tr><tr><td>url</td><td>https://media.defens...</td></tr></table><br/></div></div>"
      ],
      "text/plain": [
       "<IPython.core.display.HTML object>"
      ]
     },
     "metadata": {},
     "output_type": "display_data"
    },
    {
     "data": {
      "text/html": [
       " View run <strong style=\"color:#cdcd00\">hopeful-water-7691</strong> at: <a href='https://wandb.ai/ruisu/flicker_raw_images/runs/d6vy0rnf' target=\"_blank\">https://wandb.ai/ruisu/flicker_raw_images/runs/d6vy0rnf</a><br/> View project at: <a href='https://wandb.ai/ruisu/flicker_raw_images' target=\"_blank\">https://wandb.ai/ruisu/flicker_raw_images</a><br/>Synced 5 W&B file(s), 1 media file(s), 0 artifact file(s) and 0 other file(s)"
      ],
      "text/plain": [
       "<IPython.core.display.HTML object>"
      ]
     },
     "metadata": {},
     "output_type": "display_data"
    },
    {
     "data": {
      "text/html": [
       "Find logs at: <code>./wandb/run-20240512_211454-d6vy0rnf/logs</code>"
      ],
      "text/plain": [
       "<IPython.core.display.HTML object>"
      ]
     },
     "metadata": {},
     "output_type": "display_data"
    },
    {
     "name": "stderr",
     "output_type": "stream",
     "text": [
      "Code: no number: : 373361it [08:16, 75.74it/s] "
     ]
    },
    {
     "name": "stdout",
     "output_type": "stream",
     "text": [
      "found_phrases [('five', 'physicians')]\n",
      "caption a group of five physicians of diverse genders and ethnicities\n",
      "\n"
     ]
    },
    {
     "name": "stderr",
     "output_type": "stream",
     "text": [
      "Code: no number: : 373665it [08:17, 122.56it/s]   "
     ]
    },
    {
     "name": "stdout",
     "output_type": "stream",
     "text": [
      "Failed to process image https://www.mitre.org/sites/default/files/images/camh_project_physleadership.jpg: cannot identify image file <_io.BytesIO object at 0x7fa36a12c130>\n"
     ]
    },
    {
     "name": "stderr",
     "output_type": "stream",
     "text": [
      "Code: no number: : 374945it [08:18, 654.90it/s]    "
     ]
    },
    {
     "name": "stdout",
     "output_type": "stream",
     "text": [
      "found_phrases []\n",
      "caption five finger death punch guitarist <person> stopped to help a las vegas officer on the side of the road.\n",
      "\n"
     ]
    },
    {
     "name": "stderr",
     "output_type": "stream",
     "text": [
      "Code: no number: : 375329it [08:19, 416.27it/s]    "
     ]
    },
    {
     "name": "stdout",
     "output_type": "stream",
     "text": [
      "found_phrases []\n",
      "caption drones - maze for kids. which drone out of five will reach the destination stock illustration\n",
      "\n",
      "found_phrases [('five', 'games')]\n",
      "caption edmonton oilers captain <person> hoists the stanley cup over his head on may 30, 1985, at northlands coliseum after his team beat the philadelphia flyers in five games to win the league title.\n",
      "\n"
     ]
    },
    {
     "name": "stderr",
     "output_type": "stream",
     "text": [
      "Code: no number: : 375715it [08:20, 494.37it/s]    "
     ]
    },
    {
     "name": "stdout",
     "output_type": "stream",
     "text": [
      "Failed to process image https://postmediaedmontonjournal2.files.wordpress.com/2017/06/edmonton-jan-9-gretzky-and-stanley-former-edmonton-oiler.jpeg: cannot identify image file <_io.BytesIO object at 0x7fa38a2e1630>\n"
     ]
    },
    {
     "name": "stderr",
     "output_type": "stream",
     "text": [
      "Code: no number: : 376143it [08:20, 800.24it/s]    "
     ]
    },
    {
     "name": "stdout",
     "output_type": "stream",
     "text": [
      "found_phrases []\n",
      "caption the north face denali five panel cap\n",
      "\n",
      "found_phrases [('five', 'videos')]\n",
      "caption <person> watching himself on television in a video image released by the pentagon in may 2011. five videos were found in his compound.\n",
      "\n"
     ]
    },
    {
     "data": {
      "text/html": [
       "wandb version 0.17.0 is available!  To upgrade, please run:\n",
       " $ pip install wandb --upgrade"
      ],
      "text/plain": [
       "<IPython.core.display.HTML object>"
      ]
     },
     "metadata": {},
     "output_type": "display_data"
    },
    {
     "data": {
      "text/html": [
       "Tracking run with wandb version 0.16.6"
      ],
      "text/plain": [
       "<IPython.core.display.HTML object>"
      ]
     },
     "metadata": {},
     "output_type": "display_data"
    },
    {
     "data": {
      "text/html": [
       "Run data is saved locally in <code>/Users/susu/Library/CloudStorage/OneDrive-Personal/Wisc/clip_count_continued/CLIP_Counting/wandb/run-20240512_211504-cu7u7e0k</code>"
      ],
      "text/plain": [
       "<IPython.core.display.HTML object>"
      ]
     },
     "metadata": {},
     "output_type": "display_data"
    },
    {
     "data": {
      "text/html": [
       "Syncing run <strong><a href='https://wandb.ai/ruisu/flicker_raw_images/runs/cu7u7e0k' target=\"_blank\">dutiful-oath-7692</a></strong> to <a href='https://wandb.ai/ruisu/flicker_raw_images' target=\"_blank\">Weights & Biases</a> (<a href='https://wandb.me/run' target=\"_blank\">docs</a>)<br/>"
      ],
      "text/plain": [
       "<IPython.core.display.HTML object>"
      ]
     },
     "metadata": {},
     "output_type": "display_data"
    },
    {
     "data": {
      "text/html": [
       " View project at <a href='https://wandb.ai/ruisu/flicker_raw_images' target=\"_blank\">https://wandb.ai/ruisu/flicker_raw_images</a>"
      ],
      "text/plain": [
       "<IPython.core.display.HTML object>"
      ]
     },
     "metadata": {},
     "output_type": "display_data"
    },
    {
     "data": {
      "text/html": [
       " View run at <a href='https://wandb.ai/ruisu/flicker_raw_images/runs/cu7u7e0k' target=\"_blank\">https://wandb.ai/ruisu/flicker_raw_images/runs/cu7u7e0k</a>"
      ],
      "text/plain": [
       "<IPython.core.display.HTML object>"
      ]
     },
     "metadata": {},
     "output_type": "display_data"
    },
    {
     "data": {
      "text/html": [
       "<style>\n",
       "    table.wandb td:nth-child(1) { padding: 0 10px; text-align: left ; width: auto;} td:nth-child(2) {text-align: left ; width: 100%}\n",
       "    .wandb-row { display: flex; flex-direction: row; flex-wrap: wrap; justify-content: flex-start; width: 100% }\n",
       "    .wandb-col { display: flex; flex-direction: column; flex-basis: 100%; flex: 1; padding: 10px; }\n",
       "    </style>\n",
       "<div class=\"wandb-row\"><div class=\"wandb-col\"><h3>Run history:</h3><br/><table class=\"wandb\"><tr><td>org_id</td><td>▁</td></tr></table><br/></div><div class=\"wandb-col\"><h3>Run summary:</h3><br/><table class=\"wandb\"><tr><td>caption</td><td><person> watching hi...</td></tr><tr><td>dataset_name</td><td>conceptual_12m-train...</td></tr><tr><td>number</td><td>five</td></tr><tr><td>object</td><td>videos</td></tr><tr><td>org_id</td><td>376289</td></tr><tr><td>url</td><td>https://static01.nyt...</td></tr></table><br/></div></div>"
      ],
      "text/plain": [
       "<IPython.core.display.HTML object>"
      ]
     },
     "metadata": {},
     "output_type": "display_data"
    },
    {
     "data": {
      "text/html": [
       " View run <strong style=\"color:#cdcd00\">dutiful-oath-7692</strong> at: <a href='https://wandb.ai/ruisu/flicker_raw_images/runs/cu7u7e0k' target=\"_blank\">https://wandb.ai/ruisu/flicker_raw_images/runs/cu7u7e0k</a><br/> View project at: <a href='https://wandb.ai/ruisu/flicker_raw_images' target=\"_blank\">https://wandb.ai/ruisu/flicker_raw_images</a><br/>Synced 5 W&B file(s), 1 media file(s), 0 artifact file(s) and 0 other file(s)"
      ],
      "text/plain": [
       "<IPython.core.display.HTML object>"
      ]
     },
     "metadata": {},
     "output_type": "display_data"
    },
    {
     "data": {
      "text/html": [
       "Find logs at: <code>./wandb/run-20240512_211504-cu7u7e0k/logs</code>"
      ],
      "text/plain": [
       "<IPython.core.display.HTML object>"
      ]
     },
     "metadata": {},
     "output_type": "display_data"
    },
    {
     "name": "stderr",
     "output_type": "stream",
     "text": [
      "Code: no number: : 376551it [08:26, 151.41it/s]"
     ]
    },
    {
     "name": "stdout",
     "output_type": "stream",
     "text": [
      "found_phrases [('five', 'mp drones')]\n",
      "caption photogrammetry swarm in action, with five mp drones in swarm formation hovering above the transport container during a test flight in 2018; a sixth drone is filming the swarm.\n",
      "\n"
     ]
    },
    {
     "name": "stderr",
     "output_type": "stream",
     "text": [
      "Code: no number: : 376958it [08:26, 264.64it/s]    "
     ]
    },
    {
     "name": "stdout",
     "output_type": "stream",
     "text": [
      "Failed to process image https://dronebelow.com/wp-content/uploads/2018/11/Photogrammetry-Swarm-in-action-with-five-MP-drones-in-swarm-formation-hovering-above-the.jpg: cannot identify image file <_io.BytesIO object at 0x7fa36a127b30>\n",
      "found_phrases []\n",
      "caption the national free phone and text counselling service 1737 has had a five fold increase in the number of calls from distressed members of the public after the mass shooting in christchurch.\n",
      "\n"
     ]
    },
    {
     "name": "stderr",
     "output_type": "stream",
     "text": [
      "Code: no number: : 377130it [08:27, 339.41it/s]"
     ]
    },
    {
     "name": "stdout",
     "output_type": "stream",
     "text": [
      "found_phrases [('five', 'babies')]\n",
      "caption five babies sitting on floor in a row and crawling\n",
      "\n"
     ]
    },
    {
     "data": {
      "text/html": [
       "wandb version 0.17.0 is available!  To upgrade, please run:\n",
       " $ pip install wandb --upgrade"
      ],
      "text/plain": [
       "<IPython.core.display.HTML object>"
      ]
     },
     "metadata": {},
     "output_type": "display_data"
    },
    {
     "data": {
      "text/html": [
       "Tracking run with wandb version 0.16.6"
      ],
      "text/plain": [
       "<IPython.core.display.HTML object>"
      ]
     },
     "metadata": {},
     "output_type": "display_data"
    },
    {
     "data": {
      "text/html": [
       "Run data is saved locally in <code>/Users/susu/Library/CloudStorage/OneDrive-Personal/Wisc/clip_count_continued/CLIP_Counting/wandb/run-20240512_211510-tpkdijbs</code>"
      ],
      "text/plain": [
       "<IPython.core.display.HTML object>"
      ]
     },
     "metadata": {},
     "output_type": "display_data"
    },
    {
     "data": {
      "text/html": [
       "Syncing run <strong><a href='https://wandb.ai/ruisu/flicker_raw_images/runs/tpkdijbs' target=\"_blank\">kind-voice-7693</a></strong> to <a href='https://wandb.ai/ruisu/flicker_raw_images' target=\"_blank\">Weights & Biases</a> (<a href='https://wandb.me/run' target=\"_blank\">docs</a>)<br/>"
      ],
      "text/plain": [
       "<IPython.core.display.HTML object>"
      ]
     },
     "metadata": {},
     "output_type": "display_data"
    },
    {
     "data": {
      "text/html": [
       " View project at <a href='https://wandb.ai/ruisu/flicker_raw_images' target=\"_blank\">https://wandb.ai/ruisu/flicker_raw_images</a>"
      ],
      "text/plain": [
       "<IPython.core.display.HTML object>"
      ]
     },
     "metadata": {},
     "output_type": "display_data"
    },
    {
     "data": {
      "text/html": [
       " View run at <a href='https://wandb.ai/ruisu/flicker_raw_images/runs/tpkdijbs' target=\"_blank\">https://wandb.ai/ruisu/flicker_raw_images/runs/tpkdijbs</a>"
      ],
      "text/plain": [
       "<IPython.core.display.HTML object>"
      ]
     },
     "metadata": {},
     "output_type": "display_data"
    },
    {
     "data": {
      "text/html": [
       "<style>\n",
       "    table.wandb td:nth-child(1) { padding: 0 10px; text-align: left ; width: auto;} td:nth-child(2) {text-align: left ; width: 100%}\n",
       "    .wandb-row { display: flex; flex-direction: row; flex-wrap: wrap; justify-content: flex-start; width: 100% }\n",
       "    .wandb-col { display: flex; flex-direction: column; flex-basis: 100%; flex: 1; padding: 10px; }\n",
       "    </style>\n",
       "<div class=\"wandb-row\"><div class=\"wandb-col\"><h3>Run history:</h3><br/><table class=\"wandb\"><tr><td>org_id</td><td>▁</td></tr></table><br/></div><div class=\"wandb-col\"><h3>Run summary:</h3><br/><table class=\"wandb\"><tr><td>caption</td><td>five babies sitting ...</td></tr><tr><td>dataset_name</td><td>conceptual_12m-train...</td></tr><tr><td>number</td><td>five</td></tr><tr><td>object</td><td>babies</td></tr><tr><td>org_id</td><td>377339</td></tr><tr><td>url</td><td>https://t1.thpservic...</td></tr></table><br/></div></div>"
      ],
      "text/plain": [
       "<IPython.core.display.HTML object>"
      ]
     },
     "metadata": {},
     "output_type": "display_data"
    },
    {
     "data": {
      "text/html": [
       " View run <strong style=\"color:#cdcd00\">kind-voice-7693</strong> at: <a href='https://wandb.ai/ruisu/flicker_raw_images/runs/tpkdijbs' target=\"_blank\">https://wandb.ai/ruisu/flicker_raw_images/runs/tpkdijbs</a><br/> View project at: <a href='https://wandb.ai/ruisu/flicker_raw_images' target=\"_blank\">https://wandb.ai/ruisu/flicker_raw_images</a><br/>Synced 5 W&B file(s), 1 media file(s), 0 artifact file(s) and 0 other file(s)"
      ],
      "text/plain": [
       "<IPython.core.display.HTML object>"
      ]
     },
     "metadata": {},
     "output_type": "display_data"
    },
    {
     "data": {
      "text/html": [
       "Find logs at: <code>./wandb/run-20240512_211510-tpkdijbs/logs</code>"
      ],
      "text/plain": [
       "<IPython.core.display.HTML object>"
      ]
     },
     "metadata": {},
     "output_type": "display_data"
    },
    {
     "name": "stderr",
     "output_type": "stream",
     "text": [
      "Code: no number: : 377568it [08:33, 135.28it/s]"
     ]
    },
    {
     "name": "stdout",
     "output_type": "stream",
     "text": [
      "found_phrases [('five', 'days')]\n",
      "caption apple iphone 9 to launch in the next five days\n",
      "\n"
     ]
    },
    {
     "data": {
      "text/html": [
       "wandb version 0.17.0 is available!  To upgrade, please run:\n",
       " $ pip install wandb --upgrade"
      ],
      "text/plain": [
       "<IPython.core.display.HTML object>"
      ]
     },
     "metadata": {},
     "output_type": "display_data"
    },
    {
     "data": {
      "text/html": [
       "Tracking run with wandb version 0.16.6"
      ],
      "text/plain": [
       "<IPython.core.display.HTML object>"
      ]
     },
     "metadata": {},
     "output_type": "display_data"
    },
    {
     "data": {
      "text/html": [
       "Run data is saved locally in <code>/Users/susu/Library/CloudStorage/OneDrive-Personal/Wisc/clip_count_continued/CLIP_Counting/wandb/run-20240512_211516-jbcsboal</code>"
      ],
      "text/plain": [
       "<IPython.core.display.HTML object>"
      ]
     },
     "metadata": {},
     "output_type": "display_data"
    },
    {
     "data": {
      "text/html": [
       "Syncing run <strong><a href='https://wandb.ai/ruisu/flicker_raw_images/runs/jbcsboal' target=\"_blank\">lyric-plant-7694</a></strong> to <a href='https://wandb.ai/ruisu/flicker_raw_images' target=\"_blank\">Weights & Biases</a> (<a href='https://wandb.me/run' target=\"_blank\">docs</a>)<br/>"
      ],
      "text/plain": [
       "<IPython.core.display.HTML object>"
      ]
     },
     "metadata": {},
     "output_type": "display_data"
    },
    {
     "data": {
      "text/html": [
       " View project at <a href='https://wandb.ai/ruisu/flicker_raw_images' target=\"_blank\">https://wandb.ai/ruisu/flicker_raw_images</a>"
      ],
      "text/plain": [
       "<IPython.core.display.HTML object>"
      ]
     },
     "metadata": {},
     "output_type": "display_data"
    },
    {
     "data": {
      "text/html": [
       " View run at <a href='https://wandb.ai/ruisu/flicker_raw_images/runs/jbcsboal' target=\"_blank\">https://wandb.ai/ruisu/flicker_raw_images/runs/jbcsboal</a>"
      ],
      "text/plain": [
       "<IPython.core.display.HTML object>"
      ]
     },
     "metadata": {},
     "output_type": "display_data"
    },
    {
     "data": {
      "text/html": [
       "<style>\n",
       "    table.wandb td:nth-child(1) { padding: 0 10px; text-align: left ; width: auto;} td:nth-child(2) {text-align: left ; width: 100%}\n",
       "    .wandb-row { display: flex; flex-direction: row; flex-wrap: wrap; justify-content: flex-start; width: 100% }\n",
       "    .wandb-col { display: flex; flex-direction: column; flex-basis: 100%; flex: 1; padding: 10px; }\n",
       "    </style>\n",
       "<div class=\"wandb-row\"><div class=\"wandb-col\"><h3>Run history:</h3><br/><table class=\"wandb\"><tr><td>org_id</td><td>▁</td></tr></table><br/></div><div class=\"wandb-col\"><h3>Run summary:</h3><br/><table class=\"wandb\"><tr><td>caption</td><td>apple iphone 9 to la...</td></tr><tr><td>dataset_name</td><td>conceptual_12m-train...</td></tr><tr><td>number</td><td>five</td></tr><tr><td>object</td><td>days</td></tr><tr><td>org_id</td><td>377574</td></tr><tr><td>url</td><td>https://www.technowi...</td></tr></table><br/></div></div>"
      ],
      "text/plain": [
       "<IPython.core.display.HTML object>"
      ]
     },
     "metadata": {},
     "output_type": "display_data"
    },
    {
     "data": {
      "text/html": [
       " View run <strong style=\"color:#cdcd00\">lyric-plant-7694</strong> at: <a href='https://wandb.ai/ruisu/flicker_raw_images/runs/jbcsboal' target=\"_blank\">https://wandb.ai/ruisu/flicker_raw_images/runs/jbcsboal</a><br/> View project at: <a href='https://wandb.ai/ruisu/flicker_raw_images' target=\"_blank\">https://wandb.ai/ruisu/flicker_raw_images</a><br/>Synced 5 W&B file(s), 1 media file(s), 0 artifact file(s) and 0 other file(s)"
      ],
      "text/plain": [
       "<IPython.core.display.HTML object>"
      ]
     },
     "metadata": {},
     "output_type": "display_data"
    },
    {
     "data": {
      "text/html": [
       "Find logs at: <code>./wandb/run-20240512_211516-jbcsboal/logs</code>"
      ],
      "text/plain": [
       "<IPython.core.display.HTML object>"
      ]
     },
     "metadata": {},
     "output_type": "display_data"
    },
    {
     "name": "stderr",
     "output_type": "stream",
     "text": [
      "Code: no number: : 379143it [08:40, 496.58it/s]    "
     ]
    },
    {
     "name": "stdout",
     "output_type": "stream",
     "text": [
      "found_phrases [('five', 'ingredients')]\n",
      "caption the five ingredients needed to make egg salad: eggs, mustard, mayonnaise, salt and pepper.\n",
      "\n",
      "Failed to process image https://tastesbetterfromscratch.com/wp-content/uploads/2020/04/Egg-Salad-Sandwich-1.jpg: cannot identify image file <_io.BytesIO object at 0x7fa308016540>\n",
      "found_phrases []\n",
      "caption this grinch-themed christmas tree was created by five star industries of du quoin.\n",
      "\n"
     ]
    },
    {
     "name": "stderr",
     "output_type": "stream",
     "text": [
      "Code: no number: : 380393it [08:41, 1137.15it/s]"
     ]
    },
    {
     "name": "stdout",
     "output_type": "stream",
     "text": [
      "found_phrases [('five', 'paragraph')]\n",
      "caption 018 write five paragraph essay step how many paragraphs are in an unforgettable informative introduction there 1400\n",
      "\n"
     ]
    },
    {
     "name": "stderr",
     "output_type": "stream",
     "text": [
      "Code: no number: : 380795it [08:42, 689.86it/s]     "
     ]
    },
    {
     "name": "stdout",
     "output_type": "stream",
     "text": [
      "Failed to process image https://www.thatsnotus.com/g/018-write-five-paragraph-essay-step-how-many-paragraphs-are-in-an-1400x1050.jpg: cannot identify image file <_io.BytesIO object at 0x7fa398ece950>\n"
     ]
    },
    {
     "name": "stderr",
     "output_type": "stream",
     "text": [
      "Code: no number: : 381229it [08:42, 1051.11it/s]"
     ]
    },
    {
     "name": "stdout",
     "output_type": "stream",
     "text": [
      "found_phrases [('five', 'reasons')]\n",
      "caption five reasons to design a custom hoodie\n",
      "\n"
     ]
    },
    {
     "name": "stderr",
     "output_type": "stream",
     "text": [
      "Code: no number: : 381637it [08:52, 89.38it/s]      "
     ]
    },
    {
     "name": "stdout",
     "output_type": "stream",
     "text": [
      "The request timed out. Skipping this image.\n"
     ]
    },
    {
     "name": "stderr",
     "output_type": "stream",
     "text": [
      "Code: no number: : 382472it [08:53, 306.85it/s]    "
     ]
    },
    {
     "name": "stdout",
     "output_type": "stream",
     "text": [
      "found_phrases []\n",
      "caption five dollar bill wrapped in a red ribbon\n",
      "\n"
     ]
    },
    {
     "name": "stderr",
     "output_type": "stream",
     "text": [
      "Code: no number: : 383022it [08:53, 578.69it/s]    "
     ]
    },
    {
     "name": "stdout",
     "output_type": "stream",
     "text": [
      "found_phrases []\n",
      "caption figure 3: examples of three and five component lunches the comply with the new content and nutrition requirements | by u.s. gao\n",
      "\n",
      "found_phrases [('five', 'helicopters')]\n",
      "caption trainee engineer <person>, pilot and general manager <person> and pilot and ceo <person> in front of the fourth <person> has just bought. their fleet of five helicopters also includes a jet ranger.\n",
      "\n",
      "Failed to process image https://resources.stuff.co.nz/content/dam/images/1/9/2/y/n/x/image.related.StuffLandscapeSixteenByNine.710x400.192ggo.png/1452232191711.jpg: HTTPSConnectionPool(host='resources.stuff.co.nz', port=443): Max retries exceeded with url: /content/dam/images/1/9/2/y/n/x/image.related.StuffLandscapeSixteenByNine.710x400.192ggo.png/1452232191711.jpg (Caused by NameResolutionError(\"<urllib3.connection.HTTPSConnection object at 0x7fa3385523d0>: Failed to resolve 'resources.stuff.co.nz' ([Errno 8] nodename nor servname provided, or not known)\"))\n",
      "found_phrases []\n",
      "caption five nintendo 64 games that are unboxed but are in great condition. includes: perfect dark <person> <person> san francisco rush jet force gemini this value pack is a great starting point for the n64, with a sports game, horror game, shooter game and racing game.\n",
      "\n"
     ]
    },
    {
     "name": "stderr",
     "output_type": "stream",
     "text": [
      "Code: no number: : 384556it [08:54, 1524.78it/s]"
     ]
    },
    {
     "name": "stdout",
     "output_type": "stream",
     "text": [
      "found_phrases [('five', 'homes')]\n",
      "caption ( <person> | the salt lake tribune) open kitchen and living room area in one of the new energy efficient living zenith homes at 1172 s. 400 east, salt lake city. the five homes are built tight with high insulation materials which use very little energy for heating and cooling. aug. 10, 2017.\n",
      "\n"
     ]
    },
    {
     "data": {
      "text/html": [
       "wandb version 0.17.0 is available!  To upgrade, please run:\n",
       " $ pip install wandb --upgrade"
      ],
      "text/plain": [
       "<IPython.core.display.HTML object>"
      ]
     },
     "metadata": {},
     "output_type": "display_data"
    },
    {
     "data": {
      "text/html": [
       "Tracking run with wandb version 0.16.6"
      ],
      "text/plain": [
       "<IPython.core.display.HTML object>"
      ]
     },
     "metadata": {},
     "output_type": "display_data"
    },
    {
     "data": {
      "text/html": [
       "Run data is saved locally in <code>/Users/susu/Library/CloudStorage/OneDrive-Personal/Wisc/clip_count_continued/CLIP_Counting/wandb/run-20240512_211538-lcrvxdlt</code>"
      ],
      "text/plain": [
       "<IPython.core.display.HTML object>"
      ]
     },
     "metadata": {},
     "output_type": "display_data"
    },
    {
     "data": {
      "text/html": [
       "Syncing run <strong><a href='https://wandb.ai/ruisu/flicker_raw_images/runs/lcrvxdlt' target=\"_blank\">electric-lake-7695</a></strong> to <a href='https://wandb.ai/ruisu/flicker_raw_images' target=\"_blank\">Weights & Biases</a> (<a href='https://wandb.me/run' target=\"_blank\">docs</a>)<br/>"
      ],
      "text/plain": [
       "<IPython.core.display.HTML object>"
      ]
     },
     "metadata": {},
     "output_type": "display_data"
    },
    {
     "data": {
      "text/html": [
       " View project at <a href='https://wandb.ai/ruisu/flicker_raw_images' target=\"_blank\">https://wandb.ai/ruisu/flicker_raw_images</a>"
      ],
      "text/plain": [
       "<IPython.core.display.HTML object>"
      ]
     },
     "metadata": {},
     "output_type": "display_data"
    },
    {
     "data": {
      "text/html": [
       " View run at <a href='https://wandb.ai/ruisu/flicker_raw_images/runs/lcrvxdlt' target=\"_blank\">https://wandb.ai/ruisu/flicker_raw_images/runs/lcrvxdlt</a>"
      ],
      "text/plain": [
       "<IPython.core.display.HTML object>"
      ]
     },
     "metadata": {},
     "output_type": "display_data"
    },
    {
     "data": {
      "text/html": [
       "<style>\n",
       "    table.wandb td:nth-child(1) { padding: 0 10px; text-align: left ; width: auto;} td:nth-child(2) {text-align: left ; width: 100%}\n",
       "    .wandb-row { display: flex; flex-direction: row; flex-wrap: wrap; justify-content: flex-start; width: 100% }\n",
       "    .wandb-col { display: flex; flex-direction: column; flex-basis: 100%; flex: 1; padding: 10px; }\n",
       "    </style>\n",
       "<div class=\"wandb-row\"><div class=\"wandb-col\"><h3>Run history:</h3><br/><table class=\"wandb\"><tr><td>org_id</td><td>▁</td></tr></table><br/></div><div class=\"wandb-col\"><h3>Run summary:</h3><br/><table class=\"wandb\"><tr><td>caption</td><td>( <person> | the sal...</td></tr><tr><td>dataset_name</td><td>conceptual_12m-train...</td></tr><tr><td>number</td><td>five</td></tr><tr><td>object</td><td>homes</td></tr><tr><td>org_id</td><td>384669</td></tr><tr><td>url</td><td>https://www.sltrib.c...</td></tr></table><br/></div></div>"
      ],
      "text/plain": [
       "<IPython.core.display.HTML object>"
      ]
     },
     "metadata": {},
     "output_type": "display_data"
    },
    {
     "data": {
      "text/html": [
       " View run <strong style=\"color:#cdcd00\">electric-lake-7695</strong> at: <a href='https://wandb.ai/ruisu/flicker_raw_images/runs/lcrvxdlt' target=\"_blank\">https://wandb.ai/ruisu/flicker_raw_images/runs/lcrvxdlt</a><br/> View project at: <a href='https://wandb.ai/ruisu/flicker_raw_images' target=\"_blank\">https://wandb.ai/ruisu/flicker_raw_images</a><br/>Synced 5 W&B file(s), 1 media file(s), 0 artifact file(s) and 0 other file(s)"
      ],
      "text/plain": [
       "<IPython.core.display.HTML object>"
      ]
     },
     "metadata": {},
     "output_type": "display_data"
    },
    {
     "data": {
      "text/html": [
       "Find logs at: <code>./wandb/run-20240512_211538-lcrvxdlt/logs</code>"
      ],
      "text/plain": [
       "<IPython.core.display.HTML object>"
      ]
     },
     "metadata": {},
     "output_type": "display_data"
    },
    {
     "name": "stderr",
     "output_type": "stream",
     "text": [
      "Code: no number: : 385391it [09:01, 248.29it/s]    "
     ]
    },
    {
     "name": "stdout",
     "output_type": "stream",
     "text": [
      "found_phrases []\n",
      "caption who are the men behind those five retired jerseys?\n",
      "\n"
     ]
    },
    {
     "name": "stderr",
     "output_type": "stream",
     "text": [
      "Code: no number: : 385391it [09:01, 248.29it/s]    "
     ]
    },
    {
     "name": "stdout",
     "output_type": "stream",
     "text": [
      "found_phrases []\n",
      "caption high five friday with the lakeville police\n",
      "\n",
      "found_phrases [('five', 'minutes')]\n",
      "caption dutch crunch bread dough | artisan bread in five minutes a day\n",
      "\n"
     ]
    },
    {
     "data": {
      "text/html": [
       "wandb version 0.17.0 is available!  To upgrade, please run:\n",
       " $ pip install wandb --upgrade"
      ],
      "text/plain": [
       "<IPython.core.display.HTML object>"
      ]
     },
     "metadata": {},
     "output_type": "display_data"
    },
    {
     "data": {
      "text/html": [
       "Tracking run with wandb version 0.16.6"
      ],
      "text/plain": [
       "<IPython.core.display.HTML object>"
      ]
     },
     "metadata": {},
     "output_type": "display_data"
    },
    {
     "data": {
      "text/html": [
       "Run data is saved locally in <code>/Users/susu/Library/CloudStorage/OneDrive-Personal/Wisc/clip_count_continued/CLIP_Counting/wandb/run-20240512_211545-rak9p464</code>"
      ],
      "text/plain": [
       "<IPython.core.display.HTML object>"
      ]
     },
     "metadata": {},
     "output_type": "display_data"
    },
    {
     "data": {
      "text/html": [
       "Syncing run <strong><a href='https://wandb.ai/ruisu/flicker_raw_images/runs/rak9p464' target=\"_blank\">pretty-glitter-7696</a></strong> to <a href='https://wandb.ai/ruisu/flicker_raw_images' target=\"_blank\">Weights & Biases</a> (<a href='https://wandb.me/run' target=\"_blank\">docs</a>)<br/>"
      ],
      "text/plain": [
       "<IPython.core.display.HTML object>"
      ]
     },
     "metadata": {},
     "output_type": "display_data"
    },
    {
     "data": {
      "text/html": [
       " View project at <a href='https://wandb.ai/ruisu/flicker_raw_images' target=\"_blank\">https://wandb.ai/ruisu/flicker_raw_images</a>"
      ],
      "text/plain": [
       "<IPython.core.display.HTML object>"
      ]
     },
     "metadata": {},
     "output_type": "display_data"
    },
    {
     "data": {
      "text/html": [
       " View run at <a href='https://wandb.ai/ruisu/flicker_raw_images/runs/rak9p464' target=\"_blank\">https://wandb.ai/ruisu/flicker_raw_images/runs/rak9p464</a>"
      ],
      "text/plain": [
       "<IPython.core.display.HTML object>"
      ]
     },
     "metadata": {},
     "output_type": "display_data"
    },
    {
     "data": {
      "text/html": [
       "<style>\n",
       "    table.wandb td:nth-child(1) { padding: 0 10px; text-align: left ; width: auto;} td:nth-child(2) {text-align: left ; width: 100%}\n",
       "    .wandb-row { display: flex; flex-direction: row; flex-wrap: wrap; justify-content: flex-start; width: 100% }\n",
       "    .wandb-col { display: flex; flex-direction: column; flex-basis: 100%; flex: 1; padding: 10px; }\n",
       "    </style>\n",
       "<div class=\"wandb-row\"><div class=\"wandb-col\"><h3>Run history:</h3><br/><table class=\"wandb\"><tr><td>org_id</td><td>▁</td></tr></table><br/></div><div class=\"wandb-col\"><h3>Run summary:</h3><br/><table class=\"wandb\"><tr><td>caption</td><td>dutch crunch bread d...</td></tr><tr><td>dataset_name</td><td>conceptual_12m-train...</td></tr><tr><td>number</td><td>five</td></tr><tr><td>object</td><td>minutes</td></tr><tr><td>org_id</td><td>385577</td></tr><tr><td>url</td><td>https://i0.wp.com/ar...</td></tr></table><br/></div></div>"
      ],
      "text/plain": [
       "<IPython.core.display.HTML object>"
      ]
     },
     "metadata": {},
     "output_type": "display_data"
    },
    {
     "data": {
      "text/html": [
       " View run <strong style=\"color:#cdcd00\">pretty-glitter-7696</strong> at: <a href='https://wandb.ai/ruisu/flicker_raw_images/runs/rak9p464' target=\"_blank\">https://wandb.ai/ruisu/flicker_raw_images/runs/rak9p464</a><br/> View project at: <a href='https://wandb.ai/ruisu/flicker_raw_images' target=\"_blank\">https://wandb.ai/ruisu/flicker_raw_images</a><br/>Synced 5 W&B file(s), 1 media file(s), 0 artifact file(s) and 0 other file(s)"
      ],
      "text/plain": [
       "<IPython.core.display.HTML object>"
      ]
     },
     "metadata": {},
     "output_type": "display_data"
    },
    {
     "data": {
      "text/html": [
       "Find logs at: <code>./wandb/run-20240512_211545-rak9p464/logs</code>"
      ],
      "text/plain": [
       "<IPython.core.display.HTML object>"
      ]
     },
     "metadata": {},
     "output_type": "display_data"
    },
    {
     "name": "stderr",
     "output_type": "stream",
     "text": [
      "Code: no number: : 386550it [09:08, 346.68it/s]"
     ]
    },
    {
     "name": "stdout",
     "output_type": "stream",
     "text": [
      "found_phrases [('five', 'students')]\n",
      "caption five students work in an office, preparing for orientation 2019.\n",
      "\n"
     ]
    },
    {
     "name": "stderr",
     "output_type": "stream",
     "text": [
      "Code: no number: : 386901it [09:09, 348.11it/s]    "
     ]
    },
    {
     "name": "stdout",
     "output_type": "stream",
     "text": [
      "Failed to process image https://www.wellesley.edu/sites/default/files/styles/news_refresh/public/assets/dailyshot/orientation1_0.jpg?itok=tozhV3Y8: cannot identify image file <_io.BytesIO object at 0x7fa3595067c0>\n",
      "found_phrases []\n",
      "caption the five downtown hotel & residences meetings & events facilities\n",
      "\n"
     ]
    },
    {
     "name": "stderr",
     "output_type": "stream",
     "text": [
      "Code: no number: : 388224it [09:10, 1287.35it/s]"
     ]
    },
    {
     "name": "stdout",
     "output_type": "stream",
     "text": [
      "found_phrases [('five', 'tons')]\n",
      "caption photo: along with the casa grande police department, the casa grande fire department created five tons of snow and laid it on the walkers' property. <person> and her brothers made snow angels, a snowman, went sledding and had snowball fight.\n",
      "\n"
     ]
    },
    {
     "data": {
      "text/html": [
       "wandb version 0.17.0 is available!  To upgrade, please run:\n",
       " $ pip install wandb --upgrade"
      ],
      "text/plain": [
       "<IPython.core.display.HTML object>"
      ]
     },
     "metadata": {},
     "output_type": "display_data"
    },
    {
     "data": {
      "text/html": [
       "Tracking run with wandb version 0.16.6"
      ],
      "text/plain": [
       "<IPython.core.display.HTML object>"
      ]
     },
     "metadata": {},
     "output_type": "display_data"
    },
    {
     "data": {
      "text/html": [
       "Run data is saved locally in <code>/Users/susu/Library/CloudStorage/OneDrive-Personal/Wisc/clip_count_continued/CLIP_Counting/wandb/run-20240512_211554-9tccb5wa</code>"
      ],
      "text/plain": [
       "<IPython.core.display.HTML object>"
      ]
     },
     "metadata": {},
     "output_type": "display_data"
    },
    {
     "data": {
      "text/html": [
       "Syncing run <strong><a href='https://wandb.ai/ruisu/flicker_raw_images/runs/9tccb5wa' target=\"_blank\">polar-field-7697</a></strong> to <a href='https://wandb.ai/ruisu/flicker_raw_images' target=\"_blank\">Weights & Biases</a> (<a href='https://wandb.me/run' target=\"_blank\">docs</a>)<br/>"
      ],
      "text/plain": [
       "<IPython.core.display.HTML object>"
      ]
     },
     "metadata": {},
     "output_type": "display_data"
    },
    {
     "data": {
      "text/html": [
       " View project at <a href='https://wandb.ai/ruisu/flicker_raw_images' target=\"_blank\">https://wandb.ai/ruisu/flicker_raw_images</a>"
      ],
      "text/plain": [
       "<IPython.core.display.HTML object>"
      ]
     },
     "metadata": {},
     "output_type": "display_data"
    },
    {
     "data": {
      "text/html": [
       " View run at <a href='https://wandb.ai/ruisu/flicker_raw_images/runs/9tccb5wa' target=\"_blank\">https://wandb.ai/ruisu/flicker_raw_images/runs/9tccb5wa</a>"
      ],
      "text/plain": [
       "<IPython.core.display.HTML object>"
      ]
     },
     "metadata": {},
     "output_type": "display_data"
    },
    {
     "data": {
      "text/html": [
       "<style>\n",
       "    table.wandb td:nth-child(1) { padding: 0 10px; text-align: left ; width: auto;} td:nth-child(2) {text-align: left ; width: 100%}\n",
       "    .wandb-row { display: flex; flex-direction: row; flex-wrap: wrap; justify-content: flex-start; width: 100% }\n",
       "    .wandb-col { display: flex; flex-direction: column; flex-basis: 100%; flex: 1; padding: 10px; }\n",
       "    </style>\n",
       "<div class=\"wandb-row\"><div class=\"wandb-col\"><h3>Run history:</h3><br/><table class=\"wandb\"><tr><td>org_id</td><td>▁</td></tr></table><br/></div><div class=\"wandb-col\"><h3>Run summary:</h3><br/><table class=\"wandb\"><tr><td>caption</td><td>photo: along with th...</td></tr><tr><td>dataset_name</td><td>conceptual_12m-train...</td></tr><tr><td>number</td><td>five</td></tr><tr><td>object</td><td>tons</td></tr><tr><td>org_id</td><td>388255</td></tr><tr><td>url</td><td>https://s.abcnews.co...</td></tr></table><br/></div></div>"
      ],
      "text/plain": [
       "<IPython.core.display.HTML object>"
      ]
     },
     "metadata": {},
     "output_type": "display_data"
    },
    {
     "data": {
      "text/html": [
       " View run <strong style=\"color:#cdcd00\">polar-field-7697</strong> at: <a href='https://wandb.ai/ruisu/flicker_raw_images/runs/9tccb5wa' target=\"_blank\">https://wandb.ai/ruisu/flicker_raw_images/runs/9tccb5wa</a><br/> View project at: <a href='https://wandb.ai/ruisu/flicker_raw_images' target=\"_blank\">https://wandb.ai/ruisu/flicker_raw_images</a><br/>Synced 5 W&B file(s), 1 media file(s), 0 artifact file(s) and 0 other file(s)"
      ],
      "text/plain": [
       "<IPython.core.display.HTML object>"
      ]
     },
     "metadata": {},
     "output_type": "display_data"
    },
    {
     "data": {
      "text/html": [
       "Find logs at: <code>./wandb/run-20240512_211554-9tccb5wa/logs</code>"
      ],
      "text/plain": [
       "<IPython.core.display.HTML object>"
      ]
     },
     "metadata": {},
     "output_type": "display_data"
    },
    {
     "name": "stderr",
     "output_type": "stream",
     "text": [
      "Code: no number: : 388647it [09:17, 153.08it/s] "
     ]
    },
    {
     "name": "stdout",
     "output_type": "stream",
     "text": [
      "found_phrases [('five', 'elements')]\n",
      "caption glencoe managing life skills chapter 34 homes and decorating chapter 34 homes and decorating 15 using design elements and principles the five elements of design are space, line, form, texture, and color.\n",
      "\n"
     ]
    },
    {
     "data": {
      "text/html": [
       "wandb version 0.17.0 is available!  To upgrade, please run:\n",
       " $ pip install wandb --upgrade"
      ],
      "text/plain": [
       "<IPython.core.display.HTML object>"
      ]
     },
     "metadata": {},
     "output_type": "display_data"
    },
    {
     "data": {
      "text/html": [
       "Tracking run with wandb version 0.16.6"
      ],
      "text/plain": [
       "<IPython.core.display.HTML object>"
      ]
     },
     "metadata": {},
     "output_type": "display_data"
    },
    {
     "data": {
      "text/html": [
       "Run data is saved locally in <code>/Users/susu/Library/CloudStorage/OneDrive-Personal/Wisc/clip_count_continued/CLIP_Counting/wandb/run-20240512_211601-ugjc578k</code>"
      ],
      "text/plain": [
       "<IPython.core.display.HTML object>"
      ]
     },
     "metadata": {},
     "output_type": "display_data"
    },
    {
     "data": {
      "text/html": [
       "Syncing run <strong><a href='https://wandb.ai/ruisu/flicker_raw_images/runs/ugjc578k' target=\"_blank\">deep-cosmos-7698</a></strong> to <a href='https://wandb.ai/ruisu/flicker_raw_images' target=\"_blank\">Weights & Biases</a> (<a href='https://wandb.me/run' target=\"_blank\">docs</a>)<br/>"
      ],
      "text/plain": [
       "<IPython.core.display.HTML object>"
      ]
     },
     "metadata": {},
     "output_type": "display_data"
    },
    {
     "data": {
      "text/html": [
       " View project at <a href='https://wandb.ai/ruisu/flicker_raw_images' target=\"_blank\">https://wandb.ai/ruisu/flicker_raw_images</a>"
      ],
      "text/plain": [
       "<IPython.core.display.HTML object>"
      ]
     },
     "metadata": {},
     "output_type": "display_data"
    },
    {
     "data": {
      "text/html": [
       " View run at <a href='https://wandb.ai/ruisu/flicker_raw_images/runs/ugjc578k' target=\"_blank\">https://wandb.ai/ruisu/flicker_raw_images/runs/ugjc578k</a>"
      ],
      "text/plain": [
       "<IPython.core.display.HTML object>"
      ]
     },
     "metadata": {},
     "output_type": "display_data"
    },
    {
     "data": {
      "text/html": [
       "<style>\n",
       "    table.wandb td:nth-child(1) { padding: 0 10px; text-align: left ; width: auto;} td:nth-child(2) {text-align: left ; width: 100%}\n",
       "    .wandb-row { display: flex; flex-direction: row; flex-wrap: wrap; justify-content: flex-start; width: 100% }\n",
       "    .wandb-col { display: flex; flex-direction: column; flex-basis: 100%; flex: 1; padding: 10px; }\n",
       "    </style>\n",
       "<div class=\"wandb-row\"><div class=\"wandb-col\"><h3>Run history:</h3><br/><table class=\"wandb\"><tr><td>org_id</td><td>▁</td></tr></table><br/></div><div class=\"wandb-col\"><h3>Run summary:</h3><br/><table class=\"wandb\"><tr><td>caption</td><td>glencoe managing lif...</td></tr><tr><td>dataset_name</td><td>conceptual_12m-train...</td></tr><tr><td>number</td><td>five</td></tr><tr><td>object</td><td>elements</td></tr><tr><td>org_id</td><td>388846</td></tr><tr><td>url</td><td>https://images.slide...</td></tr></table><br/></div></div>"
      ],
      "text/plain": [
       "<IPython.core.display.HTML object>"
      ]
     },
     "metadata": {},
     "output_type": "display_data"
    },
    {
     "data": {
      "text/html": [
       " View run <strong style=\"color:#cdcd00\">deep-cosmos-7698</strong> at: <a href='https://wandb.ai/ruisu/flicker_raw_images/runs/ugjc578k' target=\"_blank\">https://wandb.ai/ruisu/flicker_raw_images/runs/ugjc578k</a><br/> View project at: <a href='https://wandb.ai/ruisu/flicker_raw_images' target=\"_blank\">https://wandb.ai/ruisu/flicker_raw_images</a><br/>Synced 5 W&B file(s), 1 media file(s), 0 artifact file(s) and 0 other file(s)"
      ],
      "text/plain": [
       "<IPython.core.display.HTML object>"
      ]
     },
     "metadata": {},
     "output_type": "display_data"
    },
    {
     "data": {
      "text/html": [
       "Find logs at: <code>./wandb/run-20240512_211601-ugjc578k/logs</code>"
      ],
      "text/plain": [
       "<IPython.core.display.HTML object>"
      ]
     },
     "metadata": {},
     "output_type": "display_data"
    },
    {
     "name": "stderr",
     "output_type": "stream",
     "text": [
      "Code: no number: : 389078it [09:23, 101.43it/s]"
     ]
    },
    {
     "name": "stdout",
     "output_type": "stream",
     "text": [
      "found_phrases [('five', 'major nutrients')]\n",
      "caption illustration material (figure) of the food example that contains a large amount of five major nutrients 39136795\n",
      "\n"
     ]
    },
    {
     "data": {
      "text/html": [
       "wandb version 0.17.0 is available!  To upgrade, please run:\n",
       " $ pip install wandb --upgrade"
      ],
      "text/plain": [
       "<IPython.core.display.HTML object>"
      ]
     },
     "metadata": {},
     "output_type": "display_data"
    },
    {
     "data": {
      "text/html": [
       "Tracking run with wandb version 0.16.6"
      ],
      "text/plain": [
       "<IPython.core.display.HTML object>"
      ]
     },
     "metadata": {},
     "output_type": "display_data"
    },
    {
     "data": {
      "text/html": [
       "Run data is saved locally in <code>/Users/susu/Library/CloudStorage/OneDrive-Personal/Wisc/clip_count_continued/CLIP_Counting/wandb/run-20240512_211608-nqna9740</code>"
      ],
      "text/plain": [
       "<IPython.core.display.HTML object>"
      ]
     },
     "metadata": {},
     "output_type": "display_data"
    },
    {
     "data": {
      "text/html": [
       "Syncing run <strong><a href='https://wandb.ai/ruisu/flicker_raw_images/runs/nqna9740' target=\"_blank\">peach-energy-7699</a></strong> to <a href='https://wandb.ai/ruisu/flicker_raw_images' target=\"_blank\">Weights & Biases</a> (<a href='https://wandb.me/run' target=\"_blank\">docs</a>)<br/>"
      ],
      "text/plain": [
       "<IPython.core.display.HTML object>"
      ]
     },
     "metadata": {},
     "output_type": "display_data"
    },
    {
     "data": {
      "text/html": [
       " View project at <a href='https://wandb.ai/ruisu/flicker_raw_images' target=\"_blank\">https://wandb.ai/ruisu/flicker_raw_images</a>"
      ],
      "text/plain": [
       "<IPython.core.display.HTML object>"
      ]
     },
     "metadata": {},
     "output_type": "display_data"
    },
    {
     "data": {
      "text/html": [
       " View run at <a href='https://wandb.ai/ruisu/flicker_raw_images/runs/nqna9740' target=\"_blank\">https://wandb.ai/ruisu/flicker_raw_images/runs/nqna9740</a>"
      ],
      "text/plain": [
       "<IPython.core.display.HTML object>"
      ]
     },
     "metadata": {},
     "output_type": "display_data"
    },
    {
     "data": {
      "text/html": [
       "<style>\n",
       "    table.wandb td:nth-child(1) { padding: 0 10px; text-align: left ; width: auto;} td:nth-child(2) {text-align: left ; width: 100%}\n",
       "    .wandb-row { display: flex; flex-direction: row; flex-wrap: wrap; justify-content: flex-start; width: 100% }\n",
       "    .wandb-col { display: flex; flex-direction: column; flex-basis: 100%; flex: 1; padding: 10px; }\n",
       "    </style>\n",
       "<div class=\"wandb-row\"><div class=\"wandb-col\"><h3>Run history:</h3><br/><table class=\"wandb\"><tr><td>org_id</td><td>▁</td></tr></table><br/></div><div class=\"wandb-col\"><h3>Run summary:</h3><br/><table class=\"wandb\"><tr><td>caption</td><td>illustration materia...</td></tr><tr><td>dataset_name</td><td>conceptual_12m-train...</td></tr><tr><td>number</td><td>five</td></tr><tr><td>object</td><td>major nutrients</td></tr><tr><td>org_id</td><td>389141</td></tr><tr><td>url</td><td>https://en.pimg.jp/0...</td></tr></table><br/></div></div>"
      ],
      "text/plain": [
       "<IPython.core.display.HTML object>"
      ]
     },
     "metadata": {},
     "output_type": "display_data"
    },
    {
     "data": {
      "text/html": [
       " View run <strong style=\"color:#cdcd00\">peach-energy-7699</strong> at: <a href='https://wandb.ai/ruisu/flicker_raw_images/runs/nqna9740' target=\"_blank\">https://wandb.ai/ruisu/flicker_raw_images/runs/nqna9740</a><br/> View project at: <a href='https://wandb.ai/ruisu/flicker_raw_images' target=\"_blank\">https://wandb.ai/ruisu/flicker_raw_images</a><br/>Synced 5 W&B file(s), 1 media file(s), 0 artifact file(s) and 0 other file(s)"
      ],
      "text/plain": [
       "<IPython.core.display.HTML object>"
      ]
     },
     "metadata": {},
     "output_type": "display_data"
    },
    {
     "data": {
      "text/html": [
       "Find logs at: <code>./wandb/run-20240512_211608-nqna9740/logs</code>"
      ],
      "text/plain": [
       "<IPython.core.display.HTML object>"
      ]
     },
     "metadata": {},
     "output_type": "display_data"
    },
    {
     "name": "stderr",
     "output_type": "stream",
     "text": [
      "Code: no number: : 389228it [09:30, 57.61it/s] "
     ]
    },
    {
     "name": "stdout",
     "output_type": "stream",
     "text": [
      "found_phrases [('five', 'stocks')]\n",
      "caption sats is one of the five stocks making up almost 15 per cent of the sti weight that averaged a dividend yield of 3 per cent last year. sats provides gateway services and food solutions in singapore, japan and internationally.\n",
      "\n"
     ]
    },
    {
     "name": "stderr",
     "output_type": "stream",
     "text": [
      "Code: no number: : 389334it [09:30, 68.13it/s]    "
     ]
    },
    {
     "name": "stdout",
     "output_type": "stream",
     "text": [
      "Failed to process image https://www.straitstimes.com/sites/default/files/styles/article_pictrure_780x520_/public/articles/2018/07/02/ST_20180702_BIZDIV_4100227.jpg?itok=ZfpggxKZ&timestamp=1530468607: cannot identify image file <_io.BytesIO object at 0x7fa36a071900>\n",
      "found_phrases [('five', 'metres')]\n",
      "caption a man is being rescued from the popular walking trail and lookout drawing room rocks, north west of <person> after falling five metres down an embankment.\n",
      "\n"
     ]
    },
    {
     "name": "stderr",
     "output_type": "stream",
     "text": [
      "Code: no number: : 389660it [09:31, 131.08it/s]   "
     ]
    },
    {
     "name": "stdout",
     "output_type": "stream",
     "text": [
      "Failed to process image https://nnimgt-a.akamaihd.net/transform/v1/crop/frm/TimAB2MTHanvQWPwhBc6mp/744e635d-48d6-4bdc-b36c-89938cdbdb7f.JPG/r0_0_643_484_w1200_h678_fmax.jpg: cannot identify image file <_io.BytesIO object at 0x7fa398ece950>\n"
     ]
    },
    {
     "name": "stderr",
     "output_type": "stream",
     "text": [
      "Code: no number: : 389899it [09:31, 201.84it/s]"
     ]
    },
    {
     "name": "stdout",
     "output_type": "stream",
     "text": [
      "found_phrases [('five', 'guys burgers')]\n",
      "caption one serving of french fries at five guys burgers and fries is generous, to say the least.\n",
      "\n"
     ]
    },
    {
     "name": "stderr",
     "output_type": "stream",
     "text": [
      "Code: no number: : 390184it [09:41, 62.27it/s]     "
     ]
    },
    {
     "name": "stdout",
     "output_type": "stream",
     "text": [
      "The request timed out. Skipping this image.\n"
     ]
    },
    {
     "name": "stderr",
     "output_type": "stream",
     "text": [
      "Code: no number: : 390387it [09:41, 93.35it/s]"
     ]
    },
    {
     "name": "stdout",
     "output_type": "stream",
     "text": [
      "found_phrases [('five', 'armies')]\n",
      "caption new lego 79017 - the hobbit the battle of five armies - fast shipping - insured <person>, lego bionicle, best lego sets, mirkwood elves, lego knights, lego city police, goblin king, lego super heroes, lego pieces\n",
      "\n"
     ]
    },
    {
     "data": {
      "text/html": [
       "wandb version 0.17.0 is available!  To upgrade, please run:\n",
       " $ pip install wandb --upgrade"
      ],
      "text/plain": [
       "<IPython.core.display.HTML object>"
      ]
     },
     "metadata": {},
     "output_type": "display_data"
    },
    {
     "data": {
      "text/html": [
       "Tracking run with wandb version 0.16.6"
      ],
      "text/plain": [
       "<IPython.core.display.HTML object>"
      ]
     },
     "metadata": {},
     "output_type": "display_data"
    },
    {
     "data": {
      "text/html": [
       "Run data is saved locally in <code>/Users/susu/Library/CloudStorage/OneDrive-Personal/Wisc/clip_count_continued/CLIP_Counting/wandb/run-20240512_211625-vbyukqv3</code>"
      ],
      "text/plain": [
       "<IPython.core.display.HTML object>"
      ]
     },
     "metadata": {},
     "output_type": "display_data"
    },
    {
     "data": {
      "text/html": [
       "Syncing run <strong><a href='https://wandb.ai/ruisu/flicker_raw_images/runs/vbyukqv3' target=\"_blank\">devoted-shape-7700</a></strong> to <a href='https://wandb.ai/ruisu/flicker_raw_images' target=\"_blank\">Weights & Biases</a> (<a href='https://wandb.me/run' target=\"_blank\">docs</a>)<br/>"
      ],
      "text/plain": [
       "<IPython.core.display.HTML object>"
      ]
     },
     "metadata": {},
     "output_type": "display_data"
    },
    {
     "data": {
      "text/html": [
       " View project at <a href='https://wandb.ai/ruisu/flicker_raw_images' target=\"_blank\">https://wandb.ai/ruisu/flicker_raw_images</a>"
      ],
      "text/plain": [
       "<IPython.core.display.HTML object>"
      ]
     },
     "metadata": {},
     "output_type": "display_data"
    },
    {
     "data": {
      "text/html": [
       " View run at <a href='https://wandb.ai/ruisu/flicker_raw_images/runs/vbyukqv3' target=\"_blank\">https://wandb.ai/ruisu/flicker_raw_images/runs/vbyukqv3</a>"
      ],
      "text/plain": [
       "<IPython.core.display.HTML object>"
      ]
     },
     "metadata": {},
     "output_type": "display_data"
    },
    {
     "data": {
      "text/html": [
       "<style>\n",
       "    table.wandb td:nth-child(1) { padding: 0 10px; text-align: left ; width: auto;} td:nth-child(2) {text-align: left ; width: 100%}\n",
       "    .wandb-row { display: flex; flex-direction: row; flex-wrap: wrap; justify-content: flex-start; width: 100% }\n",
       "    .wandb-col { display: flex; flex-direction: column; flex-basis: 100%; flex: 1; padding: 10px; }\n",
       "    </style>\n",
       "<div class=\"wandb-row\"><div class=\"wandb-col\"><h3>Run history:</h3><br/><table class=\"wandb\"><tr><td>org_id</td><td>▁</td></tr></table><br/></div><div class=\"wandb-col\"><h3>Run summary:</h3><br/><table class=\"wandb\"><tr><td>caption</td><td>new lego 79017 - the...</td></tr><tr><td>dataset_name</td><td>conceptual_12m-train...</td></tr><tr><td>number</td><td>five</td></tr><tr><td>object</td><td>armies</td></tr><tr><td>org_id</td><td>390456</td></tr><tr><td>url</td><td>https://i.pinimg.com...</td></tr></table><br/></div></div>"
      ],
      "text/plain": [
       "<IPython.core.display.HTML object>"
      ]
     },
     "metadata": {},
     "output_type": "display_data"
    },
    {
     "data": {
      "text/html": [
       " View run <strong style=\"color:#cdcd00\">devoted-shape-7700</strong> at: <a href='https://wandb.ai/ruisu/flicker_raw_images/runs/vbyukqv3' target=\"_blank\">https://wandb.ai/ruisu/flicker_raw_images/runs/vbyukqv3</a><br/> View project at: <a href='https://wandb.ai/ruisu/flicker_raw_images' target=\"_blank\">https://wandb.ai/ruisu/flicker_raw_images</a><br/>Synced 5 W&B file(s), 1 media file(s), 0 artifact file(s) and 0 other file(s)"
      ],
      "text/plain": [
       "<IPython.core.display.HTML object>"
      ]
     },
     "metadata": {},
     "output_type": "display_data"
    },
    {
     "data": {
      "text/html": [
       "Find logs at: <code>./wandb/run-20240512_211625-vbyukqv3/logs</code>"
      ],
      "text/plain": [
       "<IPython.core.display.HTML object>"
      ]
     },
     "metadata": {},
     "output_type": "display_data"
    },
    {
     "name": "stderr",
     "output_type": "stream",
     "text": [
      "Code: no number: : 390551it [09:48, 50.98it/s]"
     ]
    },
    {
     "name": "stdout",
     "output_type": "stream",
     "text": [
      "found_phrases [('five', 'things')]\n",
      "caption five things not to do in your garden during a heat wave\n",
      "\n"
     ]
    },
    {
     "name": "stderr",
     "output_type": "stream",
     "text": [
      "Code: no number: : 390907it [09:49, 100.15it/s]   "
     ]
    },
    {
     "name": "stdout",
     "output_type": "stream",
     "text": [
      "Failed to process image http://thegardencentral.com/wp-content/uploads/2017/07/Five-things-not-to-do-in-your-garden-during-a-heat-wave.jpg: ('Connection aborted.', RemoteDisconnected('Remote end closed connection without response'))\n"
     ]
    },
    {
     "name": "stderr",
     "output_type": "stream",
     "text": [
      "Code: no number: : 391654it [09:49, 363.80it/s]"
     ]
    },
    {
     "name": "stdout",
     "output_type": "stream",
     "text": [
      "found_phrases [('five', 'guys'), ('five', 'guys enterprises')]\n",
      "caption inside a five guys hamburger kitchen with people serving fries and burgers, london. five guys enterprises llc is an american fast casual restaurant chain focused stock photography\n",
      "\n"
     ]
    },
    {
     "data": {
      "text/html": [
       "wandb version 0.17.0 is available!  To upgrade, please run:\n",
       " $ pip install wandb --upgrade"
      ],
      "text/plain": [
       "<IPython.core.display.HTML object>"
      ]
     },
     "metadata": {},
     "output_type": "display_data"
    },
    {
     "data": {
      "text/html": [
       "Tracking run with wandb version 0.16.6"
      ],
      "text/plain": [
       "<IPython.core.display.HTML object>"
      ]
     },
     "metadata": {},
     "output_type": "display_data"
    },
    {
     "data": {
      "text/html": [
       "Run data is saved locally in <code>/Users/susu/Library/CloudStorage/OneDrive-Personal/Wisc/clip_count_continued/CLIP_Counting/wandb/run-20240512_211632-2n6nnxar</code>"
      ],
      "text/plain": [
       "<IPython.core.display.HTML object>"
      ]
     },
     "metadata": {},
     "output_type": "display_data"
    },
    {
     "data": {
      "text/html": [
       "Syncing run <strong><a href='https://wandb.ai/ruisu/flicker_raw_images/runs/2n6nnxar' target=\"_blank\">confused-fire-7701</a></strong> to <a href='https://wandb.ai/ruisu/flicker_raw_images' target=\"_blank\">Weights & Biases</a> (<a href='https://wandb.me/run' target=\"_blank\">docs</a>)<br/>"
      ],
      "text/plain": [
       "<IPython.core.display.HTML object>"
      ]
     },
     "metadata": {},
     "output_type": "display_data"
    },
    {
     "data": {
      "text/html": [
       " View project at <a href='https://wandb.ai/ruisu/flicker_raw_images' target=\"_blank\">https://wandb.ai/ruisu/flicker_raw_images</a>"
      ],
      "text/plain": [
       "<IPython.core.display.HTML object>"
      ]
     },
     "metadata": {},
     "output_type": "display_data"
    },
    {
     "data": {
      "text/html": [
       " View run at <a href='https://wandb.ai/ruisu/flicker_raw_images/runs/2n6nnxar' target=\"_blank\">https://wandb.ai/ruisu/flicker_raw_images/runs/2n6nnxar</a>"
      ],
      "text/plain": [
       "<IPython.core.display.HTML object>"
      ]
     },
     "metadata": {},
     "output_type": "display_data"
    },
    {
     "data": {
      "text/html": [
       "<style>\n",
       "    table.wandb td:nth-child(1) { padding: 0 10px; text-align: left ; width: auto;} td:nth-child(2) {text-align: left ; width: 100%}\n",
       "    .wandb-row { display: flex; flex-direction: row; flex-wrap: wrap; justify-content: flex-start; width: 100% }\n",
       "    .wandb-col { display: flex; flex-direction: column; flex-basis: 100%; flex: 1; padding: 10px; }\n",
       "    </style>\n",
       "<div class=\"wandb-row\"><div class=\"wandb-col\"><h3>Run history:</h3><br/><table class=\"wandb\"><tr><td>org_id</td><td>▁</td></tr></table><br/></div><div class=\"wandb-col\"><h3>Run summary:</h3><br/><table class=\"wandb\"><tr><td>caption</td><td>inside a five guys h...</td></tr><tr><td>dataset_name</td><td>conceptual_12m-train...</td></tr><tr><td>number</td><td>five</td></tr><tr><td>object</td><td>guys</td></tr><tr><td>org_id</td><td>391760</td></tr><tr><td>url</td><td>https://thumbs.dream...</td></tr></table><br/></div></div>"
      ],
      "text/plain": [
       "<IPython.core.display.HTML object>"
      ]
     },
     "metadata": {},
     "output_type": "display_data"
    },
    {
     "data": {
      "text/html": [
       " View run <strong style=\"color:#cdcd00\">confused-fire-7701</strong> at: <a href='https://wandb.ai/ruisu/flicker_raw_images/runs/2n6nnxar' target=\"_blank\">https://wandb.ai/ruisu/flicker_raw_images/runs/2n6nnxar</a><br/> View project at: <a href='https://wandb.ai/ruisu/flicker_raw_images' target=\"_blank\">https://wandb.ai/ruisu/flicker_raw_images</a><br/>Synced 5 W&B file(s), 1 media file(s), 0 artifact file(s) and 0 other file(s)"
      ],
      "text/plain": [
       "<IPython.core.display.HTML object>"
      ]
     },
     "metadata": {},
     "output_type": "display_data"
    },
    {
     "data": {
      "text/html": [
       "Find logs at: <code>./wandb/run-20240512_211632-2n6nnxar/logs</code>"
      ],
      "text/plain": [
       "<IPython.core.display.HTML object>"
      ]
     },
     "metadata": {},
     "output_type": "display_data"
    },
    {
     "name": "stderr",
     "output_type": "stream",
     "text": [
      "Code: no number: : 392260it [09:55, 182.78it/s]"
     ]
    },
    {
     "name": "stdout",
     "output_type": "stream",
     "text": [
      "found_phrases [('five', 'local artists')]\n",
      "caption these five local artists will create custom portraits of your pet\n",
      "\n"
     ]
    },
    {
     "data": {
      "text/html": [
       "wandb version 0.17.0 is available!  To upgrade, please run:\n",
       " $ pip install wandb --upgrade"
      ],
      "text/plain": [
       "<IPython.core.display.HTML object>"
      ]
     },
     "metadata": {},
     "output_type": "display_data"
    },
    {
     "data": {
      "text/html": [
       "Tracking run with wandb version 0.16.6"
      ],
      "text/plain": [
       "<IPython.core.display.HTML object>"
      ]
     },
     "metadata": {},
     "output_type": "display_data"
    },
    {
     "data": {
      "text/html": [
       "Run data is saved locally in <code>/Users/susu/Library/CloudStorage/OneDrive-Personal/Wisc/clip_count_continued/CLIP_Counting/wandb/run-20240512_211639-w4ppgglz</code>"
      ],
      "text/plain": [
       "<IPython.core.display.HTML object>"
      ]
     },
     "metadata": {},
     "output_type": "display_data"
    },
    {
     "data": {
      "text/html": [
       "Syncing run <strong><a href='https://wandb.ai/ruisu/flicker_raw_images/runs/w4ppgglz' target=\"_blank\">sage-silence-7702</a></strong> to <a href='https://wandb.ai/ruisu/flicker_raw_images' target=\"_blank\">Weights & Biases</a> (<a href='https://wandb.me/run' target=\"_blank\">docs</a>)<br/>"
      ],
      "text/plain": [
       "<IPython.core.display.HTML object>"
      ]
     },
     "metadata": {},
     "output_type": "display_data"
    },
    {
     "data": {
      "text/html": [
       " View project at <a href='https://wandb.ai/ruisu/flicker_raw_images' target=\"_blank\">https://wandb.ai/ruisu/flicker_raw_images</a>"
      ],
      "text/plain": [
       "<IPython.core.display.HTML object>"
      ]
     },
     "metadata": {},
     "output_type": "display_data"
    },
    {
     "data": {
      "text/html": [
       " View run at <a href='https://wandb.ai/ruisu/flicker_raw_images/runs/w4ppgglz' target=\"_blank\">https://wandb.ai/ruisu/flicker_raw_images/runs/w4ppgglz</a>"
      ],
      "text/plain": [
       "<IPython.core.display.HTML object>"
      ]
     },
     "metadata": {},
     "output_type": "display_data"
    },
    {
     "data": {
      "text/html": [
       "<style>\n",
       "    table.wandb td:nth-child(1) { padding: 0 10px; text-align: left ; width: auto;} td:nth-child(2) {text-align: left ; width: 100%}\n",
       "    .wandb-row { display: flex; flex-direction: row; flex-wrap: wrap; justify-content: flex-start; width: 100% }\n",
       "    .wandb-col { display: flex; flex-direction: column; flex-basis: 100%; flex: 1; padding: 10px; }\n",
       "    </style>\n",
       "<div class=\"wandb-row\"><div class=\"wandb-col\"><h3>Run history:</h3><br/><table class=\"wandb\"><tr><td>org_id</td><td>▁</td></tr></table><br/></div><div class=\"wandb-col\"><h3>Run summary:</h3><br/><table class=\"wandb\"><tr><td>caption</td><td>these five local art...</td></tr><tr><td>dataset_name</td><td>conceptual_12m-train...</td></tr><tr><td>number</td><td>five</td></tr><tr><td>object</td><td>local artists</td></tr><tr><td>org_id</td><td>392465</td></tr><tr><td>url</td><td>https://www.washingt...</td></tr></table><br/></div></div>"
      ],
      "text/plain": [
       "<IPython.core.display.HTML object>"
      ]
     },
     "metadata": {},
     "output_type": "display_data"
    },
    {
     "data": {
      "text/html": [
       " View run <strong style=\"color:#cdcd00\">sage-silence-7702</strong> at: <a href='https://wandb.ai/ruisu/flicker_raw_images/runs/w4ppgglz' target=\"_blank\">https://wandb.ai/ruisu/flicker_raw_images/runs/w4ppgglz</a><br/> View project at: <a href='https://wandb.ai/ruisu/flicker_raw_images' target=\"_blank\">https://wandb.ai/ruisu/flicker_raw_images</a><br/>Synced 5 W&B file(s), 1 media file(s), 0 artifact file(s) and 0 other file(s)"
      ],
      "text/plain": [
       "<IPython.core.display.HTML object>"
      ]
     },
     "metadata": {},
     "output_type": "display_data"
    },
    {
     "data": {
      "text/html": [
       "Find logs at: <code>./wandb/run-20240512_211639-w4ppgglz/logs</code>"
      ],
      "text/plain": [
       "<IPython.core.display.HTML object>"
      ]
     },
     "metadata": {},
     "output_type": "display_data"
    },
    {
     "name": "stderr",
     "output_type": "stream",
     "text": [
      "Code: no number: : 392466it [10:05, 54.97it/s] "
     ]
    },
    {
     "name": "stdout",
     "output_type": "stream",
     "text": [
      "found_phrases [('five', 'benefits')]\n",
      "caption there are five benefits of window tints that protect you and your vehicle from sun damage, shattered glass, and more.\n",
      "\n"
     ]
    },
    {
     "data": {
      "text/html": [
       "wandb version 0.17.0 is available!  To upgrade, please run:\n",
       " $ pip install wandb --upgrade"
      ],
      "text/plain": [
       "<IPython.core.display.HTML object>"
      ]
     },
     "metadata": {},
     "output_type": "display_data"
    },
    {
     "data": {
      "text/html": [
       "Tracking run with wandb version 0.16.6"
      ],
      "text/plain": [
       "<IPython.core.display.HTML object>"
      ]
     },
     "metadata": {},
     "output_type": "display_data"
    },
    {
     "data": {
      "text/html": [
       "Run data is saved locally in <code>/Users/susu/Library/CloudStorage/OneDrive-Personal/Wisc/clip_count_continued/CLIP_Counting/wandb/run-20240512_211649-ljdw24yj</code>"
      ],
      "text/plain": [
       "<IPython.core.display.HTML object>"
      ]
     },
     "metadata": {},
     "output_type": "display_data"
    },
    {
     "data": {
      "text/html": [
       "Syncing run <strong><a href='https://wandb.ai/ruisu/flicker_raw_images/runs/ljdw24yj' target=\"_blank\">dauntless-sound-7703</a></strong> to <a href='https://wandb.ai/ruisu/flicker_raw_images' target=\"_blank\">Weights & Biases</a> (<a href='https://wandb.me/run' target=\"_blank\">docs</a>)<br/>"
      ],
      "text/plain": [
       "<IPython.core.display.HTML object>"
      ]
     },
     "metadata": {},
     "output_type": "display_data"
    },
    {
     "data": {
      "text/html": [
       " View project at <a href='https://wandb.ai/ruisu/flicker_raw_images' target=\"_blank\">https://wandb.ai/ruisu/flicker_raw_images</a>"
      ],
      "text/plain": [
       "<IPython.core.display.HTML object>"
      ]
     },
     "metadata": {},
     "output_type": "display_data"
    },
    {
     "data": {
      "text/html": [
       " View run at <a href='https://wandb.ai/ruisu/flicker_raw_images/runs/ljdw24yj' target=\"_blank\">https://wandb.ai/ruisu/flicker_raw_images/runs/ljdw24yj</a>"
      ],
      "text/plain": [
       "<IPython.core.display.HTML object>"
      ]
     },
     "metadata": {},
     "output_type": "display_data"
    },
    {
     "data": {
      "text/html": [
       "<style>\n",
       "    table.wandb td:nth-child(1) { padding: 0 10px; text-align: left ; width: auto;} td:nth-child(2) {text-align: left ; width: 100%}\n",
       "    .wandb-row { display: flex; flex-direction: row; flex-wrap: wrap; justify-content: flex-start; width: 100% }\n",
       "    .wandb-col { display: flex; flex-direction: column; flex-basis: 100%; flex: 1; padding: 10px; }\n",
       "    </style>\n",
       "<div class=\"wandb-row\"><div class=\"wandb-col\"><h3>Run history:</h3><br/><table class=\"wandb\"><tr><td>org_id</td><td>▁</td></tr></table><br/></div><div class=\"wandb-col\"><h3>Run summary:</h3><br/><table class=\"wandb\"><tr><td>caption</td><td>there are five benef...</td></tr><tr><td>dataset_name</td><td>conceptual_12m-train...</td></tr><tr><td>number</td><td>five</td></tr><tr><td>object</td><td>benefits</td></tr><tr><td>org_id</td><td>392472</td></tr><tr><td>url</td><td>https://premierdetai...</td></tr></table><br/></div></div>"
      ],
      "text/plain": [
       "<IPython.core.display.HTML object>"
      ]
     },
     "metadata": {},
     "output_type": "display_data"
    },
    {
     "data": {
      "text/html": [
       " View run <strong style=\"color:#cdcd00\">dauntless-sound-7703</strong> at: <a href='https://wandb.ai/ruisu/flicker_raw_images/runs/ljdw24yj' target=\"_blank\">https://wandb.ai/ruisu/flicker_raw_images/runs/ljdw24yj</a><br/> View project at: <a href='https://wandb.ai/ruisu/flicker_raw_images' target=\"_blank\">https://wandb.ai/ruisu/flicker_raw_images</a><br/>Synced 5 W&B file(s), 1 media file(s), 0 artifact file(s) and 0 other file(s)"
      ],
      "text/plain": [
       "<IPython.core.display.HTML object>"
      ]
     },
     "metadata": {},
     "output_type": "display_data"
    },
    {
     "data": {
      "text/html": [
       "Find logs at: <code>./wandb/run-20240512_211649-ljdw24yj/logs</code>"
      ],
      "text/plain": [
       "<IPython.core.display.HTML object>"
      ]
     },
     "metadata": {},
     "output_type": "display_data"
    },
    {
     "name": "stderr",
     "output_type": "stream",
     "text": [
      "Code: no number: : 393423it [10:14, 150.46it/s]    "
     ]
    },
    {
     "name": "stdout",
     "output_type": "stream",
     "text": [
      "found_phrases []\n",
      "caption the five best affordable apartments in nyc (week of october 7)\n",
      "\n"
     ]
    },
    {
     "name": "stderr",
     "output_type": "stream",
     "text": [
      "Code: no number: : 393590it [10:14, 195.67it/s]"
     ]
    },
    {
     "name": "stdout",
     "output_type": "stream",
     "text": [
      "found_phrases [('five', 'airmen')]\n",
      "caption <person>, american forces network tokyo broadcaster, edits video footage at yokota air base, japan, jan. 9, 2017. <person> was one of five airmen at yokota to receive a promotion through the senior airman below-the-zone promotion board. (u.s. air force photo by senior airman <person>)\n",
      "\n"
     ]
    },
    {
     "data": {
      "text/html": [
       "wandb version 0.17.0 is available!  To upgrade, please run:\n",
       " $ pip install wandb --upgrade"
      ],
      "text/plain": [
       "<IPython.core.display.HTML object>"
      ]
     },
     "metadata": {},
     "output_type": "display_data"
    },
    {
     "data": {
      "text/html": [
       "Tracking run with wandb version 0.16.6"
      ],
      "text/plain": [
       "<IPython.core.display.HTML object>"
      ]
     },
     "metadata": {},
     "output_type": "display_data"
    },
    {
     "data": {
      "text/html": [
       "Run data is saved locally in <code>/Users/susu/Library/CloudStorage/OneDrive-Personal/Wisc/clip_count_continued/CLIP_Counting/wandb/run-20240512_211658-xe9orvtw</code>"
      ],
      "text/plain": [
       "<IPython.core.display.HTML object>"
      ]
     },
     "metadata": {},
     "output_type": "display_data"
    },
    {
     "data": {
      "text/html": [
       "Syncing run <strong><a href='https://wandb.ai/ruisu/flicker_raw_images/runs/xe9orvtw' target=\"_blank\">proud-snow-7704</a></strong> to <a href='https://wandb.ai/ruisu/flicker_raw_images' target=\"_blank\">Weights & Biases</a> (<a href='https://wandb.me/run' target=\"_blank\">docs</a>)<br/>"
      ],
      "text/plain": [
       "<IPython.core.display.HTML object>"
      ]
     },
     "metadata": {},
     "output_type": "display_data"
    },
    {
     "data": {
      "text/html": [
       " View project at <a href='https://wandb.ai/ruisu/flicker_raw_images' target=\"_blank\">https://wandb.ai/ruisu/flicker_raw_images</a>"
      ],
      "text/plain": [
       "<IPython.core.display.HTML object>"
      ]
     },
     "metadata": {},
     "output_type": "display_data"
    },
    {
     "data": {
      "text/html": [
       " View run at <a href='https://wandb.ai/ruisu/flicker_raw_images/runs/xe9orvtw' target=\"_blank\">https://wandb.ai/ruisu/flicker_raw_images/runs/xe9orvtw</a>"
      ],
      "text/plain": [
       "<IPython.core.display.HTML object>"
      ]
     },
     "metadata": {},
     "output_type": "display_data"
    },
    {
     "data": {
      "text/html": [
       "<style>\n",
       "    table.wandb td:nth-child(1) { padding: 0 10px; text-align: left ; width: auto;} td:nth-child(2) {text-align: left ; width: 100%}\n",
       "    .wandb-row { display: flex; flex-direction: row; flex-wrap: wrap; justify-content: flex-start; width: 100% }\n",
       "    .wandb-col { display: flex; flex-direction: column; flex-basis: 100%; flex: 1; padding: 10px; }\n",
       "    </style>\n",
       "<div class=\"wandb-row\"><div class=\"wandb-col\"><h3>Run history:</h3><br/><table class=\"wandb\"><tr><td>org_id</td><td>▁</td></tr></table><br/></div><div class=\"wandb-col\"><h3>Run summary:</h3><br/><table class=\"wandb\"><tr><td>caption</td><td><person>, american f...</td></tr><tr><td>dataset_name</td><td>conceptual_12m-train...</td></tr><tr><td>number</td><td>five</td></tr><tr><td>object</td><td>airmen</td></tr><tr><td>org_id</td><td>393698</td></tr><tr><td>url</td><td>https://media.defens...</td></tr></table><br/></div></div>"
      ],
      "text/plain": [
       "<IPython.core.display.HTML object>"
      ]
     },
     "metadata": {},
     "output_type": "display_data"
    },
    {
     "data": {
      "text/html": [
       " View run <strong style=\"color:#cdcd00\">proud-snow-7704</strong> at: <a href='https://wandb.ai/ruisu/flicker_raw_images/runs/xe9orvtw' target=\"_blank\">https://wandb.ai/ruisu/flicker_raw_images/runs/xe9orvtw</a><br/> View project at: <a href='https://wandb.ai/ruisu/flicker_raw_images' target=\"_blank\">https://wandb.ai/ruisu/flicker_raw_images</a><br/>Synced 5 W&B file(s), 1 media file(s), 0 artifact file(s) and 0 other file(s)"
      ],
      "text/plain": [
       "<IPython.core.display.HTML object>"
      ]
     },
     "metadata": {},
     "output_type": "display_data"
    },
    {
     "data": {
      "text/html": [
       "Find logs at: <code>./wandb/run-20240512_211658-xe9orvtw/logs</code>"
      ],
      "text/plain": [
       "<IPython.core.display.HTML object>"
      ]
     },
     "metadata": {},
     "output_type": "display_data"
    },
    {
     "name": "stderr",
     "output_type": "stream",
     "text": [
      "Code: no number: : 393743it [10:20, 70.18it/s]    "
     ]
    },
    {
     "name": "stdout",
     "output_type": "stream",
     "text": [
      "found_phrases []\n",
      "caption when a man reads the five love languages five love languages, words of affirmation, warm hug, text posts, quality time, learn english, good to know, letting go, growing up\n",
      "\n",
      "found_phrases [('five', 'teenage girls')]\n",
      "caption with <person>, <person>, <person>, <person>. five teenage girls learn that they have been chosen to guard the walls between parallel universes. for this purpose, they have been given the powers of the elements. action tv shows, sci fi tv shows, tv series on netflix, tv series online, comedy tv shows, movies and tv shows, <person>, witch tv series, kids nowadays\n",
      "\n"
     ]
    },
    {
     "data": {
      "text/html": [
       "wandb version 0.17.0 is available!  To upgrade, please run:\n",
       " $ pip install wandb --upgrade"
      ],
      "text/plain": [
       "<IPython.core.display.HTML object>"
      ]
     },
     "metadata": {},
     "output_type": "display_data"
    },
    {
     "data": {
      "text/html": [
       "Tracking run with wandb version 0.16.6"
      ],
      "text/plain": [
       "<IPython.core.display.HTML object>"
      ]
     },
     "metadata": {},
     "output_type": "display_data"
    },
    {
     "data": {
      "text/html": [
       "Run data is saved locally in <code>/Users/susu/Library/CloudStorage/OneDrive-Personal/Wisc/clip_count_continued/CLIP_Counting/wandb/run-20240512_211704-40e10vbd</code>"
      ],
      "text/plain": [
       "<IPython.core.display.HTML object>"
      ]
     },
     "metadata": {},
     "output_type": "display_data"
    },
    {
     "data": {
      "text/html": [
       "Syncing run <strong><a href='https://wandb.ai/ruisu/flicker_raw_images/runs/40e10vbd' target=\"_blank\">generous-pond-7705</a></strong> to <a href='https://wandb.ai/ruisu/flicker_raw_images' target=\"_blank\">Weights & Biases</a> (<a href='https://wandb.me/run' target=\"_blank\">docs</a>)<br/>"
      ],
      "text/plain": [
       "<IPython.core.display.HTML object>"
      ]
     },
     "metadata": {},
     "output_type": "display_data"
    },
    {
     "data": {
      "text/html": [
       " View project at <a href='https://wandb.ai/ruisu/flicker_raw_images' target=\"_blank\">https://wandb.ai/ruisu/flicker_raw_images</a>"
      ],
      "text/plain": [
       "<IPython.core.display.HTML object>"
      ]
     },
     "metadata": {},
     "output_type": "display_data"
    },
    {
     "data": {
      "text/html": [
       " View run at <a href='https://wandb.ai/ruisu/flicker_raw_images/runs/40e10vbd' target=\"_blank\">https://wandb.ai/ruisu/flicker_raw_images/runs/40e10vbd</a>"
      ],
      "text/plain": [
       "<IPython.core.display.HTML object>"
      ]
     },
     "metadata": {},
     "output_type": "display_data"
    },
    {
     "data": {
      "text/html": [
       "<style>\n",
       "    table.wandb td:nth-child(1) { padding: 0 10px; text-align: left ; width: auto;} td:nth-child(2) {text-align: left ; width: 100%}\n",
       "    .wandb-row { display: flex; flex-direction: row; flex-wrap: wrap; justify-content: flex-start; width: 100% }\n",
       "    .wandb-col { display: flex; flex-direction: column; flex-basis: 100%; flex: 1; padding: 10px; }\n",
       "    </style>\n",
       "<div class=\"wandb-row\"><div class=\"wandb-col\"><h3>Run history:</h3><br/><table class=\"wandb\"><tr><td>org_id</td><td>▁</td></tr></table><br/></div><div class=\"wandb-col\"><h3>Run summary:</h3><br/><table class=\"wandb\"><tr><td>caption</td><td>with <person>, <pers...</td></tr><tr><td>dataset_name</td><td>conceptual_12m-train...</td></tr><tr><td>number</td><td>five</td></tr><tr><td>object</td><td>teenage girls</td></tr><tr><td>org_id</td><td>393886</td></tr><tr><td>url</td><td>https://i.pinimg.com...</td></tr></table><br/></div></div>"
      ],
      "text/plain": [
       "<IPython.core.display.HTML object>"
      ]
     },
     "metadata": {},
     "output_type": "display_data"
    },
    {
     "data": {
      "text/html": [
       " View run <strong style=\"color:#cdcd00\">generous-pond-7705</strong> at: <a href='https://wandb.ai/ruisu/flicker_raw_images/runs/40e10vbd' target=\"_blank\">https://wandb.ai/ruisu/flicker_raw_images/runs/40e10vbd</a><br/> View project at: <a href='https://wandb.ai/ruisu/flicker_raw_images' target=\"_blank\">https://wandb.ai/ruisu/flicker_raw_images</a><br/>Synced 5 W&B file(s), 1 media file(s), 0 artifact file(s) and 0 other file(s)"
      ],
      "text/plain": [
       "<IPython.core.display.HTML object>"
      ]
     },
     "metadata": {},
     "output_type": "display_data"
    },
    {
     "data": {
      "text/html": [
       "Find logs at: <code>./wandb/run-20240512_211704-40e10vbd/logs</code>"
      ],
      "text/plain": [
       "<IPython.core.display.HTML object>"
      ]
     },
     "metadata": {},
     "output_type": "display_data"
    },
    {
     "name": "stderr",
     "output_type": "stream",
     "text": [
      "Code: no number: : 395438it [10:28, 532.46it/s]    "
     ]
    },
    {
     "name": "stdout",
     "output_type": "stream",
     "text": [
      "found_phrases []\n",
      "caption 2017 new spring couture trumpet sleeve hollow gauze five t long sleeve t-shirt, t-shirts\n",
      "\n"
     ]
    },
    {
     "name": "stderr",
     "output_type": "stream",
     "text": [
      "Code: no number: : 395625it [10:28, 683.65it/s]"
     ]
    },
    {
     "name": "stdout",
     "output_type": "stream",
     "text": [
      "found_phrases [('five', 'black leggings')]\n",
      "caption five black leggings that will get you noticed\n",
      "\n"
     ]
    },
    {
     "data": {
      "text/html": [
       "wandb version 0.17.0 is available!  To upgrade, please run:\n",
       " $ pip install wandb --upgrade"
      ],
      "text/plain": [
       "<IPython.core.display.HTML object>"
      ]
     },
     "metadata": {},
     "output_type": "display_data"
    },
    {
     "data": {
      "text/html": [
       "Tracking run with wandb version 0.16.6"
      ],
      "text/plain": [
       "<IPython.core.display.HTML object>"
      ]
     },
     "metadata": {},
     "output_type": "display_data"
    },
    {
     "data": {
      "text/html": [
       "Run data is saved locally in <code>/Users/susu/Library/CloudStorage/OneDrive-Personal/Wisc/clip_count_continued/CLIP_Counting/wandb/run-20240512_211712-9m5qzxid</code>"
      ],
      "text/plain": [
       "<IPython.core.display.HTML object>"
      ]
     },
     "metadata": {},
     "output_type": "display_data"
    },
    {
     "data": {
      "text/html": [
       "Syncing run <strong><a href='https://wandb.ai/ruisu/flicker_raw_images/runs/9m5qzxid' target=\"_blank\">toasty-energy-7706</a></strong> to <a href='https://wandb.ai/ruisu/flicker_raw_images' target=\"_blank\">Weights & Biases</a> (<a href='https://wandb.me/run' target=\"_blank\">docs</a>)<br/>"
      ],
      "text/plain": [
       "<IPython.core.display.HTML object>"
      ]
     },
     "metadata": {},
     "output_type": "display_data"
    },
    {
     "data": {
      "text/html": [
       " View project at <a href='https://wandb.ai/ruisu/flicker_raw_images' target=\"_blank\">https://wandb.ai/ruisu/flicker_raw_images</a>"
      ],
      "text/plain": [
       "<IPython.core.display.HTML object>"
      ]
     },
     "metadata": {},
     "output_type": "display_data"
    },
    {
     "data": {
      "text/html": [
       " View run at <a href='https://wandb.ai/ruisu/flicker_raw_images/runs/9m5qzxid' target=\"_blank\">https://wandb.ai/ruisu/flicker_raw_images/runs/9m5qzxid</a>"
      ],
      "text/plain": [
       "<IPython.core.display.HTML object>"
      ]
     },
     "metadata": {},
     "output_type": "display_data"
    },
    {
     "data": {
      "text/html": [
       "<style>\n",
       "    table.wandb td:nth-child(1) { padding: 0 10px; text-align: left ; width: auto;} td:nth-child(2) {text-align: left ; width: 100%}\n",
       "    .wandb-row { display: flex; flex-direction: row; flex-wrap: wrap; justify-content: flex-start; width: 100% }\n",
       "    .wandb-col { display: flex; flex-direction: column; flex-basis: 100%; flex: 1; padding: 10px; }\n",
       "    </style>\n",
       "<div class=\"wandb-row\"><div class=\"wandb-col\"><h3>Run history:</h3><br/><table class=\"wandb\"><tr><td>org_id</td><td>▁</td></tr></table><br/></div><div class=\"wandb-col\"><h3>Run summary:</h3><br/><table class=\"wandb\"><tr><td>caption</td><td>five black leggings ...</td></tr><tr><td>dataset_name</td><td>conceptual_12m-train...</td></tr><tr><td>number</td><td>five</td></tr><tr><td>object</td><td>black leggings</td></tr><tr><td>org_id</td><td>395800</td></tr><tr><td>url</td><td>https://static1.squa...</td></tr></table><br/></div></div>"
      ],
      "text/plain": [
       "<IPython.core.display.HTML object>"
      ]
     },
     "metadata": {},
     "output_type": "display_data"
    },
    {
     "data": {
      "text/html": [
       " View run <strong style=\"color:#cdcd00\">toasty-energy-7706</strong> at: <a href='https://wandb.ai/ruisu/flicker_raw_images/runs/9m5qzxid' target=\"_blank\">https://wandb.ai/ruisu/flicker_raw_images/runs/9m5qzxid</a><br/> View project at: <a href='https://wandb.ai/ruisu/flicker_raw_images' target=\"_blank\">https://wandb.ai/ruisu/flicker_raw_images</a><br/>Synced 5 W&B file(s), 1 media file(s), 0 artifact file(s) and 0 other file(s)"
      ],
      "text/plain": [
       "<IPython.core.display.HTML object>"
      ]
     },
     "metadata": {},
     "output_type": "display_data"
    },
    {
     "data": {
      "text/html": [
       "Find logs at: <code>./wandb/run-20240512_211712-9m5qzxid/logs</code>"
      ],
      "text/plain": [
       "<IPython.core.display.HTML object>"
      ]
     },
     "metadata": {},
     "output_type": "display_data"
    },
    {
     "name": "stderr",
     "output_type": "stream",
     "text": [
      "Code: no number: : 396434it [10:38, 169.00it/s]"
     ]
    },
    {
     "name": "stdout",
     "output_type": "stream",
     "text": [
      "found_phrases [('five', 'bedrooms')]\n",
      "caption the main house in this record sale has five bedrooms and the guest house has three more bedrooms.\n",
      "\n"
     ]
    },
    {
     "data": {
      "text/html": [
       "wandb version 0.17.0 is available!  To upgrade, please run:\n",
       " $ pip install wandb --upgrade"
      ],
      "text/plain": [
       "<IPython.core.display.HTML object>"
      ]
     },
     "metadata": {},
     "output_type": "display_data"
    },
    {
     "data": {
      "text/html": [
       "Tracking run with wandb version 0.16.6"
      ],
      "text/plain": [
       "<IPython.core.display.HTML object>"
      ]
     },
     "metadata": {},
     "output_type": "display_data"
    },
    {
     "data": {
      "text/html": [
       "Run data is saved locally in <code>/Users/susu/Library/CloudStorage/OneDrive-Personal/Wisc/clip_count_continued/CLIP_Counting/wandb/run-20240512_211722-kb92lk3c</code>"
      ],
      "text/plain": [
       "<IPython.core.display.HTML object>"
      ]
     },
     "metadata": {},
     "output_type": "display_data"
    },
    {
     "data": {
      "text/html": [
       "Syncing run <strong><a href='https://wandb.ai/ruisu/flicker_raw_images/runs/kb92lk3c' target=\"_blank\">resilient-terrain-7707</a></strong> to <a href='https://wandb.ai/ruisu/flicker_raw_images' target=\"_blank\">Weights & Biases</a> (<a href='https://wandb.me/run' target=\"_blank\">docs</a>)<br/>"
      ],
      "text/plain": [
       "<IPython.core.display.HTML object>"
      ]
     },
     "metadata": {},
     "output_type": "display_data"
    },
    {
     "data": {
      "text/html": [
       " View project at <a href='https://wandb.ai/ruisu/flicker_raw_images' target=\"_blank\">https://wandb.ai/ruisu/flicker_raw_images</a>"
      ],
      "text/plain": [
       "<IPython.core.display.HTML object>"
      ]
     },
     "metadata": {},
     "output_type": "display_data"
    },
    {
     "data": {
      "text/html": [
       " View run at <a href='https://wandb.ai/ruisu/flicker_raw_images/runs/kb92lk3c' target=\"_blank\">https://wandb.ai/ruisu/flicker_raw_images/runs/kb92lk3c</a>"
      ],
      "text/plain": [
       "<IPython.core.display.HTML object>"
      ]
     },
     "metadata": {},
     "output_type": "display_data"
    },
    {
     "data": {
      "text/html": [
       "<style>\n",
       "    table.wandb td:nth-child(1) { padding: 0 10px; text-align: left ; width: auto;} td:nth-child(2) {text-align: left ; width: 100%}\n",
       "    .wandb-row { display: flex; flex-direction: row; flex-wrap: wrap; justify-content: flex-start; width: 100% }\n",
       "    .wandb-col { display: flex; flex-direction: column; flex-basis: 100%; flex: 1; padding: 10px; }\n",
       "    </style>\n",
       "<div class=\"wandb-row\"><div class=\"wandb-col\"><h3>Run history:</h3><br/><table class=\"wandb\"><tr><td>org_id</td><td>▁</td></tr></table><br/></div><div class=\"wandb-col\"><h3>Run summary:</h3><br/><table class=\"wandb\"><tr><td>caption</td><td>the main house in th...</td></tr><tr><td>dataset_name</td><td>conceptual_12m-train...</td></tr><tr><td>number</td><td>five</td></tr><tr><td>object</td><td>bedrooms</td></tr><tr><td>org_id</td><td>396524</td></tr><tr><td>url</td><td>https://i1.wp.com/i....</td></tr></table><br/></div></div>"
      ],
      "text/plain": [
       "<IPython.core.display.HTML object>"
      ]
     },
     "metadata": {},
     "output_type": "display_data"
    },
    {
     "data": {
      "text/html": [
       " View run <strong style=\"color:#cdcd00\">resilient-terrain-7707</strong> at: <a href='https://wandb.ai/ruisu/flicker_raw_images/runs/kb92lk3c' target=\"_blank\">https://wandb.ai/ruisu/flicker_raw_images/runs/kb92lk3c</a><br/> View project at: <a href='https://wandb.ai/ruisu/flicker_raw_images' target=\"_blank\">https://wandb.ai/ruisu/flicker_raw_images</a><br/>Synced 5 W&B file(s), 1 media file(s), 0 artifact file(s) and 0 other file(s)"
      ],
      "text/plain": [
       "<IPython.core.display.HTML object>"
      ]
     },
     "metadata": {},
     "output_type": "display_data"
    },
    {
     "data": {
      "text/html": [
       "Find logs at: <code>./wandb/run-20240512_211722-kb92lk3c/logs</code>"
      ],
      "text/plain": [
       "<IPython.core.display.HTML object>"
      ]
     },
     "metadata": {},
     "output_type": "display_data"
    },
    {
     "name": "stderr",
     "output_type": "stream",
     "text": [
      "Code: no number: : 396434it [10:45, 169.00it/s]"
     ]
    },
    {
     "name": "stdout",
     "output_type": "stream",
     "text": [
      "found_phrases [('five', 'seasons')]\n",
      "caption east lyme coach <person> watches her team warm up prior to the <person>' game against woodstock academy in the ecc girls' soccer tournament semifinals. east lyme continues to thrive under the guidance of redding, who has led the <person> to an 88-10-4 record the last five seasons. ( <person>/the day)\n",
      "\n"
     ]
    },
    {
     "name": "stderr",
     "output_type": "stream",
     "text": [
      "Code: no number: : 396627it [10:46, 63.08it/s]     "
     ]
    },
    {
     "name": "stdout",
     "output_type": "stream",
     "text": [
      "Failed to process image https://www.theday.com/storyimage/NL/20161105/SPORT03/161109522/AR/0/AR-161109522.jpg&Maxw=800&q=62: cannot identify image file <_io.BytesIO object at 0x7fa3484f6e00>\n",
      "found_phrases []\n",
      "caption the worst high five sticker\n",
      "\n",
      "found_phrases [('five', 'wood-burning fireplaces')]\n",
      "caption the house has five wood-burning fireplaces, including this one in the great room.\n",
      "\n"
     ]
    },
    {
     "name": "stderr",
     "output_type": "stream",
     "text": [
      "Code: no number: : 396786it [10:46, 81.84it/s]    "
     ]
    },
    {
     "name": "stdout",
     "output_type": "stream",
     "text": [
      "Failed to process image https://static2.mansionglobal.com/production/media/article-images/67d91dfbf614e7fe0ddee60e9c6a3666/medium_8.20170711_yc_res_125_0477.jpg: cannot identify image file <_io.BytesIO object at 0x7fa3595023b0>\n",
      "found_phrases [('five', 'generations')]\n",
      "caption a diamond ring, passed down through five generations was lost at golden beach for three days before being recovered by a sunshine coast man.\n",
      "\n"
     ]
    },
    {
     "data": {
      "text/html": [
       "wandb version 0.17.0 is available!  To upgrade, please run:\n",
       " $ pip install wandb --upgrade"
      ],
      "text/plain": [
       "<IPython.core.display.HTML object>"
      ]
     },
     "metadata": {},
     "output_type": "display_data"
    },
    {
     "data": {
      "text/html": [
       "Tracking run with wandb version 0.16.6"
      ],
      "text/plain": [
       "<IPython.core.display.HTML object>"
      ]
     },
     "metadata": {},
     "output_type": "display_data"
    },
    {
     "data": {
      "text/html": [
       "Run data is saved locally in <code>/Users/susu/Library/CloudStorage/OneDrive-Personal/Wisc/clip_count_continued/CLIP_Counting/wandb/run-20240512_211732-tabyxt9u</code>"
      ],
      "text/plain": [
       "<IPython.core.display.HTML object>"
      ]
     },
     "metadata": {},
     "output_type": "display_data"
    },
    {
     "data": {
      "text/html": [
       "Syncing run <strong><a href='https://wandb.ai/ruisu/flicker_raw_images/runs/tabyxt9u' target=\"_blank\">true-planet-7708</a></strong> to <a href='https://wandb.ai/ruisu/flicker_raw_images' target=\"_blank\">Weights & Biases</a> (<a href='https://wandb.me/run' target=\"_blank\">docs</a>)<br/>"
      ],
      "text/plain": [
       "<IPython.core.display.HTML object>"
      ]
     },
     "metadata": {},
     "output_type": "display_data"
    },
    {
     "data": {
      "text/html": [
       " View project at <a href='https://wandb.ai/ruisu/flicker_raw_images' target=\"_blank\">https://wandb.ai/ruisu/flicker_raw_images</a>"
      ],
      "text/plain": [
       "<IPython.core.display.HTML object>"
      ]
     },
     "metadata": {},
     "output_type": "display_data"
    },
    {
     "data": {
      "text/html": [
       " View run at <a href='https://wandb.ai/ruisu/flicker_raw_images/runs/tabyxt9u' target=\"_blank\">https://wandb.ai/ruisu/flicker_raw_images/runs/tabyxt9u</a>"
      ],
      "text/plain": [
       "<IPython.core.display.HTML object>"
      ]
     },
     "metadata": {},
     "output_type": "display_data"
    },
    {
     "data": {
      "text/html": [
       "<style>\n",
       "    table.wandb td:nth-child(1) { padding: 0 10px; text-align: left ; width: auto;} td:nth-child(2) {text-align: left ; width: 100%}\n",
       "    .wandb-row { display: flex; flex-direction: row; flex-wrap: wrap; justify-content: flex-start; width: 100% }\n",
       "    .wandb-col { display: flex; flex-direction: column; flex-basis: 100%; flex: 1; padding: 10px; }\n",
       "    </style>\n",
       "<div class=\"wandb-row\"><div class=\"wandb-col\"><h3>Run history:</h3><br/><table class=\"wandb\"><tr><td>org_id</td><td>▁</td></tr></table><br/></div><div class=\"wandb-col\"><h3>Run summary:</h3><br/><table class=\"wandb\"><tr><td>caption</td><td>a diamond ring, pass...</td></tr><tr><td>dataset_name</td><td>conceptual_12m-train...</td></tr><tr><td>number</td><td>five</td></tr><tr><td>object</td><td>generations</td></tr><tr><td>org_id</td><td>396965</td></tr><tr><td>url</td><td>https://media.apnarm...</td></tr></table><br/></div></div>"
      ],
      "text/plain": [
       "<IPython.core.display.HTML object>"
      ]
     },
     "metadata": {},
     "output_type": "display_data"
    },
    {
     "data": {
      "text/html": [
       " View run <strong style=\"color:#cdcd00\">true-planet-7708</strong> at: <a href='https://wandb.ai/ruisu/flicker_raw_images/runs/tabyxt9u' target=\"_blank\">https://wandb.ai/ruisu/flicker_raw_images/runs/tabyxt9u</a><br/> View project at: <a href='https://wandb.ai/ruisu/flicker_raw_images' target=\"_blank\">https://wandb.ai/ruisu/flicker_raw_images</a><br/>Synced 5 W&B file(s), 1 media file(s), 0 artifact file(s) and 0 other file(s)"
      ],
      "text/plain": [
       "<IPython.core.display.HTML object>"
      ]
     },
     "metadata": {},
     "output_type": "display_data"
    },
    {
     "data": {
      "text/html": [
       "Find logs at: <code>./wandb/run-20240512_211732-tabyxt9u/logs</code>"
      ],
      "text/plain": [
       "<IPython.core.display.HTML object>"
      ]
     },
     "metadata": {},
     "output_type": "display_data"
    },
    {
     "name": "stderr",
     "output_type": "stream",
     "text": [
      "Code: no number: : 396966it [10:58, 35.41it/s]"
     ]
    },
    {
     "name": "stdout",
     "output_type": "stream",
     "text": [
      "found_phrases [('five', 'millennial friends')]\n",
      "caption five millennial friends are having fun on a spring break road trip to branson, mo\n",
      "\n"
     ]
    },
    {
     "data": {
      "text/html": [
       "wandb version 0.17.0 is available!  To upgrade, please run:\n",
       " $ pip install wandb --upgrade"
      ],
      "text/plain": [
       "<IPython.core.display.HTML object>"
      ]
     },
     "metadata": {},
     "output_type": "display_data"
    },
    {
     "data": {
      "text/html": [
       "Tracking run with wandb version 0.16.6"
      ],
      "text/plain": [
       "<IPython.core.display.HTML object>"
      ]
     },
     "metadata": {},
     "output_type": "display_data"
    },
    {
     "data": {
      "text/html": [
       "Run data is saved locally in <code>/Users/susu/Library/CloudStorage/OneDrive-Personal/Wisc/clip_count_continued/CLIP_Counting/wandb/run-20240512_211742-spuhrqnb</code>"
      ],
      "text/plain": [
       "<IPython.core.display.HTML object>"
      ]
     },
     "metadata": {},
     "output_type": "display_data"
    },
    {
     "data": {
      "text/html": [
       "Syncing run <strong><a href='https://wandb.ai/ruisu/flicker_raw_images/runs/spuhrqnb' target=\"_blank\">devoted-sun-7709</a></strong> to <a href='https://wandb.ai/ruisu/flicker_raw_images' target=\"_blank\">Weights & Biases</a> (<a href='https://wandb.me/run' target=\"_blank\">docs</a>)<br/>"
      ],
      "text/plain": [
       "<IPython.core.display.HTML object>"
      ]
     },
     "metadata": {},
     "output_type": "display_data"
    },
    {
     "data": {
      "text/html": [
       " View project at <a href='https://wandb.ai/ruisu/flicker_raw_images' target=\"_blank\">https://wandb.ai/ruisu/flicker_raw_images</a>"
      ],
      "text/plain": [
       "<IPython.core.display.HTML object>"
      ]
     },
     "metadata": {},
     "output_type": "display_data"
    },
    {
     "data": {
      "text/html": [
       " View run at <a href='https://wandb.ai/ruisu/flicker_raw_images/runs/spuhrqnb' target=\"_blank\">https://wandb.ai/ruisu/flicker_raw_images/runs/spuhrqnb</a>"
      ],
      "text/plain": [
       "<IPython.core.display.HTML object>"
      ]
     },
     "metadata": {},
     "output_type": "display_data"
    },
    {
     "data": {
      "text/html": [
       "<style>\n",
       "    table.wandb td:nth-child(1) { padding: 0 10px; text-align: left ; width: auto;} td:nth-child(2) {text-align: left ; width: 100%}\n",
       "    .wandb-row { display: flex; flex-direction: row; flex-wrap: wrap; justify-content: flex-start; width: 100% }\n",
       "    .wandb-col { display: flex; flex-direction: column; flex-basis: 100%; flex: 1; padding: 10px; }\n",
       "    </style>\n",
       "<div class=\"wandb-row\"><div class=\"wandb-col\"><h3>Run history:</h3><br/><table class=\"wandb\"><tr><td>org_id</td><td>▁</td></tr></table><br/></div><div class=\"wandb-col\"><h3>Run summary:</h3><br/><table class=\"wandb\"><tr><td>caption</td><td>five millennial frie...</td></tr><tr><td>dataset_name</td><td>conceptual_12m-train...</td></tr><tr><td>number</td><td>five</td></tr><tr><td>object</td><td>millennial friends</td></tr><tr><td>org_id</td><td>397133</td></tr><tr><td>url</td><td>https://417escapeart...</td></tr></table><br/></div></div>"
      ],
      "text/plain": [
       "<IPython.core.display.HTML object>"
      ]
     },
     "metadata": {},
     "output_type": "display_data"
    },
    {
     "data": {
      "text/html": [
       " View run <strong style=\"color:#cdcd00\">devoted-sun-7709</strong> at: <a href='https://wandb.ai/ruisu/flicker_raw_images/runs/spuhrqnb' target=\"_blank\">https://wandb.ai/ruisu/flicker_raw_images/runs/spuhrqnb</a><br/> View project at: <a href='https://wandb.ai/ruisu/flicker_raw_images' target=\"_blank\">https://wandb.ai/ruisu/flicker_raw_images</a><br/>Synced 5 W&B file(s), 1 media file(s), 0 artifact file(s) and 0 other file(s)"
      ],
      "text/plain": [
       "<IPython.core.display.HTML object>"
      ]
     },
     "metadata": {},
     "output_type": "display_data"
    },
    {
     "data": {
      "text/html": [
       "Find logs at: <code>./wandb/run-20240512_211742-spuhrqnb/logs</code>"
      ],
      "text/plain": [
       "<IPython.core.display.HTML object>"
      ]
     },
     "metadata": {},
     "output_type": "display_data"
    },
    {
     "name": "stderr",
     "output_type": "stream",
     "text": [
      "Code: wrong grammar: : 397351it [11:05, 46.86it/s]"
     ]
    },
    {
     "name": "stdout",
     "output_type": "stream",
     "text": [
      "found_phrases []\n",
      "caption five alarm clocks with the hands at 10 and 2 am or pm isolated on a white background\n",
      "\n",
      "found_phrases [('five', 'disciples')]\n",
      "caption lord <person>'s first sermon surrounded by the first five disciples of the <person> vector illustration.\n",
      "\n"
     ]
    },
    {
     "data": {
      "text/html": [
       "wandb version 0.17.0 is available!  To upgrade, please run:\n",
       " $ pip install wandb --upgrade"
      ],
      "text/plain": [
       "<IPython.core.display.HTML object>"
      ]
     },
     "metadata": {},
     "output_type": "display_data"
    },
    {
     "data": {
      "text/html": [
       "Tracking run with wandb version 0.16.6"
      ],
      "text/plain": [
       "<IPython.core.display.HTML object>"
      ]
     },
     "metadata": {},
     "output_type": "display_data"
    },
    {
     "data": {
      "text/html": [
       "Run data is saved locally in <code>/Users/susu/Library/CloudStorage/OneDrive-Personal/Wisc/clip_count_continued/CLIP_Counting/wandb/run-20240512_211749-sv25p4ix</code>"
      ],
      "text/plain": [
       "<IPython.core.display.HTML object>"
      ]
     },
     "metadata": {},
     "output_type": "display_data"
    },
    {
     "data": {
      "text/html": [
       "Syncing run <strong><a href='https://wandb.ai/ruisu/flicker_raw_images/runs/sv25p4ix' target=\"_blank\">dainty-cloud-7710</a></strong> to <a href='https://wandb.ai/ruisu/flicker_raw_images' target=\"_blank\">Weights & Biases</a> (<a href='https://wandb.me/run' target=\"_blank\">docs</a>)<br/>"
      ],
      "text/plain": [
       "<IPython.core.display.HTML object>"
      ]
     },
     "metadata": {},
     "output_type": "display_data"
    },
    {
     "data": {
      "text/html": [
       " View project at <a href='https://wandb.ai/ruisu/flicker_raw_images' target=\"_blank\">https://wandb.ai/ruisu/flicker_raw_images</a>"
      ],
      "text/plain": [
       "<IPython.core.display.HTML object>"
      ]
     },
     "metadata": {},
     "output_type": "display_data"
    },
    {
     "data": {
      "text/html": [
       " View run at <a href='https://wandb.ai/ruisu/flicker_raw_images/runs/sv25p4ix' target=\"_blank\">https://wandb.ai/ruisu/flicker_raw_images/runs/sv25p4ix</a>"
      ],
      "text/plain": [
       "<IPython.core.display.HTML object>"
      ]
     },
     "metadata": {},
     "output_type": "display_data"
    },
    {
     "data": {
      "text/html": [
       "<style>\n",
       "    table.wandb td:nth-child(1) { padding: 0 10px; text-align: left ; width: auto;} td:nth-child(2) {text-align: left ; width: 100%}\n",
       "    .wandb-row { display: flex; flex-direction: row; flex-wrap: wrap; justify-content: flex-start; width: 100% }\n",
       "    .wandb-col { display: flex; flex-direction: column; flex-basis: 100%; flex: 1; padding: 10px; }\n",
       "    </style>\n",
       "<div class=\"wandb-row\"><div class=\"wandb-col\"><h3>Run history:</h3><br/><table class=\"wandb\"><tr><td>org_id</td><td>▁</td></tr></table><br/></div><div class=\"wandb-col\"><h3>Run summary:</h3><br/><table class=\"wandb\"><tr><td>caption</td><td>lord <person>'s firs...</td></tr><tr><td>dataset_name</td><td>conceptual_12m-train...</td></tr><tr><td>number</td><td>five</td></tr><tr><td>object</td><td>disciples</td></tr><tr><td>org_id</td><td>397356</td></tr><tr><td>url</td><td>https://us.123rf.com...</td></tr></table><br/></div></div>"
      ],
      "text/plain": [
       "<IPython.core.display.HTML object>"
      ]
     },
     "metadata": {},
     "output_type": "display_data"
    },
    {
     "data": {
      "text/html": [
       " View run <strong style=\"color:#cdcd00\">dainty-cloud-7710</strong> at: <a href='https://wandb.ai/ruisu/flicker_raw_images/runs/sv25p4ix' target=\"_blank\">https://wandb.ai/ruisu/flicker_raw_images/runs/sv25p4ix</a><br/> View project at: <a href='https://wandb.ai/ruisu/flicker_raw_images' target=\"_blank\">https://wandb.ai/ruisu/flicker_raw_images</a><br/>Synced 5 W&B file(s), 1 media file(s), 0 artifact file(s) and 0 other file(s)"
      ],
      "text/plain": [
       "<IPython.core.display.HTML object>"
      ]
     },
     "metadata": {},
     "output_type": "display_data"
    },
    {
     "data": {
      "text/html": [
       "Find logs at: <code>./wandb/run-20240512_211749-sv25p4ix/logs</code>"
      ],
      "text/plain": [
       "<IPython.core.display.HTML object>"
      ]
     },
     "metadata": {},
     "output_type": "display_data"
    },
    {
     "name": "stderr",
     "output_type": "stream",
     "text": [
      "Code: no number: : 397351it [11:12, 46.86it/s]    "
     ]
    },
    {
     "name": "stdout",
     "output_type": "stream",
     "text": [
      "found_phrases [('five', 'incredible drugs')]\n",
      "caption five incredible drugs from the ocean\n",
      "\n"
     ]
    },
    {
     "data": {
      "text/html": [
       "wandb version 0.17.0 is available!  To upgrade, please run:\n",
       " $ pip install wandb --upgrade"
      ],
      "text/plain": [
       "<IPython.core.display.HTML object>"
      ]
     },
     "metadata": {},
     "output_type": "display_data"
    },
    {
     "data": {
      "text/html": [
       "Tracking run with wandb version 0.16.6"
      ],
      "text/plain": [
       "<IPython.core.display.HTML object>"
      ]
     },
     "metadata": {},
     "output_type": "display_data"
    },
    {
     "data": {
      "text/html": [
       "Run data is saved locally in <code>/Users/susu/Library/CloudStorage/OneDrive-Personal/Wisc/clip_count_continued/CLIP_Counting/wandb/run-20240512_211755-de125c33</code>"
      ],
      "text/plain": [
       "<IPython.core.display.HTML object>"
      ]
     },
     "metadata": {},
     "output_type": "display_data"
    },
    {
     "data": {
      "text/html": [
       "Syncing run <strong><a href='https://wandb.ai/ruisu/flicker_raw_images/runs/de125c33' target=\"_blank\">solar-firebrand-7711</a></strong> to <a href='https://wandb.ai/ruisu/flicker_raw_images' target=\"_blank\">Weights & Biases</a> (<a href='https://wandb.me/run' target=\"_blank\">docs</a>)<br/>"
      ],
      "text/plain": [
       "<IPython.core.display.HTML object>"
      ]
     },
     "metadata": {},
     "output_type": "display_data"
    },
    {
     "data": {
      "text/html": [
       " View project at <a href='https://wandb.ai/ruisu/flicker_raw_images' target=\"_blank\">https://wandb.ai/ruisu/flicker_raw_images</a>"
      ],
      "text/plain": [
       "<IPython.core.display.HTML object>"
      ]
     },
     "metadata": {},
     "output_type": "display_data"
    },
    {
     "data": {
      "text/html": [
       " View run at <a href='https://wandb.ai/ruisu/flicker_raw_images/runs/de125c33' target=\"_blank\">https://wandb.ai/ruisu/flicker_raw_images/runs/de125c33</a>"
      ],
      "text/plain": [
       "<IPython.core.display.HTML object>"
      ]
     },
     "metadata": {},
     "output_type": "display_data"
    },
    {
     "data": {
      "text/html": [
       "<style>\n",
       "    table.wandb td:nth-child(1) { padding: 0 10px; text-align: left ; width: auto;} td:nth-child(2) {text-align: left ; width: 100%}\n",
       "    .wandb-row { display: flex; flex-direction: row; flex-wrap: wrap; justify-content: flex-start; width: 100% }\n",
       "    .wandb-col { display: flex; flex-direction: column; flex-basis: 100%; flex: 1; padding: 10px; }\n",
       "    </style>\n",
       "<div class=\"wandb-row\"><div class=\"wandb-col\"><h3>Run history:</h3><br/><table class=\"wandb\"><tr><td>org_id</td><td>▁</td></tr></table><br/></div><div class=\"wandb-col\"><h3>Run summary:</h3><br/><table class=\"wandb\"><tr><td>caption</td><td>five incredible drug...</td></tr><tr><td>dataset_name</td><td>conceptual_12m-train...</td></tr><tr><td>number</td><td>five</td></tr><tr><td>object</td><td>incredible drugs</td></tr><tr><td>org_id</td><td>397467</td></tr><tr><td>url</td><td>https://i0.wp.com/dr...</td></tr></table><br/></div></div>"
      ],
      "text/plain": [
       "<IPython.core.display.HTML object>"
      ]
     },
     "metadata": {},
     "output_type": "display_data"
    },
    {
     "data": {
      "text/html": [
       " View run <strong style=\"color:#cdcd00\">solar-firebrand-7711</strong> at: <a href='https://wandb.ai/ruisu/flicker_raw_images/runs/de125c33' target=\"_blank\">https://wandb.ai/ruisu/flicker_raw_images/runs/de125c33</a><br/> View project at: <a href='https://wandb.ai/ruisu/flicker_raw_images' target=\"_blank\">https://wandb.ai/ruisu/flicker_raw_images</a><br/>Synced 5 W&B file(s), 1 media file(s), 0 artifact file(s) and 0 other file(s)"
      ],
      "text/plain": [
       "<IPython.core.display.HTML object>"
      ]
     },
     "metadata": {},
     "output_type": "display_data"
    },
    {
     "data": {
      "text/html": [
       "Find logs at: <code>./wandb/run-20240512_211755-de125c33/logs</code>"
      ],
      "text/plain": [
       "<IPython.core.display.HTML object>"
      ]
     },
     "metadata": {},
     "output_type": "display_data"
    },
    {
     "name": "stderr",
     "output_type": "stream",
     "text": [
      "Code: no number: : 397472it [11:18, 25.22it/s]"
     ]
    },
    {
     "name": "stdout",
     "output_type": "stream",
     "text": [
      "found_phrases [('five', 'assists')]\n",
      "caption <person> led the team with 22 points and five assists.(( <person>/getty))\n",
      "\n"
     ]
    }
   ],
   "source": [
    "#@title conceptual_12m\n",
    "from datasets import load_dataset\n",
    "import tqdm\n",
    "dataset = load_dataset(\"conceptual_12m\",split=\"train\",streaming=True)\n",
    "numbers = [\"five\"]\n",
    "# check the lower bound of ten: 6292946\n",
    "pbar = tqdm.tqdm(dataset)\n",
    "for i, sample in enumerate(pbar):\n",
    "    if i <= 315243: #numbers = [\"six\", \"seven\", \"eight\", \"nine\", \"ten\"]\n",
    "        continue\n",
    "    # if i >= 315243:\n",
    "    #     break\n",
    "    photo = {\n",
    "        \"caption\":sample[\"caption\"].lower(),\n",
    "        \"url\":sample[\"image_url\"],\n",
    "        \"org_id\":i\n",
    "    }\n",
    "    return_code = process_sample(photo,\"conceptual_12m-train\")\n",
    "\n",
    "    pbar.set_description(f\"Code: {return_code}\")"
   ]
  }
 ],
 "metadata": {
  "kernelspec": {
   "display_name": "clipcount",
   "language": "python",
   "name": "python3"
  },
  "language_info": {
   "codemirror_mode": {
    "name": "ipython",
    "version": 3
   },
   "file_extension": ".py",
   "mimetype": "text/x-python",
   "name": "python",
   "nbconvert_exporter": "python",
   "pygments_lexer": "ipython3",
   "version": "3.8.18"
  },
  "orig_nbformat": 4
 },
 "nbformat": 4,
 "nbformat_minor": 2
}
