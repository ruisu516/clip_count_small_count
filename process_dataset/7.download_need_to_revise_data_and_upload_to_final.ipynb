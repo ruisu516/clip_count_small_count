{
 "cells": [
  {
   "cell_type": "code",
   "execution_count": 6,
   "metadata": {},
   "outputs": [
    {
     "name": "stderr",
     "output_type": "stream",
     "text": [
      "\u001b[34m\u001b[1mwandb\u001b[0m: \u001b[33mWARNING\u001b[0m If you're specifying your api key in code, ensure this code is not shared publicly.\n",
      "\u001b[34m\u001b[1mwandb\u001b[0m: \u001b[33mWARNING\u001b[0m Consider setting the WANDB_API_KEY environment variable, or running `wandb login` from the command line.\n",
      "\u001b[34m\u001b[1mwandb\u001b[0m: Appending key for api.wandb.ai to your netrc file: /Users/susu/.netrc\n"
     ]
    }
   ],
   "source": [
    "#@title save online 2-5 data from wandb to json\n",
    "import wandb\n",
    "import json\n",
    "\n",
    "wandb.login(key = \"f120e5e4c8c84329e87f496f85e6f7ded7732680\")\n",
    "api = wandb.Api()\n",
    "runs = api.runs(path=\"ruisu/clip_count_filtered_images_reviewed\")\n",
    "# num_word_to_number = {\n",
    "#         \"two\":2,\n",
    "#         \"three\":3,\n",
    "#         \"four\":4,\n",
    "#         \"five\":5\n",
    "#     }\n",
    "numbers = [2,3,4,5]\n",
    "\n",
    "my_train_set = []\n",
    "for run in runs:\n",
    "    run_summary = run.summary\n",
    "    if run_summary[\"number\"] in numbers:\n",
    "        if \"dataset_name\" in run_summary:\n",
    "            dataset_name = run_summary[\"dataset_name\"]\n",
    "        else:\n",
    "            dataset_name = None\n",
    "\n",
    "        if \"org_id\" in run_summary:\n",
    "            org_id = run_summary[\"org_id\"]\n",
    "        else:\n",
    "            org_id = None\n",
    "        sample = {\n",
    "            \"number\":run_summary[\"number\"],\n",
    "            \"target\":run_summary[\"target\"],\n",
    "            \"target_context\":run_summary[\"target_context\"],\n",
    "            \"image_url\":run_summary[\"image_url\"],\n",
    "            \"dataset_name\":dataset_name,\n",
    "            \"org_id\":org_id\n",
    "        }\n",
    "        my_train_set.append(sample)\n",
    "    "
   ]
  },
  {
   "cell_type": "code",
   "execution_count": 8,
   "metadata": {},
   "outputs": [],
   "source": [
    "len(my_train_set)\n",
    "\n",
    "with open(\"/Users/susu/Library/CloudStorage/OneDrive-Personal/Wisc/clip_count_continued/CLIP_Counting/online_data_0518_4class/online_data_class_2345_2nd_run_need_to_revise.json\",\"w\") as f:\n",
    "    json.dump(my_train_set,f,indent=4)"
   ]
  },
  {
   "cell_type": "code",
   "execution_count": null,
   "metadata": {},
   "outputs": [],
   "source": [
    "# exited_reviewed_file = \"/Users/susu/Library/CloudStorage/OneDrive-Personal/Wisc/clip_count_continued/CLIP_Counting/online_data_0513/reviewed_marged_class_2345.json\"\n",
    "# exited_reviewed_file = \"/Users/susu/Library/CloudStorage/OneDrive-Personal/Wisc/clip_count_continued/CLIP_Counting/online_data_0518_4class/online_data_class_2345_reviewed.json\"\n",
    "exited_reviewed_file = \"/Users/susu/Library/CloudStorage/OneDrive-Personal/Wisc/clip_count_continued/CLIP_Counting/online_data_0518_4class/online_data_class_2345_2nd_run_need_to_filter_no_uploaded.json\"\n",
    "with open(exited_reviewed_file, 'r') as file:\n",
    "    exited_reviewed_data = json.load(file)\n",
    "print(len(exited_reviewed_file))\n",
    "for ele in exited_reviewed_data:\n",
    "    try:\n",
    "        img_response = requests.get(ele[\"image_url\"], timeout=10)\n",
    "        img = Image.open(BytesIO(img_response.content))\n",
    "    except:\n",
    "        continue\n",
    "    \n",
    "    wandb.init(project=\"clip_count_filtered_images_reviewed\", entity=\"ruisu\")\n",
    "    wandb.log({\n",
    "        \"number\": ele[\"number\"],\n",
    "        'target': ele[\"target\"],\n",
    "        'target_context': ele[\"target_context\"],\n",
    "        \"image_url\":ele[\"image_url\"],\n",
    "        \"dataset_name\":ele[\"dataset_name\"],\n",
    "        \"org_id\":ele[\"org_id\"],\n",
    "        \"image\":wandb.Image(img, caption=ele[\"target_context\"]),\n",
    "        \"reviewed\":True,\n",
    "    })\n",
    "    wandb.finish()"
   ]
  }
 ],
 "metadata": {
  "kernelspec": {
   "display_name": "clipcount",
   "language": "python",
   "name": "python3"
  },
  "language_info": {
   "codemirror_mode": {
    "name": "ipython",
    "version": 3
   },
   "file_extension": ".py",
   "mimetype": "text/x-python",
   "name": "python",
   "nbconvert_exporter": "python",
   "pygments_lexer": "ipython3",
   "version": "3.8.18"
  },
  "orig_nbformat": 4
 },
 "nbformat": 4,
 "nbformat_minor": 2
}
