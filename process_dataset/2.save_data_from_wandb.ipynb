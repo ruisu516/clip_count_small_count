{
 "cells": [
  {
   "cell_type": "code",
   "execution_count": 2,
   "metadata": {},
   "outputs": [
    {
     "name": "stderr",
     "output_type": "stream",
     "text": [
      "\u001b[34m\u001b[1mwandb\u001b[0m: \u001b[33mWARNING\u001b[0m If you're specifying your api key in code, ensure this code is not shared publicly.\n",
      "\u001b[34m\u001b[1mwandb\u001b[0m: \u001b[33mWARNING\u001b[0m Consider setting the WANDB_API_KEY environment variable, or running `wandb login` from the command line.\n",
      "\u001b[34m\u001b[1mwandb\u001b[0m: Appending key for api.wandb.ai to your netrc file: /Users/susu/.netrc\n"
     ]
    },
    {
     "data": {
      "text/plain": [
       "183"
      ]
     },
     "execution_count": 2,
     "metadata": {},
     "output_type": "execute_result"
    }
   ],
   "source": [
    "#@title save online 2-5 data from wandb to json\n",
    "import wandb\n",
    "import json\n",
    "\n",
    "wandb.login(key = \"f120e5e4c8c84329e87f496f85e6f7ded7732680\")\n",
    "api = wandb.Api()\n",
    "runs = api.runs(path=\"ruisu/clip_count_filtered_images\")\n",
    "# num_word_to_number = {\n",
    "#         \"two\":2,\n",
    "#         \"three\":3,\n",
    "#         \"four\":4,\n",
    "#         \"five\":5\n",
    "#     }\n",
    "num_word_to_number = {\"six\":6}\n",
    "\n",
    "my_train_set = []\n",
    "for run in runs:\n",
    "    run_summary = run.summary\n",
    "    if run_summary[\"number\"] in num_word_to_number:\n",
    "        if \"dataset_name\" in run_summary:\n",
    "            dataset_name = run_summary[\"dataset_name\"]\n",
    "        else:\n",
    "            dataset_name = None\n",
    "\n",
    "        if \"org_id\" in run_summary:\n",
    "            org_id = run_summary[\"org_id\"]\n",
    "        else:\n",
    "            org_id = None\n",
    "        sample = {\n",
    "            \"number\":num_word_to_number[run_summary[\"number\"]],\n",
    "            \"target\":run_summary[\"object\"],\n",
    "            \"target_context\":run_summary[\"caption\"],\n",
    "            \"image_url\":run_summary[\"url\"],\n",
    "            \"dataset_name\":dataset_name,\n",
    "            \"org_id\":org_id\n",
    "        }\n",
    "        my_train_set.append(sample)\n",
    "\n",
    "len(my_train_set)\n",
    "\n",
    "    "
   ]
  },
  {
   "cell_type": "code",
   "execution_count": null,
   "metadata": {},
   "outputs": [],
   "source": [
    "\n",
    "with open(\"/Users/susu/Library/CloudStorage/OneDrive-Personal/Wisc/clip_count_continued/CLIP_Counting/online_data_0518_4class/online_data_class_6.json\",\"w\") as f:\n",
    "    json.dump(my_train_set,f,indent=4)"
   ]
  },
  {
   "cell_type": "code",
   "execution_count": 11,
   "metadata": {},
   "outputs": [
    {
     "name": "stderr",
     "output_type": "stream",
     "text": [
      "\u001b[34m\u001b[1mwandb\u001b[0m: \u001b[33mWARNING\u001b[0m If you're specifying your api key in code, ensure this code is not shared publicly.\n",
      "\u001b[34m\u001b[1mwandb\u001b[0m: \u001b[33mWARNING\u001b[0m Consider setting the WANDB_API_KEY environment variable, or running `wandb login` from the command line.\n",
      "\u001b[34m\u001b[1mwandb\u001b[0m: Appending key for api.wandb.ai to your netrc file: /Users/susu/.netrc\n"
     ]
    },
    {
     "data": {
      "text/plain": [
       "600"
      ]
     },
     "execution_count": 11,
     "metadata": {},
     "output_type": "execute_result"
    }
   ],
   "source": [
    "#@title save online 2-5 data from wandb to json\n",
    "import wandb\n",
    "import json\n",
    "\n",
    "wandb.login(key = \"f120e5e4c8c84329e87f496f85e6f7ded7732680\")\n",
    "api = wandb.Api()\n",
    "# runs = api.runs(path=\"ruisu/clip_count_filtered_images\")\n",
    "runs = api.runs(path=\"ruisu/clip_count_filtered_images_reviewed_final_version\")\n",
    "numbers = [2,3,4,5]\n",
    "\n",
    "my_train_set = []\n",
    "for run in runs:\n",
    "    run_summary = run.summary\n",
    "    if run_summary[\"number\"] in numbers:\n",
    "        if \"dataset_name\" in run_summary:\n",
    "            dataset_name = run_summary[\"dataset_name\"]\n",
    "        else:\n",
    "            dataset_name = None\n",
    "\n",
    "        if \"org_id\" in run_summary:\n",
    "            org_id = run_summary[\"org_id\"]\n",
    "        else:\n",
    "            org_id = None\n",
    "            \n",
    "        sample = {\n",
    "            \"number\":run_summary[\"number\"],\n",
    "            \"target\":run_summary[\"target\"],\n",
    "            \"target_context\":run_summary[\"target_context\"],\n",
    "            \"image_url\":run_summary[\"image_url\"],\n",
    "            \"dataset_name\":dataset_name,\n",
    "            \"org_id\":org_id\n",
    "        }\n",
    "        my_train_set.append(sample)\n",
    "\n",
    "len(my_train_set)\n",
    "\n",
    "    "
   ]
  },
  {
   "cell_type": "code",
   "execution_count": 12,
   "metadata": {},
   "outputs": [],
   "source": [
    "\n",
    "with open(\"/Users/susu/Library/CloudStorage/OneDrive-Personal/Wisc/clip_count_continued/CLIP_Counting/online_data_0518_4class/4class_150_per_class/online_data_class_2345.json\",\"w\") as f:\n",
    "    json.dump(my_train_set,f,indent=4)"
   ]
  },
  {
   "cell_type": "code",
   "execution_count": null,
   "metadata": {},
   "outputs": [],
   "source": [
    "# @\n",
    "\n",
    "#@title transfer reviewed data\n",
    "import wandb\n",
    "import json\n",
    "import nltk\n",
    "import requests\n",
    "import json\n",
    "from io import BytesIO\n",
    "# from transformers import CLIPProcessor, CLIPModel\n",
    "from PIL import Image\n",
    "# Initialize NLTK\n",
    "\n",
    "\n",
    "nltk.download('averaged_perceptron_tagger')\n",
    "nltk.download('punkt')\n",
    "\n",
    "\n",
    "wandb.login(key = \"f120e5e4c8c84329e87f496f85e6f7ded7732680\")\n",
    "\n",
    "grammar = r\"\"\"\n",
    "  NP: {<DT>?<JJ>*<NNS|NNPS>+}\n",
    "\"\"\"\n",
    "\n",
    "\n",
    "wandb.login(key = \"f120e5e4c8c84329e87f496f85e6f7ded7732680\")\n",
    "api = wandb.Api()\n",
    "# runs = api.runs(path=\"ruisu/clip_count_filtered_images\")\n",
    "runs = api.runs(path=\"ruisu/clip_count_filtered_images_val\")\n",
    "num_word_to_number = {\n",
    "        \"six\":6,\n",
    "        \"seven\":7,\n",
    "        \"eight\":8,\n",
    "        \"nine\":9,\n",
    "        \"ten\":10\n",
    "    }\n",
    "\n",
    "my_train_set = []\n",
    "for run in runs:\n",
    "    run_summary = run.summary\n",
    "    if run_summary[\"number\"] in num_word_to_number:\n",
    "        if \"dataset_name\" in run_summary:\n",
    "            dataset_name = run_summary[\"dataset_name\"]\n",
    "        else:\n",
    "            dataset_name = None\n",
    "\n",
    "        if \"org_id\" in run_summary:\n",
    "            org_id = run_summary[\"org_id\"]\n",
    "        else:\n",
    "            org_id = None\n",
    "        \n",
    "\n",
    "        try:\n",
    "            img_response = requests.get(run_summary[\"url\"], timeout=10)\n",
    "            img = Image.open(BytesIO(img_response.content))\n",
    "        except:\n",
    "            continue\n",
    "        \n",
    "        wandb.init(project=\"clip_count_filtered_images\", entity=\"ruisu\")\n",
    "        wandb.log({\n",
    "            \"number\":num_word_to_number[run_summary[\"number\"]],\n",
    "            \"object\":run_summary[\"object\"],\n",
    "            \"caption\":run_summary[\"caption\"],\n",
    "            \"url\":run_summary[\"url\"],\n",
    "            \"dataset_name\":dataset_name,\n",
    "            \"org_id\":org_id,\n",
    "            \"image\":wandb.Image(img, caption=run_summary[\"caption\"]),\n",
    "        })\n",
    "        wandb.finish()\n",
    "\n",
    "        my_train_set.append(sample)\n",
    "\n",
    "len(my_train_set)\n",
    "    \n",
    "    \n",
    "\n",
    "    "
   ]
  }
 ],
 "metadata": {
  "kernelspec": {
   "display_name": "clipcount",
   "language": "python",
   "name": "python3"
  },
  "language_info": {
   "codemirror_mode": {
    "name": "ipython",
    "version": 3
   },
   "file_extension": ".py",
   "mimetype": "text/x-python",
   "name": "python",
   "nbconvert_exporter": "python",
   "pygments_lexer": "ipython3",
   "version": "3.8.18"
  },
  "orig_nbformat": 4
 },
 "nbformat": 4,
 "nbformat_minor": 2
}
