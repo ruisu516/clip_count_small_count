{
 "cells": [
  {
   "cell_type": "code",
   "execution_count": 7,
   "metadata": {},
   "outputs": [],
   "source": [
    "import random,json\n",
    "exited_reviewed_file = \"/Users/susu/Library/CloudStorage/OneDrive-Personal/Wisc/clip_count_continued/CLIP_Counting/online_data_9_class_final/online_data_class_9_all.json\"\n",
    "with open(exited_reviewed_file, 'r') as file:\n",
    "    exited_reviewed_data = json.load(file)\n",
    "\n",
    "num_class_to_num_word = {\n",
    "        2:\"two\",\n",
    "        3:\"three\",\n",
    "        4:\"four\",\n",
    "        5:\"five\",\n",
    "        6:\"six\",\n",
    "        7:\"seven\",\n",
    "        8:\"eight\",\n",
    "        9:\"nine\",\n",
    "        10:\"ten\"\n",
    "    }\n",
    "\n",
    "samples_with_errors = []\n",
    "reviewed_samples = []\n",
    "for sample in exited_reviewed_data:\n",
    "    if num_class_to_num_word[sample['number']] in sample[\"target_context\"]:\n",
    "        reviewed_samples.append(sample)\n",
    "    else:\n",
    "        samples_with_errors.append(sample)\n"
   ]
  },
  {
   "cell_type": "code",
   "execution_count": 11,
   "metadata": {},
   "outputs": [
    {
     "name": "stdout",
     "output_type": "stream",
     "text": [
      "1080 270\n",
      "810 270\n",
      "1080 270\n",
      "810 270\n",
      "1080 270\n",
      "810 270\n"
     ]
    }
   ],
   "source": [
    "import random,json\n",
    "from sklearn.model_selection import train_test_split\n",
    "\n",
    "# Example dataset\n",
    "exited_reviewed_file = \"/Users/susu/Library/CloudStorage/OneDrive-Personal/Wisc/clip_count_continued/CLIP_Counting/online_data_9_class_final/online_data_class_9_all_reviewed.json\"\n",
    "with open(exited_reviewed_file, 'r') as file:\n",
    "    exited_reviewed_data = json.load(file)\n",
    "# Function to split dataset while maintaining label ratio\n",
    "def split_data(data, test_size=0.2, random_seed=42):\n",
    "    # Extract labels\n",
    "    labels = [item['number'] for item in data]\n",
    "    \n",
    "\n",
    "    # Split data while maintaining the label ratio\n",
    "    train_data, val_data = train_test_split(data, test_size=test_size, random_state=random_seed, stratify=labels)\n",
    "    \n",
    "    return train_data, val_data\n",
    "\n",
    "\n",
    "# Split the data\n",
    "for random_seed in [42,123,7]:\n",
    "    dev_data, test_data = split_data(exited_reviewed_data, test_size=0.2, random_seed=random_seed)\n",
    "    print(len(dev_data),len(test_data))\n",
    "    with open(f\"/Users/susu/Library/CloudStorage/OneDrive-Personal/Wisc/clip_count_continued/CLIP_Counting/online_data_9_class_final/online_data_class_9_test_seed{random_seed}.json\",\"w\") as f:\n",
    "        json.dump(test_data,f,indent=4)\n",
    "        \n",
    "    train_data, val_data = split_data(dev_data, test_size=0.25, random_seed=random_seed)\n",
    "    print(len(train_data),len(val_data))\n",
    "\n",
    "    with open(f\"/Users/susu/Library/CloudStorage/OneDrive-Personal/Wisc/clip_count_continued/CLIP_Counting/online_data_9_class_final/online_data_class_9_train_seed{random_seed}.json\",\"w\") as f:\n",
    "        json.dump(train_data,f,indent=4)\n",
    "    \n",
    "    with open(f\"/Users/susu/Library/CloudStorage/OneDrive-Personal/Wisc/clip_count_continued/CLIP_Counting/online_data_9_class_final/online_data_class_9_val_seed{random_seed}.json\",\"w\") as f:\n",
    "        json.dump(val_data,f,indent=4)"
   ]
  }
 ],
 "metadata": {
  "kernelspec": {
   "display_name": "clipcount",
   "language": "python",
   "name": "python3"
  },
  "language_info": {
   "codemirror_mode": {
    "name": "ipython",
    "version": 3
   },
   "file_extension": ".py",
   "mimetype": "text/x-python",
   "name": "python",
   "nbconvert_exporter": "python",
   "pygments_lexer": "ipython3",
   "version": "3.8.18"
  },
  "orig_nbformat": 4
 },
 "nbformat": 4,
 "nbformat_minor": 2
}
