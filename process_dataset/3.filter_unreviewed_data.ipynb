{
 "cells": [
  {
   "cell_type": "code",
   "execution_count": 1,
   "metadata": {},
   "outputs": [],
   "source": [
    "def check_key_value_match(value, key, ref_data):\n",
    "    for ele in ref_data:\n",
    "        if ele[key] == value:\n",
    "            return False\n",
    "            del ele\n",
    "    return True"
   ]
  },
  {
   "cell_type": "code",
   "execution_count": 2,
   "metadata": {},
   "outputs": [
    {
     "data": {
      "text/plain": [
       "321"
      ]
     },
     "execution_count": 2,
     "metadata": {},
     "output_type": "execute_result"
    }
   ],
   "source": [
    "import json\n",
    "CHECK_KEY=\"image_url\"\n",
    "exited_reviewed_data=[]\n",
    "# exited_reviewed_file_train = \"/Users/susu/Library/CloudStorage/OneDrive-Personal/Wisc/clip_count_continued/online_training_images/online_data_4class_reviewed.json\"\n",
    "with open(exited_reviewed_file_train, 'r') as file:\n",
    "    exited_reviewed_data += json.load(file)\n",
    "# exited_reviewed_file_val = \"/Users/susu/Library/CloudStorage/OneDrive-Personal/Wisc/clip_count_continued/online_training_images/online_data_4class_val_reviewed.json\"\n",
    "# with open(exited_reviewed_file_val, 'r') as file:\n",
    "#     exited_reviewed_data += json.load(file)\n",
    "len(exited_reviewed_data)"
   ]
  },
  {
   "cell_type": "code",
   "execution_count": 19,
   "metadata": {},
   "outputs": [
    {
     "data": {
      "text/plain": [
       "480"
      ]
     },
     "execution_count": 19,
     "metadata": {},
     "output_type": "execute_result"
    }
   ],
   "source": [
    "to_filter_file = \"/Users/susu/Library/CloudStorage/OneDrive-Personal/Wisc/clip_count_continued/CLIP_Counting/online_data_0513/online_data_class_2345.json\"\n",
    "with open(to_filter_file, 'r') as file:\n",
    "    to_filter_data = json.load(file)\n",
    "len(to_filter_data)"
   ]
  },
  {
   "cell_type": "code",
   "execution_count": null,
   "metadata": {},
   "outputs": [],
   "source": [
    "EXITED_ITEMS = exited_reviewed_data.copy()\n",
    "to_review_data = []\n",
    "for ele in to_filter_data:\n",
    "    if check_key_value_match(ele[CHECK_KEY], CHECK_KEY, EXITED_ITEMS):\n",
    "        to_review_data.append(ele)\n",
    "\n",
    "with open(\"/Users/susu/Library/CloudStorage/OneDrive-Personal/Wisc/clip_count_continued/CLIP_Counting/online_data_0513/need_to_filter_class_2345.json\", 'w') as file:\n",
    "    json.dump(to_review_data, file, indent=4)\n",
    "\n",
    "len(to_review_data)"
   ]
  },
  {
   "cell_type": "code",
   "execution_count": 4,
   "metadata": {},
   "outputs": [
    {
     "data": {
      "text/plain": [
       "480"
      ]
     },
     "execution_count": 4,
     "metadata": {},
     "output_type": "execute_result"
    }
   ],
   "source": [
    "new_reviewed_file = \"/Users/susu/Library/CloudStorage/OneDrive-Personal/Wisc/clip_count_continued/CLIP_Counting/online_data_0513/reviewed_class_2345.json\"\n",
    "with open(new_reviewed_file, 'r') as file:\n",
    "    exited_reviewed_data += json.load(file)\n",
    "len(exited_reviewed_data)"
   ]
  },
  {
   "cell_type": "code",
   "execution_count": 6,
   "metadata": {},
   "outputs": [],
   "source": [
    "with open(\"/Users/susu/Library/CloudStorage/OneDrive-Personal/Wisc/clip_count_continued/CLIP_Counting/online_data_0513/reviewed_marged_class_2345.json\", 'w') as file:\n",
    "    json.dump(exited_reviewed_data, file, indent=4)"
   ]
  },
  {
   "cell_type": "code",
   "execution_count": 7,
   "metadata": {},
   "outputs": [
    {
     "data": {
      "text/plain": [
       "121"
      ]
     },
     "execution_count": 7,
     "metadata": {},
     "output_type": "execute_result"
    }
   ],
   "source": [
    "import json\n",
    "CHECK_KEY=\"image_url\"\n",
    "exited_reviewed_data=[]\n",
    "exited_reviewed_file_train = \"/Users/susu/Library/CloudStorage/OneDrive-Personal/Wisc/clip_count_continued/CLIP_Counting/online_data_0518_4class/online_data_class_2345.json\"\n",
    "with open(exited_reviewed_file_train, 'r') as file:\n",
    "    exited_reviewed_data += json.load(file)\n",
    "# exited_reviewed_file_val = \"/Users/susu/Library/CloudStorage/OneDrive-Personal/Wisc/clip_count_continued/online_training_images/online_data_4class_val_reviewed.json\"\n",
    "# with open(exited_reviewed_file_val, 'r') as file:\n",
    "#     exited_reviewed_data += json.load(file)\n",
    "len(exited_reviewed_data)"
   ]
  },
  {
   "cell_type": "code",
   "execution_count": 8,
   "metadata": {},
   "outputs": [
    {
     "data": {
      "text/plain": [
       "157"
      ]
     },
     "execution_count": 8,
     "metadata": {},
     "output_type": "execute_result"
    }
   ],
   "source": [
    "to_filter_file = \"/Users/susu/Library/CloudStorage/OneDrive-Personal/Wisc/clip_count_continued/CLIP_Counting/online_data_0518_4class/online_data_class_2345_2nd_run.json\"\n",
    "with open(to_filter_file, 'r') as file:\n",
    "    to_filter_data = json.load(file)\n",
    "len(to_filter_data)"
   ]
  },
  {
   "cell_type": "code",
   "execution_count": 10,
   "metadata": {},
   "outputs": [],
   "source": [
    "EXITED_ITEMS = exited_reviewed_data.copy()\n",
    "to_review_data = []\n",
    "for ele in to_filter_data:\n",
    "    if check_key_value_match(ele[CHECK_KEY], CHECK_KEY, EXITED_ITEMS):\n",
    "        to_review_data.append(ele)\n",
    "\n",
    "len(to_review_data)\n",
    "\n",
    "with open(\"/Users/susu/Library/CloudStorage/OneDrive-Personal/Wisc/clip_count_continued/CLIP_Counting/online_data_0518_4class/online_data_class_2345_2nd_run_need_to_filter.json\", 'w') as file:\n",
    "    json.dump(to_review_data, file, indent=4)"
   ]
  }
 ],
 "metadata": {
  "kernelspec": {
   "display_name": "clipcount",
   "language": "python",
   "name": "python3"
  },
  "language_info": {
   "codemirror_mode": {
    "name": "ipython",
    "version": 3
   },
   "file_extension": ".py",
   "mimetype": "text/x-python",
   "name": "python",
   "nbconvert_exporter": "python",
   "pygments_lexer": "ipython3",
   "version": "3.8.18"
  },
  "orig_nbformat": 4
 },
 "nbformat": 4,
 "nbformat_minor": 2
}
